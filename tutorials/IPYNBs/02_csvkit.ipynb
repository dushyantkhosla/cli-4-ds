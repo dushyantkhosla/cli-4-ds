{
 "cells": [
  {
   "cell_type": "code",
   "execution_count": 1,
   "metadata": {},
   "outputs": [],
   "source": [
    "import os\n",
    "os.chdir(\"/home/data\")"
   ]
  },
  {
   "cell_type": "code",
   "execution_count": 7,
   "metadata": {},
   "outputs": [
    {
     "name": "stdout",
     "output_type": "stream",
     "text": [
      "total 1446MB\n",
      "-rw------- 1 root root 703MB Mar  4 01:05 flights.csv\n",
      "-rw-r--r-- 1 root root   1MB Mar  4 01:26 flights_1k.csv\n",
      "-rw-r--r-- 1 root root   1MB Mar  4 01:01 get-csvs.sh\n",
      "-rw-r--r-- 1 root root   1MB Mar  4 01:13 kddcup-names\n",
      "-rw------- 1 root root 743MB Mar  4 01:00 kddcup.data\n"
     ]
    }
   ],
   "source": [
    "ls -l --block-size=MB"
   ]
  },
  {
   "cell_type": "markdown",
   "metadata": {},
   "source": [
    "# [csvkit](http://csvkit.readthedocs.io/latest/)"
   ]
  },
  {
   "cell_type": "markdown",
   "metadata": {},
   "source": [
    "---\n",
    "\n",
    "## csvlook"
   ]
  },
  {
   "cell_type": "code",
   "execution_count": 10,
   "metadata": {},
   "outputs": [
    {
     "name": "stdout",
     "output_type": "stream",
     "text": [
      "| DepTime | CRSDepTime | ArrTime | CRSArrTime | UniqueCarrier | FlightNum | TailNum | ActualElapsedTime |\n",
      "| ------- | ---------- | ------- | ---------- | ------------- | --------- | ------- | ----------------- |\n",
      "|   1,232 |      1,225 |   1,341 |      1,340 | WN            |     2,891 | N351    |                69 |\n",
      "|   1,918 |      1,905 |   2,043 |      2,035 | WN            |       462 | N370    |                85 |\n",
      "|   2,206 |      2,130 |   2,334 |      2,300 | WN            |     1,229 | N685    |                88 |\n",
      "|   1,230 |      1,200 |   1,356 |      1,330 | WN            |     1,355 | N364    |                86 |\n",
      "|     831 |        830 |     957 |      1,000 | WN            |     2,278 | N480    |                86 |\n",
      "|   1,430 |      1,420 |   1,553 |      1,550 | WN            |     2,386 | N611SW  |                83 |\n",
      "|   1,936 |      1,840 |   2,217 |      2,130 | WN            |       409 | N482    |               101 |\n",
      "|     944 |        935 |   1,223 |      1,225 | WN            |     1,131 | N749SW  |                99 |\n",
      "|   1,537 |      1,450 |   1,819 |      1,735 | WN            |     1,212 | N451    |               102 |\n"
     ]
    }
   ],
   "source": [
    "!head flights.csv | cut -d, -f5-12 |  csvlook"
   ]
  },
  {
   "cell_type": "code",
   "execution_count": 11,
   "metadata": {},
   "outputs": [
    {
     "name": "stdout",
     "output_type": "stream",
     "text": [
      "| line_numbers | DepTime | CRSDepTime | ArrTime | CRSArrTime | UniqueCarrier | FlightNum | TailNum | ActualElapsedTime |\n",
      "| ------------ | ------- | ---------- | ------- | ---------- | ------------- | --------- | ------- | ----------------- |\n",
      "|            1 |   1,232 |      1,225 |   1,341 |      1,340 | WN            |     2,891 | N351    |                69 |\n",
      "|            2 |   1,918 |      1,905 |   2,043 |      2,035 | WN            |       462 | N370    |                85 |\n",
      "|            3 |   2,206 |      2,130 |   2,334 |      2,300 | WN            |     1,229 | N685    |                88 |\n",
      "|            4 |   1,230 |      1,200 |   1,356 |      1,330 | WN            |     1,355 | N364    |                86 |\n",
      "|            5 |     831 |        830 |     957 |      1,000 | WN            |     2,278 | N480    |                86 |\n",
      "|            6 |   1,430 |      1,420 |   1,553 |      1,550 | WN            |     2,386 | N611SW  |                83 |\n",
      "|            7 |   1,936 |      1,840 |   2,217 |      2,130 | WN            |       409 | N482    |               101 |\n",
      "|            8 |     944 |        935 |   1,223 |      1,225 | WN            |     1,131 | N749SW  |                99 |\n",
      "|            9 |   1,537 |      1,450 |   1,819 |      1,735 | WN            |     1,212 | N451    |               102 |\n"
     ]
    }
   ],
   "source": [
    "# Again, but with an index\n",
    "!head flights.csv | cut -d, -f5-12 |  csvlook -l"
   ]
  },
  {
   "cell_type": "markdown",
   "metadata": {},
   "source": [
    "---\n",
    "\n",
    "## csvcut\n",
    "\n",
    "- **For column subsetting**\n",
    "\n",
    "```\n",
    "\n",
    "Options\n",
    "\n",
    "  -n, --names           Display column names and indices from the input CSV\n",
    "                        and exit.\n",
    "  -c COLUMNS, --columns COLUMNS\n",
    "                        A comma separated list of column indices or names to\n",
    "                        be extracted. Defaults to all columns.\n",
    "  -C NOT_COLUMNS, --not-columns NOT_COLUMNS\n",
    "                        A comma separated list of column indices or names to\n",
    "                        be excluded. Defaults to no columns.\n",
    "  -x, --delete-empty-rows\n",
    "                        After cutting, delete rows which are completely empty.\n",
    "```"
   ]
  },
  {
   "cell_type": "code",
   "execution_count": 29,
   "metadata": {
    "scrolled": true
   },
   "outputs": [
    {
     "name": "stdout",
     "output_type": "stream",
     "text": [
      "  1: Year\n",
      "  2: Month\n",
      "  3: DayofMonth\n",
      "  4: DayOfWeek\n",
      "  5: DepTime\n",
      "  6: CRSDepTime\n",
      "  7: ArrTime\n",
      "  8: CRSArrTime\n",
      "  9: UniqueCarrier\n",
      " 10: FlightNum\n"
     ]
    }
   ],
   "source": [
    "# Get column names and positions\n",
    "!csvcut -n flights.csv | head"
   ]
  },
  {
   "cell_type": "code",
   "execution_count": 15,
   "metadata": {},
   "outputs": [
    {
     "name": "stdout",
     "output_type": "stream",
     "text": [
      "| FlightNum | UniqueCarrier |\n",
      "| --------- | ------------- |\n",
      "|     2,891 | WN            |\n",
      "|       462 | WN            |\n",
      "|     1,229 | WN            |\n",
      "|     1,355 | WN            |\n",
      "|     2,278 | WN            |\n",
      "|     2,386 | WN            |\n",
      "|       409 | WN            |\n",
      "|     1,131 | WN            |\n",
      "|     1,212 | WN            |\n"
     ]
    }
   ],
   "source": [
    "# subset columns by name with -c\n",
    "!head flights.csv | csvcut -c FlightNum,UniqueCarrier | csvlook"
   ]
  },
  {
   "cell_type": "code",
   "execution_count": 18,
   "metadata": {},
   "outputs": [
    {
     "name": "stdout",
     "output_type": "stream",
     "text": [
      "|  Year | Month | CRSDepTime | CRSArrTime |\n",
      "| ----- | ----- | ---------- | ---------- |\n",
      "| 2,007 |  True |      1,225 |      1,340 |\n",
      "| 2,007 |  True |      1,905 |      2,035 |\n",
      "| 2,007 |  True |      2,130 |      2,300 |\n",
      "| 2,007 |  True |      1,200 |      1,330 |\n",
      "| 2,007 |  True |        830 |      1,000 |\n",
      "| 2,007 |  True |      1,420 |      1,550 |\n",
      "| 2,007 |  True |      1,840 |      2,130 |\n",
      "| 2,007 |  True |        935 |      1,225 |\n",
      "| 2,007 |  True |      1,450 |      1,735 |\n"
     ]
    }
   ],
   "source": [
    "# or by positions\n",
    "!head flights.csv | csvcut -c 1-2,6,8 | csvlook"
   ]
  },
  {
   "cell_type": "code",
   "execution_count": 23,
   "metadata": {},
   "outputs": [
    {
     "name": "stdout",
     "output_type": "stream",
     "text": [
      "| FlightNum | ActualElapsedTime | AirTime | ArrDelay |\n",
      "| --------- | ----------------- | ------- | -------- |\n",
      "|     2,891 |                69 |      54 |        1 |\n",
      "|       462 |                85 |      74 |        8 |\n",
      "|     1,229 |                88 |      73 |       34 |\n",
      "|     1,355 |                86 |      75 |       26 |\n",
      "|     2,278 |                86 |      74 |       -3 |\n",
      "|     2,386 |                83 |      74 |        3 |\n",
      "|       409 |               101 |      89 |       47 |\n",
      "|     1,131 |                99 |      86 |       -2 |\n",
      "|     1,212 |               102 |      90 |       44 |\n"
     ]
    }
   ],
   "source": [
    "# drop columns with -C, by name or position\n",
    "!head flights.csv \\\n",
    "| csvcut -c 10-15 \\\n",
    "| csvcut -C TailNum,CRSElapsedTime \\\n",
    "| csvlook"
   ]
  },
  {
   "cell_type": "code",
   "execution_count": 26,
   "metadata": {},
   "outputs": [
    {
     "name": "stdout",
     "output_type": "stream",
     "text": [
      "|  Year | Month | FlightNum | ArrDelay |\n",
      "| ----- | ----- | --------- | -------- |\n",
      "| 2,007 |  True |     2,891 |        1 |\n",
      "| 2,007 |  True |       462 |        8 |\n",
      "| 2,007 |  True |     1,229 |       34 |\n",
      "| 2,007 |  True |     1,355 |       26 |\n",
      "| 2,007 |  True |     2,278 |       -3 |\n",
      "| 2,007 |  True |     2,386 |        3 |\n",
      "| 2,007 |  True |       409 |       47 |\n",
      "| 2,007 |  True |     1,131 |       -2 |\n",
      "| 2,007 |  True |     1,212 |       44 |\n"
     ]
    }
   ],
   "source": [
    "# Combinations work too\n",
    "!head flights.csv \\\n",
    "| csvcut -c 1-2,FlightNum,ArrDelay\\\n",
    "| csvlook"
   ]
  },
  {
   "cell_type": "markdown",
   "metadata": {},
   "source": [
    "---\n",
    "\n",
    "## csvgrep\n",
    "\n",
    "** Subset Rows **\n",
    "\n",
    "```\n",
    "Options\n",
    "\n",
    "  -c COLUMNS, --columns COLUMNS\n",
    "                        A comma separated list of column indices or names to\n",
    "                        be searched.\n",
    "  -m PATTERN, --match PATTERN\n",
    "                        The string to search for.\n",
    "  -r REGEX, --regex REGEX\n",
    "                        If specified, must be followed by a regular expression\n",
    "                        which will be tested against the specified columns.\n",
    "  -f MATCHFILE, --file MATCHFILE\n",
    "                        If specified, must be the path to a file. For each\n",
    "                        tested row, if any line in the file (stripped of line\n",
    "                        separators) is an exact match for the cell value, the\n",
    "                        row will pass.\n",
    "  -i, --invert-match    If specified, select non-matching instead of matching\n",
    "                        rows.\n",
    "```"
   ]
  },
  {
   "cell_type": "code",
   "execution_count": 32,
   "metadata": {},
   "outputs": [
    {
     "name": "stdout",
     "output_type": "stream",
     "text": [
      "Origin\n",
      "SMF\n",
      "SMF\n",
      "SMF\n",
      "SMF\n",
      "SMF\n",
      "SMF\n",
      "SMF\n",
      "SMF\n",
      "SMF\n"
     ]
    }
   ],
   "source": [
    "!csvcut -c Origin flights.csv | head"
   ]
  },
  {
   "cell_type": "code",
   "execution_count": 35,
   "metadata": {},
   "outputs": [
    {
     "name": "stdout",
     "output_type": "stream",
     "text": [
      "| Origin | Dest | Distance | TaxiIn | TaxiOut | Cancelled |\n",
      "| ------ | ---- | -------- | ------ | ------- | --------- |\n",
      "| SFO    | PHX  |      651 |      4 |       4 |     False |\n",
      "| SFO    | PHX  |      651 |      7 |      21 |     False |\n",
      "| SFO    | PHX  |      651 |      7 |      13 |     False |\n",
      "| SFO    | PHX  |      651 |      5 |      16 |     False |\n"
     ]
    }
   ],
   "source": [
    "# Filter for rows where origin is San Francisco\n",
    "!csvgrep -c Origin -m SFO flights.csv \\\n",
    "| head -n 5 \\\n",
    "| csvcut -c 17-22 \\\n",
    "| csvlook"
   ]
  },
  {
   "cell_type": "code",
   "execution_count": 36,
   "metadata": {},
   "outputs": [
    {
     "name": "stdout",
     "output_type": "stream",
     "text": [
      "| Origin | Dest | Distance | TaxiIn | TaxiOut | Cancelled |\n",
      "| ------ | ---- | -------- | ------ | ------- | --------- |\n",
      "| SMF    | ONT  |      389 |      4 |      11 |     False |\n",
      "| SMF    | PDX  |      479 |      5 |       6 |     False |\n",
      "| SMF    | PDX  |      479 |      6 |       9 |     False |\n",
      "| SMF    | PDX  |      479 |      3 |       8 |     False |\n"
     ]
    }
   ],
   "source": [
    "# Filter for rows where Origin is not SFO\n",
    "!csvgrep -ic Origin -m SFO flights.csv \\\n",
    "| head -n 5 \\\n",
    "| csvcut -c 17-22 \\\n",
    "| csvlook"
   ]
  },
  {
   "cell_type": "markdown",
   "metadata": {},
   "source": [
    "---\n",
    "\n",
    "## csvsort\n",
    "\n",
    "```\n",
    "Options\n",
    "\n",
    "  -c COLUMNS, --columns COLUMNS\n",
    "                        A comma separated list of column indices or names to\n",
    "                        sort by. Defaults to all columns.\n",
    "  -r, --reverse         Sort in descending order.\n",
    "  --no-inference        Disable type inference when parsing the input.\n",
    "\n",
    "```"
   ]
  },
  {
   "cell_type": "code",
   "execution_count": 40,
   "metadata": {},
   "outputs": [
    {
     "name": "stdout",
     "output_type": "stream",
     "text": [
      "| AirTime | ArrDelay | DepDelay | Origin | Dest | Distance | TaxiIn |\n",
      "| ------- | -------- | -------- | ------ | ---- | -------- | ------ |\n",
      "|     230 |      -51 |       -6 | CLE    | LAS  |    1,825 |      4 |\n",
      "|     202 |      -39 |        0 | BNA    | LAS  |    1,588 |      4 |\n",
      "|     290 |      -39 |        5 | BWI    | SAN  |    2,295 |      3 |\n",
      "|     208 |      -37 |       -3 | BNA    | LAS  |    1,588 |      3 |\n",
      "|     227 |      -37 |        2 | BNA    | LAX  |    1,797 |      8 |\n",
      "|     219 |      -37 |        3 | BNA    | SAN  |    1,751 |      2 |\n",
      "|     251 |      -37 |       -1 | BUF    | LAS  |    1,987 |      5 |\n",
      "|     224 |      -36 |       -4 | BNA    | ONT  |    1,751 |      5 |\n",
      "|     301 |      -36 |       -1 | BWI    | SAN  |    2,295 |      3 |\n"
     ]
    }
   ],
   "source": [
    "# ascending\n",
    "!head -n 1000 flights.csv \\\n",
    "| csvsort -c ArrDelay \\\n",
    "| csvcut -c 14-20 \\\n",
    "| head \\\n",
    "| csvlook"
   ]
  },
  {
   "cell_type": "code",
   "execution_count": 41,
   "metadata": {},
   "outputs": [
    {
     "name": "stdout",
     "output_type": "stream",
     "text": [
      "| AirTime | ArrDelay | DepDelay | Origin | Dest | Distance | TaxiIn |\n",
      "| ------- | -------- | -------- | ------ | ---- | -------- | ------ |\n",
      "|         |          |          | SNA    | LAS  |      226 |      0 |\n",
      "|         |          |          | AUS    | DAL  |      189 |      0 |\n",
      "|         |          |          | DAL    | AUS  |      189 |      0 |\n",
      "|         |          |          | DAL    | HOU  |      239 |      0 |\n",
      "|         |          |          | DAL    | HOU  |      239 |      0 |\n",
      "|         |          |          | DAL    | HOU  |      239 |      0 |\n",
      "|      51 |      219 |      229 | CMH    | MDW  |      284 |      4 |\n",
      "|      50 |      165 |      162 | SNA    | LAS  |      226 |      4 |\n",
      "|      49 |      133 |      138 | BWI    | ALB  |      288 |      3 |\n"
     ]
    }
   ],
   "source": [
    "# descending\n",
    "!head -n 1000 flights.csv \\\n",
    "| csvsort -rc ArrDelay \\\n",
    "| csvcut -c 14-20 \\\n",
    "| head \\\n",
    "| csvlook"
   ]
  },
  {
   "cell_type": "markdown",
   "metadata": {},
   "source": [
    "---\n",
    "\n",
    "## csvstat\n",
    "\n",
    "- Outputs the statistical summary of all/particular columns\n",
    "- Default action is to provide a lot of information (you can choose either all or one.\n",
    "\n",
    "> - Tells you if there are nulls ina a column (will hog the memory - maybe run inside Docker?)\n",
    "- Gives you info on the dtypes\n",
    "- Frequency table for free!\n",
    "- !!!---painfully slow---!!! (I would crontab this to run overnight)\n",
    "\n",
    "\n",
    "<br>\n",
    "\n",
    "```\n",
    "Options\n",
    "\n",
    "  --max                 Only output max.\n",
    "  --min                 Only output min.\n",
    "  --sum                 Only output sum.\n",
    "  --mean                Only output mean.\n",
    "  --median              Only output median.\n",
    "  --stdev               Only output standard deviation.\n",
    "  --nulls               Only output whether column contains nulls.\n",
    "  --unique              Only output unique values.\n",
    "  --freq                Only output frequent values.\n",
    "  --len                 Only output max value length.\n",
    "  --count               Only output row count\n",
    "```"
   ]
  },
  {
   "cell_type": "code",
   "execution_count": 42,
   "metadata": {},
   "outputs": [
    {
     "name": "stdout",
     "output_type": "stream",
     "text": [
      "Killed\n"
     ]
    }
   ],
   "source": [
    "!csvstat -c src_bytes,dst_bytes kddcup.data"
   ]
  },
  {
   "cell_type": "code",
   "execution_count": 43,
   "metadata": {},
   "outputs": [
    {
     "name": "stdout",
     "output_type": "stream",
     "text": [
      "Killed\n"
     ]
    }
   ],
   "source": [
    "# Returns top 5 by default\n",
    "!csvstat -c Origin --freq flights.csv"
   ]
  },
  {
   "cell_type": "markdown",
   "metadata": {},
   "source": [
    "---\n",
    "\n",
    "## csvstack\n",
    "\n",
    "```\n",
    "Options\n",
    "\n",
    "  -g GROUPS, --groups GROUPS\n",
    "                        A comma-seperated list of values to add as \"grouping\n",
    "                        factors\", one for each CSV being stacked. These will\n",
    "                        be added to the stacked CSV as a new column. You may\n",
    "                        specify a name for the grouping column using the -n\n",
    "                        flag.\n",
    "  -n GROUP_NAME, --group-name GROUP_NAME\n",
    "                        A name for the grouping column, e.g. \"year\". Only used\n",
    "                        when also specifying -g.\n",
    "  --filenames           Use the filename of each input file as its grouping\n",
    "                        value. When specified, -g will be ignored.\n",
    "```"
   ]
  },
  {
   "cell_type": "code",
   "execution_count": 45,
   "metadata": {
    "collapsed": true
   },
   "outputs": [
    {
     "name": "stdout",
     "output_type": "stream",
     "text": [
      "| ArrDelay | DepDelay | Origin | Dest | Distance | TaxiIn |\n",
      "| -------- | -------- | ------ | ---- | -------- | ------ |\n",
      "|        1 |        7 | SMF    | ONT  |      389 |      4 |\n",
      "|        8 |       13 | SMF    | PDX  |      479 |      5 |\n",
      "|       34 |       36 | SMF    | PDX  |      479 |      6 |\n",
      "|       26 |       30 | SMF    | PDX  |      479 |      3 |\n",
      "|       -3 |        1 | SMF    | PDX  |      479 |      3 |\n",
      "|        3 |       10 | SMF    | PDX  |      479 |      2 |\n",
      "|       47 |       56 | SMF    | PHX  |      647 |      5 |\n",
      "|       -2 |        9 | SMF    | PHX  |      647 |      4 |\n",
      "|       44 |       47 | SMF    | PHX  |      647 |      5 |\n",
      "|       24 |       45 | ATL    | SFO  |    2,139 |     10 |\n",
      "|        1 |        6 | SLC    | CVG  |    1,449 |      8 |\n",
      "|       -9 |        1 | CVG    | SLC  |    1,449 |      6 |\n",
      "|        9 |       -1 | CVG    | ATL  |      373 |     13 |\n",
      "|       13 |       -7 | MCO    | ATL  |      403 |     14 |\n",
      "|        5 |       11 | ATL    | SLC  |    1,589 |      6 |\n",
      "|       15 |       -1 | LAX    | ATL  |    1,946 |     14 |\n",
      "|       36 |       38 | DFW    | ATL  |      732 |     11 |\n",
      "|       33 |       24 | ATL    | MCO  |      403 |     10 |\n"
     ]
    }
   ],
   "source": [
    "# Create files (only one should have the header)\n",
    "!head flights.csv > flights_01.csv\n",
    "!tail flights.csv > flights_02.csv\n",
    "\n",
    "!csvstack flights_01.csv flights_02.csv | csvcut -c 15-20 | csvlook"
   ]
  },
  {
   "cell_type": "code",
   "execution_count": 47,
   "metadata": {},
   "outputs": [
    {
     "name": "stdout",
     "output_type": "stream",
     "text": [
      "| ArrDelay | DepDelay | Origin | Dest | Distance | TaxiIn |\n",
      "| -------- | -------- | ------ | ---- | -------- | ------ |\n",
      "|        1 |        7 | SMF    | ONT  |      389 |      4 |\n",
      "|        8 |       13 | SMF    | PDX  |      479 |      5 |\n",
      "|       34 |       36 | SMF    | PDX  |      479 |      6 |\n",
      "|       26 |       30 | SMF    | PDX  |      479 |      3 |\n",
      "|       -3 |        1 | SMF    | PDX  |      479 |      3 |\n",
      "|        3 |       10 | SMF    | PDX  |      479 |      2 |\n",
      "|       47 |       56 | SMF    | PHX  |      647 |      5 |\n",
      "|       -2 |        9 | SMF    | PHX  |      647 |      4 |\n",
      "|       44 |       47 | SMF    | PHX  |      647 |      5 |\n"
     ]
    }
   ],
   "source": [
    "# globbing allowed\n",
    "!csvstack flights_*.csv | csvcut -c 15-20 | head |csvlook "
   ]
  },
  {
   "cell_type": "code",
   "execution_count": 51,
   "metadata": {},
   "outputs": [
    {
     "name": "stdout",
     "output_type": "stream",
     "text": [
      "| source_dataframe | AirTime | ArrDelay | DepDelay | Origin | Dest | Distance |\n",
      "| ---------------- | ------- | -------- | -------- | ------ | ---- | -------- |\n",
      "| head             |      54 |        1 |        7 | SMF    | ONT  |      389 |\n",
      "| head             |      74 |        8 |       13 | SMF    | PDX  |      479 |\n",
      "| head             |      73 |       34 |       36 | SMF    | PDX  |      479 |\n",
      "| head             |      75 |       26 |       30 | SMF    | PDX  |      479 |\n",
      "| head             |      74 |       -3 |        1 | SMF    | PDX  |      479 |\n",
      "| head             |      74 |        3 |       10 | SMF    | PDX  |      479 |\n",
      "| head             |      89 |       47 |       56 | SMF    | PHX  |      647 |\n",
      "| head             |      86 |       -2 |        9 | SMF    | PHX  |      647 |\n",
      "| head             |      90 |       44 |       47 | SMF    | PHX  |      647 |\n"
     ]
    }
   ],
   "source": [
    "# Keep track of things\n",
    "!csvstack -g head,tail -n source_dataframe flights_0* | csvcut -c 1,15-20 | head | csvlook "
   ]
  },
  {
   "cell_type": "code",
   "execution_count": 53,
   "metadata": {},
   "outputs": [
    {
     "name": "stdout",
     "output_type": "stream",
     "text": [
      "| group          | AirTime | ArrDelay | DepDelay | Origin | Dest | Distance |\n",
      "| -------------- | ------- | -------- | -------- | ------ | ---- | -------- |\n",
      "| flights_01.csv |      54 |        1 |        7 | SMF    | ONT  |      389 |\n",
      "| flights_01.csv |      74 |        8 |       13 | SMF    | PDX  |      479 |\n",
      "| flights_01.csv |      73 |       34 |       36 | SMF    | PDX  |      479 |\n",
      "| flights_01.csv |      75 |       26 |       30 | SMF    | PDX  |      479 |\n",
      "| flights_01.csv |      74 |       -3 |        1 | SMF    | PDX  |      479 |\n",
      "| flights_01.csv |      74 |        3 |       10 | SMF    | PDX  |      479 |\n",
      "| flights_01.csv |      89 |       47 |       56 | SMF    | PHX  |      647 |\n",
      "| flights_01.csv |      86 |       -2 |        9 | SMF    | PHX  |      647 |\n",
      "| flights_01.csv |      90 |       44 |       47 | SMF    | PHX  |      647 |\n"
     ]
    }
   ],
   "source": [
    "!csvstack --filenames flights_0* |  csvcut -c 1,15-20 | head | csvlook "
   ]
  },
  {
   "cell_type": "markdown",
   "metadata": {},
   "source": [
    "---\n",
    "\n",
    "## csvsql\n",
    "\n",
    "- Generate SQL CREATE TABLE statements for one or more CSV files (**very useful!**)\n",
    "    - Execute these statements directly on a database\n",
    "- Execute one or more SQL queries.\n",
    "\n",
    "\n",
    "```\n",
    "OPTIONS\n",
    "\n",
    "-i {access,sybase,sqlite,informix,firebird,mysql,oracle,maxdb,postgresql,mssql}, --dialect {access,sybase,sqlite,informix,firebird,mysql,oracle,maxdb,postgresql,mssql}\n",
    "                        Dialect of SQL to generate. Only valid when --db is\n",
    "                        not specified.\n",
    "  --db CONNECTION_STRING\n",
    "                        If present, a sqlalchemy connection string to use to\n",
    "                        directly execute generated SQL on a database.\n",
    "  --query QUERY         Execute one or more SQL queries delimited by \";\" and\n",
    "                        output the result of the last query as CSV.\n",
    "  --insert              In addition to creating the table, also insert the\n",
    "                        data into the table. Only valid when --db is\n",
    "                        specified.\n",
    "  --tables TABLE_NAMES  Specify one or more names for the tables to be\n",
    "                        created. If omitted, the filename (minus extension) or\n",
    "                        \"stdin\" will be used.\n",
    "  --no-constraints      Generate a schema without length limits or null\n",
    "                        checks. Useful when sampling big tables.\n",
    "  --no-create           Skip creating a table. Only valid when --insert is\n",
    "                        specified.\n",
    "  --blanks              Do not coerce empty strings to NULL values.\n",
    "  --no-inference        Disable type inference when parsing the input.\n",
    "  --db-schema DB_SCHEMA\n",
    "                        Optional name of database schema to create table(s)\n",
    "                        in.\n",
    "        \n",
    "```        "
   ]
  },
  {
   "cell_type": "code",
   "execution_count": 56,
   "metadata": {},
   "outputs": [
    {
     "name": "stdout",
     "output_type": "stream",
     "text": [
      "/miniconda/envs/ds-py3/lib/python3.6/importlib/_bootstrap_external.py:426: ImportWarning: Not importing directory /miniconda/envs/ds-py3/lib/python3.6/site-packages/mpl_toolkits: missing __init__\n",
      "/miniconda/envs/ds-py3/lib/python3.6/importlib/_bootstrap_external.py:426: ImportWarning: Not importing directory /miniconda/envs/ds-py3/lib/python3.6/site-packages/mpl_toolkits: missing __init__\n",
      "/miniconda/envs/ds-py3/lib/python3.6/importlib/_bootstrap_external.py:426: ImportWarning: Not importing directory /miniconda/envs/ds-py3/lib/python3.6/site-packages/mpl_toolkits: missing __init__\n",
      "/miniconda/envs/ds-py3/lib/python3.6/importlib/_bootstrap_external.py:426: ImportWarning: Not importing directory /miniconda/envs/ds-py3/lib/python3.6/site-packages/mpl_toolkits: missing __init__\n",
      "/miniconda/envs/ds-py3/lib/python3.6/importlib/_bootstrap_external.py:426: ImportWarning: Not importing directory /miniconda/envs/ds-py3/lib/python3.6/site-packages/mpl_toolkits: missing __init__\n",
      "/miniconda/envs/ds-py3/lib/python3.6/importlib/_bootstrap_external.py:426: ImportWarning: Not importing directory /miniconda/envs/ds-py3/lib/python3.6/site-packages/mpl_toolkits: missing __init__\n",
      "/miniconda/envs/ds-py3/lib/python3.6/importlib/_bootstrap_external.py:426: ImportWarning: Not importing directory /miniconda/envs/ds-py3/lib/python3.6/site-packages/mpl_toolkits: missing __init__\n",
      "/miniconda/envs/ds-py3/lib/python3.6/importlib/_bootstrap_external.py:426: ImportWarning: Not importing directory /miniconda/envs/ds-py3/lib/python3.6/site-packages/mpl_toolkits: missing __init__\n",
      "/miniconda/envs/ds-py3/lib/python3.6/importlib/_bootstrap_external.py:426: ImportWarning: Not importing directory /miniconda/envs/ds-py3/lib/python3.6/site-packages/mpl_toolkits: missing __init__\n",
      "/miniconda/envs/ds-py3/lib/python3.6/importlib/_bootstrap_external.py:426: ImportWarning: Not importing directory /miniconda/envs/ds-py3/lib/python3.6/site-packages/mpl_toolkits: missing __init__\n",
      "/miniconda/envs/ds-py3/lib/python3.6/importlib/_bootstrap_external.py:426: ImportWarning: Not importing directory /miniconda/envs/ds-py3/lib/python3.6/site-packages/mpl_toolkits: missing __init__\n",
      "/miniconda/envs/ds-py3/lib/python3.6/importlib/_bootstrap_external.py:426: ImportWarning: Not importing directory /miniconda/envs/ds-py3/lib/python3.6/site-packages/mpl_toolkits: missing __init__\n",
      "/miniconda/envs/ds-py3/lib/python3.6/importlib/_bootstrap_external.py:426: ImportWarning: Not importing directory /miniconda/envs/ds-py3/lib/python3.6/site-packages/mpl_toolkits: missing __init__\n",
      "/miniconda/envs/ds-py3/lib/python3.6/importlib/_bootstrap_external.py:426: ImportWarning: Not importing directory /miniconda/envs/ds-py3/lib/python3.6/site-packages/mpl_toolkits: missing __init__\n",
      "/miniconda/envs/ds-py3/lib/python3.6/importlib/_bootstrap_external.py:426: ImportWarning: Not importing directory /miniconda/envs/ds-py3/lib/python3.6/site-packages/mpl_toolkits: missing __init__\n",
      "/miniconda/envs/ds-py3/lib/python3.6/importlib/_bootstrap_external.py:426: ImportWarning: Not importing directory /miniconda/envs/ds-py3/lib/python3.6/site-packages/mpl_toolkits: missing __init__\n",
      "/miniconda/envs/ds-py3/lib/python3.6/importlib/_bootstrap_external.py:426: ImportWarning: Not importing directory /miniconda/envs/ds-py3/lib/python3.6/site-packages/mpl_toolkits: missing __init__\n",
      "/miniconda/envs/ds-py3/lib/python3.6/importlib/_bootstrap_external.py:426: ImportWarning: Not importing directory /miniconda/envs/ds-py3/lib/python3.6/site-packages/mpl_toolkits: missing __init__\n",
      "/miniconda/envs/ds-py3/lib/python3.6/importlib/_bootstrap_external.py:426: ImportWarning: Not importing directory /miniconda/envs/ds-py3/lib/python3.6/site-packages/mpl_toolkits: missing __init__\n",
      "/miniconda/envs/ds-py3/lib/python3.6/importlib/_bootstrap_external.py:426: ImportWarning: Not importing directory /miniconda/envs/ds-py3/lib/python3.6/site-packages/mpl_toolkits: missing __init__\n",
      "/miniconda/envs/ds-py3/lib/python3.6/importlib/_bootstrap_external.py:426: ImportWarning: Not importing directory /miniconda/envs/ds-py3/lib/python3.6/site-packages/mpl_toolkits: missing __init__\n",
      "/miniconda/envs/ds-py3/lib/python3.6/importlib/_bootstrap_external.py:426: ImportWarning: Not importing directory /miniconda/envs/ds-py3/lib/python3.6/site-packages/mpl_toolkits: missing __init__\n",
      "/miniconda/envs/ds-py3/lib/python3.6/importlib/_bootstrap_external.py:426: ImportWarning: Not importing directory /miniconda/envs/ds-py3/lib/python3.6/site-packages/mpl_toolkits: missing __init__\n",
      "/miniconda/envs/ds-py3/lib/python3.6/importlib/_bootstrap_external.py:426: ImportWarning: Not importing directory /miniconda/envs/ds-py3/lib/python3.6/site-packages/mpl_toolkits: missing __init__\n",
      "/miniconda/envs/ds-py3/lib/python3.6/importlib/_bootstrap_external.py:426: ImportWarning: Not importing directory /miniconda/envs/ds-py3/lib/python3.6/site-packages/mpl_toolkits: missing __init__\n",
      "/miniconda/envs/ds-py3/lib/python3.6/importlib/_bootstrap_external.py:426: ImportWarning: Not importing directory /miniconda/envs/ds-py3/lib/python3.6/site-packages/mpl_toolkits: missing __init__\n",
      "/miniconda/envs/ds-py3/lib/python3.6/importlib/_bootstrap_external.py:426: ImportWarning: Not importing directory /miniconda/envs/ds-py3/lib/python3.6/site-packages/mpl_toolkits: missing __init__\n",
      "/miniconda/envs/ds-py3/lib/python3.6/importlib/_bootstrap_external.py:426: ImportWarning: Not importing directory /miniconda/envs/ds-py3/lib/python3.6/site-packages/mpl_toolkits: missing __init__\n",
      "/miniconda/envs/ds-py3/lib/python3.6/importlib/_bootstrap_external.py:426: ImportWarning: Not importing directory /miniconda/envs/ds-py3/lib/python3.6/site-packages/mpl_toolkits: missing __init__\n",
      "/miniconda/envs/ds-py3/lib/python3.6/importlib/_bootstrap_external.py:426: ImportWarning: Not importing directory /miniconda/envs/ds-py3/lib/python3.6/site-packages/mpl_toolkits: missing __init__\n",
      "/miniconda/envs/ds-py3/lib/python3.6/importlib/_bootstrap_external.py:426: ImportWarning: Not importing directory /miniconda/envs/ds-py3/lib/python3.6/site-packages/mpl_toolkits: missing __init__\n",
      "/miniconda/envs/ds-py3/lib/python3.6/importlib/_bootstrap_external.py:426: ImportWarning: Not importing directory /miniconda/envs/ds-py3/lib/python3.6/site-packages/mpl_toolkits: missing __init__\n",
      "/miniconda/envs/ds-py3/lib/python3.6/importlib/_bootstrap_external.py:426: ImportWarning: Not importing directory /miniconda/envs/ds-py3/lib/python3.6/site-packages/mpl_toolkits: missing __init__\n",
      "/miniconda/envs/ds-py3/lib/python3.6/importlib/_bootstrap_external.py:426: ImportWarning: Not importing directory /miniconda/envs/ds-py3/lib/python3.6/site-packages/mpl_toolkits: missing __init__\n",
      "/miniconda/envs/ds-py3/lib/python3.6/importlib/_bootstrap_external.py:426: ImportWarning: Not importing directory /miniconda/envs/ds-py3/lib/python3.6/site-packages/mpl_toolkits: missing __init__\n",
      "/miniconda/envs/ds-py3/lib/python3.6/importlib/_bootstrap_external.py:426: ImportWarning: Not importing directory /miniconda/envs/ds-py3/lib/python3.6/site-packages/mpl_toolkits: missing __init__\n",
      "/miniconda/envs/ds-py3/lib/python3.6/importlib/_bootstrap_external.py:426: ImportWarning: Not importing directory /miniconda/envs/ds-py3/lib/python3.6/site-packages/mpl_toolkits: missing __init__\n",
      "/miniconda/envs/ds-py3/lib/python3.6/importlib/_bootstrap_external.py:426: ImportWarning: Not importing directory /miniconda/envs/ds-py3/lib/python3.6/site-packages/mpl_toolkits: missing __init__\n",
      "/miniconda/envs/ds-py3/lib/python3.6/importlib/_bootstrap_external.py:426: ImportWarning: Not importing directory /miniconda/envs/ds-py3/lib/python3.6/site-packages/mpl_toolkits: missing __init__\n",
      "/miniconda/envs/ds-py3/lib/python3.6/importlib/_bootstrap_external.py:426: ImportWarning: Not importing directory /miniconda/envs/ds-py3/lib/python3.6/site-packages/mpl_toolkits: missing __init__\n",
      "/miniconda/envs/ds-py3/lib/python3.6/importlib/_bootstrap_external.py:426: ImportWarning: Not importing directory /miniconda/envs/ds-py3/lib/python3.6/site-packages/mpl_toolkits: missing __init__\n",
      "[Errno 21] Is a directory: '.'\n"
     ]
    }
   ],
   "source": [
    "!head flights.csv | csvsql -i sqlite ."
   ]
  },
  {
   "cell_type": "code",
   "execution_count": 57,
   "metadata": {},
   "outputs": [
    {
     "name": "stdout",
     "output_type": "stream",
     "text": [
      "/miniconda/envs/ds-py3/lib/python3.6/importlib/_bootstrap_external.py:426: ImportWarning: Not importing directory /miniconda/envs/ds-py3/lib/python3.6/site-packages/mpl_toolkits: missing __init__\n",
      "/miniconda/envs/ds-py3/lib/python3.6/importlib/_bootstrap_external.py:426: ImportWarning: Not importing directory /miniconda/envs/ds-py3/lib/python3.6/site-packages/mpl_toolkits: missing __init__\n",
      "/miniconda/envs/ds-py3/lib/python3.6/importlib/_bootstrap_external.py:426: ImportWarning: Not importing directory /miniconda/envs/ds-py3/lib/python3.6/site-packages/mpl_toolkits: missing __init__\n",
      "/miniconda/envs/ds-py3/lib/python3.6/importlib/_bootstrap_external.py:426: ImportWarning: Not importing directory /miniconda/envs/ds-py3/lib/python3.6/site-packages/mpl_toolkits: missing __init__\n",
      "/miniconda/envs/ds-py3/lib/python3.6/importlib/_bootstrap_external.py:426: ImportWarning: Not importing directory /miniconda/envs/ds-py3/lib/python3.6/site-packages/mpl_toolkits: missing __init__\n",
      "/miniconda/envs/ds-py3/lib/python3.6/importlib/_bootstrap_external.py:426: ImportWarning: Not importing directory /miniconda/envs/ds-py3/lib/python3.6/site-packages/mpl_toolkits: missing __init__\n",
      "/miniconda/envs/ds-py3/lib/python3.6/importlib/_bootstrap_external.py:426: ImportWarning: Not importing directory /miniconda/envs/ds-py3/lib/python3.6/site-packages/mpl_toolkits: missing __init__\n",
      "/miniconda/envs/ds-py3/lib/python3.6/importlib/_bootstrap_external.py:426: ImportWarning: Not importing directory /miniconda/envs/ds-py3/lib/python3.6/site-packages/mpl_toolkits: missing __init__\n",
      "/miniconda/envs/ds-py3/lib/python3.6/importlib/_bootstrap_external.py:426: ImportWarning: Not importing directory /miniconda/envs/ds-py3/lib/python3.6/site-packages/mpl_toolkits: missing __init__\n",
      "/miniconda/envs/ds-py3/lib/python3.6/importlib/_bootstrap_external.py:426: ImportWarning: Not importing directory /miniconda/envs/ds-py3/lib/python3.6/site-packages/mpl_toolkits: missing __init__\n",
      "/miniconda/envs/ds-py3/lib/python3.6/importlib/_bootstrap_external.py:426: ImportWarning: Not importing directory /miniconda/envs/ds-py3/lib/python3.6/site-packages/mpl_toolkits: missing __init__\n",
      "/miniconda/envs/ds-py3/lib/python3.6/importlib/_bootstrap_external.py:426: ImportWarning: Not importing directory /miniconda/envs/ds-py3/lib/python3.6/site-packages/mpl_toolkits: missing __init__\n",
      "/miniconda/envs/ds-py3/lib/python3.6/importlib/_bootstrap_external.py:426: ImportWarning: Not importing directory /miniconda/envs/ds-py3/lib/python3.6/site-packages/mpl_toolkits: missing __init__\n",
      "/miniconda/envs/ds-py3/lib/python3.6/importlib/_bootstrap_external.py:426: ImportWarning: Not importing directory /miniconda/envs/ds-py3/lib/python3.6/site-packages/mpl_toolkits: missing __init__\n",
      "/miniconda/envs/ds-py3/lib/python3.6/importlib/_bootstrap_external.py:426: ImportWarning: Not importing directory /miniconda/envs/ds-py3/lib/python3.6/site-packages/mpl_toolkits: missing __init__\n",
      "/miniconda/envs/ds-py3/lib/python3.6/importlib/_bootstrap_external.py:426: ImportWarning: Not importing directory /miniconda/envs/ds-py3/lib/python3.6/site-packages/mpl_toolkits: missing __init__\n",
      "/miniconda/envs/ds-py3/lib/python3.6/importlib/_bootstrap_external.py:426: ImportWarning: Not importing directory /miniconda/envs/ds-py3/lib/python3.6/site-packages/mpl_toolkits: missing __init__\n",
      "/miniconda/envs/ds-py3/lib/python3.6/importlib/_bootstrap_external.py:426: ImportWarning: Not importing directory /miniconda/envs/ds-py3/lib/python3.6/site-packages/mpl_toolkits: missing __init__\n",
      "/miniconda/envs/ds-py3/lib/python3.6/importlib/_bootstrap_external.py:426: ImportWarning: Not importing directory /miniconda/envs/ds-py3/lib/python3.6/site-packages/mpl_toolkits: missing __init__\n",
      "/miniconda/envs/ds-py3/lib/python3.6/importlib/_bootstrap_external.py:426: ImportWarning: Not importing directory /miniconda/envs/ds-py3/lib/python3.6/site-packages/mpl_toolkits: missing __init__\n",
      "/miniconda/envs/ds-py3/lib/python3.6/importlib/_bootstrap_external.py:426: ImportWarning: Not importing directory /miniconda/envs/ds-py3/lib/python3.6/site-packages/mpl_toolkits: missing __init__\n",
      "/miniconda/envs/ds-py3/lib/python3.6/importlib/_bootstrap_external.py:426: ImportWarning: Not importing directory /miniconda/envs/ds-py3/lib/python3.6/site-packages/mpl_toolkits: missing __init__\n",
      "/miniconda/envs/ds-py3/lib/python3.6/importlib/_bootstrap_external.py:426: ImportWarning: Not importing directory /miniconda/envs/ds-py3/lib/python3.6/site-packages/mpl_toolkits: missing __init__\n",
      "/miniconda/envs/ds-py3/lib/python3.6/importlib/_bootstrap_external.py:426: ImportWarning: Not importing directory /miniconda/envs/ds-py3/lib/python3.6/site-packages/mpl_toolkits: missing __init__\n",
      "/miniconda/envs/ds-py3/lib/python3.6/importlib/_bootstrap_external.py:426: ImportWarning: Not importing directory /miniconda/envs/ds-py3/lib/python3.6/site-packages/mpl_toolkits: missing __init__\n",
      "/miniconda/envs/ds-py3/lib/python3.6/importlib/_bootstrap_external.py:426: ImportWarning: Not importing directory /miniconda/envs/ds-py3/lib/python3.6/site-packages/mpl_toolkits: missing __init__\n",
      "/miniconda/envs/ds-py3/lib/python3.6/importlib/_bootstrap_external.py:426: ImportWarning: Not importing directory /miniconda/envs/ds-py3/lib/python3.6/site-packages/mpl_toolkits: missing __init__\n",
      "/miniconda/envs/ds-py3/lib/python3.6/importlib/_bootstrap_external.py:426: ImportWarning: Not importing directory /miniconda/envs/ds-py3/lib/python3.6/site-packages/mpl_toolkits: missing __init__\n",
      "/miniconda/envs/ds-py3/lib/python3.6/importlib/_bootstrap_external.py:426: ImportWarning: Not importing directory /miniconda/envs/ds-py3/lib/python3.6/site-packages/mpl_toolkits: missing __init__\n",
      "/miniconda/envs/ds-py3/lib/python3.6/importlib/_bootstrap_external.py:426: ImportWarning: Not importing directory /miniconda/envs/ds-py3/lib/python3.6/site-packages/mpl_toolkits: missing __init__\n",
      "/miniconda/envs/ds-py3/lib/python3.6/importlib/_bootstrap_external.py:426: ImportWarning: Not importing directory /miniconda/envs/ds-py3/lib/python3.6/site-packages/mpl_toolkits: missing __init__\n",
      "/miniconda/envs/ds-py3/lib/python3.6/importlib/_bootstrap_external.py:426: ImportWarning: Not importing directory /miniconda/envs/ds-py3/lib/python3.6/site-packages/mpl_toolkits: missing __init__\n",
      "/miniconda/envs/ds-py3/lib/python3.6/importlib/_bootstrap_external.py:426: ImportWarning: Not importing directory /miniconda/envs/ds-py3/lib/python3.6/site-packages/mpl_toolkits: missing __init__\n",
      "/miniconda/envs/ds-py3/lib/python3.6/importlib/_bootstrap_external.py:426: ImportWarning: Not importing directory /miniconda/envs/ds-py3/lib/python3.6/site-packages/mpl_toolkits: missing __init__\n",
      "/miniconda/envs/ds-py3/lib/python3.6/importlib/_bootstrap_external.py:426: ImportWarning: Not importing directory /miniconda/envs/ds-py3/lib/python3.6/site-packages/mpl_toolkits: missing __init__\n",
      "/miniconda/envs/ds-py3/lib/python3.6/importlib/_bootstrap_external.py:426: ImportWarning: Not importing directory /miniconda/envs/ds-py3/lib/python3.6/site-packages/mpl_toolkits: missing __init__\n",
      "/miniconda/envs/ds-py3/lib/python3.6/importlib/_bootstrap_external.py:426: ImportWarning: Not importing directory /miniconda/envs/ds-py3/lib/python3.6/site-packages/mpl_toolkits: missing __init__\n",
      "/miniconda/envs/ds-py3/lib/python3.6/importlib/_bootstrap_external.py:426: ImportWarning: Not importing directory /miniconda/envs/ds-py3/lib/python3.6/site-packages/mpl_toolkits: missing __init__\n",
      "/miniconda/envs/ds-py3/lib/python3.6/importlib/_bootstrap_external.py:426: ImportWarning: Not importing directory /miniconda/envs/ds-py3/lib/python3.6/site-packages/mpl_toolkits: missing __init__\n",
      "/miniconda/envs/ds-py3/lib/python3.6/importlib/_bootstrap_external.py:426: ImportWarning: Not importing directory /miniconda/envs/ds-py3/lib/python3.6/site-packages/mpl_toolkits: missing __init__\n",
      "/miniconda/envs/ds-py3/lib/python3.6/importlib/_bootstrap_external.py:426: ImportWarning: Not importing directory /miniconda/envs/ds-py3/lib/python3.6/site-packages/mpl_toolkits: missing __init__\n",
      "CREATE TABLE stdin (\n",
      "\t\"Year\" DECIMAL NOT NULL, \n",
      "\t\"Month\" BOOLEAN NOT NULL, \n",
      "\t\"DayofMonth\" DECIMAL NOT NULL, \n",
      "\t\"DayOfWeek\" DECIMAL NOT NULL, \n",
      "\t\"DepTime\" DECIMAL, \n",
      "\t\"CRSDepTime\" DECIMAL NOT NULL, \n",
      "\t\"ArrTime\" DECIMAL, \n",
      "\t\"CRSArrTime\" DECIMAL NOT NULL, \n",
      "\t\"UniqueCarrier\" VARCHAR(2) NOT NULL, \n",
      "\t\"FlightNum\" DECIMAL NOT NULL, \n",
      "\t\"TailNum\" VARCHAR(6) NOT NULL, \n",
      "\t\"ActualElapsedTime\" DECIMAL, \n",
      "\t\"CRSElapsedTime\" DECIMAL NOT NULL, \n",
      "\t\"AirTime\" DECIMAL, \n",
      "\t\"ArrDelay\" DECIMAL, \n",
      "\t\"DepDelay\" DECIMAL, \n",
      "\t\"Origin\" VARCHAR(3) NOT NULL, \n",
      "\t\"Dest\" VARCHAR(3) NOT NULL, \n",
      "\t\"Distance\" DECIMAL NOT NULL, \n",
      "\t\"TaxiIn\" DECIMAL NOT NULL, \n",
      "\t\"TaxiOut\" DECIMAL NOT NULL, \n",
      "\t\"Cancelled\" BOOLEAN NOT NULL, \n",
      "\t\"CancellationCode\" VARCHAR(1), \n",
      "\t\"Diverted\" BOOLEAN NOT NULL, \n",
      "\t\"CarrierDelay\" DECIMAL NOT NULL, \n",
      "\t\"WeatherDelay\" DECIMAL NOT NULL, \n",
      "\t\"NASDelay\" DECIMAL NOT NULL, \n",
      "\t\"SecurityDelay\" DECIMAL NOT NULL, \n",
      "\t\"LateAircraftDelay\" DECIMAL NOT NULL\n",
      ");\n"
     ]
    }
   ],
   "source": [
    "!head -n 10000 flights.csv | csvsql -i postgresql"
   ]
  },
  {
   "cell_type": "code",
   "execution_count": 59,
   "metadata": {},
   "outputs": [
    {
     "name": "stdout",
     "output_type": "stream",
     "text": [
      "/miniconda/envs/ds-py3/lib/python3.6/importlib/_bootstrap_external.py:426: ImportWarning: Not importing directory /miniconda/envs/ds-py3/lib/python3.6/site-packages/mpl_toolkits: missing __init__\n",
      "/miniconda/envs/ds-py3/lib/python3.6/importlib/_bootstrap_external.py:426: ImportWarning: Not importing directory /miniconda/envs/ds-py3/lib/python3.6/site-packages/mpl_toolkits: missing __init__\n",
      "/miniconda/envs/ds-py3/lib/python3.6/importlib/_bootstrap_external.py:426: ImportWarning: Not importing directory /miniconda/envs/ds-py3/lib/python3.6/site-packages/mpl_toolkits: missing __init__\n",
      "/miniconda/envs/ds-py3/lib/python3.6/importlib/_bootstrap_external.py:426: ImportWarning: Not importing directory /miniconda/envs/ds-py3/lib/python3.6/site-packages/mpl_toolkits: missing __init__\n",
      "/miniconda/envs/ds-py3/lib/python3.6/importlib/_bootstrap_external.py:426: ImportWarning: Not importing directory /miniconda/envs/ds-py3/lib/python3.6/site-packages/mpl_toolkits: missing __init__\n",
      "/miniconda/envs/ds-py3/lib/python3.6/importlib/_bootstrap_external.py:426: ImportWarning: Not importing directory /miniconda/envs/ds-py3/lib/python3.6/site-packages/mpl_toolkits: missing __init__\n",
      "/miniconda/envs/ds-py3/lib/python3.6/importlib/_bootstrap_external.py:426: ImportWarning: Not importing directory /miniconda/envs/ds-py3/lib/python3.6/site-packages/mpl_toolkits: missing __init__\n",
      "/miniconda/envs/ds-py3/lib/python3.6/importlib/_bootstrap_external.py:426: ImportWarning: Not importing directory /miniconda/envs/ds-py3/lib/python3.6/site-packages/mpl_toolkits: missing __init__\n",
      "/miniconda/envs/ds-py3/lib/python3.6/importlib/_bootstrap_external.py:426: ImportWarning: Not importing directory /miniconda/envs/ds-py3/lib/python3.6/site-packages/mpl_toolkits: missing __init__\n",
      "/miniconda/envs/ds-py3/lib/python3.6/importlib/_bootstrap_external.py:426: ImportWarning: Not importing directory /miniconda/envs/ds-py3/lib/python3.6/site-packages/mpl_toolkits: missing __init__\n",
      "/miniconda/envs/ds-py3/lib/python3.6/importlib/_bootstrap_external.py:426: ImportWarning: Not importing directory /miniconda/envs/ds-py3/lib/python3.6/site-packages/mpl_toolkits: missing __init__\n",
      "/miniconda/envs/ds-py3/lib/python3.6/importlib/_bootstrap_external.py:426: ImportWarning: Not importing directory /miniconda/envs/ds-py3/lib/python3.6/site-packages/mpl_toolkits: missing __init__\n",
      "/miniconda/envs/ds-py3/lib/python3.6/importlib/_bootstrap_external.py:426: ImportWarning: Not importing directory /miniconda/envs/ds-py3/lib/python3.6/site-packages/mpl_toolkits: missing __init__\n",
      "/miniconda/envs/ds-py3/lib/python3.6/importlib/_bootstrap_external.py:426: ImportWarning: Not importing directory /miniconda/envs/ds-py3/lib/python3.6/site-packages/mpl_toolkits: missing __init__\n",
      "/miniconda/envs/ds-py3/lib/python3.6/importlib/_bootstrap_external.py:426: ImportWarning: Not importing directory /miniconda/envs/ds-py3/lib/python3.6/site-packages/mpl_toolkits: missing __init__\n",
      "/miniconda/envs/ds-py3/lib/python3.6/importlib/_bootstrap_external.py:426: ImportWarning: Not importing directory /miniconda/envs/ds-py3/lib/python3.6/site-packages/mpl_toolkits: missing __init__\n",
      "/miniconda/envs/ds-py3/lib/python3.6/importlib/_bootstrap_external.py:426: ImportWarning: Not importing directory /miniconda/envs/ds-py3/lib/python3.6/site-packages/mpl_toolkits: missing __init__\n",
      "/miniconda/envs/ds-py3/lib/python3.6/importlib/_bootstrap_external.py:426: ImportWarning: Not importing directory /miniconda/envs/ds-py3/lib/python3.6/site-packages/mpl_toolkits: missing __init__\n",
      "/miniconda/envs/ds-py3/lib/python3.6/importlib/_bootstrap_external.py:426: ImportWarning: Not importing directory /miniconda/envs/ds-py3/lib/python3.6/site-packages/mpl_toolkits: missing __init__\n",
      "/miniconda/envs/ds-py3/lib/python3.6/importlib/_bootstrap_external.py:426: ImportWarning: Not importing directory /miniconda/envs/ds-py3/lib/python3.6/site-packages/mpl_toolkits: missing __init__\n",
      "/miniconda/envs/ds-py3/lib/python3.6/importlib/_bootstrap_external.py:426: ImportWarning: Not importing directory /miniconda/envs/ds-py3/lib/python3.6/site-packages/mpl_toolkits: missing __init__\n",
      "/miniconda/envs/ds-py3/lib/python3.6/importlib/_bootstrap_external.py:426: ImportWarning: Not importing directory /miniconda/envs/ds-py3/lib/python3.6/site-packages/mpl_toolkits: missing __init__\n",
      "/miniconda/envs/ds-py3/lib/python3.6/importlib/_bootstrap_external.py:426: ImportWarning: Not importing directory /miniconda/envs/ds-py3/lib/python3.6/site-packages/mpl_toolkits: missing __init__\n",
      "/miniconda/envs/ds-py3/lib/python3.6/importlib/_bootstrap_external.py:426: ImportWarning: Not importing directory /miniconda/envs/ds-py3/lib/python3.6/site-packages/mpl_toolkits: missing __init__\n",
      "/miniconda/envs/ds-py3/lib/python3.6/importlib/_bootstrap_external.py:426: ImportWarning: Not importing directory /miniconda/envs/ds-py3/lib/python3.6/site-packages/mpl_toolkits: missing __init__\n",
      "/miniconda/envs/ds-py3/lib/python3.6/importlib/_bootstrap_external.py:426: ImportWarning: Not importing directory /miniconda/envs/ds-py3/lib/python3.6/site-packages/mpl_toolkits: missing __init__\n",
      "/miniconda/envs/ds-py3/lib/python3.6/importlib/_bootstrap_external.py:426: ImportWarning: Not importing directory /miniconda/envs/ds-py3/lib/python3.6/site-packages/mpl_toolkits: missing __init__\n",
      "/miniconda/envs/ds-py3/lib/python3.6/importlib/_bootstrap_external.py:426: ImportWarning: Not importing directory /miniconda/envs/ds-py3/lib/python3.6/site-packages/mpl_toolkits: missing __init__\n",
      "/miniconda/envs/ds-py3/lib/python3.6/importlib/_bootstrap_external.py:426: ImportWarning: Not importing directory /miniconda/envs/ds-py3/lib/python3.6/site-packages/mpl_toolkits: missing __init__\n",
      "/miniconda/envs/ds-py3/lib/python3.6/importlib/_bootstrap_external.py:426: ImportWarning: Not importing directory /miniconda/envs/ds-py3/lib/python3.6/site-packages/mpl_toolkits: missing __init__\n",
      "/miniconda/envs/ds-py3/lib/python3.6/importlib/_bootstrap_external.py:426: ImportWarning: Not importing directory /miniconda/envs/ds-py3/lib/python3.6/site-packages/mpl_toolkits: missing __init__\n",
      "/miniconda/envs/ds-py3/lib/python3.6/importlib/_bootstrap_external.py:426: ImportWarning: Not importing directory /miniconda/envs/ds-py3/lib/python3.6/site-packages/mpl_toolkits: missing __init__\n",
      "/miniconda/envs/ds-py3/lib/python3.6/importlib/_bootstrap_external.py:426: ImportWarning: Not importing directory /miniconda/envs/ds-py3/lib/python3.6/site-packages/mpl_toolkits: missing __init__\n",
      "/miniconda/envs/ds-py3/lib/python3.6/importlib/_bootstrap_external.py:426: ImportWarning: Not importing directory /miniconda/envs/ds-py3/lib/python3.6/site-packages/mpl_toolkits: missing __init__\n",
      "/miniconda/envs/ds-py3/lib/python3.6/importlib/_bootstrap_external.py:426: ImportWarning: Not importing directory /miniconda/envs/ds-py3/lib/python3.6/site-packages/mpl_toolkits: missing __init__\n",
      "/miniconda/envs/ds-py3/lib/python3.6/importlib/_bootstrap_external.py:426: ImportWarning: Not importing directory /miniconda/envs/ds-py3/lib/python3.6/site-packages/mpl_toolkits: missing __init__\n",
      "/miniconda/envs/ds-py3/lib/python3.6/importlib/_bootstrap_external.py:426: ImportWarning: Not importing directory /miniconda/envs/ds-py3/lib/python3.6/site-packages/mpl_toolkits: missing __init__\n",
      "/miniconda/envs/ds-py3/lib/python3.6/importlib/_bootstrap_external.py:426: ImportWarning: Not importing directory /miniconda/envs/ds-py3/lib/python3.6/site-packages/mpl_toolkits: missing __init__\n",
      "/miniconda/envs/ds-py3/lib/python3.6/importlib/_bootstrap_external.py:426: ImportWarning: Not importing directory /miniconda/envs/ds-py3/lib/python3.6/site-packages/mpl_toolkits: missing __init__\n",
      "/miniconda/envs/ds-py3/lib/python3.6/importlib/_bootstrap_external.py:426: ImportWarning: Not importing directory /miniconda/envs/ds-py3/lib/python3.6/site-packages/mpl_toolkits: missing __init__\n",
      "/miniconda/envs/ds-py3/lib/python3.6/importlib/_bootstrap_external.py:426: ImportWarning: Not importing directory /miniconda/envs/ds-py3/lib/python3.6/site-packages/mpl_toolkits: missing __init__\n",
      "/miniconda/envs/ds-py3/lib/python3.6/site-packages/agate/utils.py:291: DuplicateColumnWarning: Column name \"0\" already exists in Table. Column will be renamed to \"0_2\".\n",
      "/miniconda/envs/ds-py3/lib/python3.6/site-packages/agate/utils.py:291: DuplicateColumnWarning: Column name \"0\" already exists in Table. Column will be renamed to \"0_3\".\n",
      "/miniconda/envs/ds-py3/lib/python3.6/site-packages/agate/utils.py:291: DuplicateColumnWarning: Column name \"0\" already exists in Table. Column will be renamed to \"0_4\".\n",
      "/miniconda/envs/ds-py3/lib/python3.6/site-packages/agate/utils.py:291: DuplicateColumnWarning: Column name \"0\" already exists in Table. Column will be renamed to \"0_5\".\n",
      "/miniconda/envs/ds-py3/lib/python3.6/site-packages/agate/utils.py:291: DuplicateColumnWarning: Column name \"0\" already exists in Table. Column will be renamed to \"0_6\".\n",
      "/miniconda/envs/ds-py3/lib/python3.6/site-packages/agate/utils.py:291: DuplicateColumnWarning: Column name \"0\" already exists in Table. Column will be renamed to \"0_7\".\n",
      "/miniconda/envs/ds-py3/lib/python3.6/site-packages/agate/utils.py:291: DuplicateColumnWarning: Column name \"0\" already exists in Table. Column will be renamed to \"0_8\".\n",
      "/miniconda/envs/ds-py3/lib/python3.6/site-packages/agate/utils.py:291: DuplicateColumnWarning: Column name \"0\" already exists in Table. Column will be renamed to \"0_9\".\n",
      "/miniconda/envs/ds-py3/lib/python3.6/site-packages/agate/utils.py:291: DuplicateColumnWarning: Column name \"0\" already exists in Table. Column will be renamed to \"0_10\".\n",
      "/miniconda/envs/ds-py3/lib/python3.6/site-packages/agate/utils.py:291: DuplicateColumnWarning: Column name \"0\" already exists in Table. Column will be renamed to \"0_11\".\n",
      "/miniconda/envs/ds-py3/lib/python3.6/site-packages/agate/utils.py:291: DuplicateColumnWarning: Column name \"0\" already exists in Table. Column will be renamed to \"0_12\".\n",
      "/miniconda/envs/ds-py3/lib/python3.6/site-packages/agate/utils.py:291: DuplicateColumnWarning: Column name \"0\" already exists in Table. Column will be renamed to \"0_13\".\n",
      "/miniconda/envs/ds-py3/lib/python3.6/site-packages/agate/utils.py:291: DuplicateColumnWarning: Column name \"0\" already exists in Table. Column will be renamed to \"0_14\".\n",
      "/miniconda/envs/ds-py3/lib/python3.6/site-packages/agate/utils.py:291: DuplicateColumnWarning: Column name \"0\" already exists in Table. Column will be renamed to \"0_15\".\n",
      "/miniconda/envs/ds-py3/lib/python3.6/site-packages/agate/utils.py:291: DuplicateColumnWarning: Column name \"0\" already exists in Table. Column will be renamed to \"0_16\".\n",
      "/miniconda/envs/ds-py3/lib/python3.6/site-packages/agate/utils.py:291: DuplicateColumnWarning: Column name \"1\" already exists in Table. Column will be renamed to \"1_2\".\n",
      "/miniconda/envs/ds-py3/lib/python3.6/site-packages/agate/utils.py:291: DuplicateColumnWarning: Column name \"1\" already exists in Table. Column will be renamed to \"1_3\".\n",
      "/miniconda/envs/ds-py3/lib/python3.6/site-packages/agate/utils.py:291: DuplicateColumnWarning: Column name \"0.00\" already exists in Table. Column will be renamed to \"0.00_2\".\n",
      "/miniconda/envs/ds-py3/lib/python3.6/site-packages/agate/utils.py:291: DuplicateColumnWarning: Column name \"0.00\" already exists in Table. Column will be renamed to \"0.00_3\".\n",
      "/miniconda/envs/ds-py3/lib/python3.6/site-packages/agate/utils.py:291: DuplicateColumnWarning: Column name \"0.00\" already exists in Table. Column will be renamed to \"0.00_4\".\n",
      "/miniconda/envs/ds-py3/lib/python3.6/site-packages/agate/utils.py:291: DuplicateColumnWarning: Column name \"0.00\" already exists in Table. Column will be renamed to \"0.00_5\".\n",
      "/miniconda/envs/ds-py3/lib/python3.6/site-packages/agate/utils.py:291: DuplicateColumnWarning: Column name \"0.00\" already exists in Table. Column will be renamed to \"0.00_6\".\n",
      "/miniconda/envs/ds-py3/lib/python3.6/site-packages/agate/utils.py:291: DuplicateColumnWarning: Column name \"0\" already exists in Table. Column will be renamed to \"0_17\".\n",
      "/miniconda/envs/ds-py3/lib/python3.6/site-packages/agate/utils.py:291: DuplicateColumnWarning: Column name \"0\" already exists in Table. Column will be renamed to \"0_18\".\n",
      "/miniconda/envs/ds-py3/lib/python3.6/site-packages/agate/utils.py:291: DuplicateColumnWarning: Column name \"0.00\" already exists in Table. Column will be renamed to \"0.00_7\".\n",
      "/miniconda/envs/ds-py3/lib/python3.6/site-packages/agate/utils.py:291: DuplicateColumnWarning: Column name \"0.00\" already exists in Table. Column will be renamed to \"0.00_8\".\n",
      "/miniconda/envs/ds-py3/lib/python3.6/site-packages/agate/utils.py:291: DuplicateColumnWarning: Column name \"0.00\" already exists in Table. Column will be renamed to \"0.00_9\".\n",
      "/miniconda/envs/ds-py3/lib/python3.6/site-packages/agate/utils.py:291: DuplicateColumnWarning: Column name \"0.00\" already exists in Table. Column will be renamed to \"0.00_10\".\n",
      "/miniconda/envs/ds-py3/lib/python3.6/site-packages/agate/utils.py:291: DuplicateColumnWarning: Column name \"0.00\" already exists in Table. Column will be renamed to \"0.00_11\".\n",
      "/miniconda/envs/ds-py3/lib/python3.6/site-packages/agate/utils.py:291: DuplicateColumnWarning: Column name \"0.00\" already exists in Table. Column will be renamed to \"0.00_12\".\n",
      "/miniconda/envs/ds-py3/lib/python3.6/site-packages/agate/utils.py:291: DuplicateColumnWarning: Column name \"0.00\" already exists in Table. Column will be renamed to \"0.00_13\".\n",
      "/miniconda/envs/ds-py3/lib/python3.6/site-packages/agate/utils.py:291: DuplicateColumnWarning: Column name \"0.00\" already exists in Table. Column will be renamed to \"0.00_14\".\n",
      "(sqlite3.OperationalError) no such table: kdd [SQL: 'SELECT distinct(interaction_type), count(*)                    FROM kdd                    WHERE src_bytes > 1000                    GROUP BY 1                    ORDER BY 2 DESC'] (Background on this error at: http://sqlalche.me/e/e3q8)\n",
      "\n"
     ]
    }
   ],
   "source": [
    "!head -n 1000 kddcup.data \\\n",
    "| csvsql --query \"\"\"SELECT distinct(interaction_type), count(*) \\\n",
    "                   FROM kdd \\\n",
    "                   WHERE src_bytes > 1000 \\\n",
    "                   GROUP BY 1 \\\n",
    "                   ORDER BY 2 DESC\"\"\" \\\n",
    "| csvlook"
   ]
  },
  {
   "cell_type": "code",
   "execution_count": null,
   "metadata": {
    "collapsed": true
   },
   "outputs": [],
   "source": [
    "# Create a table and import data from the CSV directly into Postgres:\n",
    "# to be tested\n",
    "!createdb test\n",
    "!csvsql --db postgresql:///test --table fy09 --insert examples/realdata/FY09_EDU_Recipients_by_State.csv"
   ]
  },
  {
   "cell_type": "code",
   "execution_count": null,
   "metadata": {
    "collapsed": true
   },
   "outputs": [],
   "source": [
    "# Create tables for an entire folder of CSVs and import data from those files directly into Postgres:\n",
    "# to be tested\n",
    "!createdb test\n",
    "!csvsql --db postgresql:///test --insert examples/*.csv"
   ]
  }
 ],
 "metadata": {
  "kernelspec": {
   "display_name": "Python 3",
   "language": "python",
   "name": "python3"
  },
  "language_info": {
   "codemirror_mode": {
    "name": "ipython",
    "version": 3
   },
   "file_extension": ".py",
   "mimetype": "text/x-python",
   "name": "python",
   "nbconvert_exporter": "python",
   "pygments_lexer": "ipython3",
   "version": "3.6.4"
  }
 },
 "nbformat": 4,
 "nbformat_minor": 2
}
