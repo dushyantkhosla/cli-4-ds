{
 "cells": [
  {
   "cell_type": "markdown",
   "metadata": {},
   "source": [
    "# GNU Coreutils\n",
    "\n",
    "---\n",
    "\n",
    "These constitute one of most useful of all [GNU Packages](https://en.wikipedia.org/wiki/List_of_GNU_packages) that are a intergral part of the daily work of millions of programmers/scientists. <br>(Other well known packages include `grep`, `screen`, `gzip`, `tar`, `time` etc. Oh, and the `R` programming language.)\n",
    "\n",
    "> \"_The GNU Core Utilities are the basic file, shell and **text manipulation** utilities of the GNU operating system.These are the core utilities which are expected to **exist on every OS**._\"\n",
    "\n",
    "Examples include\n",
    "\n",
    "|Manipulate|Utils\n",
    "|---|---|\n",
    "|files | `chgrp, chown, chmod, cp, dd, df, dir, du, ln, ls, mkdir, mkfifo, mknod, mv, rm` etc.\n",
    "|text | `cat, cksum, head, tail, md5sum, nl, od, pr, tsort, join, wc, tac, paste` etc.\n",
    "|shell | `basename, chroot, date, dirname, echo, env, groups, hostname, nice, nohup, printf, sleep` etc.\n",
    "\n",
    "\n",
    "---\n",
    "\n",
    "## Getting Help\n",
    "\n",
    "Documentation is built-in, so whenever you can't remember something, look it up using \n",
    "\n",
    "```bash\n",
    "COMMAND --help\n",
    "# or\n",
    "man COMMAND\n",
    "```\n",
    "\n",
    "---\n",
    "\n",
    "## Know your system\n",
    "\n",
    "```bash\n",
    "# -------------------------------------------------------------------\n",
    "# Kernel Info \n",
    "\n",
    "uname -a # all \n",
    "uname -r # exact\n",
    "\n",
    "\n",
    "# -------------------------------------------------------------------\n",
    "# Linux Version\n",
    "\n",
    "lsb_release -a    # all\n",
    "lsb_release -r    # exact\n",
    "lsb_release -a -u # for derived distros like elementary\n",
    "\n",
    "\n",
    "# -------------------------------------------------------------------\n",
    "# HDD Partition Info\n",
    "\n",
    "fdisk -l \n",
    "lsblk -o NAME,SIZE # human readable tree\n",
    "\n",
    "\n",
    "# -------------------------------------------------------------------\n",
    "# LOCALE\n",
    "\n",
    "# List what locales currently defined for the current user \n",
    "locale\n",
    "\n",
    "# if needed, generate missing locale and reconfigure\n",
    "sudo locale-gen \"en_US.UTF-8\"\n",
    "sudo dpkg-reconfigure locales\n",
    "\n",
    "\n",
    "# -------------------------------------------------------------------\n",
    "# ENVIRONMENT VARIABLES\n",
    "\n",
    "env\n",
    "# this will list all active variables\n",
    "\n",
    "EXPORT ENV_VAR=val\n",
    "# will add a new variable to the list\n",
    "\n",
    "\n",
    "# -------------------------------------------------------------------\n",
    "# PATH\n",
    "\n",
    "echo $PATH\n",
    "# will list the programs on the path\n",
    "\n",
    "# add optional binary to the end of the path\n",
    "PATH=$PATH:~/opt/bin\n",
    "\n",
    "# add something ot the beginning\n",
    "PATH=~/opt/bin:$PATH\n",
    "\n",
    "\n",
    "# -------------------------------------------------------------------\n",
    "# The very basics\n",
    "\n",
    "$ mkdir d && cd d\n",
    "\n",
    "\n",
    "\n",
    "\n",
    "```\n",
    "\n",
    "\n",
    "\n",
    "---\n",
    "\n",
    "## Shortcuts\n",
    "\n",
    "| | |\n",
    "| --- | --- |\n",
    "| `Ctrl + U` | Clears the line from the cursor point back to the beginning. |\n",
    "| `Ctrl + A` | Moves the cursor to the beginning of the line. |\n",
    "| `Ctrl + E` | Moves the cursor to the end of the line. |\n",
    "| `Ctrl + R` | Allows you to search through the previous commands |\n",
    "\n",
    "---\n",
    "\n",
    "## Why Coreutils?\n",
    "\n",
    "\n",
    "The basic tenet of UNIX philosophy is to \n",
    "\n",
    ">  _\"create programs (or processes) that do one thing, and do that one thing well.\"_ <br><br>\n",
    "It is a philosophy demanding careful thought about interfaces and ways of _joining these smaller (hopefully more simple) processes together to create useful results_. \n",
    "\n",
    "Normally text data flows between these interfaces. More advanced text processing tools and languages (like perl, python, and ruby) have been developed, which though very capable in their own right, **are not always available, especially in a production environment.**\n",
    "\n",
    "These coreutils therefore become an indespensable tool in the data scientist's toolbox if he wants to build systems that work beyond his laptop.\n",
    "\n",
    "\n",
    "---\n",
    "\n",
    "## Common Util Options\n",
    "\n",
    "- can appear in any order (recommended: `options` before `operands`)\n",
    "- options can be long (begin with `--`) or abbreviated (begin wiht `-`)\n",
    "- available to all programs (eg. `--help`, `--version`) \n",
    "\n",
    "> _Nearly every command invocation yields an integral **exit status** that can be used to change how other commands work. For the vast majority of commands, an exit status of **zero indicates success, nonzero indicates failure**._\n",
    "\n",
    "Alright, enough talk, let's dive in. Like most things on the internet these days, our story begins with a ... \n",
    "\n",
    "---\n",
    "\n",
    "\n",
    "\n",
    "## `cat`, `tac`\n",
    "\n",
    "- Copies file/stdin to file/stdout (careful with large files!!)\n",
    "- Useful in piping text to other programns, and to write output to files"
   ]
  },
  {
   "cell_type": "code",
   "execution_count": 12,
   "metadata": {},
   "outputs": [
    {
     "name": "stdout",
     "output_type": "stream",
     "text": [
      "Usage: cat [OPTION]... [FILE]...\r\n",
      "Concatenate FILE(s) to standard output.\r\n",
      "\r\n",
      "With no FILE, or when FILE is -, read standard input.\r\n",
      "\r\n",
      "  -A, --show-all           equivalent to -vET\r\n",
      "  -b, --number-nonblank    number nonempty output lines, overrides -n\r\n",
      "  -e                       equivalent to -vE\r\n",
      "  -E, --show-ends          display $ at end of each line\r\n",
      "  -n, --number             number all output lines\r\n",
      "  -s, --squeeze-blank      suppress repeated empty output lines\r\n",
      "  -t                       equivalent to -vT\r\n",
      "  -T, --show-tabs          display TAB characters as ^I\r\n",
      "  -u                       (ignored)\r\n",
      "  -v, --show-nonprinting   use ^ and M- notation, except for LFD and TAB\r\n",
      "      --help     display this help and exit\r\n",
      "      --version  output version information and exit\r\n",
      "\r\n",
      "Examples:\r\n",
      "  cat f - g  Output f's contents, then standard input, then g's contents.\r\n",
      "  cat        Copy standard input to standard output.\r\n",
      "\r\n",
      "GNU coreutils online help: <http://www.gnu.org/software/coreutils/>\r\n",
      "Full documentation at: <http://www.gnu.org/software/coreutils/cat>\r\n",
      "or available locally via: info '(coreutils) cat invocation'\r\n"
     ]
    }
   ],
   "source": [
    "!cat --help"
   ]
  },
  {
   "cell_type": "code",
   "execution_count": 13,
   "metadata": {},
   "outputs": [
    {
     "name": "stdout",
     "output_type": "stream",
     "text": [
      "Writing f01.txt\n"
     ]
    }
   ],
   "source": [
    "%%writefile f01.txt\n",
    "1 2 3\n",
    "4 5 6\n",
    "\n",
    "7 8 9\n",
    "\n",
    "\n",
    "10 11 12"
   ]
  },
  {
   "cell_type": "code",
   "execution_count": 15,
   "metadata": {},
   "outputs": [
    {
     "name": "stdout",
     "output_type": "stream",
     "text": [
      "     1\t1 2 3\r\n",
      "     2\t4 5 6\r\n",
      "     3\t\r\n",
      "     4\t7 8 9\r\n",
      "     5\t\r\n",
      "     6\t\r\n",
      "     7\t10 11 12"
     ]
    }
   ],
   "source": [
    "# create an index\n",
    "!cat -n f01.txt"
   ]
  },
  {
   "cell_type": "code",
   "execution_count": 16,
   "metadata": {},
   "outputs": [
    {
     "name": "stdout",
     "output_type": "stream",
     "text": [
      "     1\t1 2 3\r\n",
      "     2\t4 5 6\r\n",
      "\r\n",
      "     3\t7 8 9\r\n",
      "\r\n",
      "\r\n",
      "     4\t10 11 12"
     ]
    }
   ],
   "source": [
    "# create index for nonmissing\n",
    "!cat -b f01.txt"
   ]
  },
  {
   "cell_type": "code",
   "execution_count": 18,
   "metadata": {},
   "outputs": [
    {
     "name": "stdout",
     "output_type": "stream",
     "text": [
      "     1\t1 2 3\r\n",
      "     2\t4 5 6\r\n",
      "\r\n",
      "     3\t7 8 9\r\n",
      "\r\n",
      "     4\t10 11 12"
     ]
    }
   ],
   "source": [
    "# squeeze multiple blank lines to 1\n",
    "!cat -bs f01.txt"
   ]
  },
  {
   "cell_type": "code",
   "execution_count": 25,
   "metadata": {},
   "outputs": [
    {
     "name": "stdout",
     "output_type": "stream",
     "text": [
      "10 11 12\r\n",
      "\r\n",
      "7 8 9\r\n",
      "\r\n",
      "4 5 6\r\n",
      "1 2 3\r\n"
     ]
    }
   ],
   "source": [
    "# reverse rows\n",
    "!tac f01.txt"
   ]
  },
  {
   "cell_type": "markdown",
   "metadata": {},
   "source": [
    "### Append Structured Files with `cat`\n",
    "\n",
    "\n",
    "- Concatenating files (same number of columns in the same order, no headers)\n",
    "\n",
    "```bash\n",
    "cat f1.csv f2.csv f3.csv > f1_f2_f3.csv\n",
    "```\n",
    "- Appending a file to an existing file using the `>>` operator, removing headers from subsequent files\n",
    "\n",
    "```bash\n",
    "cat f1.csv > concatenated.csv\n",
    "cat f2.csv | sed \"1 d\" >> concatenated.csv\n",
    "cat f3.csv | sed \"1 d\" >> concatenated.csv\n",
    "```\n",
    "\n",
    "- Create a new file with the last few records of an existing file\n",
    "\n",
    "```bash\n",
    "head -n 1 foo.csv > new_foo.csv\n",
    "tail -n 9 foo.csv >> new_foo.csv\n",
    "```\n"
   ]
  },
  {
   "cell_type": "code",
   "execution_count": 224,
   "metadata": {},
   "outputs": [
    {
     "name": "stdout",
     "output_type": "stream",
     "text": [
      "10,11\r\n",
      "12,13\r\n",
      "14,15\r\n",
      "16,17\r\n",
      "18,19\r\n",
      "20,21\r\n",
      "80,81\r\n",
      "82,83\r\n",
      "84,85\r\n",
      "86,87\r\n",
      "88,89\r\n"
     ]
    }
   ],
   "source": [
    "# row binding\n",
    "!seq 10 21 | paste -d, - - > f01.txt\n",
    "!seq 80 89 | paste -d, - - > f02.txt`\n",
    "!cat f01.txt f02.txt"
   ]
  },
  {
   "cell_type": "markdown",
   "metadata": {},
   "source": [
    "---\n",
    "\n",
    "## `nl`\n",
    "\n",
    "- add line numbers (generate and *index* like in `pandas`)\n",
    "- see options with `nl --help`\n",
    "  - `-s` to specify delimiter\n",
    "  - `-b` to use regexs \n",
    "\n",
    "```bash\n",
    "# for a csv\n",
    "cat flights.csv | nl -s, | tail\n",
    "\n",
    "# for a pipe-delimited file\n",
    "cat sample_2.txt | nl -s'|' | tail\n",
    "```"
   ]
  },
  {
   "cell_type": "markdown",
   "metadata": {},
   "source": [
    "---\n",
    "\n",
    "## `head`, `tail`\n",
    "\n",
    "- display the first or last `n` rows (`n=10` by default) of a file (or many files)"
   ]
  },
  {
   "cell_type": "code",
   "execution_count": 30,
   "metadata": {},
   "outputs": [
    {
     "name": "stdout",
     "output_type": "stream",
     "text": [
      "Abbrev,Country\r\n",
      "AC,Ascension Island\r\n",
      "AD,Andorra\r\n",
      "AE,United Arab Emirates\r\n",
      "AF,Afghanistan\r\n",
      "AG,Antigua and Barbuda\r\n",
      "AI,Anguilla\r\n",
      "AL,Albania\r\n",
      "AM,Armenia\r\n",
      "AN,Netherlands Antilles\r\n"
     ]
    }
   ],
   "source": [
    "!head ../data/raw/countrynames.csv"
   ]
  },
  {
   "cell_type": "code",
   "execution_count": 31,
   "metadata": {},
   "outputs": [
    {
     "name": "stdout",
     "output_type": "stream",
     "text": [
      "Abbrev,Country\r\n",
      "AC,Ascension Island\r\n",
      "AD,Andorra\r\n"
     ]
    }
   ],
   "source": [
    "!head -n 3 ../data/raw/countrynames.csv"
   ]
  },
  {
   "cell_type": "code",
   "execution_count": 32,
   "metadata": {},
   "outputs": [
    {
     "name": "stdout",
     "output_type": "stream",
     "text": [
      "ZA,South Africa\r\n",
      "ZM,Zambia\r\n",
      "ZW,Zimbabwe\r\n"
     ]
    }
   ],
   "source": [
    "!tail -n 3 ../data/raw/countrynames.csv"
   ]
  },
  {
   "cell_type": "markdown",
   "metadata": {},
   "source": [
    "---\n",
    "\n",
    "## `split`\n",
    "\n",
    "- creates output files containing consecutive or interleaved sections (1000 lines by default) of input\n",
    "- files created are saved in the cd, named as PREFIXSUFFIX\n",
    "    - PREFIX is supplied with the call\n",
    "    - SUFFIX length is supplied (defaults to 2, so generates codes like `xaa, xab, xac` ...)"
   ]
  },
  {
   "cell_type": "code",
   "execution_count": 33,
   "metadata": {},
   "outputs": [
    {
     "name": "stdout",
     "output_type": "stream",
     "text": [
      "Usage: split [OPTION]... [FILE [PREFIX]]\r\n",
      "Output pieces of FILE to PREFIXaa, PREFIXab, ...;\r\n",
      "default size is 1000 lines, and default PREFIX is 'x'.\r\n",
      "\r\n",
      "With no FILE, or when FILE is -, read standard input.\r\n",
      "\r\n",
      "Mandatory arguments to long options are mandatory for short options too.\r\n",
      "  -a, --suffix-length=N   generate suffixes of length N (default 2)\r\n",
      "      --additional-suffix=SUFFIX  append an additional SUFFIX to file names\r\n",
      "  -b, --bytes=SIZE        put SIZE bytes per output file\r\n",
      "  -C, --line-bytes=SIZE   put at most SIZE bytes of records per output file\r\n",
      "  -d                      use numeric suffixes starting at 0, not alphabetic\r\n",
      "      --numeric-suffixes[=FROM]  same as -d, but allow setting the start value\r\n",
      "  -e, --elide-empty-files  do not generate empty output files with '-n'\r\n",
      "      --filter=COMMAND    write to shell COMMAND; file name is $FILE\r\n",
      "  -l, --lines=NUMBER      put NUMBER lines/records per output file\r\n",
      "  -n, --number=CHUNKS     generate CHUNKS output files; see explanation below\r\n",
      "  -t, --separator=SEP     use SEP instead of newline as the record separator;\r\n",
      "                            '\\0' (zero) specifies the NUL character\r\n",
      "  -u, --unbuffered        immediately copy input to output with '-n r/...'\r\n",
      "      --verbose           print a diagnostic just before each\r\n",
      "                            output file is opened\r\n",
      "      --help     display this help and exit\r\n",
      "      --version  output version information and exit\r\n",
      "\r\n",
      "The SIZE argument is an integer and optional unit (example: 10K is 10*1024).\r\n",
      "Units are K,M,G,T,P,E,Z,Y (powers of 1024) or KB,MB,... (powers of 1000).\r\n",
      "\r\n",
      "CHUNKS may be:\r\n",
      "  N       split into N files based on size of input\r\n",
      "  K/N     output Kth of N to stdout\r\n",
      "  l/N     split into N files without splitting lines/records\r\n",
      "  l/K/N   output Kth of N to stdout without splitting lines/records\r\n",
      "  r/N     like 'l' but use round robin distribution\r\n",
      "  r/K/N   likewise but only output Kth of N to stdout\r\n",
      "\r\n",
      "GNU coreutils online help: <http://www.gnu.org/software/coreutils/>\r\n",
      "Full documentation at: <http://www.gnu.org/software/coreutils/split>\r\n",
      "or available locally via: info '(coreutils) split invocation'\r\n"
     ]
    }
   ],
   "source": [
    "!split --help"
   ]
  },
  {
   "cell_type": "code",
   "execution_count": 56,
   "metadata": {
    "collapsed": true
   },
   "outputs": [],
   "source": [
    "ls | grep '^xa'"
   ]
  },
  {
   "cell_type": "code",
   "execution_count": 57,
   "metadata": {
    "collapsed": true
   },
   "outputs": [],
   "source": [
    "!split -n 3 ../data/raw/countrynames.csv"
   ]
  },
  {
   "cell_type": "code",
   "execution_count": 58,
   "metadata": {},
   "outputs": [
    {
     "name": "stdout",
     "output_type": "stream",
     "text": [
      "xaa\r\n",
      "xab\r\n",
      "xac\r\n"
     ]
    }
   ],
   "source": [
    "ls | grep '^xa'"
   ]
  },
  {
   "cell_type": "code",
   "execution_count": 65,
   "metadata": {
    "collapsed": true
   },
   "outputs": [],
   "source": [
    "# provide prefix\n",
    "!split -l 50 ../data/raw/countrynames.csv DK_"
   ]
  },
  {
   "cell_type": "code",
   "execution_count": 66,
   "metadata": {},
   "outputs": [
    {
     "name": "stdout",
     "output_type": "stream",
     "text": [
      "DK_aa\r\n",
      "DK_ab\r\n",
      "DK_ac\r\n",
      "DK_ad\r\n",
      "DK_ae\r\n"
     ]
    }
   ],
   "source": [
    "ls | grep '^DK'"
   ]
  },
  {
   "cell_type": "code",
   "execution_count": 67,
   "metadata": {
    "collapsed": true
   },
   "outputs": [],
   "source": [
    "# provide longer suffix if there are going to be many parts\n",
    "! split -n 5 -a 4 ../data/raw/countrynames.csv Part_"
   ]
  },
  {
   "cell_type": "code",
   "execution_count": 68,
   "metadata": {},
   "outputs": [
    {
     "name": "stdout",
     "output_type": "stream",
     "text": [
      "Part_aaaa\r\n",
      "Part_aaab\r\n",
      "Part_aaac\r\n",
      "Part_aaad\r\n",
      "Part_aaae\r\n"
     ]
    }
   ],
   "source": [
    "ls | grep '^Part_'"
   ]
  },
  {
   "cell_type": "code",
   "execution_count": 69,
   "metadata": {
    "collapsed": true
   },
   "outputs": [],
   "source": [
    "# Cleaning up\n",
    "!ls | grep '^DK' | xargs rm\n",
    "!ls | grep '^Part_' | xargs rm \n",
    "!ls | grep '^xa' | xargs rm"
   ]
  },
  {
   "cell_type": "markdown",
   "metadata": {},
   "source": [
    "### `csplit`\n",
    "\n",
    "- for _copy-till-you-see-this_ kind of splits"
   ]
  },
  {
   "cell_type": "code",
   "execution_count": 71,
   "metadata": {},
   "outputs": [
    {
     "name": "stdout",
     "output_type": "stream",
     "text": [
      "Usage: csplit [OPTION]... FILE PATTERN...\r\n",
      "Output pieces of FILE separated by PATTERN(s) to files 'xx00', 'xx01', ...,\r\n",
      "and output byte counts of each piece to standard output.\r\n",
      "\r\n",
      "Read standard input if FILE is -\r\n",
      "\r\n",
      "Mandatory arguments to long options are mandatory for short options too.\r\n",
      "  -b, --suffix-format=FORMAT  use sprintf FORMAT instead of %02d\r\n",
      "  -f, --prefix=PREFIX        use PREFIX instead of 'xx'\r\n",
      "  -k, --keep-files           do not remove output files on errors\r\n",
      "      --suppress-matched     suppress the lines matching PATTERN\r\n",
      "  -n, --digits=DIGITS        use specified number of digits instead of 2\r\n",
      "  -s, --quiet, --silent      do not print counts of output file sizes\r\n",
      "  -z, --elide-empty-files    remove empty output files\r\n",
      "      --help     display this help and exit\r\n",
      "      --version  output version information and exit\r\n",
      "\r\n",
      "Each PATTERN may be:\r\n",
      "  INTEGER            copy up to but not including specified line number\r\n",
      "  /REGEXP/[OFFSET]   copy up to but not including a matching line\r\n",
      "  %REGEXP%[OFFSET]   skip to, but not including a matching line\r\n",
      "  {INTEGER}          repeat the previous pattern specified number of times\r\n",
      "  {*}                repeat the previous pattern as many times as possible\r\n",
      "\r\n",
      "A line OFFSET is a required '+' or '-' followed by a positive integer.\r\n",
      "\r\n",
      "GNU coreutils online help: <http://www.gnu.org/software/coreutils/>\r\n",
      "Full documentation at: <http://www.gnu.org/software/coreutils/csplit>\r\n",
      "or available locally via: info '(coreutils) csplit invocation'\r\n"
     ]
    }
   ],
   "source": [
    "!csplit --help"
   ]
  },
  {
   "cell_type": "markdown",
   "metadata": {},
   "source": [
    "---\n",
    "\n",
    "## `wc`\n",
    "\n",
    "- counts the Number of bytes, characters, whitespace-separated words, and newlines"
   ]
  },
  {
   "cell_type": "code",
   "execution_count": 72,
   "metadata": {},
   "outputs": [
    {
     "name": "stdout",
     "output_type": "stream",
     "text": [
      "Usage: wc [OPTION]... [FILE]...\r\n",
      "  or:  wc [OPTION]... --files0-from=F\r\n",
      "Print newline, word, and byte counts for each FILE, and a total line if\r\n",
      "more than one FILE is specified.  A word is a non-zero-length sequence of\r\n",
      "characters delimited by white space.\r\n",
      "\r\n",
      "With no FILE, or when FILE is -, read standard input.\r\n",
      "\r\n",
      "The options below may be used to select which counts are printed, always in\r\n",
      "the following order: newline, word, character, byte, maximum line length.\r\n",
      "  -c, --bytes            print the byte counts\r\n",
      "  -m, --chars            print the character counts\r\n",
      "  -l, --lines            print the newline counts\r\n",
      "      --files0-from=F    read input from the files specified by\r\n",
      "                           NUL-terminated names in file F;\r\n",
      "                           If F is - then read names from standard input\r\n",
      "  -L, --max-line-length  print the maximum display width\r\n",
      "  -w, --words            print the word counts\r\n",
      "      --help     display this help and exit\r\n",
      "      --version  output version information and exit\r\n",
      "\r\n",
      "GNU coreutils online help: <http://www.gnu.org/software/coreutils/>\r\n",
      "Full documentation at: <http://www.gnu.org/software/coreutils/wc>\r\n",
      "or available locally via: info '(coreutils) wc invocation'\r\n"
     ]
    }
   ],
   "source": [
    "!wc --help"
   ]
  },
  {
   "cell_type": "code",
   "execution_count": 74,
   "metadata": {},
   "outputs": [
    {
     "name": "stdout",
     "output_type": "stream",
     "text": [
      "241 ../data/raw/countrynames.csv\r\n"
     ]
    }
   ],
   "source": [
    "# count and filename\n",
    "!wc -l ../data/raw/countrynames.csv"
   ]
  },
  {
   "cell_type": "code",
   "execution_count": 75,
   "metadata": {},
   "outputs": [
    {
     "name": "stdout",
     "output_type": "stream",
     "text": [
      "241\r\n"
     ]
    }
   ],
   "source": [
    "# count only\n",
    "!cat ../data/raw/countrynames.csv | wc -l"
   ]
  },
  {
   "cell_type": "code",
   "execution_count": 77,
   "metadata": {},
   "outputs": [
    {
     "name": "stdout",
     "output_type": "stream",
     "text": [
      "  11 fp2.csv\r\n",
      "   4 fp3.csv\r\n",
      "   1 kddnames.csv\r\n",
      "   0 temp1.csv\r\n",
      "  16 total\r\n"
     ]
    }
   ],
   "source": [
    "# count rows in all files of given type in the working directory\n",
    "!ls | grep '.csv$' | xargs wc -l"
   ]
  },
  {
   "cell_type": "markdown",
   "metadata": {},
   "source": [
    "---\n",
    "\n",
    "## `cut`\n",
    "\n",
    "- select columns by position (comma separated list or hyphenated ranges)\n",
    "\n",
    "\n",
    "```bash\n",
    "OPTIONS\n",
    "\n",
    "-d, --delimiter=DELIM   use DELIM instead of TAB for field delimiter\n",
    "-f, --fields=LIST       select only these fields\n",
    "-s, --only-delimited    do not print lines not containing delimiters\n",
    "    --output-delimiter=STRING  use STRING as the output delimiter\n",
    "```        "
   ]
  },
  {
   "cell_type": "code",
   "execution_count": 193,
   "metadata": {},
   "outputs": [
    {
     "name": "stdout",
     "output_type": "stream",
     "text": [
      "|-----------+---------------+---------+------+-----------+-----------+-------------------|\r\n",
      "|  duration | protocol_type | service | flag | src_bytes | dst_bytes | interaction_type  |\r\n",
      "|-----------+---------------+---------+------+-----------+-----------+-------------------|\r\n",
      "|  0        | tcp           | http    | SF   | 215       | 45076     | normal.           |\r\n",
      "|  0        | tcp           | http    | SF   | 162       | 4528      | normal.           |\r\n",
      "|  0        | tcp           | http    | SF   | 236       | 1228      | normal.           |\r\n",
      "|  0        | tcp           | http    | SF   | 233       | 2032      | normal.           |\r\n",
      "|-----------+---------------+---------+------+-----------+-----------+-------------------|\r\n"
     ]
    }
   ],
   "source": [
    "!head -n 5 ../data/raw/kdd.csv | cut -d, -f1-6,42 | csvlook"
   ]
  },
  {
   "cell_type": "code",
   "execution_count": 194,
   "metadata": {},
   "outputs": [
    {
     "name": "stdout",
     "output_type": "stream",
     "text": [
      "|----------------+-----------+----------+----------+--------+-------|\r\n",
      "|  UniqueCarrier | FlightNum | ArrDelay | DepDelay | Origin | Dest  |\r\n",
      "|----------------+-----------+----------+----------+--------+-------|\r\n",
      "|  WN            | 2891      | 1        | 7        | SMF    | ONT   |\r\n",
      "|  WN            | 462       | 8        | 13       | SMF    | PDX   |\r\n",
      "|  WN            | 1229      | 34       | 36       | SMF    | PDX   |\r\n",
      "|  WN            | 1355      | 26       | 30       | SMF    | PDX   |\r\n",
      "|----------------+-----------+----------+----------+--------+-------|\r\n"
     ]
    }
   ],
   "source": [
    "!head -n 5 ../data/raw/flights.csv | cut -d, -f9-10,15-18 | csvlook"
   ]
  },
  {
   "cell_type": "markdown",
   "metadata": {},
   "source": [
    "---\n",
    "\n",
    "## `sort`\n",
    "\n",
    "`sort` is quite versatile, and can be used to sort, sort & merge, randomize, and, deduplicate files.\n",
    "\n",
    "\n",
    "- Useful `sort` options <br>\n",
    "    - case insensitive with `-f`\n",
    "    - numbers with `-n`\n",
    "    - descending order with `-r`\n",
    "    - if lines have leading blanks `-b`\n",
    "    - sort by values in column 5 .... `-k5` (use `-t` for delimiter here)\n",
    "    - sort in random order with `-R`\n",
    "    - merge (sorted) multiple files with `-m`\n",
    "    - remove dups with `-u`\n",
    "    \n",
    "> Note <br> when using `-k` the syntax is `-km,n` where `m` is the starting key and `n` is the ending key. <br> If the sorting is on the 5th field alone (for ex.), we speciy `-k5,5`  <br><br> Environment variables such as LC_ALL, LC_COLLATE, or LANG can affect the output of sort and other commands. \n",
    "\n",
    "**Example**<br> To sort a csv file numerically on the 2nd field in reverse order we'd use\n",
    "\n",
    "```bash\n",
    "sort -t\",\" -k2nr,2 file\n",
    "```\n",
    "\n",
    "More examples [here](https://www.gnu.org/software/coreutils/manual/coreutils.html#Operating-on-sorted-files)\n",
    "\n",
    "### Sorting Large Files\n",
    "\n",
    "> _The sort that you find on Linux comes from the coreutils package and implements an External R-Way merge. It splits up the data into chunks that it can handle in memory, stores them on disc and then merges them. The chunks are done in parallel, if the machine has the processors for that. So if there was to be a limit, it is the free disc space that sort can use to store the temporary files it has to merge, combined with the result._\n",
    "[source](https://unix.stackexchange.com/questions/279096/scalability-of-sort-u-for-gigantic-files)"
   ]
  },
  {
   "cell_type": "code",
   "execution_count": 106,
   "metadata": {
    "scrolled": true
   },
   "outputs": [
    {
     "name": "stdout",
     "output_type": "stream",
     "text": [
      "Usage: sort [OPTION]... [FILE]...\r\n",
      "  or:  sort [OPTION]... --files0-from=F\r\n",
      "Write sorted concatenation of all FILE(s) to standard output.\r\n",
      "\r\n",
      "With no FILE, or when FILE is -, read standard input.\r\n",
      "\r\n",
      "Mandatory arguments to long options are mandatory for short options too.\r\n",
      "Ordering options:\r\n",
      "\r\n",
      "  -b, --ignore-leading-blanks  ignore leading blanks\r\n",
      "  -d, --dictionary-order      consider only blanks and alphanumeric characters\r\n",
      "  -f, --ignore-case           fold lower case to upper case characters\r\n",
      "  -g, --general-numeric-sort  compare according to general numerical value\r\n",
      "  -i, --ignore-nonprinting    consider only printable characters\r\n",
      "  -M, --month-sort            compare (unknown) < 'JAN' < ... < 'DEC'\r\n",
      "  -h, --human-numeric-sort    compare human readable numbers (e.g., 2K 1G)\r\n",
      "  -n, --numeric-sort          compare according to string numerical value\r\n",
      "  -R, --random-sort           shuffle, but group identical keys.  See shuf(1)\r\n",
      "      --random-source=FILE    get random bytes from FILE\r\n",
      "  -r, --reverse               reverse the result of comparisons\r\n",
      "      --sort=WORD             sort according to WORD:\r\n",
      "                                general-numeric -g, human-numeric -h, month -M,\r\n",
      "                                numeric -n, random -R, version -V\r\n",
      "  -V, --version-sort          natural sort of (version) numbers within text\r\n",
      "\r\n",
      "Other options:\r\n",
      "\r\n",
      "      --batch-size=NMERGE   merge at most NMERGE inputs at once;\r\n",
      "                            for more use temp files\r\n",
      "  -c, --check, --check=diagnose-first  check for sorted input; do not sort\r\n",
      "  -C, --check=quiet, --check=silent  like -c, but do not report first bad line\r\n",
      "      --compress-program=PROG  compress temporaries with PROG;\r\n",
      "                              decompress them with PROG -d\r\n",
      "      --debug               annotate the part of the line used to sort,\r\n",
      "                              and warn about questionable usage to stderr\r\n",
      "      --files0-from=F       read input from the files specified by\r\n",
      "                            NUL-terminated names in file F;\r\n",
      "                            If F is - then read names from standard input\r\n",
      "  -k, --key=KEYDEF          sort via a key; KEYDEF gives location and type\r\n",
      "  -m, --merge               merge already sorted files; do not sort\r\n",
      "  -o, --output=FILE         write result to FILE instead of standard output\r\n",
      "  -s, --stable              stabilize sort by disabling last-resort comparison\r\n",
      "  -S, --buffer-size=SIZE    use SIZE for main memory buffer\r\n",
      "  -t, --field-separator=SEP  use SEP instead of non-blank to blank transition\r\n",
      "  -T, --temporary-directory=DIR  use DIR for temporaries, not $TMPDIR or /tmp;\r\n",
      "                              multiple options specify multiple directories\r\n",
      "      --parallel=N          change the number of sorts run concurrently to N\r\n",
      "  -u, --unique              with -c, check for strict ordering;\r\n",
      "                              without -c, output only the first of an equal run\r\n",
      "  -z, --zero-terminated     line delimiter is NUL, not newline\r\n",
      "      --help     display this help and exit\r\n",
      "      --version  output version information and exit\r\n",
      "\r\n",
      "KEYDEF is F[.C][OPTS][,F[.C][OPTS]] for start and stop position, where F is a\r\n",
      "field number and C a character position in the field; both are origin 1, and\r\n",
      "the stop position defaults to the line's end.  If neither -t nor -b is in\r\n",
      "effect, characters in a field are counted from the beginning of the preceding\r\n",
      "whitespace.  OPTS is one or more single-letter ordering options [bdfgiMhnRrV],\r\n",
      "which override global ordering options for that key.  If no key is given, use\r\n",
      "the entire line as the key.  Use --debug to diagnose incorrect key usage.\r\n",
      "\r\n",
      "SIZE may be followed by the following multiplicative suffixes:\r\n",
      "% 1% of memory, b 1, K 1024 (default), and so on for M, G, T, P, E, Z, Y.\r\n",
      "\r\n",
      "*** WARNING ***\r\n",
      "The locale specified by the environment affects sort order.\r\n",
      "Set LC_ALL=C to get the traditional sort order that uses\r\n",
      "native byte values.\r\n",
      "\r\n",
      "GNU coreutils online help: <http://www.gnu.org/software/coreutils/>\r\n",
      "Full documentation at: <http://www.gnu.org/software/coreutils/sort>\r\n",
      "or available locally via: info '(coreutils) sort invocation'\r\n"
     ]
    }
   ],
   "source": [
    "!sort --help"
   ]
  },
  {
   "cell_type": "code",
   "execution_count": 114,
   "metadata": {},
   "outputs": [
    {
     "name": "stdout",
     "output_type": "stream",
     "text": [
      "-rw-rw-r-- 1 dk dk 9.5G May 16 10:52 NYC__311Requests.csv\r\n",
      "-rw-rw-r-- 1 dk dk 1.4G May 16 10:51 Crimes_Chicago.csv\r\n",
      "-rw-rw-r-- 1 dk dk 709M May 16 18:59 kdd.csv\r\n",
      "-rw------- 1 dk dk 671M May 16 23:10 flights.csv\r\n",
      "-rw------- 1 dk dk 671M May 16 10:51 Flight_Delays.csv\r\n",
      "-rw-rw-r-- 1 dk dk 511M May 16 15:42 fromPandas.csv\r\n",
      "-rw-rw-r-- 1 dk dk 145M May 16 10:52 worldcitiespop.csv\r\n",
      "-rw-rw-r-- 1 dk dk  28M May 16 18:49 millionSongsSample.csv\r\n",
      "-rw-rw-r-- 1 dk dk 3.6K May 16 10:51 countrynames.csv\r\n",
      "-rw-rw-r-- 1 dk dk  532 May 16 23:45 fromPandas_02.csv\r\n",
      "-rw-rw-r-- 1 dk dk  523 May 16 23:45 fromPandas_01.csv\r\n",
      "-rw-rw-r-- 1 dk dk   57 May 16 10:51 het-bool.csv\r\n"
     ]
    }
   ],
   "source": [
    "# sort listing of all files in a directory by their size (human-readable)\n",
    "!ls -lh ../data/raw/ | grep csv | sort -k5,5 -h -r"
   ]
  },
  {
   "cell_type": "code",
   "execution_count": 112,
   "metadata": {},
   "outputs": [
    {
     "name": "stdout",
     "output_type": "stream",
     "text": [
      "58329,udp,domain_u,SF,42,44\n",
      "42908,tcp,private,RSTR,1,0\n",
      "42888,tcp,private,RSTR,1,0\n",
      "42862,tcp,private,RSTR,1,0\n",
      "42837,tcp,private,RSTR,1,0\n",
      "42804,tcp,private,RSTR,1,0\n",
      "42778,tcp,private,RSTR,1,0\n",
      "42746,tcp,echo,RSTR,1,0\n",
      "42723,tcp,private,RSTR,1,0\n",
      "42699,tcp,discard,RSTR,1,0\n",
      "cut: write error: Broken pipe\n"
     ]
    }
   ],
   "source": [
    "# top 10 durations in the kdd data\n",
    "# Note\n",
    "# sed '1d' removes the header\n",
    "# cut is for retaining the first few columns\n",
    "!cat ../data/raw/kdd.csv | sed '1d' | sort -nr -k1,1 | cut -d, -f1-6 | head"
   ]
  },
  {
   "cell_type": "markdown",
   "metadata": {},
   "source": [
    "> `sort` has a `-u` flag that removes duplicate rows so a sorted listing of unique rows is produced.<br><br> **Note** <br>The commands sort -u and sort | uniq are equivalent, but this equivalence does not extend to arbitrary sort options. For example, sort -n -u inspects only the value of the initial numeric string when checking for uniqueness, whereas sort -n | uniq inspects the entire line. \n",
    "\n",
    "\n",
    "\n",
    "---\n",
    "\n",
    "## `shuf`\n",
    "\n",
    "- useful for **permutations** and **random sampling**\n",
    "- with or without **replacement** (_bootstrapped_ samples, anyone?)"
   ]
  },
  {
   "cell_type": "code",
   "execution_count": 115,
   "metadata": {},
   "outputs": [
    {
     "name": "stdout",
     "output_type": "stream",
     "text": [
      "Usage: shuf [OPTION]... [FILE]\r\n",
      "  or:  shuf -e [OPTION]... [ARG]...\r\n",
      "  or:  shuf -i LO-HI [OPTION]...\r\n",
      "Write a random permutation of the input lines to standard output.\r\n",
      "\r\n",
      "With no FILE, or when FILE is -, read standard input.\r\n",
      "\r\n",
      "Mandatory arguments to long options are mandatory for short options too.\r\n",
      "  -e, --echo                treat each ARG as an input line\r\n",
      "  -i, --input-range=LO-HI   treat each number LO through HI as an input line\r\n",
      "  -n, --head-count=COUNT    output at most COUNT lines\r\n",
      "  -o, --output=FILE         write result to FILE instead of standard output\r\n",
      "      --random-source=FILE  get random bytes from FILE\r\n",
      "  -r, --repeat              output lines can be repeated\r\n",
      "  -z, --zero-terminated     line delimiter is NUL, not newline\r\n",
      "      --help     display this help and exit\r\n",
      "      --version  output version information and exit\r\n",
      "\r\n",
      "GNU coreutils online help: <http://www.gnu.org/software/coreutils/>\r\n",
      "Full documentation at: <http://www.gnu.org/software/coreutils/shuf>\r\n",
      "or available locally via: info '(coreutils) shuf invocation'\r\n"
     ]
    }
   ],
   "source": [
    "!shuf --help"
   ]
  },
  {
   "cell_type": "code",
   "execution_count": 121,
   "metadata": {},
   "outputs": [
    {
     "name": "stdout",
     "output_type": "stream",
     "text": [
      "8\r\n",
      "9\r\n",
      "1\r\n",
      "2\r\n",
      "7\r\n"
     ]
    }
   ],
   "source": [
    "# without replacement\n",
    "!shuf -i1-9 -n 5"
   ]
  },
  {
   "cell_type": "code",
   "execution_count": 140,
   "metadata": {},
   "outputs": [
    {
     "name": "stdout",
     "output_type": "stream",
     "text": [
      "1\r\n",
      "1\r\n",
      "1\r\n",
      "1\r\n",
      "0\r\n",
      "1\r\n",
      "1\r\n",
      "0\r\n",
      "0\r\n",
      "1\r\n"
     ]
    }
   ],
   "source": [
    "# Simulate a coin flip (with replacement)\n",
    "!shuf -i0-1 -r -n 10  "
   ]
  },
  {
   "cell_type": "code",
   "execution_count": 131,
   "metadata": {
    "scrolled": true
   },
   "outputs": [
    {
     "name": "stdout",
     "output_type": "stream",
     "text": [
      "0,icmp,ecr_i,SF,1032,0\r\n",
      "0,icmp,ecr_i,SF,1032,0\r\n",
      "0,tcp,private,REJ,0,0\r\n",
      "0,icmp,ecr_i,SF,1032,0\r\n",
      "0,icmp,ecr_i,SF,1032,0\r\n"
     ]
    }
   ],
   "source": [
    "# random sample from a file\n",
    "!cat ../data/raw/kdd.csv | cut -d, -f1-6 | sed '1d' | shuf -n 5"
   ]
  },
  {
   "cell_type": "markdown",
   "metadata": {},
   "source": [
    "---\n",
    "\n",
    "## `uniq`"
   ]
  },
  {
   "cell_type": "markdown",
   "metadata": {},
   "source": [
    "- typically used to uniquely list lines from an input source\n",
    "- find/remove duplicate rows in a file\n",
    "- frequency tables\n",
    "\n",
    "\n",
    "```bash\n",
    "OPTIONS\n",
    "\n",
    "-u, --unique          only print unique lines\n",
    "-c, --count           prefix lines by the number of occurrences\n",
    "-d, --repeated        only print duplicate lines, one for each group\n",
    "\n",
    "-D                    print all duplicate lines\n",
    "    --all-repeated[=METHOD]  like -D, but allow separating groups with an empty line;\n",
    "                             METHOD={none(default),prepend,separate}\n",
    "```        \n",
    "\n",
    "> To operate properly, duplicate lines must be contiguously positioned in the input. \n",
    "<br> So, normally the **input** to the `uniq` command **is first sorted.**"
   ]
  },
  {
   "cell_type": "code",
   "execution_count": 143,
   "metadata": {},
   "outputs": [
    {
     "name": "stdout",
     "output_type": "stream",
     "text": [
      "198175\r\n"
     ]
    }
   ],
   "source": [
    "# number of uniuqe rows for columns 1-6, 42 in the kdd data\n",
    "!cat ../data/raw/kdd.csv | sed '1d' | cut -d, -f1-6,42 | sort | uniq -u | wc -l"
   ]
  },
  {
   "cell_type": "code",
   "execution_count": 146,
   "metadata": {},
   "outputs": [
    {
     "name": "stdout",
     "output_type": "stream",
     "text": [
      "aol,REJ,0,0,satan.\n",
      "auth,REJ,0,0,neptune.\n",
      "auth,REJ,0,0,normal.\n",
      "auth,REJ,0,0,portsweep.\n",
      "auth,RSTO,0,0,normal.\n",
      "auth,RSTR,0,0,portsweep.\n",
      "auth,S0,0,0,neptune.\n",
      "auth,SF,10,35,normal.\n",
      "auth,SF,10,35,satan.\n",
      "auth,SF,10,36,normal.\n",
      "uniq: write error: Broken pipe\n"
     ]
    }
   ],
   "source": [
    "# these rows have duplicates\n",
    "!cat ../data/raw/kdd.csv | sed '1d' | cut -d, -f3-6,42 | sort | uniq -d | head"
   ]
  },
  {
   "cell_type": "code",
   "execution_count": 148,
   "metadata": {},
   "outputs": [
    {
     "name": "stdout",
     "output_type": "stream",
     "text": [
      "2807886 smurf.\r\n",
      "1072017 neptune.\r\n",
      " 972781 normal.\r\n",
      "  15892 satan.\r\n",
      "  12481 ipsweep.\r\n"
     ]
    }
   ],
   "source": [
    "# frequency table\n",
    "!cat ../data/raw/kdd.csv | sed '1d' | cut -d, -f42 | sort | uniq -c | sort -nr | head -n 5"
   ]
  },
  {
   "cell_type": "code",
   "execution_count": 154,
   "metadata": {},
   "outputs": [
    {
     "name": "stdout",
     "output_type": "stream",
     "text": [
      "   9658 WN,HOU,DAL\n",
      "   9631 WN,DAL,HOU\n",
      "   7496 WN,LAX,OAK\n",
      "   7467 WN,OAK,LAX\n",
      "   7339 HA,OGG,HNL\n",
      "   6977 HA,HNL,OGG\n",
      "   6906 WN,SAN,OAK\n",
      "   6892 WN,OAK,SAN\n",
      "   6645 WN,PHX,LAS\n",
      "   6618 OO,SAN,LAX\n",
      "sort: write failed: 'standard output': Broken pipe\n",
      "sort: write error\n"
     ]
    }
   ],
   "source": [
    "# most number of flights?\n",
    "!cat ../data/raw/flights.csv | sed '1d' | cut -d, -f9,17-18 | sort | uniq -c | sort -nr | head"
   ]
  },
  {
   "cell_type": "markdown",
   "metadata": {},
   "source": [
    "---\n",
    "\n",
    "## `comm`\n",
    "\n",
    "- for comparing sorted files FILE1 and FILE2 line by line.\n",
    "- With no options, produce three-column output.  \n",
    "    - Column one contains lines unique to FILE1, \n",
    "    - column two contains lines unique to FILE2,\n",
    "    - and column three contains lines common to both files.\n",
    "\n",
    "```bash \n",
    "OPTIONS\n",
    "\n",
    "  -1              suppress column 1 (lines unique to FILE1)\n",
    "  -2              suppress column 2 (lines unique to FILE2)\n",
    "  -3              suppress column 3 (lines that appear in both files)\n",
    "  \n",
    "EXAMPLES\n",
    "\n",
    "comm -12 file1 file2  \n",
    "# Print only lines present in both file1 and file2.\n",
    "\n",
    "comm -3 file1 file2  \n",
    "# Print lines in file1 not in file2, and vice versa.    \n",
    "```"
   ]
  },
  {
   "cell_type": "code",
   "execution_count": 180,
   "metadata": {
    "collapsed": true
   },
   "outputs": [],
   "source": [
    "# pull a random sample of 10k rows\n",
    "!shuf -n 10000 ../data/raw/kdd.csv | sort > kdd_10k.csv"
   ]
  },
  {
   "cell_type": "code",
   "execution_count": 181,
   "metadata": {
    "collapsed": true
   },
   "outputs": [],
   "source": [
    "# keep the first 7.5k rows as the train set\n",
    "!head -n 7500 kdd_10k.csv | sort > kdd_10k_train.csv"
   ]
  },
  {
   "cell_type": "code",
   "execution_count": 182,
   "metadata": {
    "collapsed": true
   },
   "outputs": [],
   "source": [
    "# keep the other 2.5k as the test set\n",
    "!comm -3 kdd_10k.csv kdd_10k_train.csv | sort > kdd_10k_test.csv"
   ]
  },
  {
   "cell_type": "code",
   "execution_count": 183,
   "metadata": {},
   "outputs": [
    {
     "name": "stdout",
     "output_type": "stream",
     "text": [
      "  10000 kdd_10k.csv\r\n",
      "   2500 kdd_10k_test.csv\r\n",
      "   7500 kdd_10k_train.csv\r\n",
      "  20000 total\r\n"
     ]
    }
   ],
   "source": [
    "# check no. of rows\n",
    "ls | grep '_10k' | xargs wc -l"
   ]
  },
  {
   "cell_type": "code",
   "execution_count": null,
   "metadata": {
    "collapsed": true
   },
   "outputs": [],
   "source": [
    "# see if we made a mistake\n",
    "!comm -12 kdd_10k_train.csv kdd_10k_test.csv | wc -l"
   ]
  },
  {
   "cell_type": "code",
   "execution_count": 187,
   "metadata": {
    "collapsed": true
   },
   "outputs": [],
   "source": [
    "# delete created files\n",
    "!ls | grep '_10k' | xargs rm"
   ]
  },
  {
   "cell_type": "markdown",
   "metadata": {},
   "source": [
    "---\n",
    "\n",
    "## `paste`\n",
    "\n",
    "- naive, brute force long-to-wide!\n",
    "- concat files (column binding)"
   ]
  },
  {
   "cell_type": "code",
   "execution_count": 195,
   "metadata": {},
   "outputs": [
    {
     "name": "stdout",
     "output_type": "stream",
     "text": [
      "Usage: paste [OPTION]... [FILE]...\r\n",
      "Write lines consisting of the sequentially corresponding lines from\r\n",
      "each FILE, separated by TABs, to standard output.\r\n",
      "\r\n",
      "With no FILE, or when FILE is -, read standard input.\r\n",
      "\r\n",
      "Mandatory arguments to long options are mandatory for short options too.\r\n",
      "  -d, --delimiters=LIST   reuse characters from LIST instead of TABs\r\n",
      "  -s, --serial            paste one file at a time instead of in parallel\r\n",
      "  -z, --zero-terminated    line delimiter is NUL, not newline\r\n",
      "      --help     display this help and exit\r\n",
      "      --version  output version information and exit\r\n",
      "\r\n",
      "GNU coreutils online help: <http://www.gnu.org/software/coreutils/>\r\n",
      "Full documentation at: <http://www.gnu.org/software/coreutils/paste>\r\n",
      "or available locally via: info '(coreutils) paste invocation'\r\n"
     ]
    }
   ],
   "source": [
    "!paste --help"
   ]
  },
  {
   "cell_type": "code",
   "execution_count": 5,
   "metadata": {},
   "outputs": [
    {
     "name": "stdout",
     "output_type": "stream",
     "text": [
      "72   26   91   78   73\r\n",
      "50   44   65   52   12\r\n",
      "1    80   60   75   97\r\n",
      "37   5    67   77   86\r\n",
      "41   33   15   59   45\r\n"
     ]
    }
   ],
   "source": [
    "# join consecutive lines into a csv\n",
    "!shuf -i0-99 -rn 25 | paste -d, - - - - - | csvtk pretty"
   ]
  },
  {
   "cell_type": "code",
   "execution_count": 207,
   "metadata": {},
   "outputs": [
    {
     "name": "stdout",
     "output_type": "stream",
     "text": [
      "1,2:3,4:5,6\r\n",
      "7,8:9,10:11,12\r\n"
     ]
    }
   ],
   "source": [
    "# fold data any which way\n",
    "!seq 12 | paste -d, - - | paste -d':' - - -"
   ]
  },
  {
   "cell_type": "code",
   "execution_count": 226,
   "metadata": {},
   "outputs": [
    {
     "name": "stdout",
     "output_type": "stream",
     "text": [
      "10,11,80,81\r\n",
      "12,13,82,83\r\n",
      "14,15,84,85\r\n",
      "16,17,86,87\r\n",
      "18,19,88,89\r\n",
      "20,21,\r\n"
     ]
    }
   ],
   "source": [
    "# column binding!\n",
    "!seq 10 21 | paste -d, - - > f01.txt\n",
    "!seq 80 89 | paste -d, - - > f02.txt\n",
    "!paste -d, f01.txt f02.txt"
   ]
  },
  {
   "cell_type": "code",
   "execution_count": 227,
   "metadata": {},
   "outputs": [
    {
     "name": "stdout",
     "output_type": "stream",
     "text": [
      "10,11,12,13,14,15,16,17,18,19,20,21\r\n",
      "80,81,82,83,84,85,86,87,88,89\r\n"
     ]
    }
   ],
   "source": [
    "!paste -d, -s f01.txt f02.txt"
   ]
  },
  {
   "cell_type": "code",
   "execution_count": 231,
   "metadata": {
    "collapsed": true
   },
   "outputs": [],
   "source": [
    "!rm f01.txt f02.txt"
   ]
  },
  {
   "cell_type": "markdown",
   "metadata": {},
   "source": [
    "---\n",
    "\n",
    "## ``"
   ]
  },
  {
   "cell_type": "code",
   "execution_count": null,
   "metadata": {
    "collapsed": true
   },
   "outputs": [],
   "source": []
  },
  {
   "cell_type": "code",
   "execution_count": null,
   "metadata": {
    "collapsed": true
   },
   "outputs": [],
   "source": []
  },
  {
   "cell_type": "code",
   "execution_count": 1,
   "metadata": {},
   "outputs": [
    {
     "name": "stdout",
     "output_type": "stream",
     "text": [
      "total 33636MB\r\n",
      "-rw-rw-r-- 1 dk dk     1MB May 16 10:51 countrynames.csv\r\n",
      "-rw-rw-r-- 1 dk dk  1490MB May 16 10:51 Crimes_Chicago.csv\r\n",
      "-rw-r--r-- 1 dk dk 13908MB May 16 10:58 \u001b[0m\u001b[01;31mEN_WikipediaDump.xml.bz2\u001b[0m\r\n",
      "-rw------- 1 dk dk   703MB May 16 10:51 Flight_Delays.csv\r\n",
      "-rw------- 1 dk dk   703MB May 16 23:10 flights.csv\r\n",
      "-rw-rw-r-- 1 dk dk     1MB May 16 23:45 fromPandas_01.csv\r\n",
      "-rw-rw-r-- 1 dk dk     1MB May 16 23:45 fromPandas_02.csv\r\n",
      "-rw-rw-r-- 1 dk dk   536MB May 16 15:42 fromPandas.csv\r\n",
      "-rw-r--r-- 1 dk dk    48MB May 16 10:51 Fun__Item.txt\r\n",
      "-rw-r--r-- 1 dk dk  4127MB May 16 10:52 Fun__Sales.txt\r\n",
      "-rw-rw-r-- 1 dk dk     1MB May 16 10:51 het-bool.csv\r\n",
      "-rw-rw-r-- 1 dk dk   743MB May 16 18:59 kdd.csv\r\n",
      "-rw-rw-r-- 1 dk dk   743MB May 16 10:51 kddcup.data.corrected\r\n",
      "-rw-rw-r-- 1 dk dk     1MB May 16 10:51 kddcup.names.txt\r\n",
      "drwxrwxr-x 5 dk dk     4MB May 16 17:55 \u001b[01;34mmillionSongs\u001b[0m/\r\n",
      "-rw-rw-r-- 1 dk dk    29MB May 16 18:49 millionSongsSample.csv\r\n",
      "-rw-r--r-- 1 dk dk    14MB May 16 10:51 MusicXMatch__Test.txt\r\n",
      "-rw-r--r-- 1 dk dk   103MB May 16 10:51 MusicXMatch__Train.txt\r\n",
      "-rw-rw-r-- 1 dk dk 10137MB May 16 10:52 NYC__311Requests.csv\r\n",
      "-rw-r--r-- 1 dk dk   201MB May 16 10:52 Stock_Export.txt\r\n",
      "-rw-rw-r-- 1 dk dk   152MB May 16 10:52 worldcitiespop.csv\r\n"
     ]
    }
   ],
   "source": [
    "ls -l --block-size=MB ../data/raw/"
   ]
  },
  {
   "cell_type": "markdown",
   "metadata": {},
   "source": [
    "---\n",
    "\n",
    "# Also see"
   ]
  },
  {
   "cell_type": "markdown",
   "metadata": {},
   "source": [
    "The **tee command** copies standard input to standard output and also to any files given as arguments. This is useful when you want not only to send some data down a pipe, but also to save a copy."
   ]
  },
  {
   "cell_type": "markdown",
   "metadata": {},
   "source": [
    "[numfmt](https://www.gnu.org/software/coreutils/manual/html_node/numfmt-invocation.html#numfmt-invocation)\n",
    "\n",
    "- numfmt reads numbers in various representations and reformats them as requested\n",
    "-  numfmt can optionally extract numbers from specific columns, maintaining proper line padding and alignment."
   ]
  },
  {
   "cell_type": "code",
   "execution_count": null,
   "metadata": {
    "collapsed": true
   },
   "outputs": [],
   "source": []
  },
  {
   "cell_type": "code",
   "execution_count": null,
   "metadata": {
    "collapsed": true
   },
   "outputs": [],
   "source": []
  },
  {
   "cell_type": "code",
   "execution_count": null,
   "metadata": {
    "collapsed": true
   },
   "outputs": [],
   "source": []
  },
  {
   "cell_type": "code",
   "execution_count": null,
   "metadata": {
    "collapsed": true
   },
   "outputs": [],
   "source": []
  },
  {
   "cell_type": "code",
   "execution_count": null,
   "metadata": {
    "collapsed": true
   },
   "outputs": [],
   "source": []
  },
  {
   "cell_type": "code",
   "execution_count": null,
   "metadata": {
    "collapsed": true
   },
   "outputs": [],
   "source": []
  },
  {
   "cell_type": "code",
   "execution_count": null,
   "metadata": {
    "collapsed": true
   },
   "outputs": [],
   "source": []
  },
  {
   "cell_type": "markdown",
   "metadata": {},
   "source": [
    "\n",
    "### Looping over files in Bash\n",
    "\n",
    "```bash\n",
    "for f in *; \n",
    "do  \n",
    "# do something, for example\n",
    "# wc -l \"$f\"\n",
    "; \n",
    "done\n",
    "```"
   ]
  },
  {
   "cell_type": "code",
   "execution_count": null,
   "metadata": {
    "collapsed": true
   },
   "outputs": [],
   "source": []
  },
  {
   "cell_type": "markdown",
   "metadata": {},
   "source": [
    "## Count the number of lines in each file"
   ]
  },
  {
   "cell_type": "code",
   "execution_count": 5,
   "metadata": {},
   "outputs": [
    {
     "name": "stdout",
     "output_type": "stream",
     "text": [
      "  11 fp2.csv\r\n",
      "   4 fp3.csv\r\n",
      "   1 kddnames.csv\r\n",
      "  16 total\r\n"
     ]
    }
   ],
   "source": [
    "!ls | grep '.csv' | xargs wc -l "
   ]
  },
  {
   "cell_type": "code",
   "execution_count": null,
   "metadata": {
    "collapsed": true
   },
   "outputs": [],
   "source": []
  },
  {
   "cell_type": "markdown",
   "metadata": {},
   "source": [
    "## Formatting floating point numbers"
   ]
  },
  {
   "cell_type": "code",
   "execution_count": 183,
   "metadata": {},
   "outputs": [
    {
     "name": "stdout",
     "output_type": "stream",
     "text": [
      "17.3224                  20.9600  9.9800   7.3424\r\n",
      "43.38017000000000000000  52.4900  35.8600  7.5202\r\n",
      "6.60331000000000000000   7.9900   5.2100   1.3934\r\n",
      "24.78512000000000000000  29.9900  12.2300  12.5552\r\n",
      "12.38843000000000000000  14.9900  6.3400   6.0485\r\n",
      ".94340000000000000000    1.0000   0.4800   0.4634\r\n",
      "2.22314000000000000000   2.6900   0.9400   1.2832\r\n",
      "10.70248000000000000000  12.9500  5.6000   5.1025\r\n",
      "3.29752000000000000000   3.9900   0.9300   2.3676\r\n"
     ]
    }
   ],
   "source": [
    "!head Sales.txt  | sed '1d' | cut -d'|' -f12-15 | tr ',' '.' | xargs -d'|' numfmt --format=\"%0.4f\" | xargs -n4 | tr ' ' ',' | xsv table"
   ]
  },
  {
   "cell_type": "code",
   "execution_count": null,
   "metadata": {
    "collapsed": true
   },
   "outputs": [],
   "source": []
  },
  {
   "cell_type": "markdown",
   "metadata": {},
   "source": [
    "\n",
    "## Python Program to work by-line on a csv\n",
    "\n",
    "- create a script file"
   ]
  },
  {
   "cell_type": "code",
   "execution_count": 185,
   "metadata": {
    "collapsed": true
   },
   "outputs": [],
   "source": [
    "!touch script01.py"
   ]
  },
  {
   "cell_type": "markdown",
   "metadata": {},
   "source": [
    "- Paste this inside the script\n",
    "\n",
    "```python\n",
    "    #!/home/dk/anaconda2/bin/python\n",
    "    from sys import stdin, stdout\n",
    "    while True:\n",
    "        line = stdin.readline()\n",
    "        if not line:\n",
    "                break\n",
    "        stdout.write(','.join([str(round(float(x), 2)) for x in line.split(',')]) + '\\n')\n",
    "```        "
   ]
  },
  {
   "cell_type": "markdown",
   "metadata": {},
   "source": [
    "- make it executable"
   ]
  },
  {
   "cell_type": "code",
   "execution_count": null,
   "metadata": {
    "collapsed": true
   },
   "outputs": [],
   "source": [
    "chmod u+x script01.py"
   ]
  },
  {
   "cell_type": "markdown",
   "metadata": {},
   "source": [
    "- use it on a csv"
   ]
  },
  {
   "cell_type": "code",
   "execution_count": 6,
   "metadata": {
    "collapsed": true
   },
   "outputs": [],
   "source": [
    "import subprocess32 as sp"
   ]
  },
  {
   "cell_type": "code",
   "execution_count": 8,
   "metadata": {},
   "outputs": [
    {
     "name": "stdout",
     "output_type": "stream",
     "text": [
      "total 3656\n",
      "-rw-rw-r-- 1 dk dk 279340 May 17 23:48 Clean_&_Filter__FlatFiles.html\n",
      "-rw-rw-r-- 1 dk dk  13735 May 17 23:48 Clean_&_Filter__FlatFiles.ipynb\n",
      "-rw-rw-r-- 1 dk dk   3217 May 17 23:48 Clean_&_Filter__FlatFiles.py\n",
      "-rw-rw-r-- 1 dk dk 294087 May 17 00:20 csvkit.html\n",
      "-rw-rw-r-- 1 dk dk  39252 May 17 00:20 csvkit.ipynb\n",
      "-rw-rw-r-- 1 dk dk   9474 May 17 00:20 csvkit.py\n",
      "-rw-rw-r-- 1 dk dk 591840 May 16 17:17 csvtk.ipynb\n",
      "-rw-rw-r-- 1 dk dk 318211 May 17 23:48 datamash.html\n",
      "-rw-rw-r-- 1 dk dk  58490 May 17 23:48 datamash.ipynb\n",
      "-rw-rw-r-- 1 dk dk   8478 May 17 23:48 datamash.py\n",
      "-rw-rw-r-- 1 dk dk    477 May 17 15:13 fp2.csv\n",
      "-rw-rw-r-- 1 dk dk     70 May 17 23:28 fp3.csv\n",
      "-rw-rw-r-- 1 dk dk    523 May 17 01:26 fromPandas_01.txt\n",
      "-rw-rw-r-- 1 dk dk 256250 May 16 19:01 kddcupdata.html\n",
      "-rw-rw-r-- 1 dk dk    718 May 16 19:01 kddcupdata.py\n",
      "-rw-rw-r-- 1 dk dk    622 May 16 18:57 kddnames.csv\n",
      "-rw-rw-r-- 1 dk dk 338558 May 17 15:18 miller.html\n",
      "-rw-rw-r-- 1 dk dk  79944 May 17 15:18 miller.ipynb\n",
      "-rw-rw-r-- 1 dk dk  21086 May 17 15:18 miller.py\n",
      "drwxrwxr-x 3 dk dk   4096 May 16 22:42 millionSongs\n",
      "-rw-rw-r-- 1 dk dk   6517 May 15 11:34 Python__Working_with_FilesLargerThanRAM.ipynb\n",
      "-rw-rw-r-- 1 dk dk 261202 May 17 15:18 q_textql.html\n",
      "-rw-rw-r-- 1 dk dk   9140 May 17 15:18 q_textql.ipynb\n",
      "-rw-rw-r-- 1 dk dk 261206 May 17 00:20 q_textql_kdd.html\n",
      "-rw-rw-r-- 1 dk dk   2425 May 17 00:20 q_textql_kdd.py\n",
      "-rw-rw-r-- 1 dk dk   2425 May 17 15:18 q_textql.py\n",
      "-rw-rw-r-- 1 dk dk 254545 May 16 18:45 textql_and_q.html\n",
      "-rw-rw-r-- 1 dk dk   1762 May 16 18:44 textql_and_q.py\n",
      "-rw-rw-r-- 1 dk dk 248851 May 17 00:41 Untitled.html\n",
      "-rw-rw-r-- 1 dk dk      0 May 17 00:41 Untitled.txt\n",
      "-rw-rw-r-- 1 dk dk 277848 May 17 23:47 xsv.html\n",
      "-rw-rw-r-- 1 dk dk  24183 May 17 23:47 xsv.ipynb\n",
      "-rw-rw-r-- 1 dk dk   6791 May 17 23:47 xsv.py\n",
      "\n"
     ]
    }
   ],
   "source": [
    "print sp.check_output(['ls', '-l'])"
   ]
  },
  {
   "cell_type": "code",
   "execution_count": 9,
   "metadata": {
    "collapsed": true
   },
   "outputs": [],
   "source": [
    "x = !ls -l"
   ]
  },
  {
   "cell_type": "code",
   "execution_count": 10,
   "metadata": {
    "collapsed": true
   },
   "outputs": [],
   "source": [
    "x = !csvcut -n flights.csv "
   ]
  }
 ],
 "metadata": {
  "kernelspec": {
   "display_name": "Python 2",
   "language": "python",
   "name": "python2"
  },
  "language_info": {
   "codemirror_mode": {
    "name": "ipython",
    "version": 2
   },
   "file_extension": ".py",
   "mimetype": "text/x-python",
   "name": "python",
   "nbconvert_exporter": "python",
   "pygments_lexer": "ipython2",
   "version": "2.7.13"
  }
 },
 "nbformat": 4,
 "nbformat_minor": 2
}
