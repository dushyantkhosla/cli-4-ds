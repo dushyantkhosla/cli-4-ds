{
 "cells": [
  {
   "cell_type": "code",
   "execution_count": 2,
   "metadata": {},
   "outputs": [],
   "source": [
    "import os\n",
    "os.chdir(\"/home/data\")"
   ]
  },
  {
   "cell_type": "code",
   "execution_count": 11,
   "metadata": {},
   "outputs": [
    {
     "name": "stdout",
     "output_type": "stream",
     "text": [
      "  1: Year\n",
      "  2: Month\n",
      "  3: DayofMonth\n",
      "  4: DayOfWeek\n",
      "  5: DepTime\n",
      "  6: CRSDepTime\n",
      "  7: ArrTime\n",
      "  8: CRSArrTime\n",
      "  9: UniqueCarrier\n",
      " 10: FlightNum\n",
      " 11: TailNum\n",
      " 12: ActualElapsedTime\n",
      " 13: CRSElapsedTime\n",
      " 14: AirTime\n",
      " 15: ArrDelay\n",
      " 16: DepDelay\n",
      " 17: Origin\n",
      " 18: Dest\n",
      " 19: Distance\n",
      " 20: TaxiIn\n",
      " 21: TaxiOut\n",
      " 22: Cancelled\n",
      " 23: CancellationCode\n",
      " 24: Diverted\n",
      " 25: CarrierDelay\n",
      " 26: WeatherDelay\n",
      " 27: NASDelay\n",
      " 28: SecurityDelay\n",
      " 29: LateAircraftDelay\n"
     ]
    }
   ],
   "source": [
    "!csvcut -n flights.csv"
   ]
  },
  {
   "cell_type": "code",
   "execution_count": 63,
   "metadata": {},
   "outputs": [
    {
     "name": "stdout",
     "output_type": "stream",
     "text": [
      "29\tWN\t2891\t1\n",
      "29\tWN\t462\t8\n",
      "29\tWN\t1229\t34\n",
      "29\tWN\t1355\t26\n",
      "29\tWN\t2278\t-3\n",
      "29\tWN\t2386\t3\n",
      "29\tWN\t409\t47\n",
      "29\tWN\t1131\t-2\n",
      "29\tWN\t1212\t44\n",
      "29\tWN\t2456\t-7\n"
     ]
    }
   ],
   "source": [
    "!head -n 1000 flights.csv | awk 'BEGIN { FS=\",\"; OFS=\"\\t\"; } NR>1 {print $9,$10,$15}' | head"
   ]
  },
  {
   "cell_type": "code",
   "execution_count": null,
   "metadata": {},
   "outputs": [],
   "source": []
  }
 ],
 "metadata": {
  "kernelspec": {
   "display_name": "Python 3",
   "language": "python",
   "name": "python3"
  },
  "language_info": {
   "codemirror_mode": {
    "name": "ipython",
    "version": 3
   },
   "file_extension": ".py",
   "mimetype": "text/x-python",
   "name": "python",
   "nbconvert_exporter": "python",
   "pygments_lexer": "ipython3",
   "version": "3.6.4"
  }
 },
 "nbformat": 4,
 "nbformat_minor": 2
}
