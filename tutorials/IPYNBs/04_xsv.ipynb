{
 "cells": [
  {
   "cell_type": "markdown",
   "metadata": {},
   "source": [
    "# **`xsv`** \n",
    "\n",
    "- *A fast CSV toolkit written in Rust.* [repo](https://github.com/BurntSushi/xsv)\n",
    "\n",
    "## Commands\n",
    "\n",
    "    cat         Concatenate by row or column\n",
    "    count       Count records\n",
    "    fixlengths  Makes all records have same length\n",
    "    flatten     Show one field per line\n",
    "    fmt         Format CSV output (change field delimiter)\n",
    "    frequency   Show frequency tables\n",
    "    headers     Show header names\n",
    "    help        Show this usage message.\n",
    "    index       Create CSV index for faster access\n",
    "    input       Read CSV data with special quoting rules\n",
    "    join        Join CSV files\n",
    "    sample      Randomly sample CSV data\n",
    "    search      Search CSV data with regexes\n",
    "    select      Select columns from CSV\n",
    "    slice       Slice records from CSV\n",
    "    sort        Sort CSV data\n",
    "    split       Split CSV data into many files\n",
    "    stats       Compute basic statistics\n",
    "    table       Align CSV data into columns\n",
    "\n",
    "\n",
    "\n",
    "## Install\n",
    "\n",
    "```bash\n",
    "# run\n",
    "wget https://goo.gl/iZMmzX\n",
    "# or download the tar file from 'https://github.com/BurntSushi/xsv/releases/latest'\n",
    "\n",
    "# untar\n",
    "tar -xzvf xsv-0.11.0-x86_64-unknown-linux-musl.tar.gz\n",
    "\n",
    "# move the executable to the binaries folder\n",
    "mv xsv /usr/bin/xsv\n",
    "\n",
    "# run from anywhere\n",
    "```"
   ]
  },
  {
   "cell_type": "code",
   "execution_count": 113,
   "metadata": {},
   "outputs": [
    {
     "name": "stdout",
     "output_type": "stream",
     "text": [
      "Year  Month  DayofMonth  DayOfWeek  DepTime  CRSDepTime  ArrTime  CRSArrTime  UniqueCarrier  FlightNum\r\n",
      "2007  1      1           1          1232     1225        1341     1340        WN             2891\r\n",
      "2007  1      1           1          1918     1905        2043     2035        WN             462\r\n",
      "2007  1      1           1          2206     2130        2334     2300        WN             1229\r\n",
      "2007  1      1           1          1230     1200        1356     1330        WN             1355\r\n",
      "2007  1      1           1          831      830         957      1000        WN             2278\r\n",
      "2007  1      1           1          1430     1420        1553     1550        WN             2386\r\n",
      "2007  1      1           1          1936     1840        2217     2130        WN             409\r\n",
      "2007  1      1           1          944      935         1223     1225        WN             1131\r\n",
      "2007  1      1           1          1537     1450        1819     1735        WN             1212\r\n"
     ]
    }
   ],
   "source": [
    "### 0. View formatted\n",
    "!head -n 10 flights.csv | cut -d, -f1-10 | xsv table"
   ]
  },
  {
   "cell_type": "code",
   "execution_count": 121,
   "metadata": {},
   "outputs": [
    {
     "name": "stdout",
     "output_type": "stream",
     "text": [
      "7453215\r\n"
     ]
    }
   ],
   "source": [
    "### 1. Count Rows (MUCH faster than `wc -l`, uses more CPU, excludes header)\n",
    "!xsv count flights.csv"
   ]
  },
  {
   "cell_type": "code",
   "execution_count": 114,
   "metadata": {},
   "outputs": [
    {
     "data": {
      "text/plain": [
       "['Year',\n",
       " 'Month',\n",
       " 'DayofMonth',\n",
       " 'DayOfWeek',\n",
       " 'DepTime',\n",
       " 'CRSDepTime',\n",
       " 'ArrTime',\n",
       " 'CRSArrTime',\n",
       " 'UniqueCarrier',\n",
       " 'FlightNum',\n",
       " 'TailNum',\n",
       " 'ActualElapsedTime',\n",
       " 'CRSElapsedTime',\n",
       " 'AirTime',\n",
       " 'ArrDelay',\n",
       " 'DepDelay',\n",
       " 'Origin',\n",
       " 'Dest',\n",
       " 'Distance',\n",
       " 'TaxiIn',\n",
       " 'TaxiOut',\n",
       " 'Cancelled',\n",
       " 'CancellationCode',\n",
       " 'Diverted',\n",
       " 'CarrierDelay',\n",
       " 'WeatherDelay',\n",
       " 'NASDelay',\n",
       " 'SecurityDelay',\n",
       " 'LateAircraftDelay']"
      ]
     },
     "execution_count": 114,
     "metadata": {},
     "output_type": "execute_result"
    }
   ],
   "source": [
    "### 2. Get Column names\n",
    "cols = !xsv headers flights.csv\n",
    "[x.split(' ')[-1] for x in cols]"
   ]
  },
  {
   "cell_type": "code",
   "execution_count": 125,
   "metadata": {},
   "outputs": [
    {
     "name": "stdout",
     "output_type": "stream",
     "text": [
      "|--------+------------+---------------+-----------+--------+-------|\r\n",
      "|  Month | DayofMonth | UniqueCarrier | FlightNum | Origin | Dest  |\r\n",
      "|--------+------------+---------------+-----------+--------+-------|\r\n",
      "|  1     | 1          | WN            | 2891      | SMF    | ONT   |\r\n",
      "|  1     | 1          | WN            | 462       | SMF    | PDX   |\r\n",
      "|  1     | 1          | WN            | 1229      | SMF    | PDX   |\r\n",
      "|  1     | 1          | WN            | 1355      | SMF    | PDX   |\r\n",
      "|  1     | 1          | WN            | 2278      | SMF    | PDX   |\r\n",
      "|  1     | 1          | WN            | 2386      | SMF    | PDX   |\r\n",
      "|  1     | 1          | WN            | 409       | SMF    | PHX   |\r\n",
      "|  1     | 1          | WN            | 1131      | SMF    | PHX   |\r\n",
      "|  1     | 1          | WN            | 1212      | SMF    | PHX   |\r\n",
      "|--------+------------+---------------+-----------+--------+-------|\r\n"
     ]
    }
   ],
   "source": [
    "### 5. Subset Columns\n",
    "!xsv select Month,DayofMonth,UniqueCarrier,FlightNum,Origin,Dest flights.csv | head | csvlook"
   ]
  },
  {
   "cell_type": "code",
   "execution_count": 118,
   "metadata": {},
   "outputs": [
    {
     "name": "stdout",
     "output_type": "stream",
     "text": [
      "flights.csv.idx\r\n"
     ]
    }
   ],
   "source": [
    "### 3. Create an index\n",
    "!xsv index flights.csv\n",
    "!ls *.idx"
   ]
  },
  {
   "cell_type": "code",
   "execution_count": 129,
   "metadata": {},
   "outputs": [
    {
     "name": "stdout",
     "output_type": "stream",
     "text": [
      "|--------------------+---------+-------+--------+--------+-----------------------+---------------------+-------|\r\n",
      "|  field             | type    | min   | median | max    | mean                  | stddev              | mode  |\r\n",
      "|--------------------+---------+-------+--------+--------+-----------------------+---------------------+-------|\r\n",
      "|  Year              | Integer | 2007  | 2007   | 2007   | 2007                  | 0                   | 2007  |\r\n",
      "|  Month             | Integer | 1     | 7      | 12     | 6.514876197721434     | 3.425117169491096   | 8     |\r\n",
      "|  DayofMonth        | Integer | 1     | 16     | 31     | 15.72588876075652     | 8.781153183533013   | 26    |\r\n",
      "|  DayOfWeek         | Integer | 1     | 4      | 7      | 3.9338042710427263    | 1.9922668348832397  | 1     |\r\n",
      "|  DepTime           | Unicode | 1     | 1255   | NA     |                       |                     | NA    |\r\n",
      "|  CRSDepTime        | Integer | 0     | 1322   | 2359   | 1330.5963490923104    | 464.70792314976785  | 600   |\r\n",
      "|  ArrTime           | Unicode | 1     | 1430   | NA     |                       |                     | NA    |\r\n",
      "|  CRSArrTime        | Integer | 0     | 1520   | 2400   | 1495.391906714091     | 481.59020392608437  | 1930  |\r\n",
      "|  UniqueCarrier     | Unicode | 9E    |        | YV     |                       |                     | WN    |\r\n",
      "|  FlightNum         | Integer | 1     | 1509   | 9602   | 2188.0992893670827    | 1971.9575313097869  | 16    |\r\n",
      "|  TailNum           | Unicode | 0     |        | NHZOAL |                       |                     | 0     |\r\n",
      "|  ActualElapsedTime | Unicode | 100   | 115    | NA     |                       |                     | NA    |\r\n",
      "|  CRSElapsedTime    | Unicode | -1240 | 100    | NA     |                       |                     | 75    |\r\n",
      "|  AirTime           | Unicode | 0     | 94     | NA     |                       |                     | NA    |\r\n",
      "|  ArrDelay          | Unicode | -1    | -2     | NA     |                       |                     | -5    |\r\n",
      "|  DepDelay          | Unicode | -1    | 1      | NA     |                       |                     | 0     |\r\n",
      "|  Origin            | Unicode | ABE   |        | YUM    |                       |                     | ATL   |\r\n",
      "|  Dest              | Unicode | ABE   |        | YUM    |                       |                     | ATL   |\r\n",
      "|  Distance          | Integer | 11    | 569    | 4962   | 719.805789045388      | 562.3050870976227   | 337   |\r\n",
      "|  TaxiIn            | Integer | 0     | 5      | 545    | 6.6919844657641026    | 5.151350775045749   | 4     |\r\n",
      "|  TaxiOut           | Integer | 0     | 14     | 530    | 16.300146178528344    | 11.833958552477231  | 10    |\r\n",
      "|  Cancelled         | Integer | 0     | 0      | 1      | 0.021567605389083436  | 0.14526680208108242 | 0     |\r\n",
      "|  CancellationCode  | Unicode | A     |        | D      |                       |                     |       |\r\n",
      "|  Diverted          | Integer | 0     | 0      | 1      | 0.0023049113704622683 | 0.04795413177231553 | 0     |\r\n",
      "|  CarrierDelay      | Integer | 0     | 0      | 2580   | 3.865235874719842     | 20.842403385965035  | 0     |\r\n",
      "|  WeatherDelay      | Integer | 0     | 0      | 1429   | 0.7700903569801583    | 9.619546393361475   | 0     |\r\n",
      "|  NASDelay          | Integer | 0     | 0      | 1386   | 3.783702200996463     | 16.176702958825693  | 0     |\r\n",
      "|  SecurityDelay     | Integer | 0     | 0      | 382    | 0.023735528895919497  | 1.084995425472959   | 0     |\r\n",
      "|  LateAircraftDelay | Integer | 0     | 0      | 1031   | 5.099133997878817     | 21.277529347496895  | 0     |\r\n",
      "|--------------------+---------+-------+--------+--------+-----------------------+---------------------+-------|\r\n"
     ]
    }
   ],
   "source": [
    "### 4. Get Summary Stats (MUCH faster than `csvstat`)\n",
    "!xsv stats flights.csv --everything | \\\n",
    "xsv select field,type,min,median,max,mean,stddev,mode | \\\n",
    "csvlook"
   ]
  },
  {
   "cell_type": "code",
   "execution_count": null,
   "metadata": {
    "collapsed": true
   },
   "outputs": [],
   "source": []
  },
  {
   "cell_type": "markdown",
   "metadata": {},
   "source": [
    "---\n",
    "\n",
    "### Random Sampling\n",
    "\n",
    "- Randomly samples CSV data uniformly using memory proportional to the size of the sample.\n",
    "- **When an index is present**, this command will use random indexing if the sample size is less than 10% of the total number of records. \n",
    "    - This allows for efficient sampling such that the entire CSV file is not parsed.\n",
    "- Allows a user to work with **a CSV data set that is too big to fit into memory** (for example, for use with commands like `xsv frequency` or `xsv stats`). \n",
    "\n",
    "Usage:\n",
    "\n",
    "    xsv sample [options] <sample-size> [<input>]\n",
    "    xsv sample --help\n",
    "\n"
   ]
  },
  {
   "cell_type": "code",
   "execution_count": 126,
   "metadata": {},
   "outputs": [
    {
     "name": "stdout",
     "output_type": "stream",
     "text": [
      "|--------+------------+---------------+-----------+--------+-------|\r\n",
      "|  Month | DayofMonth | UniqueCarrier | FlightNum | Origin | Dest  |\r\n",
      "|--------+------------+---------------+-----------+--------+-------|\r\n",
      "|  1     | 21         | OH            | 5315      | CVG    | PIT   |\r\n",
      "|  5     | 17         | WN            | 629       | LAS    | SMF   |\r\n",
      "|  3     | 27         | WN            | 962       | LAX    | TUS   |\r\n",
      "|  8     | 15         | FL            | 44        | SFO    | ATL   |\r\n",
      "|  11    | 4          | AQ            | 45        | ITO    | HNL   |\r\n",
      "|  1     | 31         | WN            | 57        | DAL    | HOU   |\r\n",
      "|  9     | 4          | OO            | 3790      | MSP    | ATL   |\r\n",
      "|  9     | 18         | AA            | 1411      | BOS    | ORD   |\r\n",
      "|  2     | 18         | OO            | 5766      | PDX    | RDM   |\r\n",
      "|  1     | 18         | OO            | 3873      | SLC    | MFR   |\r\n",
      "|--------+------------+---------------+-----------+--------+-------|\r\n"
     ]
    }
   ],
   "source": [
    "!xsv select Month,DayofMonth,UniqueCarrier,FlightNum,Origin,Dest flights.csv | xsv sample 10 | csvlook"
   ]
  },
  {
   "cell_type": "markdown",
   "metadata": {},
   "source": [
    "---\n",
    "\n",
    "### Frequency Tables\n",
    "\n",
    "- Computes a frequency table on CSV data formatted as `field,value,count` \n",
    "- The order and number of values can be tweaked with `--asc` and `--limit` respectively.\n",
    "- memory proportional to the cardinality of each column is required.\n",
    "\n",
    "Usage:\n",
    "\n",
    "    xsv frequency [options] [<input>]\n",
    "\n",
    "Options:\n",
    "\n",
    "    -s, --select <arg>     Select a subset of columns to compute frequencies\n",
    "    -l, --limit <arg>      Limit the frequency table to the N most common items. [default: 10]\n",
    "    -a, --asc              Sort the frequency tables in ascending order by count. [default: descending]\n",
    "    --no-nulls             Don't include NULLs in the frequency table."
   ]
  },
  {
   "cell_type": "code",
   "execution_count": 134,
   "metadata": {},
   "outputs": [
    {
     "name": "stdout",
     "output_type": "stream",
     "text": [
      "|-------------+-------+----------|\r\n",
      "|  field      | value | count    |\r\n",
      "|-------------+-------+----------|\r\n",
      "|  Year       | 2007  | 7453215  |\r\n",
      "|  Month      | 8     | 653279   |\r\n",
      "|  Month      | 7     | 648560   |\r\n",
      "|  Month      | 3     | 639209   |\r\n",
      "|  Month      | 5     | 631609   |\r\n",
      "|  Month      | 10    | 629992   |\r\n",
      "|  DayofMonth | 26    | 250136   |\r\n",
      "|  DayofMonth | 19    | 250092   |\r\n",
      "|  DayofMonth | 12    | 249773   |\r\n",
      "|  DayofMonth | 16    | 249034   |\r\n",
      "|  DayofMonth | 9     | 248415   |\r\n",
      "|  DayOfWeek  | 1     | 1112474  |\r\n",
      "|  DayOfWeek  | 5     | 1101689  |\r\n",
      "|  DayOfWeek  | 4     | 1097738  |\r\n",
      "|-------------+-------+----------|\r\n"
     ]
    }
   ],
   "source": [
    "# For all columns\n",
    "!xsv frequency flights.csv --limit 5 | head -n 15 | csvlook"
   ]
  },
  {
   "cell_type": "code",
   "execution_count": 135,
   "metadata": {},
   "outputs": [
    {
     "name": "stdout",
     "output_type": "stream",
     "text": [
      "|---------+-------+---------|\r\n",
      "|  field  | value | count   |\r\n",
      "|---------+-------+---------|\r\n",
      "|  Origin | ATL   | 413851  |\r\n",
      "|  Origin | ORD   | 375784  |\r\n",
      "|  Origin | DFW   | 297345  |\r\n",
      "|  Origin | DEN   | 240928  |\r\n",
      "|  Origin | LAX   | 237597  |\r\n",
      "|---------+-------+---------|\r\n"
     ]
    }
   ],
   "source": [
    "# For particular column(s)\n",
    "!xsv frequency --select Origin --limit 5 flights.csv | csvlook"
   ]
  },
  {
   "cell_type": "markdown",
   "metadata": {},
   "source": [
    "---\n",
    "\n",
    "### Filter rows\n",
    "\n",
    "Filters CSV data by whether the given regex matches a row.\n",
    "\n",
    "The regex is applied to each field in each row, and if any field matches,\n",
    "then the row is written to the output. The columns to search can be limited\n",
    "with the '--select' flag (but the full row is still written to the output if\n",
    "there is a match).\n",
    "\n",
    "Usage:\n",
    "\n",
    "    xsv search [options] <regex> [<input>]\n",
    "    xsv search --help\n",
    "\n",
    "search options:\n",
    "\n",
    "    -i, --ignore-case      Case insensitive search. This is equivalent to\n",
    "                           prefixing the regex with '(?i)'.\n",
    "    -s, --select <arg>     Select the columns to search. See 'xsv select -h'\n",
    "                           for the full syntax.\n",
    "    -v, --invert-match     Select only rows that did not match\n"
   ]
  },
  {
   "cell_type": "code",
   "execution_count": 136,
   "metadata": {},
   "outputs": [
    {
     "name": "stdout",
     "output_type": "stream",
     "text": [
      "|--------+------------+---------------+-----------+--------+-------|\r\n",
      "|  Month | DayofMonth | UniqueCarrier | FlightNum | Origin | Dest  |\r\n",
      "|--------+------------+---------------+-----------+--------+-------|\r\n",
      "|  6     | 26         | AA            | 1756      | ATL    | LGA   |\r\n",
      "|  8     | 1          | DL            | 522       | ATL    | LGA   |\r\n",
      "|  2     | 8          | DL            | 1253      | ATL    | DEN   |\r\n",
      "|  2     | 17         | DL            | 688       | ATL    | DCA   |\r\n",
      "|  8     | 22         | EV            | 4417      | ATL    | SDF   |\r\n",
      "|  2     | 15         | EV            | 4544      | ATL    | VLD   |\r\n",
      "|  2     | 10         | FL            | 163       | ATL    | TPA   |\r\n",
      "|  9     | 8          | DL            | 829       | ATL    | JAC   |\r\n",
      "|  9     | 27         | DL            | 1512      | ATL    | DTW   |\r\n",
      "|  11    | 20         | AA            | 1197      | ATL    | DFW   |\r\n",
      "|--------+------------+---------------+-----------+--------+-------|\r\n"
     ]
    }
   ],
   "source": [
    "!xsv search -s Origin 'ATL' flights.csv \\\n",
    "| xsv select Month,DayofMonth,UniqueCarrier,FlightNum,Origin,Dest \\\n",
    "| xsv sample 10 \\\n",
    "| csvlook"
   ]
  },
  {
   "cell_type": "markdown",
   "metadata": {},
   "source": [
    "---\n",
    "\n",
    "### Joins\n",
    "\n",
    "- Joins two sets of CSV data on the specified columns.\n",
    "- The default join operation is an 'inner' join. \n",
    "- Joins are always done by ignoring leading and trailing whitespace. \n",
    "- By default, joins are done case sensitively, but this can be disabled with the `--no-case` flag.\n",
    "- The `columns` arguments specify the columns to join for each input. \n",
    "    - Columns can be referenced by name or index, starting at 1. \n",
    "    - Specify multiple columns by separating them with a comma. \n",
    "    - Specify a range of columns with `-`. \n",
    "    - Both columns1 and columns2 must specify exactly the same number of columns.\n",
    "\n",
    "Usage:\n",
    "\n",
    "    xsv join [options] <columns1> <input1> <columns2> <input2>\n",
    "    xsv join --help\n",
    "\n",
    "join options:\n",
    "\n",
    "    --no-case              When set, joins are done case insensitively.\n",
    "    --left                 Do a 'left outer' join. \n",
    "    --right                Do a 'right outer' join.\n",
    "    --nulls                When set, joins will work on empty fields.\n",
    "                           Otherwise, empty fields are completely ignored.\n",
    "                           (In fact, any row that has an empty field in the\n",
    "                           key specified is ignored.)\n",
    "                           \n",
    "Get data\n",
    "\n",
    "    !wget http://burntsushi.net/stuff/worldcitiespop.csv\n",
    "    !wget https://gist.githubusercontent.com/anonymous/063cb470e56e64e98cf1/raw/98e2589b801f6ca3ff900b01a87fbb7452eb35c7/countrynames.csv"
   ]
  },
  {
   "cell_type": "code",
   "execution_count": 167,
   "metadata": {},
   "outputs": [
    {
     "name": "stdout",
     "output_type": "stream",
     "text": [
      "|----------+-------------------+-------------------+--------+------------+-----------+------------+--------+--------------|\r\n",
      "|  Country | City              | AccentCity        | Region | Population | Latitude  | Longitude  | Abbrev | Country      |\r\n",
      "|----------+-------------------+-------------------+--------+------------+-----------+------------+--------+--------------|\r\n",
      "|  kr      | upori             | Upori             | 12     |            | 37.239167 | 126.105833 | KR     | South Korea  |\r\n",
      "|  id      | kaninggiduku      | Kaninggiduku      | 18     |            | -9.6191   | 119.3201   | ID     | Indonesia    |\r\n",
      "|  ua      | ivanovsk          | Ivanovsk          | 04     |            | 48.533572 | 34.158659  | UA     | Ukraine      |\r\n",
      "|  nl      | riscado           | Riscado           | 00     |            | 12.233333 | -68.366667 | NL     | Netherlands  |\r\n",
      "|  gr      | plazumista        | Plazumísta        | 09     |            | 40.3      | 21.2666667 | GR     | Greece       |\r\n",
      "|  pl      | myslowka          | Myslowka          | 74     |            | 52.028306 | 19.415481  | PL     | Poland       |\r\n",
      "|  hu      | csem              | Csém              | 12     |            | 47.685903 | 18.098287  | HU     | Hungary      |\r\n",
      "|  cn      | tungshan          | Tungshan          | 05     |            | 41.648889 | 127.275833 | CN     | China        |\r\n",
      "|  ir      | gilavard-e bozorg | Gilavard-e Bozorg | 35     |            | 36.585273 | 53.588776  | IR     | Iran         |\r\n",
      "|  be      | toutefays         | Toutefays         | 08     |            | 50.983333 | 3.666667   | BE     | Belgium      |\r\n",
      "|----------+-------------------+-------------------+--------+------------+-----------+------------+--------+--------------|\r\n"
     ]
    }
   ],
   "source": [
    "!xsv join --no-case  Country worldcitiespop.csv Abbrev countrynames.csv | xsv sample 10 | csvlook"
   ]
  },
  {
   "cell_type": "markdown",
   "metadata": {},
   "source": [
    "We have two columns named `Country`. Use `select` to get rid of it."
   ]
  },
  {
   "cell_type": "code",
   "execution_count": 166,
   "metadata": {},
   "outputs": [
    {
     "name": "stdout",
     "output_type": "stream",
     "text": [
      "|----------+-------------------+-------------|\r\n",
      "|  Country | AccentCity        | Population  |\r\n",
      "|----------+-------------------+-------------|\r\n",
      "|  Mexico  | Cosoleacaque      | 20372       |\r\n",
      "|  Mexico  | Acolman           | 4998        |\r\n",
      "|  Turkey  | Amasya            | 82939       |\r\n",
      "|  Brazil  | Coração de Jesus  | 12410       |\r\n",
      "|  Brazil  | Ribeira do Pombal | 28236       |\r\n",
      "|----------+-------------------+-------------|\r\n"
     ]
    }
   ],
   "source": [
    "!xsv join --no-case  Country worldcitiespop.csv Abbrev countrynames.csv \\\n",
    "| xsv select 'Country[1],AccentCity,Population' | xsv search -s Population '[0-9]' | xsv sample 5 | csvlook"
   ]
  }
 ],
 "metadata": {
  "kernelspec": {
   "display_name": "Python 2",
   "language": "python",
   "name": "python2"
  },
  "language_info": {
   "codemirror_mode": {
    "name": "ipython",
    "version": 2
   },
   "file_extension": ".py",
   "mimetype": "text/x-python",
   "name": "python",
   "nbconvert_exporter": "python",
   "pygments_lexer": "ipython2",
   "version": "2.7.13"
  }
 },
 "nbformat": 4,
 "nbformat_minor": 2
}
