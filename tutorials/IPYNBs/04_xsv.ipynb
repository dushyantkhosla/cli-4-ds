{
 "cells": [
  {
   "cell_type": "markdown",
   "metadata": {},
   "source": [
    "# **`xsv`** \n",
    "\n",
    "- *A fast CSV toolkit written in Rust.* [repo](https://github.com/BurntSushi/xsv)\n",
    "\n",
    "## Commands\n",
    "\n",
    "    cat         Concatenate by row or column\n",
    "    count       Count records\n",
    "    fixlengths  Makes all records have same length\n",
    "    flatten     Show one field per line\n",
    "    fmt         Format CSV output (change field delimiter)\n",
    "    frequency   Show frequency tables\n",
    "    headers     Show header names\n",
    "    help        Show this usage message.\n",
    "    index       Create CSV index for faster access\n",
    "    input       Read CSV data with special quoting rules\n",
    "    join        Join CSV files\n",
    "    sample      Randomly sample CSV data\n",
    "    search      Search CSV data with regexes\n",
    "    select      Select columns from CSV\n",
    "    slice       Slice records from CSV\n",
    "    sort        Sort CSV data\n",
    "    split       Split CSV data into many files\n",
    "    stats       Compute basic statistics\n",
    "    table       Align CSV data into columns\n",
    "\n",
    "\n",
    "\n",
    "## Install\n",
    "\n",
    "```bash\n",
    "# run\n",
    "wget https://goo.gl/iZMmzX\n",
    "# or download the tar file from 'https://github.com/BurntSushi/xsv/releases/latest'\n",
    "\n",
    "# untar\n",
    "tar -xzvf xsv-0.11.0-x86_64-unknown-linux-musl.tar.gz\n",
    "\n",
    "# move the executable to the binaries folder\n",
    "mv xsv /usr/bin/xsv\n",
    "\n",
    "# run from anywhere\n",
    "```"
   ]
  },
  {
   "cell_type": "code",
   "execution_count": 113,
   "metadata": {},
   "outputs": [
    {
     "name": "stdout",
     "output_type": "stream",
     "text": [
      "Year  Month  DayofMonth  DayOfWeek  DepTime  CRSDepTime  ArrTime  CRSArrTime  UniqueCarrier  FlightNum\n",
      "2007  1      1           1          1232     1225        1341     1340        WN             2891\n",
      "2007  1      1           1          1918     1905        2043     2035        WN             462\n",
      "2007  1      1           1          2206     2130        2334     2300        WN             1229\n",
      "2007  1      1           1          1230     1200        1356     1330        WN             1355\n",
      "2007  1      1           1          831      830         957      1000        WN             2278\n",
      "2007  1      1           1          1430     1420        1553     1550        WN             2386\n",
      "2007  1      1           1          1936     1840        2217     2130        WN             409\n",
      "2007  1      1           1          944      935         1223     1225        WN             1131\n",
      "2007  1      1           1          1537     1450        1819     1735        WN             1212\n"
     ]
    }
   ],
   "source": [
    "### 0. View formatted\n",
    "!head -n 10 flights.csv | cut -d, -f1-10 | xsv table"
   ]
  },
  {
   "cell_type": "code",
   "execution_count": 121,
   "metadata": {},
   "outputs": [
    {
     "name": "stdout",
     "output_type": "stream",
     "text": [
      "7453215\n"
     ]
    }
   ],
   "source": [
    "### 1. Count Rows (MUCH faster than `wc -l`, uses more CPU, excludes header)\n",
    "!xsv count flights.csv"
   ]
  },
  {
   "cell_type": "code",
   "execution_count": 114,
   "metadata": {},
   "outputs": [
    {
     "data": {
      "text/plain": [
       "['Year',\n",
       " 'Month',\n",
       " 'DayofMonth',\n",
       " 'DayOfWeek',\n",
       " 'DepTime',\n",
       " 'CRSDepTime',\n",
       " 'ArrTime',\n",
       " 'CRSArrTime',\n",
       " 'UniqueCarrier',\n",
       " 'FlightNum',\n",
       " 'TailNum',\n",
       " 'ActualElapsedTime',\n",
       " 'CRSElapsedTime',\n",
       " 'AirTime',\n",
       " 'ArrDelay',\n",
       " 'DepDelay',\n",
       " 'Origin',\n",
       " 'Dest',\n",
       " 'Distance',\n",
       " 'TaxiIn',\n",
       " 'TaxiOut',\n",
       " 'Cancelled',\n",
       " 'CancellationCode',\n",
       " 'Diverted',\n",
       " 'CarrierDelay',\n",
       " 'WeatherDelay',\n",
       " 'NASDelay',\n",
       " 'SecurityDelay',\n",
       " 'LateAircraftDelay']"
      ]
     },
     "execution_count": 114,
     "metadata": {},
     "output_type": "execute_result"
    }
   ],
   "source": [
    "### 2. Get Column names\n",
    "cols = !xsv headers flights.csv\n",
    "[x.split(' ')[-1] for x in cols]"
   ]
  },
  {
   "cell_type": "code",
   "execution_count": 125,
   "metadata": {},
   "outputs": [
    {
     "name": "stdout",
     "output_type": "stream",
     "text": [
      "|--------+------------+---------------+-----------+--------+-------|\n",
      "|  Month | DayofMonth | UniqueCarrier | FlightNum | Origin | Dest  |\n",
      "|--------+------------+---------------+-----------+--------+-------|\n",
      "|  1     | 1          | WN            | 2891      | SMF    | ONT   |\n",
      "|  1     | 1          | WN            | 462       | SMF    | PDX   |\n",
      "|  1     | 1          | WN            | 1229      | SMF    | PDX   |\n",
      "|  1     | 1          | WN            | 1355      | SMF    | PDX   |\n",
      "|  1     | 1          | WN            | 2278      | SMF    | PDX   |\n",
      "|  1     | 1          | WN            | 2386      | SMF    | PDX   |\n",
      "|  1     | 1          | WN            | 409       | SMF    | PHX   |\n",
      "|  1     | 1          | WN            | 1131      | SMF    | PHX   |\n",
      "|  1     | 1          | WN            | 1212      | SMF    | PHX   |\n",
      "|--------+------------+---------------+-----------+--------+-------|\n"
     ]
    }
   ],
   "source": [
    "### 5. Subset Columns\n",
    "!xsv select Month,DayofMonth,UniqueCarrier,FlightNum,Origin,Dest flights.csv | head | csvlook"
   ]
  },
  {
   "cell_type": "code",
   "execution_count": 118,
   "metadata": {},
   "outputs": [
    {
     "name": "stdout",
     "output_type": "stream",
     "text": [
      "flights.csv.idx\n"
     ]
    }
   ],
   "source": [
    "### 3. Create an index\n",
    "!xsv index flights.csv\n",
    "!ls *.idx"
   ]
  },
  {
   "cell_type": "code",
   "execution_count": 129,
   "metadata": {},
   "outputs": [
    {
     "name": "stdout",
     "output_type": "stream",
     "text": [
      "|--------------------+---------+-------+--------+--------+-----------------------+---------------------+-------|\n",
      "|  field             | type    | min   | median | max    | mean                  | stddev              | mode  |\n",
      "|--------------------+---------+-------+--------+--------+-----------------------+---------------------+-------|\n",
      "|  Year              | Integer | 2007  | 2007   | 2007   | 2007                  | 0                   | 2007  |\n",
      "|  Month             | Integer | 1     | 7      | 12     | 6.514876197721434     | 3.425117169491096   | 8     |\n",
      "|  DayofMonth        | Integer | 1     | 16     | 31     | 15.72588876075652     | 8.781153183533013   | 26    |\n",
      "|  DayOfWeek         | Integer | 1     | 4      | 7      | 3.9338042710427263    | 1.9922668348832397  | 1     |\n",
      "|  DepTime           | Unicode | 1     | 1255   | NA     |                       |                     | NA    |\n",
      "|  CRSDepTime        | Integer | 0     | 1322   | 2359   | 1330.5963490923104    | 464.70792314976785  | 600   |\n",
      "|  ArrTime           | Unicode | 1     | 1430   | NA     |                       |                     | NA    |\n",
      "|  CRSArrTime        | Integer | 0     | 1520   | 2400   | 1495.391906714091     | 481.59020392608437  | 1930  |\n",
      "|  UniqueCarrier     | Unicode | 9E    |        | YV     |                       |                     | WN    |\n",
      "|  FlightNum         | Integer | 1     | 1509   | 9602   | 2188.0992893670827    | 1971.9575313097869  | 16    |\n",
      "|  TailNum           | Unicode | 0     |        | NHZOAL |                       |                     | 0     |\n",
      "|  ActualElapsedTime | Unicode | 100   | 115    | NA     |                       |                     | NA    |\n",
      "|  CRSElapsedTime    | Unicode | -1240 | 100    | NA     |                       |                     | 75    |\n",
      "|  AirTime           | Unicode | 0     | 94     | NA     |                       |                     | NA    |\n",
      "|  ArrDelay          | Unicode | -1    | -2     | NA     |                       |                     | -5    |\n",
      "|  DepDelay          | Unicode | -1    | 1      | NA     |                       |                     | 0     |\n",
      "|  Origin            | Unicode | ABE   |        | YUM    |                       |                     | ATL   |\n",
      "|  Dest              | Unicode | ABE   |        | YUM    |                       |                     | ATL   |\n",
      "|  Distance          | Integer | 11    | 569    | 4962   | 719.805789045388      | 562.3050870976227   | 337   |\n",
      "|  TaxiIn            | Integer | 0     | 5      | 545    | 6.6919844657641026    | 5.151350775045749   | 4     |\n",
      "|  TaxiOut           | Integer | 0     | 14     | 530    | 16.300146178528344    | 11.833958552477231  | 10    |\n",
      "|  Cancelled         | Integer | 0     | 0      | 1      | 0.021567605389083436  | 0.14526680208108242 | 0     |\n",
      "|  CancellationCode  | Unicode | A     |        | D      |                       |                     |       |\n",
      "|  Diverted          | Integer | 0     | 0      | 1      | 0.0023049113704622683 | 0.04795413177231553 | 0     |\n",
      "|  CarrierDelay      | Integer | 0     | 0      | 2580   | 3.865235874719842     | 20.842403385965035  | 0     |\n",
      "|  WeatherDelay      | Integer | 0     | 0      | 1429   | 0.7700903569801583    | 9.619546393361475   | 0     |\n",
      "|  NASDelay          | Integer | 0     | 0      | 1386   | 3.783702200996463     | 16.176702958825693  | 0     |\n",
      "|  SecurityDelay     | Integer | 0     | 0      | 382    | 0.023735528895919497  | 1.084995425472959   | 0     |\n",
      "|  LateAircraftDelay | Integer | 0     | 0      | 1031   | 5.099133997878817     | 21.277529347496895  | 0     |\n",
      "|--------------------+---------+-------+--------+--------+-----------------------+---------------------+-------|\n"
     ]
    }
   ],
   "source": [
    "### 4. Get Summary Stats (MUCH faster than `csvstat`)\n",
    "!xsv stats flights.csv --everything | \\\n",
    "xsv select field,type,min,median,max,mean,stddev,mode | \\\n",
    "csvlook"
   ]
  },
  {
   "cell_type": "code",
   "execution_count": null,
   "metadata": {
    "collapsed": true
   },
   "outputs": [],
   "source": []
  },
  {
   "cell_type": "markdown",
   "metadata": {},
   "source": [
    "---\n",
    "\n",
    "### Random Sampling\n",
    "\n",
    "- Randomly samples CSV data uniformly using memory proportional to the size of the sample.\n",
    "- **When an index is present**, this command will use random indexing if the sample size is less than 10% of the total number of records. \n",
    "    - This allows for efficient sampling such that the entire CSV file is not parsed.\n",
    "- Allows a user to work with **a CSV data set that is too big to fit into memory** (for example, for use with commands like `xsv frequency` or `xsv stats`). \n",
    "\n",
    "Usage:\n",
    "\n",
    "    xsv sample [options] <sample-size> [<input>]\n",
    "    xsv sample --help\n",
    "\n"
   ]
  },
  {
   "cell_type": "code",
   "execution_count": 126,
   "metadata": {},
   "outputs": [
    {
     "name": "stdout",
     "output_type": "stream",
     "text": [
      "|--------+------------+---------------+-----------+--------+-------|\n",
      "|  Month | DayofMonth | UniqueCarrier | FlightNum | Origin | Dest  |\n",
      "|--------+------------+---------------+-----------+--------+-------|\n",
      "|  1     | 21         | OH            | 5315      | CVG    | PIT   |\n",
      "|  5     | 17         | WN            | 629       | LAS    | SMF   |\n",
      "|  3     | 27         | WN            | 962       | LAX    | TUS   |\n",
      "|  8     | 15         | FL            | 44        | SFO    | ATL   |\n",
      "|  11    | 4          | AQ            | 45        | ITO    | HNL   |\n",
      "|  1     | 31         | WN            | 57        | DAL    | HOU   |\n",
      "|  9     | 4          | OO            | 3790      | MSP    | ATL   |\n",
      "|  9     | 18         | AA            | 1411      | BOS    | ORD   |\n",
      "|  2     | 18         | OO            | 5766      | PDX    | RDM   |\n",
      "|  1     | 18         | OO            | 3873      | SLC    | MFR   |\n",
      "|--------+------------+---------------+-----------+--------+-------|\n"
     ]
    }
   ],
   "source": [
    "!xsv select Month,DayofMonth,UniqueCarrier,FlightNum,Origin,Dest flights.csv | xsv sample 10 | csvlook"
   ]
  },
  {
   "cell_type": "markdown",
   "metadata": {},
   "source": [
    "---\n",
    "\n",
    "### Frequency Tables\n",
    "\n",
    "- Computes a frequency table on CSV data formatted as `field,value,count` \n",
    "- The order and number of values can be tweaked with `--asc` and `--limit` respectively.\n",
    "- memory proportional to the cardinality of each column is required.\n",
    "\n",
    "Usage:\n",
    "\n",
    "    xsv frequency [options] [<input>]\n",
    "\n",
    "Options:\n",
    "\n",
    "    -s, --select <arg>     Select a subset of columns to compute frequencies\n",
    "    -l, --limit <arg>      Limit the frequency table to the N most common items. [default: 10]\n",
    "    -a, --asc              Sort the frequency tables in ascending order by count. [default: descending]\n",
    "    --no-nulls             Don't include NULLs in the frequency table."
   ]
  },
  {
   "cell_type": "code",
   "execution_count": 134,
   "metadata": {},
   "outputs": [
    {
     "name": "stdout",
     "output_type": "stream",
     "text": [
      "|-------------+-------+----------|\n",
      "|  field      | value | count    |\n",
      "|-------------+-------+----------|\n",
      "|  Year       | 2007  | 7453215  |\n",
      "|  Month      | 8     | 653279   |\n",
      "|  Month      | 7     | 648560   |\n",
      "|  Month      | 3     | 639209   |\n",
      "|  Month      | 5     | 631609   |\n",
      "|  Month      | 10    | 629992   |\n",
      "|  DayofMonth | 26    | 250136   |\n",
      "|  DayofMonth | 19    | 250092   |\n",
      "|  DayofMonth | 12    | 249773   |\n",
      "|  DayofMonth | 16    | 249034   |\n",
      "|  DayofMonth | 9     | 248415   |\n",
      "|  DayOfWeek  | 1     | 1112474  |\n",
      "|  DayOfWeek  | 5     | 1101689  |\n",
      "|  DayOfWeek  | 4     | 1097738  |\n",
      "|-------------+-------+----------|\n"
     ]
    }
   ],
   "source": [
    "# For all columns\n",
    "!xsv frequency flights.csv --limit 5 | head -n 15 | csvlook"
   ]
  },
  {
   "cell_type": "code",
   "execution_count": 135,
   "metadata": {},
   "outputs": [
    {
     "name": "stdout",
     "output_type": "stream",
     "text": [
      "|---------+-------+---------|\n",
      "|  field  | value | count   |\n",
      "|---------+-------+---------|\n",
      "|  Origin | ATL   | 413851  |\n",
      "|  Origin | ORD   | 375784  |\n",
      "|  Origin | DFW   | 297345  |\n",
      "|  Origin | DEN   | 240928  |\n",
      "|  Origin | LAX   | 237597  |\n",
      "|---------+-------+---------|\n"
     ]
    }
   ],
   "source": [
    "# For particular column(s)\n",
    "!xsv frequency --select Origin --limit 5 flights.csv | csvlook"
   ]
  },
  {
   "cell_type": "markdown",
   "metadata": {},
   "source": [
    "---\n",
    "\n",
    "### Filter rows\n",
    "\n",
    "Filters CSV data by whether the given regex matches a row.\n",
    "\n",
    "The regex is applied to each field in each row, and if any field matches,\n",
    "then the row is written to the output. The columns to search can be limited\n",
    "with the '--select' flag (but the full row is still written to the output if\n",
    "there is a match).\n",
    "\n",
    "Usage:\n",
    "\n",
    "    xsv search [options] <regex> [<input>]\n",
    "    xsv search --help\n",
    "\n",
    "search options:\n",
    "\n",
    "    -i, --ignore-case      Case insensitive search. This is equivalent to\n",
    "                           prefixing the regex with '(?i)'.\n",
    "    -s, --select <arg>     Select the columns to search. See 'xsv select -h'\n",
    "                           for the full syntax.\n",
    "    -v, --invert-match     Select only rows that did not match\n"
   ]
  },
  {
   "cell_type": "code",
   "execution_count": 136,
   "metadata": {},
   "outputs": [
    {
     "name": "stdout",
     "output_type": "stream",
     "text": [
      "|--------+------------+---------------+-----------+--------+-------|\n",
      "|  Month | DayofMonth | UniqueCarrier | FlightNum | Origin | Dest  |\n",
      "|--------+------------+---------------+-----------+--------+-------|\n",
      "|  6     | 26         | AA            | 1756      | ATL    | LGA   |\n",
      "|  8     | 1          | DL            | 522       | ATL    | LGA   |\n",
      "|  2     | 8          | DL            | 1253      | ATL    | DEN   |\n",
      "|  2     | 17         | DL            | 688       | ATL    | DCA   |\n",
      "|  8     | 22         | EV            | 4417      | ATL    | SDF   |\n",
      "|  2     | 15         | EV            | 4544      | ATL    | VLD   |\n",
      "|  2     | 10         | FL            | 163       | ATL    | TPA   |\n",
      "|  9     | 8          | DL            | 829       | ATL    | JAC   |\n",
      "|  9     | 27         | DL            | 1512      | ATL    | DTW   |\n",
      "|  11    | 20         | AA            | 1197      | ATL    | DFW   |\n",
      "|--------+------------+---------------+-----------+--------+-------|\n"
     ]
    }
   ],
   "source": [
    "!xsv search -s Origin 'ATL' flights.csv \\\n",
    "| xsv select Month,DayofMonth,UniqueCarrier,FlightNum,Origin,Dest \\\n",
    "| xsv sample 10 \\\n",
    "| csvlook"
   ]
  },
  {
   "cell_type": "markdown",
   "metadata": {},
   "source": [
    "---\n",
    "\n",
    "### Joins\n",
    "\n",
    "- Joins two sets of CSV data on the specified columns.\n",
    "- The default join operation is an 'inner' join. \n",
    "- Joins are always done by ignoring leading and trailing whitespace. \n",
    "- By default, joins are done case sensitively, but this can be disabled with the `--no-case` flag.\n",
    "- The `columns` arguments specify the columns to join for each input. \n",
    "    - Columns can be referenced by name or index, starting at 1. \n",
    "    - Specify multiple columns by separating them with a comma. \n",
    "    - Specify a range of columns with `-`. \n",
    "    - Both columns1 and columns2 must specify exactly the same number of columns.\n",
    "\n",
    "Usage:\n",
    "\n",
    "    xsv join [options] <columns1> <input1> <columns2> <input2>\n",
    "    xsv join --help\n",
    "\n",
    "join options:\n",
    "\n",
    "    --no-case              When set, joins are done case insensitively.\n",
    "    --left                 Do a 'left outer' join. \n",
    "    --right                Do a 'right outer' join.\n",
    "    --nulls                When set, joins will work on empty fields.\n",
    "                           Otherwise, empty fields are completely ignored.\n",
    "                           (In fact, any row that has an empty field in the\n",
    "                           key specified is ignored.)\n",
    "                           \n",
    "Get data\n",
    "\n",
    "    !wget http://burntsushi.net/stuff/worldcitiespop.csv\n",
    "    !wget https://gist.githubusercontent.com/anonymous/063cb470e56e64e98cf1/raw/98e2589b801f6ca3ff900b01a87fbb7452eb35c7/countrynames.csv"
   ]
  },
  {
   "cell_type": "code",
   "execution_count": 167,
   "metadata": {},
   "outputs": [
    {
     "name": "stdout",
     "output_type": "stream",
     "text": [
      "|----------+-------------------+-------------------+--------+------------+-----------+------------+--------+--------------|\n",
      "|  Country | City              | AccentCity        | Region | Population | Latitude  | Longitude  | Abbrev | Country      |\n",
      "|----------+-------------------+-------------------+--------+------------+-----------+------------+--------+--------------|\n",
      "|  kr      | upori             | Upori             | 12     |            | 37.239167 | 126.105833 | KR     | South Korea  |\n",
      "|  id      | kaninggiduku      | Kaninggiduku      | 18     |            | -9.6191   | 119.3201   | ID     | Indonesia    |\n",
      "|  ua      | ivanovsk          | Ivanovsk          | 04     |            | 48.533572 | 34.158659  | UA     | Ukraine      |\n",
      "|  nl      | riscado           | Riscado           | 00     |            | 12.233333 | -68.366667 | NL     | Netherlands  |\n",
      "|  gr      | plazumista        | Plazumísta        | 09     |            | 40.3      | 21.2666667 | GR     | Greece       |\n",
      "|  pl      | myslowka          | Myslowka          | 74     |            | 52.028306 | 19.415481  | PL     | Poland       |\n",
      "|  hu      | csem              | Csém              | 12     |            | 47.685903 | 18.098287  | HU     | Hungary      |\n",
      "|  cn      | tungshan          | Tungshan          | 05     |            | 41.648889 | 127.275833 | CN     | China        |\n",
      "|  ir      | gilavard-e bozorg | Gilavard-e Bozorg | 35     |            | 36.585273 | 53.588776  | IR     | Iran         |\n",
      "|  be      | toutefays         | Toutefays         | 08     |            | 50.983333 | 3.666667   | BE     | Belgium      |\n",
      "|----------+-------------------+-------------------+--------+------------+-----------+------------+--------+--------------|\n"
     ]
    }
   ],
   "source": [
    "!xsv join --no-case  Country worldcitiespop.csv Abbrev countrynames.csv | xsv sample 10 | csvlook"
   ]
  },
  {
   "cell_type": "markdown",
   "metadata": {},
   "source": [
    "We have two columns named `Country`. Use `select` to get rid of it."
   ]
  },
  {
   "cell_type": "code",
   "execution_count": 166,
   "metadata": {},
   "outputs": [
    {
     "name": "stdout",
     "output_type": "stream",
     "text": [
      "|----------+-------------------+-------------|\n",
      "|  Country | AccentCity        | Population  |\n",
      "|----------+-------------------+-------------|\n",
      "|  Mexico  | Cosoleacaque      | 20372       |\n",
      "|  Mexico  | Acolman           | 4998        |\n",
      "|  Turkey  | Amasya            | 82939       |\n",
      "|  Brazil  | Coração de Jesus  | 12410       |\n",
      "|  Brazil  | Ribeira do Pombal | 28236       |\n",
      "|----------+-------------------+-------------|\n"
     ]
    }
   ],
   "source": [
    "!xsv join --no-case  Country worldcitiespop.csv Abbrev countrynames.csv \\\n",
    "| xsv select 'Country[1],AccentCity,Population' | xsv search -s Population '[0-9]' | xsv sample 5 | csvlook"
   ]
  }
 ],
 "metadata": {
  "kernelspec": {
   "display_name": "Python 3",
   "language": "python",
   "name": "python3"
  },
  "language_info": {
   "codemirror_mode": {
    "name": "ipython",
    "version": 3
   },
   "file_extension": ".py",
   "mimetype": "text/x-python",
   "name": "python",
   "nbconvert_exporter": "python",
   "pygments_lexer": "ipython3",
   "version": "3.6.4"
  }
 },
 "nbformat": 4,
 "nbformat_minor": 2
}
