{
 "cells": [
  {
   "cell_type": "code",
   "execution_count": 1,
   "metadata": {},
   "outputs": [
    {
     "name": "stdout",
     "output_type": "stream",
     "text": [
      "kddcup.data.corrected\r\n",
      "kddcup.names.txt\r\n"
     ]
    }
   ],
   "source": [
    "ls ../data/raw/ | grep kdd"
   ]
  },
  {
   "cell_type": "code",
   "execution_count": 6,
   "metadata": {},
   "outputs": [
    {
     "name": "stdout",
     "output_type": "stream",
     "text": [
      "file   num_cols    num_rows\r\n",
      "-            42   4,898,430\r\n"
     ]
    }
   ],
   "source": [
    "!cat ../data/raw/kddcup.data.corrected | csvtk stats"
   ]
  },
  {
   "cell_type": "code",
   "execution_count": 13,
   "metadata": {},
   "outputs": [
    {
     "name": "stdout",
     "output_type": "stream",
     "text": [
      "0,tcp,http,SF,162,4528,0,0,0,0,0,1,0,0,0,0,0,0,0,0,0,0,2,2,0.00,0.00,0.00,0.00,1.00,0.00,0.00,1,1,1.00,0.00,1.00,0.00,0.00,0.00,0.00,0.00,normal.\r\n",
      "0,tcp,http,SF,236,1228,0,0,0,0,0,1,0,0,0,0,0,0,0,0,0,0,1,1,0.00,0.00,0.00,0.00,1.00,0.00,0.00,2,2,1.00,0.00,0.50,0.00,0.00,0.00,0.00,0.00,normal.\r\n",
      "0,tcp,http,SF,233,2032,0,0,0,0,0,1,0,0,0,0,0,0,0,0,0,0,2,2,0.00,0.00,0.00,0.00,1.00,0.00,0.00,3,3,1.00,0.00,0.33,0.00,0.00,0.00,0.00,0.00,normal.\r\n",
      "0,tcp,http,SF,239,486,0,0,0,0,0,1,0,0,0,0,0,0,0,0,0,0,3,3,0.00,0.00,0.00,0.00,1.00,0.00,0.00,4,4,1.00,0.00,0.25,0.00,0.00,0.00,0.00,0.00,normal.\r\n",
      "0,tcp,http,SF,238,1282,0,0,0,0,0,1,0,0,0,0,0,0,0,0,0,0,4,4,0.00,0.00,0.00,0.00,1.00,0.00,0.00,5,5,1.00,0.00,0.20,0.00,0.00,0.00,0.00,0.00,normal.\r\n",
      "0,tcp,http,SF,235,1337,0,0,0,0,0,1,0,0,0,0,0,0,0,0,0,0,5,5,0.00,0.00,0.00,0.00,1.00,0.00,0.00,6,6,1.00,0.00,0.17,0.00,0.00,0.00,0.00,0.00,normal.\r\n",
      "0,tcp,http,SF,234,1364,0,0,0,0,0,1,0,0,0,0,0,0,0,0,0,0,6,6,0.00,0.00,0.00,0.00,1.00,0.00,0.00,7,7,1.00,0.00,0.14,0.00,0.00,0.00,0.00,0.00,normal.\r\n",
      "0,tcp,http,SF,239,1295,0,0,0,0,0,1,0,0,0,0,0,0,0,0,0,0,7,7,0.00,0.00,0.00,0.00,1.00,0.00,0.00,8,8,1.00,0.00,0.12,0.00,0.00,0.00,0.00,0.00,normal.\r\n",
      "0,tcp,http,SF,181,5450,0,0,0,0,0,1,0,0,0,0,0,0,0,0,0,0,8,8,0.00,0.00,0.00,0.00,1.00,0.00,0.00,9,9,1.00,0.00,0.11,0.00,0.00,0.00,0.00,0.00,normal.\r\n"
     ]
    }
   ],
   "source": [
    "!head ../data/raw/kddcup.data.corrected | sed '1d'"
   ]
  },
  {
   "cell_type": "code",
   "execution_count": 23,
   "metadata": {},
   "outputs": [],
   "source": [
    "!cat ../data/raw/kddcup.names.txt | sed 1d | cut -d':' -f1 | tr '\\n' ',' > ../data/raw/kdd.csv"
   ]
  },
  {
   "cell_type": "code",
   "execution_count": 24,
   "metadata": {
    "collapsed": true
   },
   "outputs": [],
   "source": [
    "!echo 'interaction_type' >> ../data/raw/kdd.csv"
   ]
  },
  {
   "cell_type": "code",
   "execution_count": 25,
   "metadata": {},
   "outputs": [
    {
     "name": "stdout",
     "output_type": "stream",
     "text": [
      "duration,protocol_type,service,flag,src_bytes,dst_bytes,land,wrong_fragment,urgent,hot,num_failed_logins,logged_in,num_compromised,root_shell,su_attempted,num_root,num_file_creations,num_shells,num_access_files,num_outbound_cmds,is_host_login,is_guest_login,count,srv_count,serror_rate,srv_serror_rate,rerror_rate,srv_rerror_rate,same_srv_rate,diff_srv_rate,srv_diff_host_rate,dst_host_count,dst_host_srv_count,dst_host_same_srv_rate,dst_host_diff_srv_rate,dst_host_same_src_port_rate,dst_host_srv_diff_host_rate,dst_host_serror_rate,dst_host_srv_serror_rate,dst_host_rerror_rate,dst_host_srv_rerror_rate,interaction_type\r\n"
     ]
    }
   ],
   "source": [
    "!cat ../data/raw/kdd.csv"
   ]
  },
  {
   "cell_type": "code",
   "execution_count": 26,
   "metadata": {
    "collapsed": true
   },
   "outputs": [],
   "source": [
    "!cat ../data/raw/kddcup.data.corrected >> ../data/raw/kdd.csv"
   ]
  },
  {
   "cell_type": "code",
   "execution_count": 32,
   "metadata": {},
   "outputs": [
    {
     "name": "stdout",
     "output_type": "stream",
     "text": [
      "0.00,0.00,0,0,0.00,0.00,0.00,0.00,0.00,0.00,0.00,0.00,normal.\r\n",
      "0.00,0.00,1,1,1.00,0.00,1.00,0.00,0.00,0.00,0.00,0.00,normal.\r\n",
      "0.00,0.00,2,2,1.00,0.00,0.50,0.00,0.00,0.00,0.00,0.00,normal.\r\n",
      "0.00,0.00,3,3,1.00,0.00,0.33,0.00,0.00,0.00,0.00,0.00,normal.\r\n",
      "0.00,0.00,4,4,1.00,0.00,0.25,0.00,0.00,0.00,0.00,0.00,normal.\r\n",
      "0.00,0.00,5,5,1.00,0.00,0.20,0.00,0.00,0.00,0.00,0.00,normal.\r\n",
      "0.00,0.00,6,6,1.00,0.00,0.17,0.00,0.00,0.00,0.00,0.00,normal.\r\n",
      "0.00,0.00,7,7,1.00,0.00,0.14,0.00,0.00,0.00,0.00,0.00,normal.\r\n",
      "0.00,0.00,8,8,1.00,0.00,0.12,0.00,0.00,0.00,0.00,0.00,normal.\r\n"
     ]
    }
   ],
   "source": [
    "!head ../data/raw/kdd.csv | cut -d, -f30-42 | sed '1d' "
   ]
  },
  {
   "cell_type": "markdown",
   "metadata": {},
   "source": [
    "# `q: text as data`\n",
    "\n",
    "- http://harelba.github.io/q/index.html\n",
    "\n",
    "- q allows performing SQL-like statements on tabular text data.\n",
    "- Its purpose is to bring SQL expressive power to manipulating text data using the Linux command line.\n",
    "- Basic usage is `q \"<sql like query>\"` where table names are just regular file names\n",
    "- When the input contains a header row, use `-H`, and column names will be set according to the header row content. \n",
    "    - If there isn't a header row, then columns will automatically be named `c1..cN`\n",
    "- Column types are detected automatically. Use `-A` in order to see the column name/type analysis.\n",
    "- Delimiter can be set using the `-d` (or `-t`) option. \n",
    "    - Output delimiter can be set using `-D`\n",
    "- All sqlite3 SQL constructs are supported.\n",
    "\n",
    "> - Please note that column names that include spaces need to be used in the query with back-ticks, as per the sqlite standard.\n",
    "- Full type detection is implemented, so there is no need for any casting\n",
    "- Multiple Files\n",
    "    - Multiple files can be concatenated by using one of both of the following ways:\n",
    "    - Separating the filenames with a + sign: SELECT * FROM datafile1+datafile2+datefile3.\n",
    "    - Using glob matching: SELECT * FROM mydata*.dat"
   ]
  },
  {
   "cell_type": "code",
   "execution_count": 34,
   "metadata": {},
   "outputs": [
    {
     "name": "stdout",
     "output_type": "stream",
     "text": [
      "countrynames.csv\r\n",
      "Crimes_Chicago.csv\r\n",
      "Flight_Delays.csv\r\n",
      "fromPandas.csv\r\n",
      "het-bool.csv\r\n",
      "kdd.csv\r\n",
      "millionSongsSample.csv\r\n",
      "NYC__311Requests.csv\r\n",
      "worldcitiespop.csv\r\n"
     ]
    }
   ],
   "source": [
    "!ls ../data/raw/ | grep csv"
   ]
  },
  {
   "cell_type": "code",
   "execution_count": 35,
   "metadata": {},
   "outputs": [
    {
     "name": "stdout",
     "output_type": "stream",
     "text": [
      "Fun__Item.txt\r\n",
      "Fun__Sales.txt\r\n",
      "kddcup.names.txt\r\n",
      "MusicXMatch__Test.txt\r\n",
      "MusicXMatch__Train.txt\r\n",
      "Stock_Export.txt\r\n"
     ]
    }
   ],
   "source": [
    "!ls ../data/raw/ | grep txt"
   ]
  },
  {
   "cell_type": "code",
   "execution_count": 39,
   "metadata": {},
   "outputs": [
    {
     "name": "stdout",
     "output_type": "stream",
     "text": [
      "smurf.,2807886\r\n",
      "neptune.,1072017\r\n",
      "normal.,972781\r\n",
      "satan.,15892\r\n",
      "ipsweep.,12481\r\n",
      "portsweep.,10413\r\n",
      "nmap.,2316\r\n",
      "back.,2203\r\n",
      "warezclient.,1020\r\n",
      "teardrop.,979\r\n",
      "pod.,264\r\n",
      "guess_passwd.,53\r\n",
      "buffer_overflow.,30\r\n",
      "land.,21\r\n",
      "warezmaster.,20\r\n",
      "imap.,12\r\n",
      "rootkit.,10\r\n",
      "loadmodule.,9\r\n",
      "ftp_write.,8\r\n",
      "multihop.,7\r\n",
      "phf.,4\r\n",
      "perl.,3\r\n",
      "spy.,2\r\n"
     ]
    }
   ],
   "source": [
    "!cat ../data/raw/kdd.csv | q -H -d, \"\"\"SELECT distinct(interaction_type), count(*) from - group by 1 order by 2 desc\"\"\""
   ]
  },
  {
   "cell_type": "code",
   "execution_count": 43,
   "metadata": {},
   "outputs": [
    {
     "name": "stdout",
     "output_type": "stream",
     "text": [
      "normal.,0\r\n",
      "normal.,0\r\n",
      "normal.,0\r\n",
      "normal.,0\r\n",
      "normal.,0\r\n",
      "normal.,0\r\n",
      "normal.,0\r\n",
      "normal.,0\r\n",
      "normal.,0\r\n"
     ]
    }
   ],
   "source": [
    "!head ../data/raw/kdd.csv | q -H -d, \"\"\"SELECT interaction_type, case when interaction_type = 'normal.' then 0 else 1 end as attack \\\n",
    "from -\"\"\""
   ]
  }
 ],
 "metadata": {
  "kernelspec": {
   "display_name": "Python 2",
   "language": "python",
   "name": "python2"
  },
  "language_info": {
   "codemirror_mode": {
    "name": "ipython",
    "version": 2
   },
   "file_extension": ".py",
   "mimetype": "text/x-python",
   "name": "python",
   "nbconvert_exporter": "python",
   "pygments_lexer": "ipython2",
   "version": "2.7.13"
  }
 },
 "nbformat": 4,
 "nbformat_minor": 2
}
