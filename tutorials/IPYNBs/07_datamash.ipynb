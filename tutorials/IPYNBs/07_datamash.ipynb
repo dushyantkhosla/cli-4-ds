{
 "cells": [
  {
   "cell_type": "markdown",
   "metadata": {},
   "source": [
    "# datamash\n",
    "\n",
    "- https://www.gnu.org/software/datamash/manual/datamash.html\n",
    "- https://www.gnu.org/software/datamash/manual/html_node/Available-Operations.html\n",
    "\n",
    "---\n",
    "\n",
    "## Installation Notes\n",
    "\n",
    "- If you use `sudo apt install datamash`, check the version with `datamash --version`\n",
    "- We need version `1.1.0` and above (for functions like `crosstab`)\n",
    "- If not, follow these steps\n",
    "\n",
    "```bash\n",
    "# download the installer\n",
    "wget -P /tmp/ ftp://ftp.gnu.org/gnu/datamash/datamash-1.1.1.tar.gz\n",
    "\n",
    "# untar the file\n",
    "mkdir /tmp/datamash\n",
    "tar -xzf /tmp/datamash-1.1.1.tar.gz -C /tmp/datamash/\n",
    "\n",
    "# build\n",
    "cd /tmp/datamash\n",
    "./configure\n",
    "make\n",
    "sudo make install\n",
    "\n",
    "# if `datamash` doesn't run, copy the executable to the /usr/bin/ folder\n",
    "sudo cp ./datamash /usr/bin/datamash\n",
    "\n",
    "# run this to check\n",
    "datamash --version\n",
    "\n",
    "# read the documentation\n",
    "datamash --help \n",
    "man datamash\n",
    "info datamash\n",
    "```\n",
    "\n",
    "---\n",
    "\n",
    "## Usage\n",
    "\n",
    "Where op1 is the operation to perform on the values in column1. datamash reads input from stdin and performs one or more operations on the input data. If --group is used, each operation is performed on every group. If --group is not used, each operation is performed on all the values in the input file.\n",
    "\n",
    "\n",
    "Syntax\n",
    "```\n",
    "datamash [option]… op1 column1  [op2 column2 …]\n",
    "```\n",
    "\n",
    "---\n",
    "\n",
    "\n",
    "\n",
    "\n",
    "\n",
    "## Highlights\n",
    "\n",
    "<br>\n",
    "\n",
    "|Title|Features|\n",
    "|---|---|\n",
    "| Summary Statistics|  \t            `count,min,max,mean,stdev,median,quartiles`|\n",
    "| Header Lines and Column Names|  \tUsing files with header lines|\n",
    "| Field Delimiters|                   \tTabs, Whitespace, other delimiters|\n",
    "| Column Ranges|                 \tOperating on multiple columns|\n",
    "| Groupby|  \t        **Groupby**, count, collapse|\n",
    "| Check|  \t                        Validate tabular structure|\n",
    "| Crosstab|  \t                        Cross-tabulation (**pivot-tables**)|\n",
    "| Rounding numbers|  \t                `round, ceil, floor, trunc, frac`|\n",
    "| **Binning** numbers|  \t                assigning numbers into fixed number of buckets|\n",
    "| Binning strings|  \t                assigning strings into fixed number of buckets|\n",
    "| File operations |`transpose, reverse`|\n",
    "| Line-Filtering operations |`rmdup`|\n",
    "| Per-Line operations   |`base64, debase64, md5, sha1, sha256, sha512`|\n",
    "| Numeric Grouping operations  |`sum, min, max, absmin, absmax`|\n",
    "|Textual/Numeric Grouping operations |`count, first, last, rand, unique, collapse, countunique`|\n",
    "| Statistical Grouping operations 1  |`mean, median, q1, q3, iqr, mode, antimode, pstdev, sstdev`|\n",
    "|Statistical Grouping Operations 2|`, pvar, svar, mad, madraw, pskew, sskew, pkurt, skurt, dpo, jarque`|\n",
    "\n",
    "---\n",
    "\n",
    "## Also\n",
    "\n",
    "<br>\n",
    "\n",
    "- fills NAs!\n",
    "- remove duplicates!\n",
    "\n",
    "---\n",
    "\n",
    "## MOAR Options\n",
    "\n",
    "<br>\n",
    "\n",
    "```\n",
    "Grouping Options:\n",
    "\n",
    "  -f, --full                print entire input line before op results\n",
    "                              (default: print only the grouped keys)\n",
    "                              \n",
    "  -g, --group=X[,Y,Z]       group via fields X,[Y,Z]\n",
    "                                                        \n",
    "  -H, --headers             first input line is column headers, print column headers as first line\n",
    "  \n",
    "  -i, --ignore-case         ignore upper/lower case when comparing text;\n",
    "                              this affects grouping, and string operations\n",
    "\n",
    "  -s, --sort                sort the input before grouping; this removes the\n",
    "                              need to manually pipe the input through 'sort'\n",
    "                              \n",
    "File Operation Options:\n",
    "\n",
    "      --no-strict           allow lines with varying number of fields\n",
    "      --filler=X            fill missing values with X (default %s)\n",
    "\n",
    "General Options:\n",
    "\n",
    "  -t, --field-separator=X   use X instead of TAB as field delimiter\n",
    "      --narm                skip NA/NaN values\n",
    "  -W, --whitespace          use whitespace (one or more spaces and/or tabs)\n",
    "                            for field delimiters\n",
    "```"
   ]
  },
  {
   "cell_type": "code",
   "execution_count": 80,
   "metadata": {},
   "outputs": [
    {
     "name": "stdout",
     "output_type": "stream",
     "text": [
      "-rw-rw-r-- 1 dk dk        3619 May 16 10:51 countrynames.csv\r\n",
      "-rw-rw-r-- 1 dk dk  1489911208 May 16 10:51 Crimes_Chicago.csv\r\n",
      "-rw------- 1 dk dk   702878193 May 16 10:51 Flight_Delays.csv\r\n",
      "-rw------- 1 dk dk   702878193 May 16 23:10 flights.csv\r\n",
      "-rw-rw-r-- 1 dk dk         523 May 16 23:45 fromPandas_01.csv\r\n",
      "-rw-rw-r-- 1 dk dk         532 May 16 23:45 fromPandas_02.csv\r\n",
      "-rw-rw-r-- 1 dk dk   535743168 May 16 15:42 fromPandas.csv\r\n",
      "-rw-rw-r-- 1 dk dk          57 May 16 10:51 het-bool.csv\r\n",
      "-rw-rw-r-- 1 dk dk   742580451 May 16 18:59 kdd.csv\r\n",
      "-rw-rw-r-- 1 dk dk    28512235 May 16 18:49 millionSongsSample.csv\r\n",
      "-rw-rw-r-- 1 dk dk 10136806470 May 16 10:52 NYC__311Requests.csv\r\n",
      "-rw-rw-r-- 1 dk dk   151488712 May 16 10:52 worldcitiespop.csv\r\n"
     ]
    }
   ],
   "source": [
    "!ls -l ../data/raw | grep csv"
   ]
  },
  {
   "cell_type": "markdown",
   "metadata": {},
   "source": [
    "## basic `stat`s"
   ]
  },
  {
   "cell_type": "code",
   "execution_count": 419,
   "metadata": {},
   "outputs": [
    {
     "name": "stdout",
     "output_type": "stream",
     "text": [
      "|------+----------+-------+-------+-------+-------+-------+-------+-------+--------|\r\n",
      "|  C00 | D01      | C02   | D03   | D04   | A05   | A06   | B07   | A08   | C09    |\r\n",
      "|------+----------+-------+-------+-------+-------+-------+-------+-------+--------|\r\n",
      "|  PO  | Alert    | 0.08  | -0.29 | 1.04  | 0.5   | -0.19 | 0.92  | -1.18 | 0.46   |\r\n",
      "|  PO  | Alert    | 0.86  | 1.81  | 2.28  | 1.58  | 0.79  | 1.19  | 0.99  | -1.17  |\r\n",
      "|  PO  | Critical | -0.04 | 0.52  | -0.52 | 0.34  | 2.09  | -0.6  | 0.85  | -1.14  |\r\n",
      "|  AR  | Critical | -0.28 | 0.56  | 0.69  | 0.62  | -0.28 | -0.25 | 0.64  | -2.03  |\r\n",
      "|  AR  | Critical | 0.04  | -0.38 | -0.66 | -1.76 | -0.13 | 0.6   | -2.06 | 0.96   |\r\n",
      "|  PO  | Critical | 0.77  | 1.48  | 0.16  | -0.59 | 0.94  | 0.48  | -0.32 | -0.55  |\r\n",
      "|  AR  | Alert    | -0.15 | 0.03  | -2.05 | -0.56 | -1.04 | 1.29  | 0.51  | -0.01  |\r\n",
      "|  PO  | Alert    | -0.17 | -0.4  | -0.16 | 2.65  | -0.48 | 0.25  | -1.1  | 0.77   |\r\n",
      "|  AR  | Alert    | -0.57 | -0.31 | -0.14 | -2.89 | 0.52  | 0.18  | -0.03 | 0.47   |\r\n",
      "|------+----------+-------+-------+-------+-------+-------+-------+-------+--------|\r\n"
     ]
    }
   ],
   "source": [
    "!head ../data/raw/fromPandas.csv | csvlook"
   ]
  },
  {
   "cell_type": "code",
   "execution_count": 420,
   "metadata": {},
   "outputs": [
    {
     "name": "stdout",
     "output_type": "stream",
     "text": [
      "|-----------+----------+----------+-----------|\r\n",
      "|  sum(C02) | sum(D03) | sum(D04) | sum(A05)  |\r\n",
      "|-----------+----------+----------+-----------|\r\n",
      "|  4083.25  | 3448.1   | -2271.68 | -236.88   |\r\n",
      "|-----------+----------+----------+-----------|\r\n"
     ]
    }
   ],
   "source": [
    "!datamash -sHi -t, sum 3-6 < ../data/raw/fromPandas.csv | csvlook"
   ]
  },
  {
   "cell_type": "code",
   "execution_count": 84,
   "metadata": {},
   "outputs": [
    {
     "name": "stdout",
     "output_type": "stream",
     "text": [
      "|-----------+---------+-------------+---------+-----------|\r\n",
      "|  min(C02) | q1(C02) | median(C02) | q3(C02) | max(C02)  |\r\n",
      "|-----------+---------+-------------+---------+-----------|\r\n",
      "|  -5.21    | -0.67   | -0          | 0.68    | 5.19      |\r\n",
      "|-----------+---------+-------------+---------+-----------|\r\n"
     ]
    }
   ],
   "source": [
    "!datamash -t, -H min 3 q1 3 median 3 q3 3 max 3  < ../data/raw/fromPandas.csv | csvlook"
   ]
  },
  {
   "cell_type": "code",
   "execution_count": 104,
   "metadata": {},
   "outputs": [
    {
     "name": "stdout",
     "output_type": "stream",
     "text": [
      "|--------------+------------------|\r\n",
      "|  mean(A06)   | sstdev(A06)      |\r\n",
      "|--------------+------------------|\r\n",
      "|  0.000461629 | 1.0001281946602  |\r\n",
      "|--------------+------------------|\r\n"
     ]
    }
   ],
   "source": [
    "!datamash -t, -H mean A06 sstdev A06 < ../data/raw/fromPandas.csv | csvlook"
   ]
  },
  {
   "cell_type": "markdown",
   "metadata": {},
   "source": [
    "## `groupby` operations"
   ]
  },
  {
   "cell_type": "code",
   "execution_count": 139,
   "metadata": {},
   "outputs": [
    {
     "name": "stdout",
     "output_type": "stream",
     "text": [
      "|-------------------+-----------+------------|\r\n",
      "|  interaction_type | src_bytes | dst_bytes  |\r\n",
      "|-------------------+-----------+------------|\r\n",
      "|  normal.          | 215       | 45076      |\r\n",
      "|  normal.          | 162       | 4528       |\r\n",
      "|  normal.          | 236       | 1228       |\r\n",
      "|  normal.          | 233       | 2032       |\r\n",
      "|  normal.          | 239       | 486        |\r\n",
      "|  normal.          | 238       | 1282       |\r\n",
      "|  normal.          | 235       | 1337       |\r\n",
      "|  normal.          | 234       | 1364       |\r\n",
      "|  normal.          | 239       | 1295       |\r\n",
      "|-------------------+-----------+------------|\r\n"
     ]
    }
   ],
   "source": [
    "!csvcut -c interaction_type,src_bytes,dst_bytes ../data/raw/kdd.csv | head | csvlook"
   ]
  },
  {
   "cell_type": "code",
   "execution_count": 421,
   "metadata": {},
   "outputs": [
    {
     "name": "stdout",
     "output_type": "stream",
     "text": [
      "|----------------------------+--------------------+---------------------+-------------------+--------------------|\r\n",
      "|  GroupBy(interaction_type) | mean(src_bytes)    | mean(dst_bytes)     | sstdev(src_bytes) | sstdev(dst_bytes)  |\r\n",
      "|----------------------------+--------------------+---------------------+-------------------+--------------------|\r\n",
      "|  back.                     | 54156.355878348    | 8232.6495687699     | 3159.3602320464   | 616.23179457446    |\r\n",
      "|  buffer_overflow.          | 1400.4333333333    | 6339.8333333333     | 1337.1326162103   | 12440.664773466    |\r\n",
      "|  ftp_write.                | 220.75             | 5382.25             | 267.74761570234   | 13793.737530903    |\r\n",
      "|  guess_passwd.             | 125.33962264151    | 216.18867924528     | 3.037859799687    | 257.50228203647    |\r\n",
      "|  imap.                     | 347.58333333333    | 54948.666666667     | 629.92603582172   | 187158.40119454    |\r\n",
      "|  ipsweep.                  | 10.436583607083    | 4.394359426328      | 37.09492550297    | 462.19579938396    |\r\n",
      "|  land.                     | 0                  | 0                   | 0                 | 0                  |\r\n",
      "|  loadmodule.               | 151.88888888889    | 3009.8888888889     | 127.74529780431   | 2907.4277052252    |\r\n",
      "|  multihop.                 | 435.14285714286    | 213016.28571429     | 540.96038936057   | 382586.00499962    |\r\n",
      "|  neptune.                  | 0.0099942444942571 | 0.00082088250466177 | 10.347866229879   | 0.84992741107836   |\r\n",
      "|  nmap.                     | 24.424006908463    | 0.13255613126079    | 60.37052484509    | 4.7761242620571    |\r\n",
      "|  normal.                   | 1477.846250081     | 3234.6501113817     | 110500.41940105   | 34231.680610548    |\r\n",
      "|  perl.                     | 265.66666666667    | 2444                | 4.9328828623162   | 166.13548687743    |\r\n",
      "|  phf.                      | 51                 | 8127                | 0                 | 0                  |\r\n",
      "|  pod.                      | 1462.6515151515    | 0                   | 125.0980442777    | 0                  |\r\n",
      "|  portsweep.                | 431708.31182176    | 202681.31643138     | 20383536.155508   | 13983601.671997    |\r\n",
      "|  rootkit.                  | 294.7              | 4276.6              | 538.57817961328   | 7558.5449540386    |\r\n",
      "|  satan.                    | 0.99874150515983   | 2.1274855273093     | 35.927415459528   | 145.10315741745    |\r\n",
      "|  smurf.                    | 935.7730962012     | 0                   | 200.02142879934   | 0                  |\r\n",
      "|  spy.                      | 174.5              | 1193.5              | 88.388347648318   | 490.02499936228    |\r\n",
      "|  teardrop.                 | 28                 | 0.057201225740552   | 0                 | 1.2649097429583    |\r\n",
      "|  warezclient.              | 300219.5627451     | 719.31764705882     | 1200905.2431303   | 1104.4083239047    |\r\n",
      "|  warezmaster.              | 49.3               | 3922087.7           | 212.15513192002   | 2197498.9594262    |\r\n",
      "|----------------------------+--------------------+---------------------+-------------------+--------------------|\r\n"
     ]
    }
   ],
   "source": [
    "!datamash -sHi -t,  \\\n",
    "--group interaction_type \\\n",
    "   mean src_bytes,dst_bytes \\\n",
    " sstdev src_bytes,dst_bytes < ../data/raw/kdd.csv | csvlook\n",
    "# -t, because our file is comma delimited\n",
    "# --sort because groupby needs it\n",
    "# -H because the input has headers and we want the output to have them too\n",
    "# --group for group-by\n",
    "# -i to ignore case\n",
    "# count is the aggregation function used (Remember the syntax <op1> <col1>)"
   ]
  },
  {
   "cell_type": "code",
   "execution_count": 136,
   "metadata": {},
   "outputs": [
    {
     "name": "stdout",
     "output_type": "stream",
     "text": [
      "|----------------+-----------+----------+----------+--------+------+-----------|\r\n",
      "|  UniqueCarrier | FlightNum | ArrDelay | DepDelay | Origin | Dest | Distance  |\r\n",
      "|----------------+-----------+----------+----------+--------+------+-----------|\r\n",
      "|  WN            | 2891      | 1        | 7        | SMF    | ONT  | 389       |\r\n",
      "|  WN            | 462       | 8        | 13       | SMF    | PDX  | 479       |\r\n",
      "|  WN            | 1229      | 34       | 36       | SMF    | PDX  | 479       |\r\n",
      "|  WN            | 1355      | 26       | 30       | SMF    | PDX  | 479       |\r\n",
      "|  WN            | 2278      | -3       | 1        | SMF    | PDX  | 479       |\r\n",
      "|  WN            | 2386      | 3        | 10       | SMF    | PDX  | 479       |\r\n",
      "|  WN            | 409       | 47       | 56       | SMF    | PHX  | 647       |\r\n",
      "|  WN            | 1131      | -2       | 9        | SMF    | PHX  | 647       |\r\n",
      "|  WN            | 1212      | 44       | 47       | SMF    | PHX  | 647       |\r\n",
      "|----------------+-----------+----------+----------+--------+------+-----------|\r\n"
     ]
    }
   ],
   "source": [
    "!csvcut -c 9,10,15-19 ../data/raw/flights.csv | head | csvlook"
   ]
  },
  {
   "cell_type": "code",
   "execution_count": 152,
   "metadata": {},
   "outputs": [
    {
     "name": "stdout",
     "output_type": "stream",
     "text": [
      "|-------------------------+-----------------+---------------+----------------+-----------------|\r\n",
      "|  GroupBy(UniqueCarrier) | GroupBy(Origin) | GroupBy(Dest) | mean(ArrDelay) | mean(DepDelay)  |\r\n",
      "|-------------------------+-----------------+---------------+----------------+-----------------|\r\n",
      "|  B6                     | ONT             | IAD           | 370.0          | 386.0           |\r\n",
      "|  XE                     | ELP             | MFE           | 316.0          | 307.0           |\r\n",
      "|  DL                     | SLC             | KOA           | 308.0          | 317.5           |\r\n",
      "|  OH                     | ACY             | MYR           | 252.0          | 222.0           |\r\n",
      "|  EV                     | RIC             | CVG           | 243.0          | 262.0           |\r\n",
      "|  UA                     | OAK             | LAX           | 231.0          | 248.0           |\r\n",
      "|  OH                     | MDT             | CLE           | 219.0          | 209.0           |\r\n",
      "|  OH                     | JAX             | CMH           | 217.0          | 165.0           |\r\n",
      "|  NW                     | DCA             | PLN           | 210.0          | 168.0           |\r\n",
      "|-------------------------+-----------------+---------------+----------------+-----------------|\r\n"
     ]
    }
   ],
   "source": [
    "# exclude missing data manually\n",
    "\n",
    "! csvtk filter -f \"15-16>0\" ../data/raw/flights.csv \\\n",
    "| datamash -t, -sHi -g UniqueCarrier,Origin,Dest \\\n",
    "mean ArrDelay,DepDelay \\\n",
    "| csvsort -r -c 'mean(ArrDelay)' \\\n",
    "| head | csvlook"
   ]
  },
  {
   "cell_type": "code",
   "execution_count": 154,
   "metadata": {},
   "outputs": [
    {
     "name": "stdout",
     "output_type": "stream",
     "text": [
      "\u001b[31m[ERRO]\u001b[0m invalid filter: 15-16=' '\r\n"
     ]
    }
   ],
   "source": [
    "! csvtk filter -f \"15-16=' '\" ../data/raw/flights.csv | head"
   ]
  },
  {
   "cell_type": "code",
   "execution_count": null,
   "metadata": {
    "collapsed": true
   },
   "outputs": [],
   "source": [
    "!mlr "
   ]
  },
  {
   "cell_type": "code",
   "execution_count": 277,
   "metadata": {},
   "outputs": [
    {
     "name": "stdout",
     "output_type": "stream",
     "text": [
      "datamash: invalid numeric value in line 2 field 15: 'NA'\r\n",
      "sort: write failed: 'standard output': Broken pipe\r\n",
      "sort: write error\r\n",
      "|-------------------------+-----------------+---------------+----------------+-----------------|\r\n",
      "|  GroupBy(UniqueCarrier) | GroupBy(Origin) | GroupBy(Dest) | mean(ArrDelay) | mean(DepDelay)  |\r\n",
      "|-------------------------+-----------------+---------------+----------------+-----------------|\r\n"
     ]
    }
   ],
   "source": [
    "!datamash -t, -sHi -g UniqueCarrier,Origin,Dest \\\n",
    "mean ArrDelay,DepDelay < ../data/raw/flights.csv | head | csvlook"
   ]
  },
  {
   "cell_type": "markdown",
   "metadata": {},
   "source": [
    "---\n",
    "## `dealing with missing data`\n",
    "\n",
    "- check with `csvstat --nulls`\n",
    "- remove with `awk`\n",
    "- fill with `datamash`"
   ]
  },
  {
   "cell_type": "code",
   "execution_count": 158,
   "metadata": {},
   "outputs": [
    {
     "name": "stdout",
     "output_type": "stream",
     "text": [
      " 15. ArrDelay: True\n",
      " 16. DepDelay: True\n"
     ]
    }
   ],
   "source": [
    "!csvstat -c 15-16 --nulls ../data/raw/flights.csv"
   ]
  },
  {
   "cell_type": "markdown",
   "metadata": {},
   "source": [
    "---\n",
    "\n",
    "> **Drop rows with missing data in a particular column**\n",
    "\n",
    "```bash\n",
    "# ignore rows with null values in column 5\n",
    "$ awk -F, '!length($5)' file\n",
    "# 1,abc,543,87,,fsg; \n",
    "# 1,abc,543,88,,fsg;\n",
    "```\n",
    "\n",
    "---"
   ]
  },
  {
   "cell_type": "code",
   "execution_count": 284,
   "metadata": {},
   "outputs": [
    {
     "data": {
      "text/html": [
       "<div>\n",
       "<style>\n",
       "    .dataframe thead tr:only-child th {\n",
       "        text-align: right;\n",
       "    }\n",
       "\n",
       "    .dataframe thead th {\n",
       "        text-align: left;\n",
       "    }\n",
       "\n",
       "    .dataframe tbody tr th {\n",
       "        vertical-align: top;\n",
       "    }\n",
       "</style>\n",
       "<table border=\"1\" class=\"dataframe\">\n",
       "  <thead>\n",
       "    <tr style=\"text-align: right;\">\n",
       "      <th></th>\n",
       "      <th>C00</th>\n",
       "      <th>C01</th>\n",
       "      <th>C02</th>\n",
       "      <th>C03</th>\n",
       "      <th>C04</th>\n",
       "      <th>C05</th>\n",
       "      <th>C06</th>\n",
       "      <th>C07</th>\n",
       "      <th>C08</th>\n",
       "      <th>C09</th>\n",
       "    </tr>\n",
       "  </thead>\n",
       "  <tbody>\n",
       "    <tr>\n",
       "      <th>0</th>\n",
       "      <td>NaN</td>\n",
       "      <td>-0.65</td>\n",
       "      <td>NaN</td>\n",
       "      <td>-0.51</td>\n",
       "      <td>NaN</td>\n",
       "      <td>2.10</td>\n",
       "      <td>NaN</td>\n",
       "      <td>-0.01</td>\n",
       "      <td>NaN</td>\n",
       "      <td>-0.11</td>\n",
       "    </tr>\n",
       "    <tr>\n",
       "      <th>1</th>\n",
       "      <td>0.14</td>\n",
       "      <td>0.24</td>\n",
       "      <td>-0.91</td>\n",
       "      <td>-0.54</td>\n",
       "      <td>0.72</td>\n",
       "      <td>1.14</td>\n",
       "      <td>-0.07</td>\n",
       "      <td>0.02</td>\n",
       "      <td>-0.05</td>\n",
       "      <td>1.07</td>\n",
       "    </tr>\n",
       "    <tr>\n",
       "      <th>2</th>\n",
       "      <td>NaN</td>\n",
       "      <td>0.81</td>\n",
       "      <td>NaN</td>\n",
       "      <td>-1.10</td>\n",
       "      <td>NaN</td>\n",
       "      <td>1.01</td>\n",
       "      <td>NaN</td>\n",
       "      <td>-1.88</td>\n",
       "      <td>NaN</td>\n",
       "      <td>-3.18</td>\n",
       "    </tr>\n",
       "    <tr>\n",
       "      <th>3</th>\n",
       "      <td>1.14</td>\n",
       "      <td>-0.25</td>\n",
       "      <td>-2.19</td>\n",
       "      <td>0.40</td>\n",
       "      <td>1.34</td>\n",
       "      <td>-0.96</td>\n",
       "      <td>0.27</td>\n",
       "      <td>0.26</td>\n",
       "      <td>-1.02</td>\n",
       "      <td>-0.37</td>\n",
       "    </tr>\n",
       "    <tr>\n",
       "      <th>4</th>\n",
       "      <td>NaN</td>\n",
       "      <td>0.34</td>\n",
       "      <td>NaN</td>\n",
       "      <td>-0.81</td>\n",
       "      <td>NaN</td>\n",
       "      <td>0.80</td>\n",
       "      <td>NaN</td>\n",
       "      <td>1.13</td>\n",
       "      <td>NaN</td>\n",
       "      <td>-0.15</td>\n",
       "    </tr>\n",
       "    <tr>\n",
       "      <th>5</th>\n",
       "      <td>-2.23</td>\n",
       "      <td>-0.90</td>\n",
       "      <td>-0.52</td>\n",
       "      <td>0.54</td>\n",
       "      <td>-1.07</td>\n",
       "      <td>1.47</td>\n",
       "      <td>-0.58</td>\n",
       "      <td>-0.46</td>\n",
       "      <td>0.53</td>\n",
       "      <td>-1.79</td>\n",
       "    </tr>\n",
       "    <tr>\n",
       "      <th>6</th>\n",
       "      <td>NaN</td>\n",
       "      <td>-0.44</td>\n",
       "      <td>NaN</td>\n",
       "      <td>-0.48</td>\n",
       "      <td>NaN</td>\n",
       "      <td>-0.73</td>\n",
       "      <td>NaN</td>\n",
       "      <td>-0.28</td>\n",
       "      <td>NaN</td>\n",
       "      <td>-1.94</td>\n",
       "    </tr>\n",
       "    <tr>\n",
       "      <th>7</th>\n",
       "      <td>-2.73</td>\n",
       "      <td>-0.22</td>\n",
       "      <td>1.87</td>\n",
       "      <td>0.92</td>\n",
       "      <td>-0.02</td>\n",
       "      <td>-0.44</td>\n",
       "      <td>0.48</td>\n",
       "      <td>1.48</td>\n",
       "      <td>-1.62</td>\n",
       "      <td>0.92</td>\n",
       "    </tr>\n",
       "    <tr>\n",
       "      <th>8</th>\n",
       "      <td>NaN</td>\n",
       "      <td>-0.31</td>\n",
       "      <td>NaN</td>\n",
       "      <td>-0.58</td>\n",
       "      <td>NaN</td>\n",
       "      <td>0.46</td>\n",
       "      <td>NaN</td>\n",
       "      <td>0.10</td>\n",
       "      <td>NaN</td>\n",
       "      <td>0.81</td>\n",
       "    </tr>\n",
       "    <tr>\n",
       "      <th>9</th>\n",
       "      <td>-1.36</td>\n",
       "      <td>0.29</td>\n",
       "      <td>-0.73</td>\n",
       "      <td>0.34</td>\n",
       "      <td>-1.85</td>\n",
       "      <td>-1.64</td>\n",
       "      <td>1.15</td>\n",
       "      <td>-0.23</td>\n",
       "      <td>-1.35</td>\n",
       "      <td>1.11</td>\n",
       "    </tr>\n",
       "  </tbody>\n",
       "</table>\n",
       "</div>"
      ],
      "text/plain": [
       "    C00   C01   C02   C03   C04   C05   C06   C07   C08   C09\n",
       "0   NaN -0.65   NaN -0.51   NaN  2.10   NaN -0.01   NaN -0.11\n",
       "1  0.14  0.24 -0.91 -0.54  0.72  1.14 -0.07  0.02 -0.05  1.07\n",
       "2   NaN  0.81   NaN -1.10   NaN  1.01   NaN -1.88   NaN -3.18\n",
       "3  1.14 -0.25 -2.19  0.40  1.34 -0.96  0.27  0.26 -1.02 -0.37\n",
       "4   NaN  0.34   NaN -0.81   NaN  0.80   NaN  1.13   NaN -0.15\n",
       "5 -2.23 -0.90 -0.52  0.54 -1.07  1.47 -0.58 -0.46  0.53 -1.79\n",
       "6   NaN -0.44   NaN -0.48   NaN -0.73   NaN -0.28   NaN -1.94\n",
       "7 -2.73 -0.22  1.87  0.92 -0.02 -0.44  0.48  1.48 -1.62  0.92\n",
       "8   NaN -0.31   NaN -0.58   NaN  0.46   NaN  0.10   NaN  0.81\n",
       "9 -1.36  0.29 -0.73  0.34 -1.85 -1.64  1.15 -0.23 -1.35  1.11"
      ]
     },
     "execution_count": 284,
     "metadata": {},
     "output_type": "execute_result"
    }
   ],
   "source": [
    "import pandas as pd\n",
    "import numpy as np\n",
    "\n",
    "df = pd.DataFrame(data=np.random.randn(10, 10).round(2))\n",
    "df.iloc[::2, ::2] = np.nan\n",
    "df.columns = ['C' + str(i).zfill(2) for i in range(10)]\n",
    "df.to_csv('fp2.csv', index=False)\n",
    "df"
   ]
  },
  {
   "cell_type": "markdown",
   "metadata": {},
   "source": [
    "### Checking for nulls"
   ]
  },
  {
   "cell_type": "markdown",
   "metadata": {},
   "source": [
    "### Checking for missing or extra fields"
   ]
  },
  {
   "cell_type": "code",
   "execution_count": 303,
   "metadata": {},
   "outputs": [
    {
     "name": "stdout",
     "output_type": "stream",
     "text": [
      "11 lines, 10 fields\r\n"
     ]
    }
   ],
   "source": [
    "!datamash -t, check < fp2.csv"
   ]
  },
  {
   "cell_type": "code",
   "execution_count": 308,
   "metadata": {},
   "outputs": [
    {
     "name": "stdout",
     "output_type": "stream",
     "text": [
      "Overwriting fp3.csv\n"
     ]
    }
   ],
   "source": [
    "%%writefile fp3.csv\n",
    "C01,C02,C03\n",
    "0,10,100\n",
    "0000,0001,0010\n",
    "0011,0100,0101,0110\n",
    "0111,1000,1001"
   ]
  },
  {
   "cell_type": "code",
   "execution_count": 309,
   "metadata": {},
   "outputs": [
    {
     "name": "stdout",
     "output_type": "stream",
     "text": [
      "line 3 (3 fields):\r\n",
      "  0000,0001,0010\r\n",
      "line 4 (4 fields):\r\n",
      "  0011,0100,0101,0110\r\n",
      "datamash: check failed: line 4 has 4 fields (previous line had 3)\r\n"
     ]
    }
   ],
   "source": [
    "!datamash -t, check < fp3.csv"
   ]
  },
  {
   "cell_type": "markdown",
   "metadata": {},
   "source": [
    "### Checking for nulls"
   ]
  },
  {
   "cell_type": "code",
   "execution_count": 221,
   "metadata": {},
   "outputs": [
    {
     "name": "stdout",
     "output_type": "stream",
     "text": [
      "  1. C00: True\r\n",
      "  2. C01: False\r\n",
      "  3. C02: True\r\n",
      "  4. C03: False\r\n",
      "  5. C04: True\r\n",
      "  6. C05: False\r\n",
      "  7. C06: True\r\n",
      "  8. C07: False\r\n",
      "  9. C08: True\r\n",
      " 10. C09: False\r\n"
     ]
    }
   ],
   "source": [
    "!csvstat --nulls fp2.csv"
   ]
  },
  {
   "cell_type": "markdown",
   "metadata": {},
   "source": [
    "### Filtering for rows with nulls"
   ]
  },
  {
   "cell_type": "code",
   "execution_count": 275,
   "metadata": {
    "scrolled": true
   },
   "outputs": [
    {
     "name": "stdout",
     "output_type": "stream",
     "text": [
      "|------+-------+-----+-------+-----+-------+-----+-------+-----+--------|\r\n",
      "|  C00 | C01   | C02 | C03   | C04 | C05   | C06 | C07   | C08 | C09    |\r\n",
      "|------+-------+-----+-------+-----+-------+-----+-------+-----+--------|\r\n",
      "|      | -0.04 |     | 2.58  |     | 0.65  |     | 0.45  |     | -0.47  |\r\n",
      "|      | 1.19  |     | 1.35  |     | -0.04 |     | 0.06  |     | -0.08  |\r\n",
      "|      | -1.7  |     | -0.38 |     | -0.93 |     | -1.17 |     | -0.22  |\r\n",
      "|      | 0.05  |     | 0.94  |     | -0.44 |     | 0.56  |     | -0.59  |\r\n",
      "|      | -1.7  |     | -2.03 |     | -1.15 |     | 1.84  |     | 0.11   |\r\n",
      "|------+-------+-----+-------+-----+-------+-----+-------+-----+--------|\r\n"
     ]
    }
   ],
   "source": [
    "!csvsql --query \"SELECT * \\\n",
    "FROM fp2 \\\n",
    "WHERE C00 IS NULL\" fp2.csv | csvlook"
   ]
  },
  {
   "cell_type": "code",
   "execution_count": null,
   "metadata": {
    "collapsed": true
   },
   "outputs": [],
   "source": [
    "194.78.85.8"
   ]
  },
  {
   "cell_type": "code",
   "execution_count": 274,
   "metadata": {
    "scrolled": true
   },
   "outputs": [
    {
     "name": "stdout",
     "output_type": "stream",
     "text": [
      "|------+-------+-----+-------+-----+-------+-----+-------+-----+--------|\r\n",
      "|  C00 | C01   | C02 | C03   | C04 | C05   | C06 | C07   | C08 | C09    |\r\n",
      "|------+-------+-----+-------+-----+-------+-----+-------+-----+--------|\r\n",
      "|      | -0.04 |     | 2.58  |     | 0.65  |     | 0.45  |     | -0.47  |\r\n",
      "|      | 1.19  |     | 1.35  |     | -0.04 |     | 0.06  |     | -0.08  |\r\n",
      "|      | -1.7  |     | -0.38 |     | -0.93 |     | -1.17 |     | -0.22  |\r\n",
      "|      | 0.05  |     | 0.94  |     | -0.44 |     | 0.56  |     | -0.59  |\r\n",
      "|      | -1.7  |     | -2.03 |     | -1.15 |     | 1.84  |     | 0.11   |\r\n",
      "|------+-------+-----+-------+-----+-------+-----+-------+-----+--------|\r\n"
     ]
    }
   ],
   "source": [
    "# select rows where C00 isnull\n",
    "!mlr --csv --rs lf cat  \\\n",
    "then filter 'is_null($C00)' fp2.csv | csvlook"
   ]
  },
  {
   "cell_type": "code",
   "execution_count": null,
   "metadata": {
    "collapsed": true
   },
   "outputs": [],
   "source": []
  },
  {
   "cell_type": "code",
   "execution_count": 283,
   "metadata": {},
   "outputs": [
    {
     "name": "stdout",
     "output_type": "stream",
     "text": [
      "|-----------+--------+-------|\r\n",
      "|  ArrDelay | Origin | Dest  |\r\n",
      "|-----------+--------+-------|\r\n",
      "|  NA       | SNA    | LAS   |\r\n",
      "|  NA       | AUS    | DAL   |\r\n",
      "|  NA       | DAL    | AUS   |\r\n",
      "|  NA       | DAL    | HOU   |\r\n",
      "|  NA       | DAL    | HOU   |\r\n",
      "|  NA       | DAL    | HOU   |\r\n",
      "|  NA       | HOU    | DAL   |\r\n",
      "|  NA       | HOU    | DAL   |\r\n",
      "|  NA       | HOU    | DAL   |\r\n",
      "|-----------+--------+-------|\r\n"
     ]
    }
   ],
   "source": [
    "!mlr --csv --rs lf cat  \\\n",
    "then filter '$ArrDelay == \"NA\"' ../data/raw/flights.csv | head | csvcut -c ArrDelay,Origin,Dest | csvlook"
   ]
  },
  {
   "cell_type": "code",
   "execution_count": 297,
   "metadata": {},
   "outputs": [
    {
     "name": "stdout",
     "output_type": "stream",
     "text": [
      "|----------+---------+-------------------+----------+----------+--------+-------|\r\n",
      "|  DepTime | ArrTime | ActualElapsedTime | ArrDelay | DepDelay | Origin | Dest  |\r\n",
      "|----------+---------+-------------------+----------+----------+--------+-------|\r\n",
      "|  NA      | NA      | NA                | NA       | NA       | SNA    | LAS   |\r\n",
      "|  NA      | NA      | NA                | NA       | NA       | AUS    | DAL   |\r\n",
      "|  NA      | NA      | NA                | NA       | NA       | DAL    | AUS   |\r\n",
      "|  NA      | NA      | NA                | NA       | NA       | DAL    | HOU   |\r\n",
      "|  NA      | NA      | NA                | NA       | NA       | DAL    | HOU   |\r\n",
      "|  NA      | NA      | NA                | NA       | NA       | DAL    | HOU   |\r\n",
      "|  NA      | NA      | NA                | NA       | NA       | HOU    | DAL   |\r\n",
      "|  NA      | NA      | NA                | NA       | NA       | HOU    | DAL   |\r\n",
      "|  NA      | NA      | NA                | NA       | NA       | HOU    | DAL   |\r\n",
      "|----------+---------+-------------------+----------+----------+--------+-------|\r\n"
     ]
    }
   ],
   "source": [
    "!csvgrep -c ArrDelay -r NA ../data/raw/flights.csv | head | cut -d, -f5,7,12,15-18 | csvlook"
   ]
  },
  {
   "cell_type": "code",
   "execution_count": 299,
   "metadata": {},
   "outputs": [
    {
     "name": "stdout",
     "output_type": "stream",
     "text": [
      "160749\r\n"
     ]
    }
   ],
   "source": [
    "!csvgrep -c ArrDelay,DepDelay,DepTime,ArrTime -r NA ../data/raw/flights.csv | wc -l"
   ]
  },
  {
   "cell_type": "code",
   "execution_count": 300,
   "metadata": {},
   "outputs": [
    {
     "name": "stdout",
     "output_type": "stream",
     "text": [
      "160749\r\n"
     ]
    }
   ],
   "source": [
    "!csvgrep -c ArrDelay,DepDelay,DepTime,ArrTime -r '^NA$' ../data/raw/flights.csv | wc -l"
   ]
  },
  {
   "cell_type": "markdown",
   "metadata": {},
   "source": [
    "### Marking/Isolating rows with Nulls"
   ]
  },
  {
   "cell_type": "code",
   "execution_count": 272,
   "metadata": {},
   "outputs": [
    {
     "name": "stdout",
     "output_type": "stream",
     "text": [
      "|--------+-------+-------+-------+-------+-------+-------+-------+-------+-------+-------------|\r\n",
      "|  C00   | C01   | C02   | C03   | C04   | C05   | C06   | C07   | C08   | C09   | C00_isnull  |\r\n",
      "|--------+-------+-------+-------+-------+-------+-------+-------+-------+-------+-------------|\r\n",
      "|        | -0.04 |       | 2.58  |       | 0.65  |       | 0.45  |       | -0.47 | true        |\r\n",
      "|  0.66  | -0.75 | 1.26  | 0.07  | 0.18  | -1.09 | 0.9   | -1.92 | 0.04  | -1.02 | false       |\r\n",
      "|        | 1.19  |       | 1.35  |       | -0.04 |       | 0.06  |       | -0.08 | true        |\r\n",
      "|  0.37  | 0.79  | -0.63 | -0.18 | 1.51  | -1.55 | -0.82 | 0.46  | 0.47  | 1.02  | false       |\r\n",
      "|        | -1.7  |       | -0.38 |       | -0.93 |       | -1.17 |       | -0.22 | true        |\r\n",
      "|  0.89  | 1.46  | -2.24 | -1.29 | -0.79 | 0.51  | 1.28  | 1.75  | 0.64  | -1.8  | false       |\r\n",
      "|        | 0.05  |       | 0.94  |       | -0.44 |       | 0.56  |       | -0.59 | true        |\r\n",
      "|  -1.04 | 0.4   | 1.67  | -1.06 | 0.81  | 0.19  | 0.3   | 0.18  | -0.37 | -1.79 | false       |\r\n",
      "|        | -1.7  |       | -2.03 |       | -1.15 |       | 1.84  |       | 0.11  | true        |\r\n",
      "|  1.24  | 0.29  | 0.72  | -1.67 | -0.16 | 1.7   | 0.5   | 0.09  | -0.77 | -0.49 | false       |\r\n",
      "|--------+-------+-------+-------+-------+-------+-------+-------+-------+-------+-------------|\r\n"
     ]
    }
   ],
   "source": [
    "!mlr --csv --rs lf cat  \\\n",
    "then put '$C00_isnull = is_null($C00)' fp2.csv | csvlook"
   ]
  },
  {
   "cell_type": "markdown",
   "metadata": {},
   "source": [
    "## `crosstabs, pivot tables`"
   ]
  },
  {
   "cell_type": "code",
   "execution_count": null,
   "metadata": {
    "collapsed": true
   },
   "outputs": [],
   "source": []
  },
  {
   "cell_type": "code",
   "execution_count": 314,
   "metadata": {},
   "outputs": [
    {
     "name": "stdout",
     "output_type": "stream",
     "text": [
      "Usage: datamash [OPTION] op [fld] [op fld ...]\r\n",
      "\r\n",
      "Performs numeric/string operations on input from stdin.\r\n",
      "\r\n",
      "'op' is the operation to perform.  If a primary operation is used,\r\n",
      "it must be listed first, optionally followed by other operations.\r\n",
      "'fld' is the input field to use.  'fld' can be a number (1=first field),\r\n",
      "or a field name when using the -H or --header-in options.\r\n",
      "Multiple fields can be listed with a comma (e.g. 1,6,8).  A range of\r\n",
      "fields can be listed with a dash (e.g. 2-8).  Use colons for operations\r\n",
      "which require a pair of fields (e.g. 'pcov 2:6').\r\n",
      "\r\n",
      "\r\n",
      "Primary operations:\r\n",
      "  groupby, crosstab, transpose, reverse, check\r\n",
      "Line-Filtering operations:\r\n",
      "  rmdup\r\n",
      "Per-Line operations:\r\n",
      "  base64, debase64, md5, sha1, sha256, sha512,\r\n",
      "  bin, strbin, round, floor, ceil, trunc, frac\r\n",
      "Numeric Grouping operations:\r\n",
      "  sum, min, max, absmin, absmax\r\n",
      "Textual/Numeric Grouping operations:\r\n",
      "  count, first, last, rand, unique, collapse, countunique\r\n",
      "Statistical Grouping operations:\r\n",
      "  mean, median, q1, q3, iqr, mode, antimode, pstdev, sstdev, pvar,\r\n",
      "  svar, mad, madraw, pskew, sskew, pkurt, skurt, dpo, jarque,\r\n",
      "  scov, pcov, spearson, ppearson\r\n",
      "\r\n",
      "\r\n",
      "Grouping Options:\r\n",
      "  -f, --full                print entire input line before op results\r\n",
      "                              (default: print only the grouped keys)\r\n",
      "  -g, --group=X[,Y,Z]       group via fields X,[Y,Z];\r\n",
      "                              equivalent to primary operation 'groupby'\r\n",
      "      --header-in           first input line is column headers\r\n",
      "      --header-out          print column headers as first line\r\n",
      "  -H, --headers             same as '--header-in --header-out'\r\n",
      "  -i, --ignore-case         ignore upper/lower case when comparing text;\r\n",
      "                              this affects grouping, and string operations\r\n",
      "  -s, --sort                sort the input before grouping; this removes the\r\n",
      "                              need to manually pipe the input through 'sort'\r\n",
      "File Operation Options:\r\n",
      "      --no-strict           allow lines with varying number of fields\r\n",
      "      --filler=X            fill missing values with X (default %s)\r\n",
      "\r\n",
      "General Options:\r\n",
      "  -t, --field-separator=X   use X instead of TAB as field delimiter\r\n",
      "      --narm                skip NA/NaN values\r\n",
      "  -W, --whitespace          use whitespace (one or more spaces and/or tabs)\r\n",
      "                              for field delimiters\r\n",
      "  -z, --zero-terminated     end lines with 0 byte, not newline\r\n",
      "      --help     display this help and exit\r\n",
      "      --version  output version information and exit\r\n",
      "\r\n",
      "\r\n",
      "Examples:\r\n",
      "\r\n",
      "Print the sum and the mean of values from column 1:\r\n",
      "  $ seq 10 | datamash sum 1 mean 1\r\n",
      "  55  5.5\r\n",
      "\r\n",
      "Transpose input:\r\n",
      "  $ seq 10 | paste - - | datamash transpose\r\n",
      "  1    3    5    7    9\r\n",
      "  2    4    6    8    10\r\n",
      "\r\n",
      "For detailed usage information and examples, see\r\n",
      "  man GNU datamash\r\n",
      "The manual and more examples are available at\r\n",
      "  http://www.gnu.org/software/datamash\r\n",
      "\r\n"
     ]
    }
   ],
   "source": [
    "!datamash crosstab --help"
   ]
  },
  {
   "cell_type": "code",
   "execution_count": 316,
   "metadata": {},
   "outputs": [
    {
     "name": "stdout",
     "output_type": "stream",
     "text": [
      "<standard input>:161: a space character is not allowed in an escape name\r\n",
      "              groupby, crosstab, transpose, reverse, check\r\n",
      "       numbers  (groupby,  crosstab) while others do not (reverse,check,trans‐\r\n",
      "       crosstab X,Y [op fld ...]\r\n",
      "              $ datamash -s crosstab 1,2 < input.txt\r\n",
      "              $ datamash -s crosstab 1,2 sum 3 < input.txt\r\n",
      "              $ datamash -s crosstab 1,2 unique 3 < input.txt\r\n"
     ]
    }
   ],
   "source": [
    "!man datamash | grep crosstab"
   ]
  },
  {
   "cell_type": "code",
   "execution_count": null,
   "metadata": {
    "collapsed": true
   },
   "outputs": [],
   "source": []
  },
  {
   "cell_type": "code",
   "execution_count": 321,
   "metadata": {},
   "outputs": [
    {
     "name": "stdout",
     "output_type": "stream",
     "text": [
      "|-----+---------+----------+--------+-----------|\r\n",
      "|     | Alert   | Critical | Ignore | Shutdown  |\r\n",
      "|-----+---------+----------+--------+-----------|\r\n",
      "|  AR | 2700486 | 2274768  | 29093  | 15405     |\r\n",
      "|  EN | 775     | 682      | 7      | 4         |\r\n",
      "|  ES | 2171    | 1762     | 17     | 17        |\r\n",
      "|  FR | 291865  | 246750   | 3147   | 1652      |\r\n",
      "|  PO | 2225076 | 1874976  | 24232  | 12440     |\r\n",
      "|  RU | 158732  | 133364   | 1661   | 918       |\r\n",
      "|-----+---------+----------+--------+-----------|\r\n"
     ]
    }
   ],
   "source": [
    "!cat ../data/raw/fromPandas.csv | datamash -t, -s -H crosstab 1,2 | sed '1d' | csvlook"
   ]
  },
  {
   "cell_type": "markdown",
   "metadata": {},
   "source": [
    "### Checking for nulls"
   ]
  },
  {
   "cell_type": "code",
   "execution_count": 318,
   "metadata": {},
   "outputs": [
    {
     "name": "stdout",
     "output_type": "stream",
     "text": [
      "datamash: src/column-headers.c:63: get_input_field_name: Assertion `field_num > 0 && field_num <= num_input_column_headers' failed.\n",
      "GroupBy(C00),GroupBy(D01),Aborted (core dumped)\n"
     ]
    }
   ],
   "source": [
    "!cat ../data/raw/fromPandas.csv | datamash -t, -s -H crosstab C00,D01\n",
    "# default aggfunc is `count`"
   ]
  },
  {
   "cell_type": "code",
   "execution_count": null,
   "metadata": {
    "collapsed": true
   },
   "outputs": [],
   "source": []
  },
  {
   "cell_type": "code",
   "execution_count": 322,
   "metadata": {},
   "outputs": [
    {
     "name": "stdout",
     "output_type": "stream",
     "text": [
      "|-----+---------------------+----------------------+---------------------+---------------------|\r\n",
      "|     | Alert               | Critical             | Ignore              | Shutdown            |\r\n",
      "|-----+---------------------+----------------------+---------------------+---------------------|\r\n",
      "|  AR | 0.00096527810179353 | 0.00045535193039466  | -0.0031327123363008 | 0.0037702044790652  |\r\n",
      "|  EN | -0.016554838709677  | 0.049560117302053    | 0.24714285714286    | -0.0575             |\r\n",
      "|  ES | 0.011879318286504   | 0.07194665153235     | -0.028823529411765  | 0.16117647058824    |\r\n",
      "|  FR | 0.00023079163311805 | -0.0020542249240122  | 0.0017572291070861  | -0.018807506053269  |\r\n",
      "|  PO | 2.670470581679e-05  | 0.00029508644377315  | -0.012478128095081  | 0.011842443729904   |\r\n",
      "|  RU | 0.0020377743618174  | -6.1860772022435e-05 | 9.59528713759e-21   | -0.012320261437908  |\r\n",
      "|-----+---------------------+----------------------+---------------------+---------------------|\r\n"
     ]
    }
   ],
   "source": [
    "!cat ../data/raw/fromPandas.csv | datamash -t, -s -H crosstab 1,2 mean 3 | sed '1d' | csvlook"
   ]
  },
  {
   "cell_type": "code",
   "execution_count": 324,
   "metadata": {},
   "outputs": [
    {
     "name": "stdout",
     "output_type": "stream",
     "text": [
      "Usage: mlr cut [options]\r\n",
      "Passes through input records with specified fields included/excluded.\r\n",
      "-f {a,b,c}       Field names to include for cut.\r\n",
      "-o               Retain fields in the order specified here in the argument list.\r\n",
      "                 Default is to retain them in the order found in the input data.\r\n",
      "-x|--complement  Exclude, rather than include, field names specified by -f.\r\n",
      "-r               Treat field names as regular expressions. \"ab\", \"a.*b\" will\r\n",
      "                 match any field name containing the substring \"ab\" or matching\r\n",
      "                 \"a.*b\", respectively; anchors of the form \"^ab$\", \"^a.*b$\" may\r\n",
      "                 be used. The -o flag is ignored when -r is present.\r\n",
      "Examples:\r\n",
      "  mlr cut -f hostname,status\r\n",
      "  mlr cut -x -f hostname,status\r\n",
      "  mlr cut -r -f '^status$,sda[0-9]'\r\n",
      "  mlr cut -r -f '^status$,\"sda[0-9]\"'\r\n",
      "  mlr cut -r -f '^status$,\"sda[0-9]\"i' (this is case-insensitive)\r\n"
     ]
    }
   ],
   "source": [
    "!mlr cut -h"
   ]
  },
  {
   "cell_type": "code",
   "execution_count": 328,
   "metadata": {},
   "outputs": [
    {
     "name": "stdout",
     "output_type": "stream",
     "text": [
      "  1. duration\n",
      "\t<type 'int'>\n",
      "\tNulls: False\n",
      "\tMin: 0\n",
      "\tMax: 58329\n",
      "\tSum: 236802060\n",
      "\tMean: 48.342430464\n",
      "\tMedian: 0\n",
      "\tStandard Deviation: 723.329737422\n",
      "\tUnique values: 9883\n",
      "\t5 most frequent values:\n",
      "\t\t0:\t4779492\n",
      "\t\t1:\t23886\n",
      "\t\t2:\t8139\n",
      "\t\t3:\t6016\n",
      "\t\t5:\t5576\n",
      "  2. protocol_type\n",
      "\t<type 'unicode'>\n",
      "\tNulls: False\n",
      "\tValues: udp, icmp, tcp\n",
      "  3. service\n",
      "\t<type 'unicode'>\n",
      "\tNulls: False\n",
      "\tUnique values: 70\n",
      "\t5 most frequent values:\n",
      "\t\tecr_i:\t2811660\n",
      "\t\tprivate:\t1100831\n",
      "\t\thttp:\t623091\n",
      "\t\tsmtp:\t96554\n",
      "\t\tother:\t72653\n",
      "\tMax length: 11\n",
      "  4. flag\n",
      "\t<type 'unicode'>\n",
      "\tNulls: False\n",
      "\tUnique values: 11\n",
      "\t5 most frequent values:\n",
      "\t\tSF:\t3744328\n",
      "\t\tS0:\t869829\n",
      "\t\tREJ:\t268874\n",
      "\t\tRSTR:\t8094\n",
      "\t\tRSTO:\t5344\n",
      "\tMax length: 6\n",
      "  5. src_bytes\n",
      "\t<type 'int'>\n",
      "\tNulls: False\n",
      "\tMin: 0\n",
      "\tMax: 1379963888\n",
      "\tSum: 8986765238\n",
      "\tMean: 1834.62117523\n",
      "\tMedian: 520\n",
      "\tStandard Deviation: 941430.978396\n",
      "\tUnique values: 7195\n",
      "\t5 most frequent values:\n",
      "\t\t1032:\t2280245\n",
      "\t\t0:\t1152546\n",
      "\t\t520:\t527731\n",
      "\t\t105:\t73899\n",
      "\t\t147:\t27324\n",
      "  6. dst_bytes\n",
      "\t<type 'int'>\n",
      "\tNulls: False\n",
      "\tMin: 0\n",
      "\tMax: 1309937401\n",
      "\tSum: 5357035893\n",
      "\tMean: 1093.62281371\n",
      "\tMedian: 0\n",
      "\tStandard Deviation: 645012.267904\n",
      "\tUnique values: 21493\n",
      "\t5 most frequent values:\n",
      "\t\t0:\t4064854\n",
      "\t\t105:\t44713\n",
      "\t\t147:\t24910\n",
      "\t\t146:\t22536\n",
      "\t\t145:\t9500\n",
      "  7. interaction_type\n",
      "\t<type 'unicode'>\n",
      "\tNulls: False\n",
      "\tUnique values: 23\n",
      "\t5 most frequent values:\n",
      "\t\tsmurf.:\t2807886\n",
      "\t\tneptune.:\t1072017\n",
      "\t\tnormal.:\t972781\n",
      "\t\tsatan.:\t15892\n",
      "\t\tipsweep.:\t12481\n",
      "\tMax length: 16\n",
      "\n",
      "Row count: 4898431\n"
     ]
    }
   ],
   "source": [
    "!csvcut -c 1-6,42 ../data/raw/kdd.csv | csvstat"
   ]
  },
  {
   "cell_type": "code",
   "execution_count": 329,
   "metadata": {},
   "outputs": [
    {
     "name": "stdout",
     "output_type": "stream",
     "text": [
      "|---------+------+--------------------+------------------|\r\n",
      "|         | icmp | tcp                | udp              |\r\n",
      "|---------+------+--------------------+------------------|\r\n",
      "|  OTH    | N/A  | 0                  | N/A              |\r\n",
      "|  REJ    | N/A  | 0.0012384983300728 | N/A              |\r\n",
      "|  RSTO   | N/A  | 56.963323353293    | N/A              |\r\n",
      "|  RSTOS0 | N/A  | 2876.7049180328    | N/A              |\r\n",
      "|  RSTR   | N/A  | 3323.1266370151    | N/A              |\r\n",
      "|  S0     | N/A  | 0                  | N/A              |\r\n",
      "|  S1     | N/A  | 0                  | N/A              |\r\n",
      "|  S2     | N/A  | 6.2670807453416    | N/A              |\r\n",
      "|  S3     | N/A  | 429.98             | N/A              |\r\n",
      "|  SF     | 0    | 8.5918701456395    | 1045.2031520217  |\r\n",
      "|  SH     | N/A  | 0                  | N/A              |\r\n",
      "|---------+------+--------------------+------------------|\r\n"
     ]
    }
   ],
   "source": [
    "!csvcut -c 1-6,42 ../data/raw/kdd.csv \\\n",
    "| datamash -t, -sHi crosstab 4,2 mean 1 \\\n",
    "| sed '1d' | csvlook"
   ]
  },
  {
   "cell_type": "code",
   "execution_count": 330,
   "metadata": {},
   "outputs": [
    {
     "name": "stdout",
     "output_type": "stream",
     "text": [
      "  1: duration\r\n",
      "  2: protocol_type\r\n",
      "  3: service\r\n",
      "  4: flag\r\n",
      "  5: src_bytes\r\n",
      "  6: dst_bytes\r\n",
      "  7: land\r\n",
      "  8: wrong_fragment\r\n",
      "  9: urgent\r\n",
      " 10: hot\r\n",
      " 11: num_failed_logins\r\n",
      " 12: logged_in\r\n",
      " 13: num_compromised\r\n",
      " 14: root_shell\r\n",
      " 15: su_attempted\r\n",
      " 16: num_root\r\n",
      " 17: num_file_creations\r\n",
      " 18: num_shells\r\n",
      " 19: num_access_files\r\n",
      " 20: num_outbound_cmds\r\n",
      " 21: is_host_login\r\n",
      " 22: is_guest_login\r\n",
      " 23: count\r\n",
      " 24: srv_count\r\n",
      " 25: serror_rate\r\n",
      " 26: srv_serror_rate\r\n",
      " 27: rerror_rate\r\n",
      " 28: srv_rerror_rate\r\n",
      " 29: same_srv_rate\r\n",
      " 30: diff_srv_rate\r\n",
      " 31: srv_diff_host_rate\r\n",
      " 32: dst_host_count\r\n",
      " 33: dst_host_srv_count\r\n",
      " 34: dst_host_same_srv_rate\r\n",
      " 35: dst_host_diff_srv_rate\r\n",
      " 36: dst_host_same_src_port_rate\r\n",
      " 37: dst_host_srv_diff_host_rate\r\n",
      " 38: dst_host_serror_rate\r\n",
      " 39: dst_host_srv_serror_rate\r\n",
      " 40: dst_host_rerror_rate\r\n",
      " 41: dst_host_srv_rerror_rate\r\n",
      " 42: interaction_type\r\n"
     ]
    }
   ],
   "source": [
    "!csvcut -n ../data/raw/kdd.csv"
   ]
  },
  {
   "cell_type": "code",
   "execution_count": 344,
   "metadata": {},
   "outputs": [
    {
     "name": "stdout",
     "output_type": "stream",
     "text": [
      "|-------+-----------------+---------------------|\r\n",
      "|       | false           | true                |\r\n",
      "|-------+-----------------+---------------------|\r\n",
      "|  icmp | 0               | 0                   |\r\n",
      "|  tcp  | 11.481294964029 | 22.602477657342     |\r\n",
      "|  udp  | 1061.2623387754 | 0.0013605442176871  |\r\n",
      "|-------+-----------------+---------------------|\r\n"
     ]
    }
   ],
   "source": [
    "# crosstabs with columns created on-the-fly\n",
    "!cat ../data/raw/kdd.csv \\\n",
    "| mlr --csv --rs lf put '$attack = $interaction_type!=\"normal.\"' \\\n",
    "| datamash -t, -sHi crosstab 2,43 mean 1 | sed '1d' | csvlook"
   ]
  },
  {
   "cell_type": "code",
   "execution_count": 343,
   "metadata": {},
   "outputs": [
    {
     "name": "stdout",
     "output_type": "stream",
     "text": [
      "datamash: crosstab supports one operation, found 2\r\n",
      "\r\n"
     ]
    }
   ],
   "source": [
    "!cat ../data/raw/kdd.csv \\\n",
    "| mlr --csv --rs lf put '$attack = $interaction_type!=\"normal.\"' \\\n",
    "| datamash -t, -sHi crosstab 2,43 mean 1 sstdev 1 | csvlook\n",
    "# only one aggfunc allowed at a time"
   ]
  },
  {
   "cell_type": "markdown",
   "metadata": {},
   "source": [
    "---\n",
    "## `transpose`, `reverse` (columns/rows)"
   ]
  },
  {
   "cell_type": "code",
   "execution_count": 345,
   "metadata": {},
   "outputs": [
    {
     "name": "stdout",
     "output_type": "stream",
     "text": [
      "C00,C01,C02,C03,C04,C05,C06,C07,C08,C09\r\n",
      ",-0.65,,-0.51,,2.1,,-0.01,,-0.11\r\n",
      "0.14,0.24,-0.91,-0.54,0.72,1.14,-0.07,0.02,-0.05,1.07\r\n",
      ",0.81,,-1.1,,1.01,,-1.88,,-3.18\r\n",
      "1.14,-0.25,-2.19,0.4,1.34,-0.96,0.27,0.26,-1.02,-0.37\r\n",
      ",0.34,,-0.81,,0.8,,1.13,,-0.15\r\n",
      "-2.23,-0.9,-0.52,0.54,-1.07,1.47,-0.58,-0.46,0.53,-1.79\r\n",
      ",-0.44,,-0.48,,-0.73,,-0.28,,-1.94\r\n",
      "-2.73,-0.22,1.87,0.92,-0.02,-0.44,0.48,1.48,-1.62,0.92\r\n",
      ",-0.31,,-0.58,,0.46,,0.1,,0.81\r\n",
      "-1.36,0.29,-0.73,0.34,-1.85,-1.64,1.15,-0.23,-1.35,1.11\r\n"
     ]
    }
   ],
   "source": [
    "!cat fp2.csv"
   ]
  },
  {
   "cell_type": "code",
   "execution_count": 346,
   "metadata": {},
   "outputs": [
    {
     "name": "stdout",
     "output_type": "stream",
     "text": [
      "|------+-------+-------+-------+-------+-------+-------+-------+-------+-------+--------|\r\n",
      "|  C00 |       | 0.14  |       | 1.14  |       | -2.23 |       | -2.73 |       | -1.36  |\r\n",
      "|------+-------+-------+-------+-------+-------+-------+-------+-------+-------+--------|\r\n",
      "|  C01 | -0.65 | 0.24  | 0.81  | -0.25 | 0.34  | -0.9  | -0.44 | -0.22 | -0.31 | 0.29   |\r\n",
      "|  C02 |       | -0.91 |       | -2.19 |       | -0.52 |       | 1.87  |       | -0.73  |\r\n",
      "|  C03 | -0.51 | -0.54 | -1.1  | 0.4   | -0.81 | 0.54  | -0.48 | 0.92  | -0.58 | 0.34   |\r\n",
      "|  C04 |       | 0.72  |       | 1.34  |       | -1.07 |       | -0.02 |       | -1.85  |\r\n",
      "|  C05 | 2.1   | 1.14  | 1.01  | -0.96 | 0.8   | 1.47  | -0.73 | -0.44 | 0.46  | -1.64  |\r\n",
      "|  C06 |       | -0.07 |       | 0.27  |       | -0.58 |       | 0.48  |       | 1.15   |\r\n",
      "|  C07 | -0.01 | 0.02  | -1.88 | 0.26  | 1.13  | -0.46 | -0.28 | 1.48  | 0.1   | -0.23  |\r\n",
      "|  C08 |       | -0.05 |       | -1.02 |       | 0.53  |       | -1.62 |       | -1.35  |\r\n",
      "|  C09 | -0.11 | 1.07  | -3.18 | -0.37 | -0.15 | -1.79 | -1.94 | 0.92  | 0.81  | 1.11   |\r\n",
      "|------+-------+-------+-------+-------+-------+-------+-------+-------+-------+--------|\r\n"
     ]
    }
   ],
   "source": [
    "!datamash -t, transpose < fp2.csv | csvlook"
   ]
  },
  {
   "cell_type": "code",
   "execution_count": 354,
   "metadata": {
    "scrolled": false
   },
   "outputs": [
    {
     "name": "stdout",
     "output_type": "stream",
     "text": [
      "|------+----------+-------+-------+-------+-------+-------+-------+-------+--------|\r\n",
      "|  C00 | D01      | C02   | D03   | D04   | A05   | A06   | B07   | A08   | C09    |\r\n",
      "|------+----------+-------+-------+-------+-------+-------+-------+-------+--------|\r\n",
      "|  PO  | Alert    | 0.08  | -0.29 | 1.04  | 0.5   | -0.19 | 0.92  | -1.18 | 0.46   |\r\n",
      "|  PO  | Alert    | 0.86  | 1.81  | 2.28  | 1.58  | 0.79  | 1.19  | 0.99  | -1.17  |\r\n",
      "|  PO  | Critical | -0.04 | 0.52  | -0.52 | 0.34  | 2.09  | -0.6  | 0.85  | -1.14  |\r\n",
      "|  AR  | Critical | -0.28 | 0.56  | 0.69  | 0.62  | -0.28 | -0.25 | 0.64  | -2.03  |\r\n",
      "|  AR  | Critical | 0.04  | -0.38 | -0.66 | -1.76 | -0.13 | 0.6   | -2.06 | 0.96   |\r\n",
      "|  PO  | Critical | 0.77  | 1.48  | 0.16  | -0.59 | 0.94  | 0.48  | -0.32 | -0.55  |\r\n",
      "|  AR  | Alert    | -0.15 | 0.03  | -2.05 | -0.56 | -1.04 | 1.29  | 0.51  | -0.01  |\r\n",
      "|  PO  | Alert    | -0.17 | -0.4  | -0.16 | 2.65  | -0.48 | 0.25  | -1.1  | 0.77   |\r\n",
      "|  AR  | Alert    | -0.57 | -0.31 | -0.14 | -2.89 | 0.52  | 0.18  | -0.03 | 0.47   |\r\n",
      "|------+----------+-------+-------+-------+-------+-------+-------+-------+--------|\r\n"
     ]
    }
   ],
   "source": [
    "!head ../data/raw/fromPandas.csv | csvlook"
   ]
  },
  {
   "cell_type": "code",
   "execution_count": 355,
   "metadata": {},
   "outputs": [
    {
     "name": "stdout",
     "output_type": "stream",
     "text": [
      "|------+-------+-------+----------+----------+----------+----------+-------+-------+--------|\r\n",
      "|  C00 | PO    | PO    | PO       | AR       | AR       | PO       | AR    | PO    | AR     |\r\n",
      "|------+-------+-------+----------+----------+----------+----------+-------+-------+--------|\r\n",
      "|  D01 | Alert | Alert | Critical | Critical | Critical | Critical | Alert | Alert | Alert  |\r\n",
      "|  C02 | 0.08  | 0.86  | -0.04    | -0.28    | 0.04     | 0.77     | -0.15 | -0.17 | -0.57  |\r\n",
      "|  D03 | -0.29 | 1.81  | 0.52     | 0.56     | -0.38    | 1.48     | 0.03  | -0.4  | -0.31  |\r\n",
      "|  D04 | 1.04  | 2.28  | -0.52    | 0.69     | -0.66    | 0.16     | -2.05 | -0.16 | -0.14  |\r\n",
      "|  A05 | 0.5   | 1.58  | 0.34     | 0.62     | -1.76    | -0.59    | -0.56 | 2.65  | -2.89  |\r\n",
      "|  A06 | -0.19 | 0.79  | 2.09     | -0.28    | -0.13    | 0.94     | -1.04 | -0.48 | 0.52   |\r\n",
      "|  B07 | 0.92  | 1.19  | -0.6     | -0.25    | 0.6      | 0.48     | 1.29  | 0.25  | 0.18   |\r\n",
      "|  A08 | -1.18 | 0.99  | 0.85     | 0.64     | -2.06    | -0.32    | 0.51  | -1.1  | -0.03  |\r\n",
      "|  C09 | 0.46  | -1.17 | -1.14    | -2.03    | 0.96     | -0.55    | -0.01 | 0.77  | 0.47   |\r\n",
      "|------+-------+-------+----------+----------+----------+----------+-------+-------+--------|\r\n"
     ]
    }
   ],
   "source": [
    "# transpose\n",
    "!head ../data/raw/fromPandas.csv \\\n",
    "| datamash -t, transpose | csvlook"
   ]
  },
  {
   "cell_type": "markdown",
   "metadata": {},
   "source": [
    "> - By default, `transpose` verifies the input has the same number of fields in each line, and fails with an error otherwise\n",
    "- Use `--no-strict` to allow missing values\n",
    "- Use `--filler` to set the missing-field filler value"
   ]
  },
  {
   "cell_type": "code",
   "execution_count": 356,
   "metadata": {},
   "outputs": [
    {
     "name": "stdout",
     "output_type": "stream",
     "text": [
      "|--------+-------+-------+-------+-------+-------+-------+-------+----------+------|\r\n",
      "|  C09   | A08   | B07   | A06   | A05   | D04   | D03   | C02   | D01      | C00  |\r\n",
      "|--------+-------+-------+-------+-------+-------+-------+-------+----------+------|\r\n",
      "|  0.46  | -1.18 | 0.92  | -0.19 | 0.5   | 1.04  | -0.29 | 0.08  | Alert    | PO   |\r\n",
      "|  -1.17 | 0.99  | 1.19  | 0.79  | 1.58  | 2.28  | 1.81  | 0.86  | Alert    | PO   |\r\n",
      "|  -1.14 | 0.85  | -0.6  | 2.09  | 0.34  | -0.52 | 0.52  | -0.04 | Critical | PO   |\r\n",
      "|  -2.03 | 0.64  | -0.25 | -0.28 | 0.62  | 0.69  | 0.56  | -0.28 | Critical | AR   |\r\n",
      "|  0.96  | -2.06 | 0.6   | -0.13 | -1.76 | -0.66 | -0.38 | 0.04  | Critical | AR   |\r\n",
      "|  -0.55 | -0.32 | 0.48  | 0.94  | -0.59 | 0.16  | 1.48  | 0.77  | Critical | PO   |\r\n",
      "|  -0.01 | 0.51  | 1.29  | -1.04 | -0.56 | -2.05 | 0.03  | -0.15 | Alert    | AR   |\r\n",
      "|  0.77  | -1.1  | 0.25  | -0.48 | 2.65  | -0.16 | -0.4  | -0.17 | Alert    | PO   |\r\n",
      "|  0.47  | -0.03 | 0.18  | 0.52  | -2.89 | -0.14 | -0.31 | -0.57 | Alert    | AR   |\r\n",
      "|--------+-------+-------+-------+-------+-------+-------+-------+----------+------|\r\n"
     ]
    }
   ],
   "source": [
    "# to reverse the order of columns\n",
    "!head ../data/raw/fromPandas.csv \\\n",
    "| datamash -t, reverse | csvlook"
   ]
  },
  {
   "cell_type": "code",
   "execution_count": 357,
   "metadata": {},
   "outputs": [
    {
     "name": "stdout",
     "output_type": "stream",
     "text": [
      "|------+----------+-------+-------+-------+-------+-------+-------+-------+--------|\r\n",
      "|  AR  | Alert    | -0.57 | -0.31 | -0.14 | -2.89 | 0.52  | 0.18  | -0.03 | 0.47   |\r\n",
      "|------+----------+-------+-------+-------+-------+-------+-------+-------+--------|\r\n",
      "|  PO  | Alert    | -0.17 | -0.4  | -0.16 | 2.65  | -0.48 | 0.25  | -1.1  | 0.77   |\r\n",
      "|  AR  | Alert    | -0.15 | 0.03  | -2.05 | -0.56 | -1.04 | 1.29  | 0.51  | -0.01  |\r\n",
      "|  PO  | Critical | 0.77  | 1.48  | 0.16  | -0.59 | 0.94  | 0.48  | -0.32 | -0.55  |\r\n",
      "|  AR  | Critical | 0.04  | -0.38 | -0.66 | -1.76 | -0.13 | 0.6   | -2.06 | 0.96   |\r\n",
      "|  AR  | Critical | -0.28 | 0.56  | 0.69  | 0.62  | -0.28 | -0.25 | 0.64  | -2.03  |\r\n",
      "|  PO  | Critical | -0.04 | 0.52  | -0.52 | 0.34  | 2.09  | -0.6  | 0.85  | -1.14  |\r\n",
      "|  PO  | Alert    | 0.86  | 1.81  | 2.28  | 1.58  | 0.79  | 1.19  | 0.99  | -1.17  |\r\n",
      "|  PO  | Alert    | 0.08  | -0.29 | 1.04  | 0.5   | -0.19 | 0.92  | -1.18 | 0.46   |\r\n",
      "|  C00 | D01      | C02   | D03   | D04   | A05   | A06   | B07   | A08   | C09    |\r\n",
      "|------+----------+-------+-------+-------+-------+-------+-------+-------+--------|\r\n"
     ]
    }
   ],
   "source": [
    "# Remember that `tac` reverses the rows\n",
    "!head ../data/raw/fromPandas.csv \\\n",
    "| tac |csvlook"
   ]
  },
  {
   "cell_type": "markdown",
   "metadata": {},
   "source": [
    "---\n",
    "\n",
    "## `binning` (or `discretization`)"
   ]
  },
  {
   "cell_type": "code",
   "execution_count": 362,
   "metadata": {},
   "outputs": [
    {
     "name": "stdout",
     "output_type": "stream",
     "text": [
      "|------+----------+-------+-------+-------+-------+-------+-------+-------+--------|\r\n",
      "|  C00 | D01      | C02   | D03   | D04   | A05   | A06   | B07   | A08   | C09    |\r\n",
      "|------+----------+-------+-------+-------+-------+-------+-------+-------+--------|\r\n",
      "|  PO  | Alert    | 0.08  | -0.29 | 1.04  | 0.5   | -0.19 | 0.92  | -1.18 | 0.46   |\r\n",
      "|  PO  | Alert    | 0.86  | 1.81  | 2.28  | 1.58  | 0.79  | 1.19  | 0.99  | -1.17  |\r\n",
      "|  PO  | Critical | -0.04 | 0.52  | -0.52 | 0.34  | 2.09  | -0.6  | 0.85  | -1.14  |\r\n",
      "|  AR  | Critical | -0.28 | 0.56  | 0.69  | 0.62  | -0.28 | -0.25 | 0.64  | -2.03  |\r\n",
      "|  AR  | Critical | 0.04  | -0.38 | -0.66 | -1.76 | -0.13 | 0.6   | -2.06 | 0.96   |\r\n",
      "|  PO  | Critical | 0.77  | 1.48  | 0.16  | -0.59 | 0.94  | 0.48  | -0.32 | -0.55  |\r\n",
      "|  AR  | Alert    | -0.15 | 0.03  | -2.05 | -0.56 | -1.04 | 1.29  | 0.51  | -0.01  |\r\n",
      "|  PO  | Alert    | -0.17 | -0.4  | -0.16 | 2.65  | -0.48 | 0.25  | -1.1  | 0.77   |\r\n",
      "|  AR  | Alert    | -0.57 | -0.31 | -0.14 | -2.89 | 0.52  | 0.18  | -0.03 | 0.47   |\r\n",
      "|------+----------+-------+-------+-------+-------+-------+-------+-------+--------|\r\n"
     ]
    }
   ],
   "source": [
    "!head ../data/raw/fromPandas.csv | csvlook"
   ]
  },
  {
   "cell_type": "code",
   "execution_count": 377,
   "metadata": {},
   "outputs": [
    {
     "name": "stdout",
     "output_type": "stream",
     "text": [
      "|--------+-----------|\r\n",
      "|  C02   | bin(C02)  |\r\n",
      "|--------+-----------|\r\n",
      "|  0.08  | 0         |\r\n",
      "|  0.86  | 0.75      |\r\n",
      "|  -0.04 | -0.25     |\r\n",
      "|  -0.28 | -0.5      |\r\n",
      "|  0.04  | 0         |\r\n",
      "|  0.77  | 0.75      |\r\n",
      "|  -0.15 | -0.25     |\r\n",
      "|  -0.17 | -0.25     |\r\n",
      "|  -0.57 | -0.75     |\r\n",
      "|--------+-----------|\r\n"
     ]
    }
   ],
   "source": [
    "# returns the lower edge of the window\n",
    "!head ../data/raw/fromPandas.csv | csvcut -c C02 \\\n",
    "| datamash -H --full bin:0.25  1 \\\n",
    "| mlr --csv --ifs tab --ofs ',' cat \\\n",
    "| csvlook"
   ]
  },
  {
   "cell_type": "markdown",
   "metadata": {},
   "source": [
    "---\n",
    "\n",
    "## `round, trunc, ceil, floor, frac`"
   ]
  },
  {
   "cell_type": "code",
   "execution_count": 382,
   "metadata": {
    "scrolled": true
   },
   "outputs": [
    {
     "name": "stdout",
     "output_type": "stream",
     "text": [
      "|--------+------------+------------+-----------+------------+------------|\r\n",
      "|  C02   | round(C02) | trunc(C02) | ceil(C02) | floor(C02) | frac(C02)  |\r\n",
      "|--------+------------+------------+-----------+------------+------------|\r\n",
      "|  0.08  | 0          | 0          | 1         | 0          | 0.08       |\r\n",
      "|  0.86  | 1          | 0          | 1         | 0          | 0.86       |\r\n",
      "|  -0.04 | 0          | 0          | 0         | -1         | -0.04      |\r\n",
      "|  -0.28 | 0          | 0          | 0         | -1         | -0.28      |\r\n",
      "|  0.04  | 0          | 0          | 1         | 0          | 0.04       |\r\n",
      "|  0.77  | 1          | 0          | 1         | 0          | 0.77       |\r\n",
      "|  -0.15 | 0          | 0          | 0         | -1         | -0.15      |\r\n",
      "|  -0.17 | 0          | 0          | 0         | -1         | -0.17      |\r\n",
      "|  -0.57 | -1         | 0          | 0         | -1         | -0.57      |\r\n",
      "|--------+------------+------------+-----------+------------+------------|\r\n"
     ]
    }
   ],
   "source": [
    "!head ../data/raw/fromPandas.csv | csvcut -c C02 \\\n",
    "| datamash -H --full round 1 trunc 1 ceil 1 floor 1 frac 1 \\\n",
    "| mlr --csv --ifs tab --ofs ',' cat \\\n",
    "| csvlook"
   ]
  },
  {
   "cell_type": "markdown",
   "metadata": {},
   "source": [
    "---\n",
    "\n",
    "# `datamash` Analysis Examples"
   ]
  },
  {
   "cell_type": "code",
   "execution_count": 384,
   "metadata": {},
   "outputs": [
    {
     "name": "stdout",
     "output_type": "stream",
     "text": [
      "|-----------+---------------+---------+------+-----------+-----------+-------------------|\r\n",
      "|  duration | protocol_type | service | flag | src_bytes | dst_bytes | interaction_type  |\r\n",
      "|-----------+---------------+---------+------+-----------+-----------+-------------------|\r\n",
      "|  0        | tcp           | http    | SF   | 215       | 45076     | normal.           |\r\n",
      "|  0        | tcp           | http    | SF   | 162       | 4528      | normal.           |\r\n",
      "|  0        | tcp           | http    | SF   | 236       | 1228      | normal.           |\r\n",
      "|  0        | tcp           | http    | SF   | 233       | 2032      | normal.           |\r\n",
      "|  0        | tcp           | http    | SF   | 239       | 486       | normal.           |\r\n",
      "|  0        | tcp           | http    | SF   | 238       | 1282      | normal.           |\r\n",
      "|  0        | tcp           | http    | SF   | 235       | 1337      | normal.           |\r\n",
      "|  0        | tcp           | http    | SF   | 234       | 1364      | normal.           |\r\n",
      "|  0        | tcp           | http    | SF   | 239       | 1295      | normal.           |\r\n",
      "|-----------+---------------+---------+------+-----------+-----------+-------------------|\r\n"
     ]
    }
   ],
   "source": [
    "!head ../data/raw/kdd.csv | cut -d, -f1-6,42 | csvlook"
   ]
  },
  {
   "cell_type": "code",
   "execution_count": 395,
   "metadata": {},
   "outputs": [
    {
     "name": "stdout",
     "output_type": "stream",
     "text": [
      "|----------------------------+--------------------------|\r\n",
      "|  GroupBy(interaction_type) | count(interaction_type)  |\r\n",
      "|----------------------------+--------------------------|\r\n",
      "|  back.                     | 2203                     |\r\n",
      "|  buffer_overflow.          | 30                       |\r\n",
      "|  ftp_write.                | 8                        |\r\n",
      "|  guess_passwd.             | 53                       |\r\n",
      "|  imap.                     | 12                       |\r\n",
      "|  ipsweep.                  | 12481                    |\r\n",
      "|  land.                     | 21                       |\r\n",
      "|  loadmodule.               | 9                        |\r\n",
      "|  multihop.                 | 7                        |\r\n",
      "|  neptune.                  | 1072017                  |\r\n",
      "|  nmap.                     | 2316                     |\r\n",
      "|  normal.                   | 972781                   |\r\n",
      "|  perl.                     | 3                        |\r\n",
      "|  phf.                      | 4                        |\r\n",
      "|  pod.                      | 264                      |\r\n",
      "|  portsweep.                | 10413                    |\r\n",
      "|  rootkit.                  | 10                       |\r\n",
      "|  satan.                    | 15892                    |\r\n",
      "|  smurf.                    | 2807886                  |\r\n",
      "|  spy.                      | 2                        |\r\n",
      "|  teardrop.                 | 979                      |\r\n",
      "|  warezclient.              | 1020                     |\r\n",
      "|  warezmaster.              | 20                       |\r\n",
      "|----------------------------+--------------------------|\r\n"
     ]
    }
   ],
   "source": [
    "# frequency tables\n",
    "!cat ../data/raw/kdd.csv | cut -d, -f1-6,42 \\\n",
    "| datamash -sHi -t, --group 7 count 7 | csvlook"
   ]
  },
  {
   "cell_type": "code",
   "execution_count": 413,
   "metadata": {},
   "outputs": [
    {
     "name": "stdout",
     "output_type": "stream",
     "text": [
      "|-------------------------+--------------------------------|\r\n",
      "|  GroupBy(protocol_type) | countunique(interaction_type)  |\r\n",
      "|-------------------------+--------------------------------|\r\n",
      "|  icmp                   | 7                              |\r\n",
      "|  tcp                    | 20                             |\r\n",
      "|  udp                    | 5                              |\r\n",
      "|-------------------------+--------------------------------|\r\n"
     ]
    }
   ],
   "source": [
    "# countunique\n",
    "!cat ../data/raw/kdd.csv | cut -d, -f1-6,42 \\\n",
    "| datamash -sHi -t, --group 2 countunique 7 | csvlook"
   ]
  },
  {
   "cell_type": "code",
   "execution_count": 387,
   "metadata": {},
   "outputs": [
    {
     "name": "stdout",
     "output_type": "stream",
     "text": [
      "|-------------------------+-----------------+--------------------|\r\n",
      "|  GroupBy(protocol_type) | mean(src_bytes) | sstdev(src_bytes)  |\r\n",
      "|-------------------------+-----------------+--------------------|\r\n",
      "|  icmp                   | 927.89168938556 | 216.02705205438    |\r\n",
      "|  tcp                    | 3388.5699653266 | 1523443.9737618    |\r\n",
      "|  udp                    | 97.227728938483 | 47.667234078966    |\r\n",
      "|-------------------------+-----------------+--------------------|\r\n"
     ]
    }
   ],
   "source": [
    "# groupby 1\n",
    "!cat ../data/raw/kdd.csv | cut -d, -f1-6,42 \\\n",
    "| datamash -sHi -t, --group 2 mean 5 sstdev 5 \\\n",
    "| csvlook"
   ]
  },
  {
   "cell_type": "code",
   "execution_count": 393,
   "metadata": {},
   "outputs": [
    {
     "name": "stdout",
     "output_type": "stream",
     "text": [
      "|-------------------------+-----------------+--------------------+--------------------|\r\n",
      "|  GroupBy(protocol_type) | GroupBy(attack) | mean(duration)     | sstdev(duration)   |\r\n",
      "|-------------------------+-----------------+--------------------+--------------------|\r\n",
      "|  icmp                   | false           | 0                  | 0                  |\r\n",
      "|  icmp                   | true            | 0                  | 0                  |\r\n",
      "|  tcp                    | false           | 11.481294964029    | 376.54007768793    |\r\n",
      "|  tcp                    | true            | 22.602477657342    | 824.78914040215    |\r\n",
      "|  udp                    | false           | 1061.2623387754    | 2799.4403718827    |\r\n",
      "|  udp                    | true            | 0.0013605442176871 | 0.073771111356332  |\r\n",
      "|-------------------------+-----------------+--------------------+--------------------|\r\n"
     ]
    }
   ],
   "source": [
    "# groupby 2\n",
    "!cat ../data/raw/kdd.csv | cut -d, -f1-6,42 \\\n",
    "| mlr --csv --rs lf put '$attack = $interaction_type!=\"normal.\"' \\\n",
    "| datamash -sHi -t, --group 2,8 mean 1 sstdev 1 2\n",
    "| csvlook"
   ]
  },
  {
   "cell_type": "code",
   "execution_count": 415,
   "metadata": {},
   "outputs": [
    {
     "name": "stdout",
     "output_type": "stream",
     "text": [
      "|-------------------------+-----------------+--------------------+--------------------|\r\n",
      "|  GroupBy(protocol_type) | GroupBy(attack) | mean(duration)     | sstdev(duration)   |\r\n",
      "|-------------------------+-----------------+--------------------+--------------------|\r\n",
      "|  icmp                   | false           | 0                  | 0                  |\r\n",
      "|  icmp                   | true            | 0                  | 0                  |\r\n",
      "|  tcp                    | false           | 11.481294964029    | 376.54007768793    |\r\n",
      "|  tcp                    | true            | 22.602477657342    | 824.78914040215    |\r\n",
      "|  udp                    | false           | 1061.2623387754    | 2799.4403718827    |\r\n",
      "|  udp                    | true            | 0.0013605442176871 | 0.073771111356332  |\r\n",
      "|-------------------------+-----------------+--------------------+--------------------|\r\n"
     ]
    }
   ],
   "source": [
    "# groupby 2\n",
    "!cat ../data/raw/kdd.csv | cut -d, -f1-6,42 \\\n",
    "| mlr --csv --rs lf put '$attack = $interaction_type!=\"normal.\"' \\\n",
    "| datamash -sHi -t, --group 2,8 mean 1 sstdev 1 \\\n",
    "| csvlook"
   ]
  }
 ],
 "metadata": {
  "kernelspec": {
   "display_name": "Python 3",
   "language": "python",
   "name": "python3"
  },
  "language_info": {
   "codemirror_mode": {
    "name": "ipython",
    "version": 3
   },
   "file_extension": ".py",
   "mimetype": "text/x-python",
   "name": "python",
   "nbconvert_exporter": "python",
   "pygments_lexer": "ipython3",
   "version": "3.6.4"
  }
 },
 "nbformat": 4,
 "nbformat_minor": 2
}
