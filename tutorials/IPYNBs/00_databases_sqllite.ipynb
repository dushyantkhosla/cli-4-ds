{
 "cells": [
  {
   "cell_type": "code",
   "execution_count": 1,
   "metadata": {},
   "outputs": [],
   "source": [
    "import os\n",
    "os.chdir('/home/data/')\n",
    "\n",
    "from time import time"
   ]
  },
  {
   "cell_type": "code",
   "execution_count": 2,
   "metadata": {},
   "outputs": [],
   "source": [
    "import sqlite3\n",
    "import pandas as pd\n",
    "\n",
    "from sqlalchemy import create_engine"
   ]
  },
  {
   "cell_type": "markdown",
   "metadata": {},
   "source": [
    "## Create an empty sqlite database file"
   ]
  },
  {
   "cell_type": "code",
   "execution_count": 3,
   "metadata": {},
   "outputs": [],
   "source": [
    "!rm tutorial.db"
   ]
  },
  {
   "cell_type": "code",
   "execution_count": 4,
   "metadata": {},
   "outputs": [],
   "source": [
    "con = sqlite3.connect(\"tutorial.db\")"
   ]
  },
  {
   "cell_type": "markdown",
   "metadata": {},
   "source": [
    "- alternatively, use\n",
    "\n",
    "```python\n",
    "con = create_engine('sqlite:///tutorial.db')\n",
    "```"
   ]
  },
  {
   "cell_type": "markdown",
   "metadata": {},
   "source": [
    "## Create a _cursor_ object to interact with it"
   ]
  },
  {
   "cell_type": "code",
   "execution_count": 5,
   "metadata": {},
   "outputs": [],
   "source": [
    "cur = con.cursor()"
   ]
  },
  {
   "cell_type": "markdown",
   "metadata": {},
   "source": [
    "---\n",
    "# Loading Data into the Database\n",
    "\n",
    "- This step might take a while if your CSV file is larger than a few GBs, \n",
    "\n",
    "- But the benefits outweigh the wait time;\n",
    "    - you can use `pd.read_sql` tools to pull data from the database without worrying about memory constraints.\n",
    "    - you can use tools like `Metabase` or any SQL editor to write aggregations and reductions on big data locally.  \n",
    "    \n",
    "    \n",
    "- [Note] Avoid using `SELECT *` as it will load all data into memory. \n",
    "\n",
    "- Use `WHERE` statements and the `LIMIT` clause each time.\n",
    "\n",
    "### Load KDD Data"
   ]
  },
  {
   "cell_type": "code",
   "execution_count": 7,
   "metadata": {},
   "outputs": [],
   "source": [
    "kdd_chunks = pd.read_csv(\n",
    "    \"kdd.csv\", \n",
    "    chunksize=10**6, \n",
    "    error_bad_lines=False\n",
    ")"
   ]
  },
  {
   "cell_type": "code",
   "execution_count": 8,
   "metadata": {},
   "outputs": [
    {
     "name": "stdout",
     "output_type": "stream",
     "text": [
      "Loading into db finished in 74.79250454902649 seconds.\n"
     ]
    }
   ],
   "source": [
    "t0 = time()\n",
    "for chunk in kdd_chunks:\n",
    "    \"\"\"\n",
    "    Fill the table by reading a large text file in chunks.\n",
    "    Each chunk is just a pandas DataFrame\n",
    "    Filter/transform the data as needed here.\n",
    "    \"\"\"\n",
    "    chunk.to_sql(\n",
    "        name='kdd', \n",
    "        con=con, \n",
    "        if_exists='append',\n",
    "        index=False\n",
    "    )\n",
    "    \n",
    "print(\"Loading into db finished in {} seconds.\".format(time()-t0))"
   ]
  },
  {
   "cell_type": "markdown",
   "metadata": {},
   "source": [
    "### Load Flights Data"
   ]
  },
  {
   "cell_type": "code",
   "execution_count": 9,
   "metadata": {},
   "outputs": [],
   "source": [
    "flights_chunks = pd.read_csv(\n",
    "    'flights.csv', \n",
    "    chunksize=10**6,\n",
    "    error_bad_lines=False\n",
    ")"
   ]
  },
  {
   "cell_type": "code",
   "execution_count": 10,
   "metadata": {},
   "outputs": [
    {
     "name": "stdout",
     "output_type": "stream",
     "text": [
      "Loading into db finished in 93.90438771247864 seconds.\n"
     ]
    }
   ],
   "source": [
    "t0 = time()\n",
    "\n",
    "for chunk in flights_chunks:\n",
    "    \"\"\"\n",
    "    Fill the table by reading a large text file in chunks.\n",
    "    Each chunk is just a pandas DataFrame\n",
    "    Filter/transform the data as needed here.\n",
    "    \"\"\"\n",
    "    chunk.to_sql(\n",
    "        name='flightDelays', \n",
    "        con=con, \n",
    "        if_exists='append',\n",
    "        index=False\n",
    "    )\n",
    "    \n",
    "print(\"Loading into db finished in {} seconds.\".format(time()-t0))"
   ]
  },
  {
   "cell_type": "markdown",
   "metadata": {},
   "source": [
    "## Load NYC Taxi Data\n",
    "\n",
    "- Get it [here](http://www.nyc.gov/html/tlc/html/about/trip_record_data.shtml)"
   ]
  },
  {
   "cell_type": "code",
   "execution_count": 7,
   "metadata": {},
   "outputs": [],
   "source": [
    "url = \"https://s3.amazonaws.com/nyc-tlc/trip+data/yellow_tripdata_2017-{}.csv\""
   ]
  },
  {
   "cell_type": "code",
   "execution_count": 11,
   "metadata": {},
   "outputs": [
    {
     "data": {
      "text/plain": [
       "['https://s3.amazonaws.com/nyc-tlc/trip+data/yellow_tripdata_2017-01.csv',\n",
       " 'https://s3.amazonaws.com/nyc-tlc/trip+data/yellow_tripdata_2017-02.csv',\n",
       " 'https://s3.amazonaws.com/nyc-tlc/trip+data/yellow_tripdata_2017-03.csv',\n",
       " 'https://s3.amazonaws.com/nyc-tlc/trip+data/yellow_tripdata_2017-04.csv',\n",
       " 'https://s3.amazonaws.com/nyc-tlc/trip+data/yellow_tripdata_2017-05.csv',\n",
       " 'https://s3.amazonaws.com/nyc-tlc/trip+data/yellow_tripdata_2017-06.csv',\n",
       " 'https://s3.amazonaws.com/nyc-tlc/trip+data/yellow_tripdata_2017-07.csv',\n",
       " 'https://s3.amazonaws.com/nyc-tlc/trip+data/yellow_tripdata_2017-08.csv',\n",
       " 'https://s3.amazonaws.com/nyc-tlc/trip+data/yellow_tripdata_2017-09.csv',\n",
       " 'https://s3.amazonaws.com/nyc-tlc/trip+data/yellow_tripdata_2017-10.csv',\n",
       " 'https://s3.amazonaws.com/nyc-tlc/trip+data/yellow_tripdata_2017-11.csv',\n",
       " 'https://s3.amazonaws.com/nyc-tlc/trip+data/yellow_tripdata_2017-12.csv']"
      ]
     },
     "execution_count": 11,
     "metadata": {},
     "output_type": "execute_result"
    }
   ],
   "source": [
    "[url.format(str(i).zfill(2)) for i in range(1, 13)]"
   ]
  },
  {
   "cell_type": "code",
   "execution_count": null,
   "metadata": {},
   "outputs": [],
   "source": []
  },
  {
   "cell_type": "markdown",
   "metadata": {},
   "source": [
    "---\n",
    "## Check if loading went well"
   ]
  },
  {
   "cell_type": "code",
   "execution_count": 13,
   "metadata": {},
   "outputs": [
    {
     "data": {
      "text/plain": [
       "[('kdd',), ('flightDelays',)]"
      ]
     },
     "execution_count": 13,
     "metadata": {},
     "output_type": "execute_result"
    }
   ],
   "source": [
    "cur.execute(\"SELECT name FROM sqlite_master WHERE type='table'\").fetchall()"
   ]
  },
  {
   "cell_type": "markdown",
   "metadata": {},
   "source": [
    "---\n",
    "## Run SQL queries"
   ]
  },
  {
   "cell_type": "code",
   "execution_count": 6,
   "metadata": {},
   "outputs": [
    {
     "data": {
      "text/html": [
       "<div>\n",
       "<style scoped>\n",
       "    .dataframe tbody tr th:only-of-type {\n",
       "        vertical-align: middle;\n",
       "    }\n",
       "\n",
       "    .dataframe tbody tr th {\n",
       "        vertical-align: top;\n",
       "    }\n",
       "\n",
       "    .dataframe thead th {\n",
       "        text-align: right;\n",
       "    }\n",
       "</style>\n",
       "<table border=\"1\" class=\"dataframe\">\n",
       "  <thead>\n",
       "    <tr style=\"text-align: right;\">\n",
       "      <th></th>\n",
       "      <th>Origin</th>\n",
       "      <th>Dest</th>\n",
       "      <th>Flights</th>\n",
       "    </tr>\n",
       "  </thead>\n",
       "  <tbody>\n",
       "    <tr>\n",
       "      <th>0</th>\n",
       "      <td>OGG</td>\n",
       "      <td>HNL</td>\n",
       "      <td>16099</td>\n",
       "    </tr>\n",
       "    <tr>\n",
       "      <th>1</th>\n",
       "      <td>HNL</td>\n",
       "      <td>OGG</td>\n",
       "      <td>15876</td>\n",
       "    </tr>\n",
       "    <tr>\n",
       "      <th>2</th>\n",
       "      <td>LAX</td>\n",
       "      <td>LAS</td>\n",
       "      <td>14385</td>\n",
       "    </tr>\n",
       "    <tr>\n",
       "      <th>3</th>\n",
       "      <td>LAS</td>\n",
       "      <td>LAX</td>\n",
       "      <td>13815</td>\n",
       "    </tr>\n",
       "    <tr>\n",
       "      <th>4</th>\n",
       "      <td>HNL</td>\n",
       "      <td>LIH</td>\n",
       "      <td>13156</td>\n",
       "    </tr>\n",
       "    <tr>\n",
       "      <th>5</th>\n",
       "      <td>LIH</td>\n",
       "      <td>HNL</td>\n",
       "      <td>13030</td>\n",
       "    </tr>\n",
       "    <tr>\n",
       "      <th>6</th>\n",
       "      <td>SAN</td>\n",
       "      <td>LAX</td>\n",
       "      <td>12779</td>\n",
       "    </tr>\n",
       "    <tr>\n",
       "      <th>7</th>\n",
       "      <td>LAX</td>\n",
       "      <td>SAN</td>\n",
       "      <td>12767</td>\n",
       "    </tr>\n",
       "    <tr>\n",
       "      <th>8</th>\n",
       "      <td>BOS</td>\n",
       "      <td>LGA</td>\n",
       "      <td>12263</td>\n",
       "    </tr>\n",
       "    <tr>\n",
       "      <th>9</th>\n",
       "      <td>LAS</td>\n",
       "      <td>PHX</td>\n",
       "      <td>12228</td>\n",
       "    </tr>\n",
       "  </tbody>\n",
       "</table>\n",
       "</div>"
      ],
      "text/plain": [
       "  Origin Dest  Flights\n",
       "0    OGG  HNL    16099\n",
       "1    HNL  OGG    15876\n",
       "2    LAX  LAS    14385\n",
       "3    LAS  LAX    13815\n",
       "4    HNL  LIH    13156\n",
       "5    LIH  HNL    13030\n",
       "6    SAN  LAX    12779\n",
       "7    LAX  SAN    12767\n",
       "8    BOS  LGA    12263\n",
       "9    LAS  PHX    12228"
      ]
     },
     "execution_count": 6,
     "metadata": {},
     "output_type": "execute_result"
    }
   ],
   "source": [
    "pd.read_sql(\n",
    "    \"\"\"\n",
    "    SELECT Origin,Dest,count(*) as Flights\n",
    "    FROM flightDelays \n",
    "    GROUP BY 1,2\n",
    "    ORDER BY 3 DESC\n",
    "    LIMIT 10\n",
    "    \"\"\", \n",
    "    con=con)"
   ]
  },
  {
   "cell_type": "code",
   "execution_count": 16,
   "metadata": {},
   "outputs": [
    {
     "data": {
      "text/html": [
       "<div>\n",
       "<style scoped>\n",
       "    .dataframe tbody tr th:only-of-type {\n",
       "        vertical-align: middle;\n",
       "    }\n",
       "\n",
       "    .dataframe tbody tr th {\n",
       "        vertical-align: top;\n",
       "    }\n",
       "\n",
       "    .dataframe thead th {\n",
       "        text-align: right;\n",
       "    }\n",
       "</style>\n",
       "<table border=\"1\" class=\"dataframe\">\n",
       "  <thead>\n",
       "    <tr style=\"text-align: right;\">\n",
       "      <th></th>\n",
       "      <th>count(*)</th>\n",
       "    </tr>\n",
       "  </thead>\n",
       "  <tbody>\n",
       "    <tr>\n",
       "      <th>0</th>\n",
       "      <td>4898431</td>\n",
       "    </tr>\n",
       "  </tbody>\n",
       "</table>\n",
       "</div>"
      ],
      "text/plain": [
       "   count(*)\n",
       "0   4898431"
      ]
     },
     "execution_count": 16,
     "metadata": {},
     "output_type": "execute_result"
    }
   ],
   "source": [
    "pd.read_sql(\"SELECT count(*) FROM kdd\", con=con)"
   ]
  }
 ],
 "metadata": {
  "kernelspec": {
   "display_name": "Python 3",
   "language": "python",
   "name": "python3"
  },
  "language_info": {
   "codemirror_mode": {
    "name": "ipython",
    "version": 3
   },
   "file_extension": ".py",
   "mimetype": "text/x-python",
   "name": "python",
   "nbconvert_exporter": "python",
   "pygments_lexer": "ipython3",
   "version": "3.6.4"
  }
 },
 "nbformat": 4,
 "nbformat_minor": 2
}
