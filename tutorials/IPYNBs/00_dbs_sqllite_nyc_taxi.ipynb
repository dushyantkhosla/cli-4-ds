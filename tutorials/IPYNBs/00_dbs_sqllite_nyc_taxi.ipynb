{
 "cells": [
  {
   "cell_type": "code",
   "execution_count": 1,
   "metadata": {},
   "outputs": [],
   "source": [
    "import os\n",
    "os.chdir('/home/data/')\n",
    "\n",
    "from time import time"
   ]
  },
  {
   "cell_type": "code",
   "execution_count": 2,
   "metadata": {},
   "outputs": [],
   "source": [
    "import numpy as np\n",
    "\n",
    "import sqlite3\n",
    "import pandas as pd\n",
    "\n",
    "from sqlalchemy import create_engine"
   ]
  },
  {
   "cell_type": "markdown",
   "metadata": {},
   "source": [
    "## Create an empty sqlite database file"
   ]
  },
  {
   "cell_type": "code",
   "execution_count": 3,
   "metadata": {},
   "outputs": [],
   "source": [
    "con = sqlite3.connect(\"sqlite.db\")"
   ]
  },
  {
   "cell_type": "markdown",
   "metadata": {},
   "source": [
    "## Create a _cursor_ object to interact with it"
   ]
  },
  {
   "cell_type": "code",
   "execution_count": 5,
   "metadata": {},
   "outputs": [],
   "source": [
    "cur = con.cursor()"
   ]
  },
  {
   "cell_type": "markdown",
   "metadata": {},
   "source": [
    "---\n",
    "# Loading Data into the Database\n",
    "\n",
    "- This step might take a while if your CSV file is larger than a few GBs, \n",
    "\n",
    "- But the benefits outweigh the wait time;\n",
    "    - you can use `pd.read_sql` tools to pull data from the database without worrying about memory constraints.\n",
    "    - you can use tools like `Metabase` or any SQL editor to write aggregations and reductions on big data locally.  \n",
    "    \n",
    "    \n",
    "- [Note] Avoid using `SELECT *` as it will load all data into memory. \n",
    "\n",
    "- Use `WHERE` statements and the `LIMIT` clause each time.\n",
    "\n",
    "### Load NYC Taxi Data"
   ]
  },
  {
   "cell_type": "code",
   "execution_count": 6,
   "metadata": {},
   "outputs": [],
   "source": [
    "files = os.listdir(\"nyc-taxi/\")"
   ]
  },
  {
   "cell_type": "code",
   "execution_count": 7,
   "metadata": {},
   "outputs": [],
   "source": [
    "def convert_types(COL):\n",
    "    \"\"\"\n",
    "    If the passed COL is numeric,\n",
    "    downcast it to the lowest size.\n",
    "    Else,\n",
    "    Return as-is.\n",
    "    \n",
    "    Parameters\n",
    "    -----------\n",
    "    COL: pandas.Series\n",
    "        The Series to shrink\n",
    "        \n",
    "    Returns\n",
    "    -------\n",
    "    if numeric, a compressed series\n",
    "    \"\"\"\n",
    "    if COL.dtype == np.int64:\n",
    "        return pd.to_numeric(COL, downcast='integer', errors='ignore')\n",
    "    elif COL.dtype == np.float64:\n",
    "        return pd.to_numeric(COL, downcast='float', errors='ignore')\n",
    "    else:\n",
    "        return COL"
   ]
  },
  {
   "cell_type": "code",
   "execution_count": 9,
   "metadata": {},
   "outputs": [
    {
     "name": "stdout",
     "output_type": "stream",
     "text": [
      "Reading yellow_tripdata_2017-11.csv\n",
      "Loading into db finished in 169.0669174194336 seconds.\n",
      "Reading yellow_tripdata_2017-08.csv\n",
      "Loading into db finished in 154.18128442764282 seconds.\n",
      "Reading yellow_tripdata_2017-01.csv\n",
      "Loading into db finished in 176.58778619766235 seconds.\n",
      "Reading yellow_tripdata_2017-10.csv\n",
      "Loading into db finished in 183.2636420726776 seconds.\n",
      "Reading yellow_tripdata_2017-03.csv\n",
      "Loading into db finished in 186.8081409931183 seconds.\n",
      "Reading yellow_tripdata_2017-02.csv\n",
      "Loading into db finished in 164.89169430732727 seconds.\n",
      "Reading yellow_tripdata_2017-09.csv\n",
      "Loading into db finished in 161.81028938293457 seconds.\n",
      "Reading yellow_tripdata_2017-06.csv\n",
      "Loading into db finished in 175.87790322303772 seconds.\n",
      "Reading yellow_tripdata_2017-04.csv\n",
      "Loading into db finished in 181.84538388252258 seconds.\n",
      "Reading yellow_tripdata_2017-12.csv\n",
      "Loading into db finished in 174.8419873714447 seconds.\n",
      "Reading yellow_tripdata_2017-05.csv\n",
      "Loading into db finished in 183.7002031803131 seconds.\n",
      "Reading yellow_tripdata_2017-07.csv\n",
      "Loading into db finished in 156.459303855896 seconds.\n"
     ]
    }
   ],
   "source": [
    "for f in files:\n",
    "    \"\"\"\n",
    "    Read each csv in chunks\n",
    "    For each chunk\n",
    "        Compress\n",
    "        Load into DB\n",
    "    \"\"\"\n",
    "    t0 = time()\n",
    "    print(\"Reading {}\".format(f))\n",
    "    \n",
    "    f_chunks = pd.read_csv(\n",
    "        \"nyc-taxi/\" + f, \n",
    "        chunksize=10**6, \n",
    "        error_bad_lines=False,\n",
    "        parse_dates=['tpep_pickup_datetime', 'tpep_dropoff_datetime']\n",
    "    )\n",
    "\n",
    "    for chunk in f_chunks:\n",
    "        \"\"\"\n",
    "        Fill the table by reading a large text file in chunks.\n",
    "        Each chunk is just a pandas DataFrame\n",
    "        Filter/transform the data as needed here.\n",
    "        \"\"\"\n",
    "        (chunk\n",
    "         .apply(convert_types)\n",
    "         .to_sql(\n",
    "            name='nyc_taxi', \n",
    "            con=con, \n",
    "            if_exists='append',\n",
    "            index=False)\n",
    "        )\n",
    "    print(\"Loading into db finished in {} seconds.\".format(time()-t0))"
   ]
  },
  {
   "cell_type": "markdown",
   "metadata": {},
   "source": [
    "---\n",
    "## Check if loading went well"
   ]
  },
  {
   "cell_type": "code",
   "execution_count": 10,
   "metadata": {},
   "outputs": [
    {
     "data": {
      "text/plain": [
       "[('nyc_taxi',), ('kdd',)]"
      ]
     },
     "execution_count": 10,
     "metadata": {},
     "output_type": "execute_result"
    }
   ],
   "source": [
    "cur.execute(\"SELECT name FROM sqlite_master WHERE type='table'\").fetchall()"
   ]
  },
  {
   "cell_type": "markdown",
   "metadata": {},
   "source": [
    "---\n",
    "## Run SQL queries"
   ]
  },
  {
   "cell_type": "code",
   "execution_count": 11,
   "metadata": {},
   "outputs": [
    {
     "data": {
      "text/html": [
       "<div>\n",
       "<style scoped>\n",
       "    .dataframe tbody tr th:only-of-type {\n",
       "        vertical-align: middle;\n",
       "    }\n",
       "\n",
       "    .dataframe tbody tr th {\n",
       "        vertical-align: top;\n",
       "    }\n",
       "\n",
       "    .dataframe thead th {\n",
       "        text-align: right;\n",
       "    }\n",
       "</style>\n",
       "<table border=\"1\" class=\"dataframe\">\n",
       "  <thead>\n",
       "    <tr style=\"text-align: right;\">\n",
       "      <th></th>\n",
       "      <th>count(*)</th>\n",
       "    </tr>\n",
       "  </thead>\n",
       "  <tbody>\n",
       "    <tr>\n",
       "      <th>0</th>\n",
       "      <td>113496874</td>\n",
       "    </tr>\n",
       "  </tbody>\n",
       "</table>\n",
       "</div>"
      ],
      "text/plain": [
       "    count(*)\n",
       "0  113496874"
      ]
     },
     "execution_count": 11,
     "metadata": {},
     "output_type": "execute_result"
    }
   ],
   "source": [
    "pd.read_sql(\"SELECT count(*) FROM nyc_taxi\", con=con)"
   ]
  },
  {
   "cell_type": "code",
   "execution_count": 12,
   "metadata": {},
   "outputs": [
    {
     "name": "stdout",
     "output_type": "stream",
     "text": [
      "<class 'pandas.core.frame.DataFrame'>\n",
      "RangeIndex: 10 entries, 0 to 9\n",
      "Data columns (total 17 columns):\n",
      "VendorID                 10 non-null int64\n",
      "tpep_pickup_datetime     10 non-null object\n",
      "tpep_dropoff_datetime    10 non-null object\n",
      "passenger_count          10 non-null int64\n",
      "trip_distance            10 non-null float64\n",
      "RatecodeID               10 non-null int64\n",
      "store_and_fwd_flag       10 non-null object\n",
      "PULocationID             10 non-null int64\n",
      "DOLocationID             10 non-null int64\n",
      "payment_type             10 non-null int64\n",
      "fare_amount              10 non-null float64\n",
      "extra                    10 non-null float64\n",
      "mta_tax                  10 non-null float64\n",
      "tip_amount               10 non-null float64\n",
      "tolls_amount             10 non-null float64\n",
      "improvement_surcharge    10 non-null float64\n",
      "total_amount             10 non-null float64\n",
      "dtypes: float64(8), int64(6), object(3)\n",
      "memory usage: 1.4+ KB\n"
     ]
    }
   ],
   "source": [
    "df_ = pd.read_sql(\"SELECT * FROM nyc_taxi LIMIT 10\", con=con)\n",
    "df_.info()"
   ]
  }
 ],
 "metadata": {
  "kernelspec": {
   "display_name": "Python 3",
   "language": "python",
   "name": "python3"
  },
  "language_info": {
   "codemirror_mode": {
    "name": "ipython",
    "version": 3
   },
   "file_extension": ".py",
   "mimetype": "text/x-python",
   "name": "python",
   "nbconvert_exporter": "python",
   "pygments_lexer": "ipython3",
   "version": "3.6.4"
  }
 },
 "nbformat": 4,
 "nbformat_minor": 2
}
