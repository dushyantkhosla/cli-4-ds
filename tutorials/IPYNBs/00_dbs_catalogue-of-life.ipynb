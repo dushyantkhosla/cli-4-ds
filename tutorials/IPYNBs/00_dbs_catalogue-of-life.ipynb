{
 "cells": [
  {
   "cell_type": "code",
   "execution_count": 1,
   "metadata": {},
   "outputs": [],
   "source": [
    "import os\n",
    "os.chdir(\"/home/data/\")"
   ]
  },
  {
   "cell_type": "code",
   "execution_count": 2,
   "metadata": {},
   "outputs": [],
   "source": [
    "import subprocess as sbp\n",
    "import sqlite3\n",
    "\n",
    "import pandas as pd\n",
    "import numpy as np"
   ]
  },
  {
   "cell_type": "code",
   "execution_count": 3,
   "metadata": {},
   "outputs": [],
   "source": [
    "run_on_bash = lambda i: sbp.check_output(\"{}\".format(i), shell=True).decode('utf-8')"
   ]
  },
  {
   "cell_type": "markdown",
   "metadata": {},
   "source": [
    "## Download and Unzip Data"
   ]
  },
  {
   "cell_type": "raw",
   "metadata": {},
   "source": [
    "!wget 'http://www.catalogueoflife.org/DCA_Export/zip-fixed/2018-02-26-archive-complete.zip\"'\n",
    "!dtrx 2018-02-26-archive-complete.zip"
   ]
  },
  {
   "cell_type": "code",
   "execution_count": 7,
   "metadata": {},
   "outputs": [],
   "source": [
    "os.chdir('2018-02-26-archive-complete/')"
   ]
  },
  {
   "cell_type": "markdown",
   "metadata": {},
   "source": [
    "## Check files, initialize DB"
   ]
  },
  {
   "cell_type": "code",
   "execution_count": 10,
   "metadata": {},
   "outputs": [
    {
     "name": "stdout",
     "output_type": "stream",
     "text": [
      "description.txt           is      61.14 MB and has    1911368 rows\n",
      "distribution.txt          is      25.64 MB and has     758526 rows\n",
      "reference.txt             is     285.28 MB and has    2000302 rows\n",
      "speciesprofile.txt        is       9.32 MB and has     489478 rows\n",
      "taxa.txt                  is    1558.43 MB and has    3756418 rows\n",
      "vernacular.txt            is      18.37 MB and has     425294 rows\n"
     ]
    }
   ],
   "source": [
    "FILES = filter(lambda i: 'txt' in i, os.listdir(os.getcwd()))\n",
    "dict_files = {}\n",
    "\n",
    "for file in FILES:\n",
    "    rows_ = int(run_on_bash(\"wc -l {}\".format(file)).split(\" \")[0])\n",
    "    size_ = os.path.getsize(file)/10**6\n",
    "    dict_files[file] = {\n",
    "        'rows': rows_,\n",
    "        'size': size_\n",
    "    }\n",
    "    print(\"{:25} is {:10.2f} MB and has {:10.0f} rows\".format(file, size_, rows_))"
   ]
  },
  {
   "cell_type": "code",
   "execution_count": 13,
   "metadata": {},
   "outputs": [],
   "source": [
    "conn = sqlite3.connect(\"life.db\")"
   ]
  },
  {
   "cell_type": "code",
   "execution_count": 14,
   "metadata": {},
   "outputs": [],
   "source": [
    "curs = conn.cursor()"
   ]
  },
  {
   "cell_type": "markdown",
   "metadata": {},
   "source": [
    "## Import files into DB with pandas"
   ]
  },
  {
   "cell_type": "code",
   "execution_count": 41,
   "metadata": {},
   "outputs": [
    {
     "name": "stdout",
     "output_type": "stream",
     "text": [
      "description.txt is a small file. Importing directly.\n",
      "Done.\n",
      "distribution.txt is a small file. Importing directly.\n",
      "Done.\n",
      "reference.txt is large. Importing in chunks.\n",
      "Done\n",
      "speciesprofile.txt is a small file. Importing directly.\n",
      "Done.\n",
      "taxa.txt is large. Importing in chunks.\n",
      "Done\n",
      "vernacular.txt is a small file. Importing directly.\n",
      "Done.\n"
     ]
    }
   ],
   "source": [
    "for file in dict_files:\n",
    "    \"\"\"\n",
    "    For each file, check its size in MB\n",
    "    If smaller than 250, read directly\n",
    "    If larger, read in chunks\n",
    "    Load the file into the database (.db file)\n",
    "    \"\"\"\n",
    "    if dict_files.get(file).get('size') < 250:\n",
    "        print(\"{} is a small file. Importing directly.\".format(file))\n",
    "        df_ = pd.read_csv(\n",
    "            file, \n",
    "            sep=\"\\t\",\n",
    "            low_memory=False,\n",
    "            error_bad_lines=False\n",
    "        )\n",
    "        df_.to_sql(\n",
    "            name=file.replace(\".txt\", ''), \n",
    "            con=conn, \n",
    "            index=False,\n",
    "            if_exists='append'\n",
    "        )\n",
    "        print(\"Done.\")\n",
    "    else:\n",
    "        print(\"{} is large. Importing in chunks.\".format(file))\n",
    "        size = int(np.ceil(dict_files.get(file).get('rows')/10))\n",
    "        chunks = pd.read_csv(\n",
    "            file, \n",
    "            sep=\"\\t\", \n",
    "            chunksize=size, \n",
    "            error_bad_lines=False,\n",
    "            low_memory=False\n",
    "        )\n",
    "        for c in chunks:\n",
    "            c.to_sql(\n",
    "                name=file.replace(\".txt\", ''), \n",
    "                con=conn, \n",
    "                index=False,\n",
    "                if_exists='append'\n",
    "            )\n",
    "        print(\"Done\")    "
   ]
  },
  {
   "cell_type": "markdown",
   "metadata": {},
   "source": [
    "## Check DB"
   ]
  },
  {
   "cell_type": "code",
   "execution_count": 51,
   "metadata": {},
   "outputs": [
    {
     "name": "stdout",
     "output_type": "stream",
     "text": [
      "The database is 2236.95 MB in size\n"
     ]
    }
   ],
   "source": [
    "print(\"The database is {:.2f} MB in size\".format(os.path.getsize('life.db')/10**6))"
   ]
  },
  {
   "cell_type": "code",
   "execution_count": 43,
   "metadata": {},
   "outputs": [
    {
     "data": {
      "text/plain": [
       "[('description',),\n",
       " ('distribution',),\n",
       " ('reference',),\n",
       " ('speciesprofile',),\n",
       " ('taxa',),\n",
       " ('vernacular',)]"
      ]
     },
     "execution_count": 43,
     "metadata": {},
     "output_type": "execute_result"
    }
   ],
   "source": [
    "curs.execute(\"SELECT name FROM sqlite_master WHERE type='table'\").fetchall()"
   ]
  },
  {
   "cell_type": "markdown",
   "metadata": {},
   "source": [
    "## Run Queries"
   ]
  },
  {
   "cell_type": "code",
   "execution_count": 17,
   "metadata": {},
   "outputs": [
    {
     "data": {
      "text/plain": [
       "index                       0.0\n",
       "taxonID                     0.0\n",
       "identifier                  0.5\n",
       "datasetID                   0.0\n",
       "datasetName                 0.0\n",
       "acceptedNameUsageID         0.5\n",
       "parentNameUsageID           0.5\n",
       "taxonomicStatus             0.0\n",
       "taxonRank                   0.0\n",
       "verbatimTaxonRank           1.0\n",
       "scientificName              0.0\n",
       "kingdom                     0.0\n",
       "phylum                      0.5\n",
       "class                       0.5\n",
       "order                       0.5\n",
       "superfamily                 0.5\n",
       "family                      0.5\n",
       "genericName                 0.0\n",
       "genus                       0.0\n",
       "subgenus                    1.0\n",
       "specificEpithet             0.0\n",
       "infraspecificEpithet        1.0\n",
       "scientificNameAuthorship    0.0\n",
       "source                      1.0\n",
       "namePublishedIn             1.0\n",
       "nameAccordingTo             0.5\n",
       "modified                    1.0\n",
       "description                 1.0\n",
       "taxonConceptID              1.0\n",
       "scientificNameID            0.0\n",
       "references                  0.0\n",
       "isExtinct                   0.5\n",
       "dtype: float64"
      ]
     },
     "execution_count": 17,
     "metadata": {},
     "output_type": "execute_result"
    }
   ],
   "source": [
    "pd.read_sql_query(\n",
    "    sql=\"SELECT * FROM taxa limit 10\",\n",
    "    con=conn\n",
    ").isnull().mean()"
   ]
  },
  {
   "cell_type": "code",
   "execution_count": null,
   "metadata": {},
   "outputs": [],
   "source": []
  }
 ],
 "metadata": {
  "kernelspec": {
   "display_name": "Python 3",
   "language": "python",
   "name": "python3"
  },
  "language_info": {
   "codemirror_mode": {
    "name": "ipython",
    "version": 3
   },
   "file_extension": ".py",
   "mimetype": "text/x-python",
   "name": "python",
   "nbconvert_exporter": "python",
   "pygments_lexer": "ipython3",
   "version": "3.6.4"
  }
 },
 "nbformat": 4,
 "nbformat_minor": 2
}
