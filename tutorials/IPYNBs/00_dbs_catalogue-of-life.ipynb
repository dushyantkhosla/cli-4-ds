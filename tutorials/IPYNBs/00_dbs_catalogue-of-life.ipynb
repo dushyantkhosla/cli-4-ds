{
 "cells": [
  {
   "cell_type": "code",
   "execution_count": 19,
   "metadata": {},
   "outputs": [],
   "source": [
    "import os\n",
    "os.chdir(\"/home/data/\")"
   ]
  },
  {
   "cell_type": "code",
   "execution_count": 20,
   "metadata": {},
   "outputs": [],
   "source": [
    "import subprocess as sbp\n",
    "import sqlite3\n",
    "\n",
    "import pandas as pd\n",
    "import numpy as np"
   ]
  },
  {
   "cell_type": "code",
   "execution_count": 21,
   "metadata": {},
   "outputs": [],
   "source": [
    "run_on_bash = lambda i: sbp.check_output(\"{}\".format(i), shell=True).decode('utf-8')"
   ]
  },
  {
   "cell_type": "markdown",
   "metadata": {},
   "source": [
    "## Download and Unzip Data"
   ]
  },
  {
   "cell_type": "raw",
   "metadata": {},
   "source": [
    "!wget 'http://www.catalogueoflife.org/DCA_Export/zip-fixed/2018-02-26-archive-complete.zip\"'\n",
    "!dtrx 2018-02-26-archive-complete.zip"
   ]
  },
  {
   "cell_type": "code",
   "execution_count": 24,
   "metadata": {},
   "outputs": [
    {
     "data": {
      "text/plain": [
       "['.DS_Store',\n",
       " '.ipynb_checkpoints',\n",
       " '.notifier',\n",
       " 'chinook.db',\n",
       " 'clean-kdd.py',\n",
       " 'flights.csv',\n",
       " 'get-csvs.sh',\n",
       " 'get-nyc-taxi.sh',\n",
       " 'hsperfdata_metabase',\n",
       " 'hsperfdata_root',\n",
       " 'kdd.csv',\n",
       " 'life.db',\n",
       " 'make-data.py',\n",
       " 'tutorial.db',\n",
       " 'zen.txt']"
      ]
     },
     "execution_count": 24,
     "metadata": {},
     "output_type": "execute_result"
    }
   ],
   "source": [
    "os.listdir(os.getcwd())"
   ]
  },
  {
   "cell_type": "markdown",
   "metadata": {},
   "source": [
    "## Check files"
   ]
  },
  {
   "cell_type": "code",
   "execution_count": 27,
   "metadata": {},
   "outputs": [
    {
     "name": "stdout",
     "output_type": "stream",
     "text": [
      "flights.csv               is     702.88 MB and has    7453216 rows\n",
      "get-csvs.sh               is       0.00 MB and has         37 rows\n",
      "kdd.csv                   is     742.58 MB and has    4898432 rows\n",
      "zen.txt                   is       0.00 MB and has         21 rows\n"
     ]
    }
   ],
   "source": [
    "FILES = filter(lambda i: 'txt' in i or 'csv' in i, os.listdir(os.getcwd()))\n",
    "dict_files = {}\n",
    "\n",
    "for file in FILES:\n",
    "    rows_ = int(run_on_bash(\"wc -l {}\".format(file)).split(\" \")[0])\n",
    "    size_ = os.path.getsize(file)/10**6\n",
    "    dict_files[file] = {\n",
    "        'rows': rows_,\n",
    "        'size': size_\n",
    "    }\n",
    "    print(\"{:25} is {:10.2f} MB and has {:10.0f} rows\".format(file, size_, rows_))"
   ]
  },
  {
   "cell_type": "markdown",
   "metadata": {},
   "source": [
    "## Create DB, Connection, Cursor"
   ]
  },
  {
   "cell_type": "code",
   "execution_count": 28,
   "metadata": {},
   "outputs": [
    {
     "name": "stdout",
     "output_type": "stream",
     "text": [
      "Connecting to Existing DB\n"
     ]
    }
   ],
   "source": [
    "if os.path.exists(\"life.db\"):\n",
    "    print(\"Connecting to Existing DB\")\n",
    "    conn = sqlite3.connect(\"life.db\")\n",
    "else:\n",
    "    print(\"Initialising new SQLite DB\")\n",
    "    conn = sqlite3.connect(\"life.db\")"
   ]
  },
  {
   "cell_type": "code",
   "execution_count": 29,
   "metadata": {},
   "outputs": [],
   "source": [
    "curs = conn.cursor()"
   ]
  },
  {
   "cell_type": "markdown",
   "metadata": {},
   "source": [
    "## Import files into DB with pandas"
   ]
  },
  {
   "cell_type": "code",
   "execution_count": 41,
   "metadata": {},
   "outputs": [
    {
     "name": "stdout",
     "output_type": "stream",
     "text": [
      "description.txt is a small file. Importing directly.\n",
      "Done.\n",
      "distribution.txt is a small file. Importing directly.\n",
      "Done.\n",
      "reference.txt is large. Importing in chunks.\n",
      "Done\n",
      "speciesprofile.txt is a small file. Importing directly.\n",
      "Done.\n",
      "taxa.txt is large. Importing in chunks.\n",
      "Done\n",
      "vernacular.txt is a small file. Importing directly.\n",
      "Done.\n"
     ]
    }
   ],
   "source": [
    "for file in dict_files:\n",
    "    \"\"\"\n",
    "    For each file, check its size in MB\n",
    "    If smaller than 250, read directly\n",
    "    If larger, read in chunks\n",
    "    Load the file into the database (.db file)\n",
    "    \"\"\"\n",
    "    if dict_files.get(file).get('size') < 250:\n",
    "        print(\"{} is a small file. Importing directly.\".format(file))\n",
    "        df_ = pd.read_csv(\n",
    "            file, \n",
    "            sep=\"\\t\",\n",
    "            low_memory=False,\n",
    "            error_bad_lines=False\n",
    "        )\n",
    "        df_.to_sql(\n",
    "            name=file.replace(\".txt\", ''), \n",
    "            con=conn, \n",
    "            index=False,\n",
    "            if_exists='append'\n",
    "        )\n",
    "        print(\"Done.\")\n",
    "    else:\n",
    "        print(\"{} is large. Importing in chunks.\".format(file))\n",
    "        size = int(np.ceil(dict_files.get(file).get('rows')/10))\n",
    "        chunks = pd.read_csv(\n",
    "            file, \n",
    "            sep=\"\\t\", \n",
    "            chunksize=size, \n",
    "            error_bad_lines=False,\n",
    "            low_memory=False\n",
    "        )\n",
    "        for c in chunks:\n",
    "            c.to_sql(\n",
    "                name=file.replace(\".txt\", ''), \n",
    "                con=conn, \n",
    "                index=False,\n",
    "                if_exists='append'\n",
    "            )\n",
    "        print(\"Done\")    "
   ]
  },
  {
   "cell_type": "markdown",
   "metadata": {},
   "source": [
    "## Check DB"
   ]
  },
  {
   "cell_type": "code",
   "execution_count": 30,
   "metadata": {},
   "outputs": [
    {
     "name": "stdout",
     "output_type": "stream",
     "text": [
      "The database is 2236.95 MB in size\n"
     ]
    }
   ],
   "source": [
    "print(\"The database is {:.2f} MB in size\".format(os.path.getsize('life.db')/10**6))"
   ]
  },
  {
   "cell_type": "code",
   "execution_count": 31,
   "metadata": {},
   "outputs": [
    {
     "data": {
      "text/plain": [
       "[('description',),\n",
       " ('distribution',),\n",
       " ('reference',),\n",
       " ('speciesprofile',),\n",
       " ('taxa',),\n",
       " ('vernacular',)]"
      ]
     },
     "execution_count": 31,
     "metadata": {},
     "output_type": "execute_result"
    }
   ],
   "source": [
    "curs.execute(\"SELECT name FROM sqlite_master WHERE type='table'\").fetchall()"
   ]
  },
  {
   "cell_type": "markdown",
   "metadata": {},
   "source": [
    "## Run Queries"
   ]
  },
  {
   "cell_type": "code",
   "execution_count": 40,
   "metadata": {},
   "outputs": [
    {
     "data": {
      "text/html": [
       "<div>\n",
       "<style scoped>\n",
       "    .dataframe tbody tr th:only-of-type {\n",
       "        vertical-align: middle;\n",
       "    }\n",
       "\n",
       "    .dataframe tbody tr th {\n",
       "        vertical-align: top;\n",
       "    }\n",
       "\n",
       "    .dataframe thead th {\n",
       "        text-align: right;\n",
       "    }\n",
       "</style>\n",
       "<table border=\"1\" class=\"dataframe\">\n",
       "  <thead>\n",
       "    <tr style=\"text-align: right;\">\n",
       "      <th></th>\n",
       "      <th>genus</th>\n",
       "      <th>count(*)</th>\n",
       "    </tr>\n",
       "  </thead>\n",
       "  <tbody>\n",
       "    <tr>\n",
       "      <th>0</th>\n",
       "      <td>Hieracium</td>\n",
       "      <td>6029</td>\n",
       "    </tr>\n",
       "    <tr>\n",
       "      <th>1</th>\n",
       "      <td>Astragalus</td>\n",
       "      <td>3375</td>\n",
       "    </tr>\n",
       "    <tr>\n",
       "      <th>2</th>\n",
       "      <td>Puccinia</td>\n",
       "      <td>3193</td>\n",
       "    </tr>\n",
       "    <tr>\n",
       "      <th>3</th>\n",
       "      <td>Carabus</td>\n",
       "      <td>3125</td>\n",
       "    </tr>\n",
       "    <tr>\n",
       "      <th>4</th>\n",
       "      <td>Cortinarius</td>\n",
       "      <td>3066</td>\n",
       "    </tr>\n",
       "    <tr>\n",
       "      <th>5</th>\n",
       "      <td>Agrilus</td>\n",
       "      <td>3034</td>\n",
       "    </tr>\n",
       "    <tr>\n",
       "      <th>6</th>\n",
       "      <td>Carex</td>\n",
       "      <td>2670</td>\n",
       "    </tr>\n",
       "    <tr>\n",
       "      <th>7</th>\n",
       "      <td>Tipula</td>\n",
       "      <td>2507</td>\n",
       "    </tr>\n",
       "    <tr>\n",
       "      <th>8</th>\n",
       "      <td>Taraxacum</td>\n",
       "      <td>2423</td>\n",
       "    </tr>\n",
       "    <tr>\n",
       "      <th>9</th>\n",
       "      <td>Euphorbia</td>\n",
       "      <td>2416</td>\n",
       "    </tr>\n",
       "  </tbody>\n",
       "</table>\n",
       "</div>"
      ],
      "text/plain": [
       "         genus  count(*)\n",
       "0    Hieracium      6029\n",
       "1   Astragalus      3375\n",
       "2     Puccinia      3193\n",
       "3      Carabus      3125\n",
       "4  Cortinarius      3066\n",
       "5      Agrilus      3034\n",
       "6        Carex      2670\n",
       "7       Tipula      2507\n",
       "8    Taraxacum      2423\n",
       "9    Euphorbia      2416"
      ]
     },
     "execution_count": 40,
     "metadata": {},
     "output_type": "execute_result"
    }
   ],
   "source": [
    "pd.read_sql_query(\n",
    "    sql=\"\"\"\n",
    "    SELECT genus, count(*) \n",
    "    FROM taxa\n",
    "    WHERE isExtinct = 0.0\n",
    "      AND genus IS NOT NULL\n",
    "    GROUP BY 1\n",
    "    ORDER BY 2 DESC\n",
    "    LIMIT 10\n",
    "    \"\"\",\n",
    "    con=conn\n",
    ")"
   ]
  },
  {
   "cell_type": "markdown",
   "metadata": {},
   "source": [
    "## If you make changes to the DB, save them"
   ]
  },
  {
   "cell_type": "code",
   "execution_count": null,
   "metadata": {},
   "outputs": [],
   "source": [
    "conn.commit()\n",
    "conn.close()"
   ]
  },
  {
   "cell_type": "markdown",
   "metadata": {},
   "source": [
    "## Improve Speed With a New Index\n",
    "\n",
    "If you know you will be pulling records according to the value of a certain column(s) very frequently, make a new index for your database on that column. \n",
    "\n",
    "In the example below, we're setting the `id` column as the new and assigning the name `id_idx` to it."
   ]
  },
  {
   "cell_type": "code",
   "execution_count": null,
   "metadata": {},
   "outputs": [],
   "source": [
    "curs.execute(\"CREATE INDEX id_idx ON data (id);\")\n",
    "conn.commit()"
   ]
  }
 ],
 "metadata": {
  "kernelspec": {
   "display_name": "Python 3",
   "language": "python",
   "name": "python3"
  },
  "language_info": {
   "codemirror_mode": {
    "name": "ipython",
    "version": 3
   },
   "file_extension": ".py",
   "mimetype": "text/x-python",
   "name": "python",
   "nbconvert_exporter": "python",
   "pygments_lexer": "ipython3",
   "version": "3.6.4"
  }
 },
 "nbformat": 4,
 "nbformat_minor": 2
}
