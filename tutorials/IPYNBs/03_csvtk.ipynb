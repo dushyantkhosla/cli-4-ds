{
 "cells": [
  {
   "cell_type": "code",
   "execution_count": 1,
   "metadata": {},
   "outputs": [],
   "source": [
    "import os\n",
    "os.chdir(\"/home/data\")"
   ]
  },
  {
   "cell_type": "code",
   "execution_count": 2,
   "metadata": {},
   "outputs": [
    {
     "name": "stdout",
     "output_type": "stream",
     "text": [
      "   7453216 flights.csv\n",
      "        10 flights_01.csv\n",
      "        10 flights_02.csv\n",
      "      1000 flights_1k.csv\n",
      "  10000001 fromPandas.csv\n",
      "        27 get-csvs.sh\n",
      "  17454264 total\n"
     ]
    }
   ],
   "source": [
    "ls | grep csv | xargs wc -l"
   ]
  },
  {
   "cell_type": "markdown",
   "metadata": {},
   "source": [
    "# csvtk\n",
    "\n",
    "- A cross-platform, efficient, practical and pretty CSV/TSV toolkit in Golang\n",
    "- [docs](http://bioinf.shenwei.me/csvtk/)\n",
    "- [Usage](http://bioinf.shenwei.me/csvtk/usage/)\n",
    "- [Tutorial](http://bioinf.shenwei.me/csvtk/tutorial/)"
   ]
  },
  {
   "cell_type": "code",
   "execution_count": 3,
   "metadata": {
    "scrolled": true
   },
   "outputs": [
    {
     "name": "stdout",
     "output_type": "stream",
     "text": [
      "A cross-platform, efficient and practical CSV/TSV toolkit\n",
      "\n",
      "Version: 0.13.0\n",
      "\n",
      "Author: Wei Shen <shenwei356@gmail.com>\n",
      "\n",
      "Documents  : http://shenwei356.github.io/csvtk\n",
      "Source code: https://github.com/shenwei356/csvtk\n",
      "\n",
      "Attention:\n",
      "\n",
      "    1. The CSV parser requires all the lines have same number of fields/columns.\n",
      "       Even lines with spaces will cause error.\n",
      "    2. By default, csvtk thinks your files have header row, if not, switch flag \"-H\" on.\n",
      "    3. Column names better be unique.\n",
      "    4. By default, lines starting with \"#\" will be ignored, if the header row\n",
      "       starts with \"#\", please assign flag \"-C\" another rare symbol, e.g. '$'.\n",
      "    5. By default, csvtk handles CSV files, use flag \"-t\" for tab-delimited files.\n",
      "    6. If \" exists in tab-delimited files, use flag \"-l\".\n",
      "\n",
      "Environment variables for frequently used global flags\n",
      "\n",
      "    - \"CSVTK_T\" for flag \"-t/--tabs\"\n",
      "    - \"CSVTK_H\" for flag \"-H/--no-header-row\"\n",
      "\n",
      "Usage:\n",
      "  csvtk [command]\n",
      "\n",
      "Available Commands:\n",
      "  collapse        collapse one field with selected fields as keys\n",
      "  concat          concatenate CSV/TSV files by rows\n",
      "  csv2md          convert CSV to markdown format\n",
      "  csv2tab         convert CSV to tabular format\n",
      "  cut             select parts of fields\n",
      "  filter          filter rows by values of selected fields with artithmetic expression\n",
      "  filter2         filter rows by awk-like artithmetic/string expressions\n",
      "  freq            frequencies of selected fields\n",
      "  gather          gather columns into key-value pairs\n",
      "  genautocomplete generate shell autocompletion script\n",
      "  grep            grep data by selected fields with patterns/regular expressions\n",
      "  head            print first N records\n",
      "  headers         print headers\n",
      "  help            Help about any command\n",
      "  inter           intersection of multiple files\n",
      "  join            join multiple CSV files by selected fields\n",
      "  mutate          create new column from selected fields by regular expression\n",
      "  mutate2         create new column from selected fields by awk-like artithmetic/string expressions\n",
      "  plot            plot common figures\n",
      "  pretty          convert CSV to readable aligned table\n",
      "  rename          rename column names\n",
      "  rename2         rename column names by regular expression\n",
      "  replace         replace data of selected fields by regular expression\n",
      "  sample          sampling by proportion\n",
      "  sort            sort by selected fields\n",
      "  space2tab       convert space delimited format to CSV\n",
      "  split           split CSV/TSV into multiple files according to column values\n",
      "  splitxlsx       split XLSX sheet into multiple sheets according to column values\n",
      "  stats           summary of CSV file\n",
      "  stats2          summary of selected digital fields\n",
      "  tab2csv         convert tabular format to CSV\n",
      "  transpose       transpose CSV data\n",
      "  uniq            unique data without sorting\n",
      "  version         print version information and check for update\n",
      "  xlsx2csv        convert XLSX to CSV format\n",
      "\n",
      "Flags:\n",
      "  -c, --chunk-size int         chunk size of CSV reader (default 50)\n",
      "  -C, --comment-char string    lines starting with commment-character will be ignored. if your header row starts with '#', please assign \"-C\" another rare symbol, e.g. '$' (default \"#\")\n",
      "  -d, --delimiter string       delimiting character of the input CSV file (default \",\")\n",
      "  -h, --help                   help for csvtk\n",
      "  -l, --lazy-quotes            if given, a quote may appear in an unquoted field and a non-doubled quote may appear in a quoted field\n",
      "  -H, --no-header-row          specifies that the input CSV file does not have header row\n",
      "  -j, --num-cpus int           number of CPUs to use (default value depends on your computer) (default 3)\n",
      "  -D, --out-delimiter string   delimiting character of the output CSV file (default \",\")\n",
      "  -o, --out-file string        out file (\"-\" for stdout, suffix .gz for gzipped out) (default \"-\")\n",
      "  -T, --out-tabs               specifies that the output is delimited with tabs. Overrides \"-D\"\n",
      "  -t, --tabs                   specifies that the input CSV file is delimited with tabs. Overrides \"-d\" and \"-D\"\n",
      "\n",
      "Use \"csvtk [command] --help\" for more information about a command.\n"
     ]
    }
   ],
   "source": [
    "!csvtk"
   ]
  },
  {
   "cell_type": "markdown",
   "metadata": {},
   "source": [
    "## See column names"
   ]
  },
  {
   "cell_type": "code",
   "execution_count": 4,
   "metadata": {
    "scrolled": true
   },
   "outputs": [
    {
     "name": "stdout",
     "output_type": "stream",
     "text": [
      "# fromPandas.csv\n",
      "1\tC00\n",
      "2\tA01\n",
      "3\tA02\n",
      "4\tA03\n",
      "5\tC04\n",
      "6\tD05\n",
      "7\tB06\n",
      "8\tC07\n",
      "9\tC08\n",
      "10\tA09\n"
     ]
    }
   ],
   "source": [
    "!csvtk headers fromPandas.csv"
   ]
  },
  {
   "cell_type": "markdown",
   "metadata": {},
   "source": [
    "## See first few rows"
   ]
  },
  {
   "cell_type": "code",
   "execution_count": 5,
   "metadata": {
    "scrolled": true
   },
   "outputs": [
    {
     "name": "stdout",
     "output_type": "stream",
     "text": [
      "C00,A01,A02,A03,C04,D05,B06,C07,C08,A09\r\n",
      "PO,Critical,0.31,-0.02,0.15,0.52,-1.24,-1.12,-1.68,-0.7\r\n",
      "AR,Critical,1.33,-0.65,0.29,-1.31,0.32,-1.61,1.27,0.34\r\n",
      "AR,Critical,-2.4,-0.23,0.28,0.95,0.82,-0.18,-1.73,-1.44\r\n",
      "PO,Critical,0.16,-0.01,0.46,0.09,-0.43,-0.79,-1.5,0.87\r\n",
      "PO,Alert,-0.34,-0.37,0.17,0.62,-1.19,1.81,0.66,0.1\r\n"
     ]
    }
   ],
   "source": [
    "!csvtk head -n 5 fromPandas.csv"
   ]
  },
  {
   "cell_type": "markdown",
   "metadata": {},
   "source": [
    "## `pretty`"
   ]
  },
  {
   "cell_type": "code",
   "execution_count": null,
   "metadata": {},
   "outputs": [],
   "source": [
    "!csvtk pretty -h"
   ]
  },
  {
   "cell_type": "code",
   "execution_count": null,
   "metadata": {
    "scrolled": true
   },
   "outputs": [],
   "source": [
    "!csvtk head fromPandas.csv | csvtk pretty -r"
   ]
  },
  {
   "cell_type": "markdown",
   "metadata": {},
   "source": [
    "## `sample`\n",
    "\n",
    "- the `-H` switch removes the header, `-p` specifies proportion"
   ]
  },
  {
   "cell_type": "code",
   "execution_count": null,
   "metadata": {},
   "outputs": [],
   "source": [
    "!csvtk sample -H -p 0.01 fromPandas.csv | wc -l"
   ]
  },
  {
   "cell_type": "code",
   "execution_count": null,
   "metadata": {},
   "outputs": [],
   "source": [
    "!csvtk sample -p 0.001 fromPandas.csv | head"
   ]
  },
  {
   "cell_type": "markdown",
   "metadata": {},
   "source": [
    "## `stats` "
   ]
  },
  {
   "cell_type": "code",
   "execution_count": null,
   "metadata": {},
   "outputs": [],
   "source": [
    "!csvtk stats fromPandas.csv"
   ]
  },
  {
   "cell_type": "markdown",
   "metadata": {},
   "source": [
    "## `cut`"
   ]
  },
  {
   "cell_type": "code",
   "execution_count": null,
   "metadata": {},
   "outputs": [],
   "source": [
    "!csvtk cut -h"
   ]
  },
  {
   "cell_type": "code",
   "execution_count": null,
   "metadata": {},
   "outputs": [],
   "source": [
    "# by position, ranges\n",
    "!head fromPandas.csv | csvtk cut -f 2,3,5-7 | csvtk pretty -r"
   ]
  },
  {
   "cell_type": "code",
   "execution_count": null,
   "metadata": {},
   "outputs": [],
   "source": [
    "# by exact name\n",
    "!head fromPandas.csv | csvtk cut -f A05,B07,C00,D04 | csvtk pretty -r"
   ]
  },
  {
   "cell_type": "code",
   "execution_count": null,
   "metadata": {},
   "outputs": [],
   "source": [
    "# by fuzzy matching\n",
    "!head fromPandas.csv | csvtk cut -F -f \"A0*,D01\" | csvtk pretty -r"
   ]
  },
  {
   "cell_type": "code",
   "execution_count": null,
   "metadata": {},
   "outputs": [],
   "source": [
    "# ignoring columns by position, ranges\n",
    "# csvtk cut -f -3--1 for discarding column 1,2,3\n",
    "!head fromPandas.csv | csvtk cut -f -5--2,-10--9 | csvtk pretty -r"
   ]
  },
  {
   "cell_type": "markdown",
   "metadata": {},
   "source": [
    "## `uniq`"
   ]
  },
  {
   "cell_type": "code",
   "execution_count": null,
   "metadata": {},
   "outputs": [],
   "source": [
    "!csvtk uniq -h"
   ]
  },
  {
   "cell_type": "code",
   "execution_count": null,
   "metadata": {},
   "outputs": [],
   "source": [
    "# will retain the rows corresponding to the first occurence of each value in column\n",
    "!cat fromPandas.csv | csvtk uniq -f C00"
   ]
  },
  {
   "cell_type": "code",
   "execution_count": null,
   "metadata": {},
   "outputs": [],
   "source": [
    "!cat fromPandas.csv | csvtk cut -f D01 | csvtk uniq -f 1"
   ]
  },
  {
   "cell_type": "markdown",
   "metadata": {},
   "source": [
    "## `freq`"
   ]
  },
  {
   "cell_type": "code",
   "execution_count": null,
   "metadata": {},
   "outputs": [],
   "source": [
    "!csvtk freq -h"
   ]
  },
  {
   "cell_type": "code",
   "execution_count": null,
   "metadata": {},
   "outputs": [],
   "source": [
    "!cat fromPandas.csv | csvtk freq -f C00"
   ]
  },
  {
   "cell_type": "code",
   "execution_count": null,
   "metadata": {},
   "outputs": [],
   "source": [
    "# sort by key\n",
    "!cat fromPandas.csv | csvtk freq -f C00 -k | csvtk pretty"
   ]
  },
  {
   "cell_type": "code",
   "execution_count": null,
   "metadata": {},
   "outputs": [],
   "source": [
    "# sort in descending order of count\n",
    "!cat fromPandas.csv | csvtk freq -f C00 -n -r | csvtk pretty"
   ]
  },
  {
   "cell_type": "code",
   "execution_count": null,
   "metadata": {},
   "outputs": [],
   "source": [
    "# combination of two variables\n",
    "!cat fromPandas.csv | csvtk freq -f C00,D01 -n -r | csvtk pretty"
   ]
  },
  {
   "cell_type": "markdown",
   "metadata": {},
   "source": [
    "---\n",
    "\n",
    "## `plot`"
   ]
  },
  {
   "cell_type": "code",
   "execution_count": null,
   "metadata": {},
   "outputs": [],
   "source": [
    "!csvtk plot -h"
   ]
  },
  {
   "cell_type": "markdown",
   "metadata": {},
   "source": [
    "### Histogram"
   ]
  },
  {
   "cell_type": "code",
   "execution_count": null,
   "metadata": {
    "collapsed": true
   },
   "outputs": [],
   "source": [
    "!cat fromPandas.csv \\\n",
    "| csvtk sample -p 0.01 \\\n",
    "| csvtk plot hist -f \"D04\" -o hist.png"
   ]
  },
  {
   "cell_type": "code",
   "execution_count": null,
   "metadata": {},
   "outputs": [],
   "source": [
    "Image('hist.png', width=400)"
   ]
  },
  {
   "cell_type": "markdown",
   "metadata": {},
   "source": [
    "### Boxplots"
   ]
  },
  {
   "cell_type": "code",
   "execution_count": null,
   "metadata": {
    "collapsed": true
   },
   "outputs": [],
   "source": [
    "!cat fromPandas.csv \\\n",
    "| csvtk sample -p 0.01 \\\n",
    "| csvtk plot box -g \"C00\" -f \"D04\" -o box.png"
   ]
  },
  {
   "cell_type": "code",
   "execution_count": null,
   "metadata": {
    "scrolled": true
   },
   "outputs": [],
   "source": [
    "Image('box.png', width=400)"
   ]
  },
  {
   "cell_type": "code",
   "execution_count": null,
   "metadata": {
    "collapsed": true
   },
   "outputs": [],
   "source": [
    "!cat fromPandas.csv \\\n",
    "| csvtk sample -p 0.01 \\\n",
    "| csvtk plot box -g \"C00\" -f \"D04\" --horiz -o box2.png"
   ]
  },
  {
   "cell_type": "code",
   "execution_count": null,
   "metadata": {},
   "outputs": [],
   "source": [
    "Image('box2.png', width=400)"
   ]
  },
  {
   "cell_type": "code",
   "execution_count": null,
   "metadata": {},
   "outputs": [],
   "source": [
    "import pandas as pd\n",
    "import numpy as np\n",
    "\n",
    "%pylab inline\n",
    "\n",
    "df = (pd.DataFrame({'x': range(5000)})\n",
    " .assign(Y = lambda df: np.random.randn(5000).round(2))\n",
    " .assign(Z = lambda df: 2 * df['x'] + 5)\n",
    " .assign(Grp = pd.Series(list('ABCD')).sample(5000, replace=True).values))\n",
    "\n",
    "df.to_csv('line.csv', index=False)"
   ]
  },
  {
   "cell_type": "code",
   "execution_count": null,
   "metadata": {
    "collapsed": true
   },
   "outputs": [],
   "source": [
    "!csvtk plot line line.csv -x x -y Y -o lineplot.png"
   ]
  },
  {
   "cell_type": "code",
   "execution_count": null,
   "metadata": {},
   "outputs": [],
   "source": [
    "Image('lineplot.png')"
   ]
  },
  {
   "cell_type": "markdown",
   "metadata": {},
   "source": [
    "### ScatterPlot"
   ]
  },
  {
   "cell_type": "code",
   "execution_count": null,
   "metadata": {
    "collapsed": true
   },
   "outputs": [],
   "source": [
    "!cat line.csv \\\n",
    "| csvtk plot line -x x -y Y -g Grp --scatter -o scatter.png"
   ]
  },
  {
   "cell_type": "code",
   "execution_count": null,
   "metadata": {},
   "outputs": [],
   "source": [
    "Image('scatter.png', width=400)"
   ]
  },
  {
   "cell_type": "markdown",
   "metadata": {},
   "source": [
    "---\n",
    "\n",
    "## `grep`"
   ]
  },
  {
   "cell_type": "code",
   "execution_count": null,
   "metadata": {},
   "outputs": [],
   "source": [
    "!csvtk grep -h"
   ]
  },
  {
   "cell_type": "code",
   "execution_count": null,
   "metadata": {},
   "outputs": [],
   "source": [
    "!cat fromPandas.csv | csvtk grep -f C00 -p EN | csvtk head | csvtk pretty -r"
   ]
  },
  {
   "cell_type": "code",
   "execution_count": null,
   "metadata": {
    "collapsed": true
   },
   "outputs": [],
   "source": [
    "# Remore rows containing missing data\n",
    "!csvtk grep -F -f \"*\" -r -p \"^$\" -v"
   ]
  },
  {
   "cell_type": "markdown",
   "metadata": {},
   "source": [
    "---\n",
    "\n",
    "## `filter`"
   ]
  },
  {
   "cell_type": "code",
   "execution_count": null,
   "metadata": {},
   "outputs": [],
   "source": [
    "!csvtk filter -h"
   ]
  },
  {
   "cell_type": "code",
   "execution_count": null,
   "metadata": {},
   "outputs": [],
   "source": [
    "!cat fromPandas.csv | csvtk filter -f \"D04>3.00\" | wc -l"
   ]
  },
  {
   "cell_type": "code",
   "execution_count": null,
   "metadata": {},
   "outputs": [],
   "source": [
    "!cat fromPandas.csv | csvtk filter -F -f \"A*>1\" | csvtk head | csvtk pretty"
   ]
  },
  {
   "cell_type": "markdown",
   "metadata": {},
   "source": [
    "---\n",
    "\n",
    "## `filter2`"
   ]
  },
  {
   "cell_type": "code",
   "execution_count": null,
   "metadata": {},
   "outputs": [],
   "source": [
    "!csvtk filter2 -h"
   ]
  },
  {
   "cell_type": "code",
   "execution_count": null,
   "metadata": {},
   "outputs": [],
   "source": [
    "!cat fromPandas.csv | csvtk filter2 -f '$A05>1 && $C00==\"ES\"' | csvtk head | csvtk pretty -r"
   ]
  },
  {
   "cell_type": "markdown",
   "metadata": {},
   "source": [
    "---\n",
    "\n",
    "## `rename`"
   ]
  },
  {
   "cell_type": "code",
   "execution_count": null,
   "metadata": {},
   "outputs": [],
   "source": [
    "!csvtk rename -h"
   ]
  },
  {
   "cell_type": "code",
   "execution_count": null,
   "metadata": {},
   "outputs": [],
   "source": [
    "!cat fromPandas.csv | csvtk rename -f 1,2 -n Lang,Msg | csvtk head | csvtk pretty -r"
   ]
  },
  {
   "cell_type": "code",
   "execution_count": null,
   "metadata": {},
   "outputs": [],
   "source": [
    "!csvtk rename2 -h"
   ]
  },
  {
   "cell_type": "code",
   "execution_count": null,
   "metadata": {},
   "outputs": [],
   "source": [
    "!head -5 fromPandas.csv \\\n",
    "| csvtk cut -f -2--1 \\\n",
    "| csvtk rename2 -F -f \"*\" -p \"(.*)\" -r 'Num_${1}' \\\n",
    "| csvtk pretty -r "
   ]
  },
  {
   "cell_type": "markdown",
   "metadata": {},
   "source": [
    "---\n",
    "\n",
    "## `stats2`"
   ]
  },
  {
   "cell_type": "code",
   "execution_count": null,
   "metadata": {},
   "outputs": [],
   "source": [
    "!csvtk stats2 -h"
   ]
  },
  {
   "cell_type": "code",
   "execution_count": null,
   "metadata": {},
   "outputs": [],
   "source": [
    "!cat fromPandas.csv | csvtk stats2 -F -f 'A*'"
   ]
  },
  {
   "cell_type": "markdown",
   "metadata": {},
   "source": [
    "---\n",
    "\n",
    "## `mutate`"
   ]
  },
  {
   "cell_type": "code",
   "execution_count": null,
   "metadata": {},
   "outputs": [],
   "source": [
    "!csvtk mutate -h"
   ]
  },
  {
   "cell_type": "code",
   "execution_count": null,
   "metadata": {
    "scrolled": true
   },
   "outputs": [],
   "source": [
    "!head fromPandas.csv | csvtk mutate -f C00 -n C00_copy"
   ]
  },
  {
   "cell_type": "markdown",
   "metadata": {},
   "source": [
    "## `sort`"
   ]
  },
  {
   "cell_type": "code",
   "execution_count": null,
   "metadata": {},
   "outputs": [],
   "source": [
    "!csvtk sort -h"
   ]
  },
  {
   "cell_type": "code",
   "execution_count": null,
   "metadata": {
    "collapsed": true
   },
   "outputs": [],
   "source": []
  }
 ],
 "metadata": {
  "kernelspec": {
   "display_name": "Python 3",
   "language": "python",
   "name": "python3"
  },
  "language_info": {
   "codemirror_mode": {
    "name": "ipython",
    "version": 3
   },
   "file_extension": ".py",
   "mimetype": "text/x-python",
   "name": "python",
   "nbconvert_exporter": "python",
   "pygments_lexer": "ipython3",
   "version": "3.6.4"
  }
 },
 "nbformat": 4,
 "nbformat_minor": 2
}
