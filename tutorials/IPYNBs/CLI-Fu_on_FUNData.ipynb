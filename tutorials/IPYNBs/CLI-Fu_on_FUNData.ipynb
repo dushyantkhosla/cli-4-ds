{
 "cells": [
  {
   "cell_type": "code",
   "execution_count": 3,
   "metadata": {
    "collapsed": true
   },
   "outputs": [],
   "source": [
    "import os\n",
    "os.chdir('/home/dk/CrunchProjects/demand_prediction_v2/data/raw')"
   ]
  },
  {
   "cell_type": "code",
   "execution_count": 4,
   "metadata": {},
   "outputs": [
    {
     "data": {
      "text/plain": [
       "['Verklarende_lijst.xlsx', 'csvs', '.gitkeep', 'txts', 'parquets']"
      ]
     },
     "execution_count": 4,
     "metadata": {},
     "output_type": "execute_result"
    }
   ],
   "source": [
    "os.listdir(os.getcwd())"
   ]
  },
  {
   "cell_type": "markdown",
   "metadata": {},
   "source": [
    "## Basic File Inspection"
   ]
  },
  {
   "cell_type": "code",
   "execution_count": 9,
   "metadata": {
    "collapsed": true
   },
   "outputs": [],
   "source": [
    "# !mkdir txts\n",
    "# !mkdir csvs\n",
    "# !mv *.txt ./txts/"
   ]
  },
  {
   "cell_type": "markdown",
   "metadata": {},
   "source": [
    "### Check out size of files and their extensions"
   ]
  },
  {
   "cell_type": "code",
   "execution_count": 10,
   "metadata": {},
   "outputs": [
    {
     "name": "stdout",
     "output_type": "stream",
     "text": [
      "total 4425MB\r\n",
      "-rw-r--r-- 1 dk dk   48MB Jan  9 12:47 Item.txt\r\n",
      "-rw-r--r-- 1 dk dk    1MB Sep  5  2016 Licenties.txt\r\n",
      "-rw-r--r-- 1 dk dk   32MB Jan  9 12:47 Promo.txt\r\n",
      "-rw-r--r-- 1 dk dk   16MB Jan  9 12:47 PurchaseLine.txt\r\n",
      "-rw-r--r-- 1 dk dk 4127MB Jan  9 13:12 Sales.txt\r\n",
      "-rw-r--r-- 1 dk dk  201MB Jan  9 12:49 Stock_Export_CCF_CCO.txt\r\n",
      "-rw-r--r-- 1 dk dk    3MB Jan  9 12:47 Stockouts.txt\r\n"
     ]
    }
   ],
   "source": [
    "!ls -l ./txts/ --block-size=MB"
   ]
  },
  {
   "cell_type": "markdown",
   "metadata": {},
   "source": [
    "- Count number of rows"
   ]
  },
  {
   "cell_type": "code",
   "execution_count": 11,
   "metadata": {},
   "outputs": [
    {
     "name": "stdout",
     "output_type": "stream",
     "text": [
      "    267365 Item.txt\n",
      "        99 Licenties.txt\n",
      "    281473 Promo.txt\n",
      "    223426 PurchaseLine.txt\n",
      "  17661125 Sales.txt\n",
      "   2886339 Stock_Export_CCF_CCO.txt\n",
      "     43799 Stockouts.txt\n",
      "  21363626 total\n"
     ]
    }
   ],
   "source": [
    "os.chdir('/home/dk/CrunchProjects/demand_prediction_v2/data/raw/txts/')\n",
    "!ls | xargs wc -l"
   ]
  },
  {
   "cell_type": "markdown",
   "metadata": {},
   "source": [
    "### Take a look at the files\n",
    "\n",
    "- Take note of\n",
    "    - the delimiter\n",
    "    - decimal point separator\n",
    "    - any missing data\n",
    "    - ID columns\n",
    "    - DateTime encodings"
   ]
  },
  {
   "cell_type": "code",
   "execution_count": 12,
   "metadata": {},
   "outputs": [
    {
     "name": "stdout",
     "output_type": "stream",
     "text": [
      "POSSales_PK|Date_FK|Date|Store_FK|Item_FK|Item_PK|Promo_FK|POSSales_Ticket No|POSSales_GiftList No|POSSales_GiftListLine No|POSSales_Sales Quantity|POSSales_Sales AmountExVAT|POSSales_Sales AmountInVAT|POSSales_Cost Amount|POSSales_Margin Amount|POSSales_Discount Amount|Store No_BK|POS Terminal No_BK|Transaction No_BK|Line No_BK\r",
      "\r\n",
      "42169332|41639|2014-01-02 00:00:00|17|316213|20337325|806|3810195837||0|1,00000000000000000000|17,32231000000000000000|20,96000000000000000000|9,98000000000000000000|7,34231000000000000000|-8,99000000000000000000|S038|P0381|226847|10000\r",
      "\r\n",
      "42169333|41639|2014-01-02 00:00:00|17|274932|20194564|812|3810195837||0|1,00000000000000000000|43,38017000000000000000|52,49000000000000000000|35,86000000000000000000|7,52017000000000000000|,00000000000000000000|S038|P0381|226847|20000\r",
      "\r\n",
      "42169334|41639|2014-01-02 00:00:00|17|326727|20347663|63|3810195838||0|1,00000000000000000000|6,60331000000000000000|7,99000000000000000000|5,21000000000000000000|1,39331000000000000000|,00000000000000000000|S038|P0381|226848|10000\r",
      "\r\n",
      "42169335|41639|2014-01-02 00:00:00|17|311837|20332760|63|3810195838||0|1,00000000000000000000|24,78512000000000000000|29,99000000000000000000|12,23000000000000000000|12,55512000000000000000|,00000000000000000000|S038|P0381|226848|20000\r",
      "\r\n"
     ]
    }
   ],
   "source": [
    "!head -n 5 Sales.txt"
   ]
  },
  {
   "cell_type": "code",
   "execution_count": 13,
   "metadata": {},
   "outputs": [
    {
     "name": "stdout",
     "output_type": "stream",
     "text": [
      "No_|Description|Vendor No_|Vendor Name|License|Unit Cost|Current Sales Price|Item Status|Web Shop Item|Item Category Code|Product Group Code|Product Subgroup|Universe|Lead Time Calculation|Review Time Calculation|pick|pack\r",
      "\r\n",
      "20023400|RAYHER PARELMOER-STOFFENVERF - WIT - FLACON 29 ML|L20714|RAYHER HOBBY GMBH||1,55000000000000000000|3,50000000000000000000|9|0|11|OV|99|CRK|||3,00000000000000000000|3,00000000000000000000\r",
      "\r\n",
      "20023401|RAYHER METALLIC TEXTIELVERF - CITROEN|L20714|RAYHER HOBBY GMBH||1,34000000000000000000|,00000000000000000000|9|0|11|OV|99|CRK|||3,00000000000000000000|3,00000000000000000000\r",
      "\r\n",
      "20023402|RAYHER PARELMOER-STOFFENVERF - GOUDGEEL - FLACON|L20714|RAYHER HOBBY GMBH||1,55000000000000000000|3,50000000000000000000|8|0|11|OV|99|CRK|||3,00000000000000000000|3,00000000000000000000\r",
      "\r\n",
      "20023404|RAYHER PATIO-PAINT - 8 BASISTINTEN OP BLISTERKAART|L20714|RAYHER HOBBY GMBH||3,00000000000000000000|6,70000000000000000000|9|0|11|OV|99|CRK|||6,00000000000000000000|6,00000000000000000000\r",
      "\r\n"
     ]
    }
   ],
   "source": [
    "!head -n 5 Item.txt"
   ]
  },
  {
   "cell_type": "code",
   "execution_count": 16,
   "metadata": {},
   "outputs": [
    {
     "name": "stdout",
     "output_type": "stream",
     "text": [
      "Promotion No_|Item No_|Unit Price (LCY)|Promotion Price (LCY)|Starting Date|Ending Date|Support Promotion|Funstunt\r",
      "\r\n",
      "BDAYFUN16C|20193590|12,99000000000000000000|10,39200000000000000000|2016-10-26 00:00:00|2016-10-26 00:00:00|0|0\r",
      "\r\n",
      "BDAYFUN16C|20193593|5,99000000000000000000|4,79200000000000000000|2016-10-26 00:00:00|2016-10-26 00:00:00|0|0\r",
      "\r\n",
      "BDAYFUN16C|20193594|2,99000000000000000000|2,39200000000000000000|2016-10-26 00:00:00|2016-10-26 00:00:00|0|0\r",
      "\r\n",
      "BDAYFUN16C|20193598|4,99000000000000000000|3,99200000000000000000|2016-10-26 00:00:00|2016-10-26 00:00:00|0|0\r",
      "\r\n"
     ]
    }
   ],
   "source": [
    "!head -n 5 Promo.txt"
   ]
  },
  {
   "cell_type": "code",
   "execution_count": 17,
   "metadata": {},
   "outputs": [
    {
     "name": "stdout",
     "output_type": "stream",
     "text": [
      "Document No_|No_|Location Code|Original Quantity|Expected Receipt Date\r",
      "\r\n",
      "IOR-1609984|20169879|DCO|180,00000000000000000000|2016-10-14 00:00:00\r",
      "\r\n",
      "IOR-1609985|20361811|DCO|702,00000000000000000000|2016-09-06 00:00:00\r",
      "\r\n",
      "IOR-1609985|20361814|DCO|756,00000000000000000000|2016-09-06 00:00:00\r",
      "\r\n",
      "IOR-1609985|20377063|DCO|1008,00000000000000000000|2016-09-06 00:00:00\r",
      "\r\n"
     ]
    }
   ],
   "source": [
    "!head -n 5 PurchaseLine.txt"
   ]
  },
  {
   "cell_type": "code",
   "execution_count": 19,
   "metadata": {},
   "outputs": [
    {
     "name": "stdout",
     "output_type": "stream",
     "text": [
      "Item No_|Location Code|Date Out of Stock|Date In Stock|No_ of Days Out\r",
      "\r\n",
      "044407|CCF|2014-08-06 00:00:00|2014-09-28 00:00:00|53\r",
      "\r\n",
      "044407|CCF|2014-12-22 00:00:00|2014-12-31 00:00:00|9\r",
      "\r\n",
      "044407|CCF|2015-01-07 00:00:00|2015-01-12 00:00:00|5\r",
      "\r\n",
      "044407|CCF|2015-02-21 00:00:00|2015-03-04 00:00:00|11\r",
      "\r\n"
     ]
    }
   ],
   "source": [
    "!head -n 5 Stockouts.txt"
   ]
  },
  {
   "cell_type": "code",
   "execution_count": 21,
   "metadata": {},
   "outputs": [
    {
     "name": "stdout",
     "output_type": "stream",
     "text": [
      "Entry No_|Posting Date|Location Code|Item No_|Quantity|Entry Type\r",
      "\r\n",
      "248357577|2016-10-26 00:00:00|CCF|20386379|-1,00000000000000000000|1\r",
      "\r\n",
      "248363107|2016-10-26 00:00:00|CCF|20400579|1,00000000000000000000|2\r",
      "\r\n",
      "248363108|2016-10-26 00:00:00|CCF|20387536|-1,00000000000000000000|3\r",
      "\r\n",
      "248363158|2016-10-26 00:00:00|CCF|20400577|-1,00000000000000000000|3\r",
      "\r\n"
     ]
    }
   ],
   "source": [
    "!head -n 5 Stock_Export_CCF_CCO.txt"
   ]
  },
  {
   "cell_type": "code",
   "execution_count": 22,
   "metadata": {
    "scrolled": true
   },
   "outputs": [
    {
     "name": "stdout",
     "output_type": "stream",
     "text": [
      "Code\tOmschrijving\r\n",
      "ANGRYBIRDS\tAngry Birds\r\n",
      "ANT-MAN\tAnt-Man\r\n",
      "AVENGERS\tAvengers\r\n",
      "BARBIE\tBarbie\r\n"
     ]
    }
   ],
   "source": [
    "!head -n 5 Licenties.txt"
   ]
  },
  {
   "cell_type": "markdown",
   "metadata": {},
   "source": [
    "### Column Names"
   ]
  },
  {
   "cell_type": "code",
   "execution_count": 23,
   "metadata": {},
   "outputs": [
    {
     "name": "stdout",
     "output_type": "stream",
     "text": [
      "     1\tPOSSales_PK\t\t    \t11\tPOSSales_Sales Quantity\r\n",
      "     2\tDate_FK\t\t\t    \t12\tPOSSales_Sales AmountExVAT\r\n",
      "     3\tDate\t\t\t    \t13\tPOSSales_Sales AmountInVAT\r\n",
      "     4\tStore_FK\t\t    \t14\tPOSSales_Cost Amount\r\n",
      "     5\tItem_FK\t\t\t    \t15\tPOSSales_Margin Amount\r\n",
      "     6\tItem_PK\t\t\t    \t16\tPOSSales_Discount Amount\r\n",
      "     7\tPromo_FK\t\t    \t17\tStore No_BK\r\n",
      "     8\tPOSSales_Ticket No\t    \t18\tPOS Terminal No_BK\r\n",
      "     9\tPOSSales_GiftList No\t    \t19\tTransaction No_BK\r\n",
      "    10\tPOSSales_GiftListLine No    \t20\tLine No_BK\r",
      "\r\n"
     ]
    }
   ],
   "source": [
    "!head -n 1 Sales.txt | tr \"|\" \"\\n\" | nl | pr -t -2"
   ]
  },
  {
   "cell_type": "markdown",
   "metadata": {},
   "source": [
    "# 0. Check if files have non-alphanumeric characters\n",
    "\n",
    "- These create errors when imported into R/Pandas (they work with UTF-8)\n",
    "- See this [link](https://www.polydesmida.info/cookbook/encoding1.html) for help"
   ]
  },
  {
   "cell_type": "code",
   "execution_count": 25,
   "metadata": {},
   "outputs": [
    {
     "name": "stdout",
     "output_type": "stream",
     "text": [
      "      2 `\t  1077233 ,\t       4978 (\t      \t 3335 #\r\n",
      "      1 ~\t       31 ;\t       4779 )\t      \t  618 %\r\n",
      "     18 <\t     7074 :\t    \t  2 [\t      \t 6940 +\r\n",
      "    135 =\t      832 !\t    \t  2 ]\t      \t   13 �\r\n",
      "     24 >\t      259 ?\t    \t 24 @\t      \t82421 \u0002\r\n",
      "4277824 |\t    23771 /\t    \t  3 $\t      \t    8 \u0003\r\n",
      "1500543\t\t   126453 .\t    \t754 *\t       115206 \u0004\r\n",
      "   1019 _\t     8434 '\t    \t  1 \\\t      \t  107 \u0005\r\n",
      "  99000 -\t    16437 \"\t      16268 &\t       267364 \r",
      "\r\n"
     ]
    }
   ],
   "source": [
    "!awk \\\n",
    "'BEGIN {FS=\"\"} \\\n",
    "{for (i=1;i<=NF;i++) \\\n",
    "    if ($i ~ /[^[:alnum:]]/) \\\n",
    "        {arr[$i]++}} \\\n",
    "END {for (j in arr) printf(\"%7s %s\\n\",arr[j],j)}' ../txts/Item.txt | sort -k2 | pr -t -4"
   ]
  },
  {
   "cell_type": "markdown",
   "metadata": {},
   "source": [
    "- Observe that in the last column, there are a lot of characters that cannot be interpreted (at least on my machine)\n",
    "- To deal with these, one strategy is to convert them to placeholder characters (like #)\n",
    "\n",
    "\n",
    "## a. Use `uchardet` to figure out the character encoding of your file\n",
    "\n",
    "- needs to be installed"
   ]
  },
  {
   "cell_type": "code",
   "execution_count": 27,
   "metadata": {},
   "outputs": [
    {
     "name": "stdout",
     "output_type": "stream",
     "text": [
      "ascii/unknown\r\n"
     ]
    }
   ],
   "source": [
    "!uchardet ../txts/Sales.txt"
   ]
  },
  {
   "cell_type": "code",
   "execution_count": 26,
   "metadata": {},
   "outputs": [
    {
     "name": "stdout",
     "output_type": "stream",
     "text": [
      "ascii/unknown\r\n"
     ]
    }
   ],
   "source": [
    "!uchardet ../txts/Item.txt"
   ]
  },
  {
   "cell_type": "markdown",
   "metadata": {},
   "source": [
    "## b. Use `iconv` for converting to `UTF-8`\n",
    "\n",
    "- part of GNU coreutils (available on most Linux machines)\n",
    "- Here's the `man` [page](https://www.gnu.org/savannah-checkouts/gnu/libiconv/documentation/libiconv-1.15/iconv.1.html)\n",
    "- Get a list of supported encodings with `iconv -l`\n",
    "\n",
    "Syntax\n",
    "```bash\n",
    "iconv -f ASCII -t UTF-8 --unicode-subst=\"<#>\" --byte-subst=\"<#>\" foo > bar\n",
    "```"
   ]
  },
  {
   "cell_type": "code",
   "execution_count": 29,
   "metadata": {},
   "outputs": [
    {
     "name": "stdout",
     "output_type": "stream",
     "text": [
      "267365 ../txts/Item2.txt\n",
      "267365 ../txts/Item.txt\n"
     ]
    }
   ],
   "source": [
    "!iconv -f ascii -t utf-8 --byte-subst=\"<#>\" ../txts/Item.txt > ../txts/Item2.txt\n",
    "# replace any character that cannot be converted by a <#> placeholder\n",
    "\n",
    "!wc -l ../txts/Item2.txt\n",
    "!rm ../txts/Item.txt\n",
    "!mv ../txts/Item2.txt ../txts/Item.txt\n",
    "!wc -l ../txts/Item.txt"
   ]
  },
  {
   "cell_type": "markdown",
   "metadata": {},
   "source": [
    "---\n",
    "# 1. Fix colnames, delimiter (convert to csv)\n",
    "\n",
    "- Convert Pipe delimited .txt file to a .csv\n",
    "- Convert decimal serparator from comma , to dot .\n",
    "- Convert spaces in colnaes them to underscores and lowercase of them consistency\n",
    "\n",
    "### Method 1 - FOR VERY LARGE (>3GB) FILES"
   ]
  },
  {
   "cell_type": "code",
   "execution_count": 112,
   "metadata": {
    "collapsed": true
   },
   "outputs": [],
   "source": [
    "# replace spaces by underscores, and pipes by commas\n",
    "!head -n 1 ../txts/Sales.txt \\\n",
    "| tr '| ' ',_' \\\n",
    "| tr '[:upper:]' '[:lower:]' > ../csvs/Sales.csv\n",
    "\n",
    "# Replace the delimiter and append the headless file to the file created above\n",
    "!cat ../txts/Sales.txt \\\n",
    "| sed '1d' \\\n",
    "| tr ',|' '.,' >> ../csvs/Sales.csv"
   ]
  },
  {
   "cell_type": "code",
   "execution_count": 121,
   "metadata": {
    "collapsed": true
   },
   "outputs": [],
   "source": [
    "!head -n 1 ../txts/Item.txt \\\n",
    "| tr '| ' ',_' \\\n",
    "| tr '[:upper:]' '[:lower:]' > ../csvs/Item.csv\n",
    "\n",
    "!cat ../txts/Item.txt \\\n",
    "| sed '1d' \\\n",
    "| tr ',|' '.,' >> ../csvs/Item.csv"
   ]
  },
  {
   "cell_type": "markdown",
   "metadata": {},
   "source": [
    "### Method 2 - For Medium Sized Files"
   ]
  },
  {
   "cell_type": "code",
   "execution_count": 56,
   "metadata": {
    "collapsed": true
   },
   "outputs": [],
   "source": [
    "# better put this in a loop\n",
    "!cat ../txts/Promo.txt \\\n",
    "| awk '{if(NR==1) \\\n",
    "            {gsub(\" \", \"_\");  gsub(\"\\\\|\", \",\"); print tolower($0)} \\\n",
    "        else \\\n",
    "            {gsub(\",\", \".\"); gsub(\"\\\\|\", \",\"); print $0}\\\n",
    "        }' \\\n",
    "> ../csvs/Promo.csv\n",
    "\n",
    "!cat ../txts/Stock_Export_CCF_CCO.txt \\\n",
    "| awk '{if(NR==1) \\\n",
    "            {gsub(\" \", \"_\");  gsub(\"\\\\|\", \",\"); print tolower($0)} \\\n",
    "        else \\\n",
    "            {gsub(\",\", \".\"); gsub(\"\\\\|\", \",\"); print $0}\\\n",
    "        }' \\\n",
    "> ../csvs/Inventory.csv\n",
    "\n",
    "!cat Stockouts.txt \\\n",
    "| awk '{if(NR==1) \\\n",
    "            {gsub(\" \", \"_\");  gsub(\"\\\\|\", \",\"); print tolower($0)} \\\n",
    "        else \\\n",
    "            {gsub(\",\", \".\"); gsub(\"\\\\|\", \",\"); print $0}\\\n",
    "        }' \\\n",
    "> ../csvs/Stockouts.csv "
   ]
  },
  {
   "cell_type": "markdown",
   "metadata": {
    "collapsed": true
   },
   "source": [
    "---\n",
    "\n",
    "**FOR SMALLER FILES (Under 1GB)**\n",
    "\n",
    "```bash\n",
    "# all of the above in one line, but 30x slower\n",
    "mlr --csv --ifs '|' rename -g -r ' ,_' Fun__Sales.txt > Fun_Sales.csv\n",
    "\n",
    "# a little faster\n",
    "!head -n 2 Fun__Sales.txt | mlr --csv --ifs '|' rename -g -r ' ,_' > Fun_Sales.csv\n",
    "!mlr --csv --ifs '|' cat Fun__Sales.txt | sed '1,2d' >> Fun_Sales.csv \n",
    "```\n",
    "---"
   ]
  },
  {
   "cell_type": "markdown",
   "metadata": {},
   "source": [
    "---\n",
    "\n",
    "# 2. Subset, Rename, Format Columns, Impute Missings"
   ]
  },
  {
   "cell_type": "code",
   "execution_count": 130,
   "metadata": {},
   "outputs": [
    {
     "name": "stdout",
     "output_type": "stream",
     "text": [
      "   2886339 Inventory.csv\n",
      "    267365 Item.csv\n",
      "    281473 Promo.csv\n",
      "  17661125 Sales.csv\n",
      "     43799 Stockouts.csv\n",
      "  21140101 total\n"
     ]
    }
   ],
   "source": [
    "os.chdir(\"../csvs/\")\n",
    "!ls | xargs wc -l"
   ]
  },
  {
   "cell_type": "code",
   "execution_count": null,
   "metadata": {
    "collapsed": true
   },
   "outputs": [],
   "source": [
    "# Sales file\n",
    "! cat Sales.csv \\\n",
    "| csvtk cut -f date,store_no_bk,item_pk,possales_sales_quantity,possales_sales_amountinvat \\\n",
    "| csvtk rename -f 1-5 -n date,store_id,product_id,qty,amt \\\n",
    "| numfmt --delimiter=, --field=4,5 --format='%0.2f' --header=1 \\\n",
    "> Sales_2.csv\n",
    "\n",
    "!rm Sales.csv\n",
    "!mv Sales_2.csv Sales.csv"
   ]
  },
  {
   "cell_type": "code",
   "execution_count": 131,
   "metadata": {},
   "outputs": [
    {
     "name": "stdout",
     "output_type": "stream",
     "text": [
      "|----------------------+----------+------------+------+--------|\r\n",
      "|  date                | store_id | product_id | qty  | amt    |\r\n",
      "|----------------------+----------+------------+------+--------|\r\n",
      "|  2014-01-02 00:00:00 | S038     | 20337325   | 1.00 | 20.96  |\r\n",
      "|  2014-01-02 00:00:00 | S038     | 20194564   | 1.00 | 52.49  |\r\n",
      "|  2014-01-02 00:00:00 | S038     | 20347663   | 1.00 | 7.99   |\r\n",
      "|  2014-01-02 00:00:00 | S038     | 20332760   | 1.00 | 29.99  |\r\n",
      "|  2014-01-02 00:00:00 | S038     | 20181754   | 1.00 | 14.99  |\r\n",
      "|  2014-01-02 00:00:00 | S038     | 20064602   | 1.00 | 1.00   |\r\n",
      "|  2014-01-02 00:00:00 | S038     | 20091889   | 1.00 | 2.69   |\r\n",
      "|  2014-01-02 00:00:00 | S038     | 20314299   | 1.00 | 12.95  |\r\n",
      "|  2014-01-02 00:00:00 | S038     | 20194803   | 1.00 | 3.99   |\r\n",
      "|----------------------+----------+------------+------+--------|\r\n"
     ]
    }
   ],
   "source": [
    "!head Sales.csv | csvlook"
   ]
  },
  {
   "cell_type": "code",
   "execution_count": 124,
   "metadata": {
    "collapsed": true
   },
   "outputs": [],
   "source": [
    "# Item file\n",
    "!head -2 Item.csv \\\n",
    "| mlr --csv rename no_,product_id \\\n",
    "| sed '2d' \\\n",
    "> ../csvs/Item_2.csv\n",
    "\n",
    "!cat Item.csv \\\n",
    "| awk 'NR>1' \\\n",
    "| tr -d '\\r' \\\n",
    "| awk -F, 'BEGIN {OFS=\",\"} \\\n",
    "{ \\\n",
    "{if($6==\"\") $6=0} \\\n",
    "{if($7==\"\") $7=0} \\\n",
    "{if($16==\"\") $16=0} \\\n",
    "{if($17==\"\") $17=0} \\\n",
    "{print $0} \\\n",
    "}' \\\n",
    "| numfmt --delimiter=, --field=6,7,16,17 --format='%0.2f' --header=1 \\\n",
    ">> Item_2.csv\n",
    "\n",
    "!rm Item.csv\n",
    "!mv Item_2.csv Item.csv"
   ]
  },
  {
   "cell_type": "code",
   "execution_count": 136,
   "metadata": {},
   "outputs": [
    {
     "name": "stdout",
     "output_type": "stream",
     "text": [
      "|-------------+----------------------------------------------------+-------------|\r\n",
      "|  product_id | description                                        | vendor_no_  |\r\n",
      "|-------------+----------------------------------------------------+-------------|\r\n",
      "|  20023400   | RAYHER PARELMOER-STOFFENVERF - WIT - FLACON 29 ML  | L20714      |\r\n",
      "|  20023401   | RAYHER METALLIC TEXTIELVERF - CITROEN              | L20714      |\r\n",
      "|  20023402   | RAYHER PARELMOER-STOFFENVERF - GOUDGEEL - FLACON   | L20714      |\r\n",
      "|  20023404   | RAYHER PATIO-PAINT - 8 BASISTINTEN OP BLISTERKAART | L20714      |\r\n",
      "|  20023405   | RAYHER PARELMOER-STOFFENVERF - KARDINAALROOD -     | L20714      |\r\n",
      "|  20023407   | RAYHER PARELMOER-STOFFENVERF - ROYALBLAUW - FLACON | L20714      |\r\n",
      "|  20023409   | RAYHER PARELMOER-STOFFENVERF - ZEEGROEN - FLACON   | L20714      |\r\n",
      "|  20023410   | DISNEY COLOR PARADE THE INCREDIBLES                | L10426      |\r\n",
      "|  20023411   | RAYHER PARELMOER-STOFFENVERF-ZILVER- FLACON 29 ML  | L20714      |\r\n",
      "|-------------+----------------------------------------------------+-------------|\r\n"
     ]
    }
   ],
   "source": [
    "!head Item.csv | cut -d, -f1-3 | csvlook"
   ]
  },
  {
   "cell_type": "code",
   "execution_count": 137,
   "metadata": {
    "scrolled": true
   },
   "outputs": [
    {
     "name": "stdout",
     "output_type": "stream",
     "text": [
      "|-------------+---------------+---------------------+---------------------+-----------|\r\n",
      "|  product_id | location_code | date_oos            | date_is             | days_oos  |\r\n",
      "|-------------+---------------+---------------------+---------------------+-----------|\r\n",
      "|  044407     | CCF           | 2014-08-06 00:00:00 | 2014-09-28 00:00:00 | 53        |\r\n",
      "|  044407     | CCF           | 2014-12-22 00:00:00 | 2014-12-31 00:00:00 | 9         |\r\n",
      "|  044407     | CCF           | 2015-01-07 00:00:00 | 2015-01-12 00:00:00 | 5         |\r\n",
      "|  044407     | CCF           | 2015-02-21 00:00:00 | 2015-03-04 00:00:00 | 11        |\r\n",
      "|  044407     | CCF           | 2015-05-28 00:00:00 | 2015-06-04 00:00:00 | 7         |\r\n",
      "|  044407     | CCF           | 2015-11-29 00:00:00 | 2015-12-02 00:00:00 | 3         |\r\n",
      "|  044407     | CCF           | 2015-12-24 00:00:00 | 2015-12-30 00:00:00 | 6         |\r\n",
      "|  044407     | CCF           | 2016-01-10 00:00:00 | 2016-01-13 00:00:00 | 3         |\r\n",
      "|  044407     | CCF           | 2016-07-12 00:00:00 | 2016-07-25 00:00:00 | 13        |\r\n",
      "|-------------+---------------+---------------------+---------------------+-----------|\r\n"
     ]
    }
   ],
   "source": [
    "# Stockouts file\n",
    "\n",
    "!csvtk rename -f1-5 -n product_id,location_code,date_oos,date_is,days_oos Stockouts.csv \\\n",
    "> Stockouts_2.csv\n",
    "\n",
    "!rm Stockouts.csv\n",
    "!mv Stockouts_2.csv Stockouts.csv\n",
    "\n",
    "!head Stockouts.csv | csvlook"
   ]
  },
  {
   "cell_type": "code",
   "execution_count": 140,
   "metadata": {},
   "outputs": [
    {
     "name": "stdout",
     "output_type": "stream",
     "text": [
      "|----------------+------------+------------------+------------------------|\r\n",
      "|  promotion_no_ | product_id | unit_price_(lcy) | promotion_price_(lcy)  |\r\n",
      "|----------------+------------+------------------+------------------------|\r\n",
      "|  BDAYFUN16C    | 20193590   | 12.99            | 10.40                  |\r\n",
      "|  BDAYFUN16C    | 20193593   | 5.99             | 4.81                   |\r\n",
      "|  BDAYFUN16C    | 20193594   | 2.99             | 2.41                   |\r\n",
      "|  BDAYFUN16C    | 20193598   | 4.99             | 4.00                   |\r\n",
      "|  BDAYFUN16C    | 20193600   | 4.99             | 4.00                   |\r\n",
      "|  BDAYFUN16C    | 20193602   | 2.50             | 2.00                   |\r\n",
      "|  BDAYFUN16C    | 20193611   | 30.00            | 24.00                  |\r\n",
      "|  BDAYFUN16C    | 20193617   | 3.99             | 3.20                   |\r\n",
      "|  BDAYFUN16C    | 20193619   | 6.00             | 4.81                   |\r\n",
      "|----------------+------------+------------------+------------------------|\r\n"
     ]
    }
   ],
   "source": [
    "# Promo file\n",
    "\n",
    "!cat Promo.csv \\\n",
    "| numfmt --delimiter=, --field=3,4 --format='%0.2f' --header=1 \\\n",
    "| mlr --csv rename item_no_,product_id \\\n",
    "> Promo_2.csv\n",
    "\n",
    "!rm Promo.csv\n",
    "!mv Promo_2.csv Promo.csv\n",
    "\n",
    "!head Promo.csv | cut -d, -f1-4 | csvlook"
   ]
  },
  {
   "cell_type": "code",
   "execution_count": 141,
   "metadata": {
    "scrolled": true
   },
   "outputs": [
    {
     "name": "stdout",
     "output_type": "stream",
     "text": [
      "|------------+---------------------+---------------+------------+----------+-------------|\r\n",
      "|  entry_no_ | posting_date        | location_code | product_id | quantity | entry_type  |\r\n",
      "|------------+---------------------+---------------+------------+----------+-------------|\r\n",
      "|  248357577 | 2016-10-26 00:00:00 | CCF           | 20386379   | -1.00    | 1           |\r\n",
      "|  248363107 | 2016-10-26 00:00:00 | CCF           | 20400579   | 1.00     | 2           |\r\n",
      "|  248363108 | 2016-10-26 00:00:00 | CCF           | 20387536   | -1.00    | 3           |\r\n",
      "|  248363158 | 2016-10-26 00:00:00 | CCF           | 20400577   | -1.00    | 3           |\r\n",
      "|  248363343 | 2016-10-26 00:00:00 | CCF           | 20400599   | 4.00     | 4           |\r\n",
      "|  248363443 | 2016-10-26 00:00:00 | CCF           | 20396787   | 12.00    | 4           |\r\n",
      "|  248363493 | 2016-10-26 00:00:00 | CCF           | 20386796   | 10.00    | 4           |\r\n",
      "|  248363593 | 2016-10-26 00:00:00 | CCF           | 20394160   | 6.00     | 4           |\r\n",
      "|  248363643 | 2016-10-26 00:00:00 | CCF           | 20401074   | 12.00    | 4           |\r\n",
      "|------------+---------------------+---------------+------------+----------+-------------|\r\n"
     ]
    }
   ],
   "source": [
    "# Inventory\n",
    "\n",
    "! cat Inventory.csv \\\n",
    "| numfmt --delimiter=, --field=5 --format='%0.2f' --header=1 \\\n",
    "| mlr --csv rename item_no_,product_id \\\n",
    "> Inventory_2.csv\n",
    "\n",
    "!rm Inventory.csv\n",
    "!mv Inventory_2.csv Inventory.csv\n",
    "\n",
    "!head Inventory.csv | cut -d, -f1-6 | csvlook"
   ]
  },
  {
   "cell_type": "markdown",
   "metadata": {},
   "source": [
    "# Subset Rows\n",
    "\n",
    "----\n",
    "\n",
    "### for Merksem (ID: S031) and the Web Store (ID: S092)"
   ]
  },
  {
   "cell_type": "code",
   "execution_count": 142,
   "metadata": {},
   "outputs": [
    {
     "name": "stdout",
     "output_type": "stream",
     "text": [
      "|----------------------+----------+------------+------+--------|\r\n",
      "|  date                | store_id | product_id | qty  | amt    |\r\n",
      "|----------------------+----------+------------+------+--------|\r\n",
      "|  2014-01-02 00:00:00 | S092     | 20337578   | 1.00 | 49.99  |\r\n",
      "|  2014-01-02 00:00:00 | S092     | 20311939   | 1.00 | 44.99  |\r\n",
      "|  2014-01-02 00:00:00 | S092     | 20333446   | 1.00 | 49.99  |\r\n",
      "|  2014-01-02 00:00:00 | S092     | 20177425   | 1.00 | 24.99  |\r\n",
      "|  2014-01-02 00:00:00 | S092     | 20325858   | 1.00 | 40.00  |\r\n",
      "|  2014-01-02 00:00:00 | S092     | 20327913   | 1.00 | 11.99  |\r\n",
      "|  2014-01-02 00:00:00 | S092     | 20300821   | 1.00 | 21.99  |\r\n",
      "|  2014-01-02 00:00:00 | S092     | 20337572   | 1.00 | 19.99  |\r\n",
      "|  2014-01-02 00:00:00 | S092     | 20177397   | 1.00 | 29.99  |\r\n",
      "|----------------------+----------+------------+------+--------|\r\n"
     ]
    }
   ],
   "source": [
    "!cat Sales.csv \\\n",
    "| csvtk filter2 -f '$store_id==\"S031\" || $store_id==\"S092\"' \\\n",
    "> Sales_2.csv\n",
    "\n",
    "!rm Sales.csv\n",
    "!mv Sales_2.csv Sales.csv\n",
    "\n",
    "!head Sales.csv | csvlook"
   ]
  },
  {
   "cell_type": "code",
   "execution_count": 213,
   "metadata": {},
   "outputs": [
    {
     "name": "stdout",
     "output_type": "stream",
     "text": [
      "S031   1117638\r\n",
      "S092   267960\r\n"
     ]
    }
   ],
   "source": [
    "!cat ../txts/Sales.txt \\\n",
    "| datamash -sHi -t\"|\" --group 17 count 17 \\\n",
    "| tr \"|\" \",\" \\\n",
    "| awk -F, 'BEGIN {OFS=\",\"} {if($1==\"S031\" || $1==\"S092\") {print $0}}' \\\n",
    "| csvtk pretty"
   ]
  },
  {
   "cell_type": "markdown",
   "metadata": {},
   "source": [
    "---\n",
    "\n",
    "# Random Sampling"
   ]
  },
  {
   "cell_type": "code",
   "execution_count": 151,
   "metadata": {},
   "outputs": [
    {
     "name": "stdout",
     "output_type": "stream",
     "text": [
      "|----------------------+----------+------------+------+---------|\r\n",
      "|  date                | store_id | product_id | qty  | amt     |\r\n",
      "|----------------------+----------+------------+------+---------|\r\n",
      "|  2014-09-27 00:00:00 | S031     | 20366629   | 1.00 | 3.99    |\r\n",
      "|  2014-01-29 00:00:00 | S031     | 20306026   | 4.00 | 11.96   |\r\n",
      "|  2014-12-22 00:00:00 | S031     | 20333376   | 1.00 | 40.00   |\r\n",
      "|  2015-03-19 00:00:00 | S092     | 20374212   | 1.00 | 259.00  |\r\n",
      "|  2014-12-01 00:00:00 | S031     | 20363754   | 1.00 | 38.00   |\r\n",
      "|  2014-05-03 00:00:00 | S092     | 20332732   | 1.00 | 46.74   |\r\n",
      "|  2015-06-21 00:00:00 | S031     | 641250     | 1.00 | 0.80    |\r\n",
      "|  2014-12-22 00:00:00 | S031     | 20368490   | 1.00 | 59.99   |\r\n",
      "|  2015-03-13 00:00:00 | S031     | 20192498   | 1.00 | 2.25    |\r\n",
      "|----------------------+----------+------------+------+---------|\r\n"
     ]
    }
   ],
   "source": [
    "# 1% sample\n",
    "!head -n 1 Sales.csv > Sales_Sample.csv\n",
    "!cat Sales.csv | sed '1d' | shuf -n 10000 >> Sales_Sample.csv\n",
    "\n",
    "!head Sales_Sample.csv | csvlook"
   ]
  },
  {
   "cell_type": "code",
   "execution_count": 152,
   "metadata": {
    "collapsed": true
   },
   "outputs": [],
   "source": [
    "# one-liner using csvtk (preserves the header row) [slower]\n",
    "!csvtk sample -p 0.001 Sales.csv > Sales_Sample2.csv"
   ]
  },
  {
   "cell_type": "code",
   "execution_count": 153,
   "metadata": {
    "collapsed": true
   },
   "outputs": [],
   "source": [
    "!rm Sales_Sample.csv Sales_Sample2.csv"
   ]
  },
  {
   "cell_type": "markdown",
   "metadata": {},
   "source": [
    "## Get unique values for dates\n",
    "\n",
    "> Type conversion of dates is quite painful in large files. So here's the proposed workflow\n",
    "1. Get a list of all unique values (usually in the low 1000s)\n",
    "2. Add a column to this list; create a lookup table \n",
    "3. Join this to the original csv."
   ]
  },
  {
   "cell_type": "code",
   "execution_count": null,
   "metadata": {
    "collapsed": true
   },
   "outputs": [],
   "source": [
    "# Create a new directory to store unique values\n",
    "!mkdir unqs"
   ]
  },
  {
   "cell_type": "code",
   "execution_count": 157,
   "metadata": {},
   "outputs": [
    {
     "name": "stdout",
     "output_type": "stream",
     "text": [
      "1097 ./unqs/uniqs__dates_sales.csv\r\n"
     ]
    }
   ],
   "source": [
    "# Sales\n",
    "\n",
    "!csvtk uniq -f date Sales.csv \\\n",
    "| csvtk cut -f date > ./unqs/uniqs__dates_sales.csv\n",
    "\n",
    "!wc -l ./unqs/uniqs__dates_sales.csv"
   ]
  },
  {
   "cell_type": "code",
   "execution_count": 159,
   "metadata": {},
   "outputs": [
    {
     "name": "stdout",
     "output_type": "stream",
     "text": [
      "4319 ./unqs/uniqs__Posting_Dates_inventory.csv\r\n"
     ]
    }
   ],
   "source": [
    "# Inventory \n",
    "\n",
    "!csvtk uniq -f posting_date Inventory.csv \\\n",
    "| csvtk cut -f posting_date > ./unqs/uniqs__Posting_Dates_inventory.csv\n",
    "\n",
    "!wc -l ./unqs/uniqs__Posting_Dates_inventory.csv"
   ]
  },
  {
   "cell_type": "code",
   "execution_count": 160,
   "metadata": {
    "collapsed": true
   },
   "outputs": [],
   "source": [
    "# Yes, we can write python here too (it's a python notebook afterall)\n",
    "# Ah, the beauty of Jupyter!\n",
    "\n",
    "import pandas as pd\n",
    "def createDateLookups(infile='', outfile='', datecols=[]):\n",
    "    \"\"\"\n",
    "    Creates a date lookup csv file\n",
    "    Converts dates stored as text to pandas datetime\n",
    "    If there's an error in conversion, that value is imputed by 1970-01-01\n",
    "    \"\"\"\n",
    "    df_date = pd.read_csv(infile)\n",
    "    \n",
    "    print 'Unique Dates in {} = {}'.format(infile, df_date.shape[0])\n",
    "\n",
    "    for COL in datecols:\n",
    "        # Create new column\n",
    "        df_date['pd_' + COL] = pd.to_datetime(df_date[COL], errors='coerce').fillna(pd.to_datetime('1970-01-01'))\n",
    "        df_date['pd_yr_mon_' + COL] = (df_date['pd_' + COL]\n",
    "                                       .map(lambda x: str(x.year) + '-' + str(x.month).zfill(2)))\n",
    "    \n",
    "    df_date.to_csv(outfile, index=False)\n",
    "    print outfile + ' created'"
   ]
  },
  {
   "cell_type": "code",
   "execution_count": 161,
   "metadata": {},
   "outputs": [
    {
     "name": "stdout",
     "output_type": "stream",
     "text": [
      "Unique Dates in ./unqs/uniqs__dates_sales.csv = 1096\n",
      "./date_lookup_sales.csv created\n"
     ]
    }
   ],
   "source": [
    "createDateLookups(infile='./unqs/uniqs__dates_sales.csv', \n",
    "                  outfile='./date_lookup_sales.csv',\n",
    "                  datecols=['date'])"
   ]
  },
  {
   "cell_type": "code",
   "execution_count": 163,
   "metadata": {},
   "outputs": [
    {
     "name": "stdout",
     "output_type": "stream",
     "text": [
      "Unique Dates in ./unqs/uniqs__Posting_Dates_inventory.csv = 4318\n",
      "./date_lookup_inventory.csv created\n"
     ]
    }
   ],
   "source": [
    "createDateLookups(infile='./unqs/uniqs__Posting_Dates_inventory.csv', \n",
    "                  outfile='./date_lookup_inventory.csv',\n",
    "                  datecols=['posting_date'])"
   ]
  },
  {
   "cell_type": "markdown",
   "metadata": {},
   "source": [
    "---\n",
    "\n",
    "### $Note$ <br> **In other projects, date columns could be formatted as Epoch timestamps or something else entirely. This approach should still remain valid, conversion of dates within Python should be simple enough.**\n",
    "\n",
    "---"
   ]
  },
  {
   "cell_type": "markdown",
   "metadata": {},
   "source": [
    "---\n",
    "# Join / Merge"
   ]
  },
  {
   "cell_type": "code",
   "execution_count": 164,
   "metadata": {
    "collapsed": true
   },
   "outputs": [],
   "source": [
    "# if the primary key has different names, use \"t1_key;t2_key\"\n",
    "!csvtk join -f posting_date Inventory.csv date_lookup_inventory.csv \\\n",
    "|cut -d, -f1,3-8 \\\n",
    "> Inventory_2.csv\n",
    "\n",
    "\n",
    "!rm Inventory.csv\n",
    "!mv Inventory_2.csv Inventory.csv"
   ]
  },
  {
   "cell_type": "code",
   "execution_count": 181,
   "metadata": {
    "scrolled": true
   },
   "outputs": [
    {
     "name": "stdout",
     "output_type": "stream",
     "text": [
      "|------------+------------+-----------------+-------------------------|\r\n",
      "|  entry_no_ | entry_type | pd_posting_date | pd_yr_mon_posting_date  |\r\n",
      "|------------+------------+-----------------+-------------------------|\r\n",
      "|  248357577 | 1          | 2016-10-26      | 2016-10                 |\r\n",
      "|  248363107 | 2          | 2016-10-26      | 2016-10                 |\r\n",
      "|  248363108 | 3          | 2016-10-26      | 2016-10                 |\r\n",
      "|  248363158 | 3          | 2016-10-26      | 2016-10                 |\r\n",
      "|  248363343 | 4          | 2016-10-26      | 2016-10                 |\r\n",
      "|  248363443 | 4          | 2016-10-26      | 2016-10                 |\r\n",
      "|  248363493 | 4          | 2016-10-26      | 2016-10                 |\r\n",
      "|  248363593 | 4          | 2016-10-26      | 2016-10                 |\r\n",
      "|  248363643 | 4          | 2016-10-26      | 2016-10                 |\r\n",
      "|------------+------------+-----------------+-------------------------|\r\n"
     ]
    }
   ],
   "source": [
    "!head Inventory.csv | cut -d, -f1,5-8 | csvlook"
   ]
  },
  {
   "cell_type": "code",
   "execution_count": 167,
   "metadata": {},
   "outputs": [
    {
     "name": "stdout",
     "output_type": "stream",
     "text": [
      "|-----------+------------+------+-------+------------+-----------------|\r\n",
      "|  store_id | product_id | qty  | amt   | pd_date    | pd_yr_mon_date  |\r\n",
      "|-----------+------------+------+-------+------------+-----------------|\r\n",
      "|  S092     | 20337578   | 1.00 | 49.99 | 2014-01-02 | 2014-01         |\r\n",
      "|  S092     | 20311939   | 1.00 | 44.99 | 2014-01-02 | 2014-01         |\r\n",
      "|  S092     | 20333446   | 1.00 | 49.99 | 2014-01-02 | 2014-01         |\r\n",
      "|  S092     | 20177425   | 1.00 | 24.99 | 2014-01-02 | 2014-01         |\r\n",
      "|  S092     | 20325858   | 1.00 | 40.00 | 2014-01-02 | 2014-01         |\r\n",
      "|  S092     | 20327913   | 1.00 | 11.99 | 2014-01-02 | 2014-01         |\r\n",
      "|  S092     | 20300821   | 1.00 | 21.99 | 2014-01-02 | 2014-01         |\r\n",
      "|  S092     | 20337572   | 1.00 | 19.99 | 2014-01-02 | 2014-01         |\r\n",
      "|  S092     | 20177397   | 1.00 | 29.99 | 2014-01-02 | 2014-01         |\r\n",
      "|-----------+------------+------+-------+------------+-----------------|\r\n"
     ]
    }
   ],
   "source": [
    "# if the primary key has different names, use \"t1_key;t2_key\"\n",
    "!csvtk join -f date Sales.csv date_lookup_sales.csv \\\n",
    "|cut -d, -f2-7 \\\n",
    "> Sales_2.csv\n",
    "\n",
    "\n",
    "!rm Sales.csv\n",
    "!mv Sales_2.csv Sales.csv\n",
    "!head Sales.csv | csvlook"
   ]
  },
  {
   "cell_type": "markdown",
   "metadata": {},
   "source": [
    "## Lists of Uniques"
   ]
  },
  {
   "cell_type": "code",
   "execution_count": 168,
   "metadata": {
    "collapsed": true
   },
   "outputs": [],
   "source": [
    "# sold products\n",
    "\n",
    "!cat Sales.csv \\\n",
    "| csvtk cut -f product_id \\\n",
    "| csvtk uniq \\\n",
    "> ./unqs/uniqs__productids_sales.csv"
   ]
  },
  {
   "cell_type": "code",
   "execution_count": 169,
   "metadata": {},
   "outputs": [
    {
     "name": "stdout",
     "output_type": "stream",
     "text": [
      "56665 ./unqs/uniqs__productids_sales.csv\r\n"
     ]
    }
   ],
   "source": [
    "!wc -l ./unqs/uniqs__productids_sales.csv"
   ]
  },
  {
   "cell_type": "markdown",
   "metadata": {},
   "source": [
    "## Basic EDA"
   ]
  },
  {
   "cell_type": "code",
   "execution_count": 180,
   "metadata": {},
   "outputs": [
    {
     "name": "stdout",
     "output_type": "stream",
     "text": [
      "     1\tproduct_id\r\n",
      "     2\tdescription\r\n",
      "     3\tvendor_no_\r\n",
      "     4\tvendor_name\r\n",
      "     5\tlicense\r\n",
      "     6\tunit_cost\r\n",
      "     7\tcurrent_sales_price\r\n",
      "     8\titem_status\r\n",
      "     9\tweb_shop_item\r\n",
      "    10\titem_category_code\r\n",
      "    11\tproduct_group_code\r\n",
      "    12\tproduct_subgroup\r\n",
      "    13\tuniverse\r\n",
      "    14\tlead_time_calculation\r\n",
      "    15\treview_time_calculation\r\n",
      "    16\tpick\r\n",
      "    17\tpack\r",
      "\r\n"
     ]
    }
   ],
   "source": [
    "!head -n 1 Item.csv | tr \",\" \"\\n\" | nl"
   ]
  },
  {
   "cell_type": "markdown",
   "metadata": {},
   "source": [
    "### What % of items under each item status are webshopitems?"
   ]
  },
  {
   "cell_type": "code",
   "execution_count": 230,
   "metadata": {},
   "outputs": [
    {
     "name": "stdout",
     "output_type": "stream",
     "text": [
      "|--------------+----------------------+-------------------|\r\n",
      "|  item_status | nunique__product_ids | mean_webshopitem  |\r\n",
      "|--------------+----------------------+-------------------|\r\n",
      "|              | 26                   | 0.000             |\r\n",
      "|  0           | 371                  | 0.362             |\r\n",
      "|  1           | 15868                | 0.425             |\r\n",
      "|  2           | 2023                 | 0.793             |\r\n",
      "|  3           | 2344                 | 0.728             |\r\n",
      "|  4           | 1745                 | 0.355             |\r\n",
      "|  5           | 5981                 | 0.844             |\r\n",
      "|  6           | 12489                | 0.204             |\r\n",
      "|  8           | 28513                | 0.340             |\r\n",
      "|  9           | 198002               | 0.045             |\r\n",
      "|--------------+----------------------+-------------------|\r\n"
     ]
    }
   ],
   "source": [
    "!cat Item.csv  \\\n",
    "| awk -F, 'BEGIN {OFS=\",\"} {if ($9!=\"\" && $9!=34) {print $0}}' \\\n",
    "| datamash -sHi -t\",\" --group 8 countunique 1 mean 9 \\\n",
    "| csvtk rename -f 1-3 -n item_status,nunique__product_ids,mean_webshopitem \\\n",
    "| numfmt --delimiter=, --field=3 --format='%0.3f' --header=1 \\\n",
    "| csvlook"
   ]
  },
  {
   "cell_type": "markdown",
   "metadata": {},
   "source": [
    "### Find the date of introduction of each product_id "
   ]
  },
  {
   "cell_type": "code",
   "execution_count": 231,
   "metadata": {},
   "outputs": [
    {
     "name": "stdout",
     "output_type": "stream",
     "text": [
      "     1\tentry_no_\r\n",
      "     2\tlocation_code\r\n",
      "     3\tproduct_id\r\n",
      "     4\tquantity\r\n",
      "     5\tentry_type\r\n",
      "     6\tpd_posting_date\r\n",
      "     7\tpd_yr_mon_posting_date\r\n"
     ]
    }
   ],
   "source": [
    "!head -n 1 Inventory.csv | tr \",\" \"\\n\" | nl"
   ]
  },
  {
   "cell_type": "code",
   "execution_count": 267,
   "metadata": {
    "collapsed": true
   },
   "outputs": [],
   "source": [
    "!cat Inventory.csv \\\n",
    "| csvtk sort -k 3,6 \\\n",
    "| datamash -H -t, --group 3 first 6 sum 4 \\\n",
    "| csvtk rename -f1-3 -n product_id,date_introduced,sum__quantity \\\n",
    "> date__product_id_introduced.csv"
   ]
  },
  {
   "cell_type": "code",
   "execution_count": 268,
   "metadata": {},
   "outputs": [
    {
     "name": "stdout",
     "output_type": "stream",
     "text": [
      "|-------------+-----------------+----------------|\r\n",
      "|  product_id | date_introduced | sum__quantity  |\r\n",
      "|-------------+-----------------+----------------|\r\n",
      "|  000066     | 2012-01-14      | 0              |\r\n",
      "|  000170     | 2009-10-01      | 0              |\r\n",
      "|  000387     | 2010-09-28      | 0              |\r\n",
      "|  000435     | 2008-09-29      | 1              |\r\n",
      "|  000549     | 2013-10-01      | 0              |\r\n",
      "|  000723     | 2004-03-29      | 0              |\r\n",
      "|  001908     | 2008-03-10      | 0              |\r\n",
      "|  002622     | 2012-10-12      | 0              |\r\n",
      "|  003210     | 1970-01-01      | 1              |\r\n",
      "|-------------+-----------------+----------------|\r\n"
     ]
    }
   ],
   "source": [
    "!head date__product_id_introduced.csv | csvlook"
   ]
  },
  {
   "cell_type": "markdown",
   "metadata": {},
   "source": [
    "## product_ids with Negative Stock"
   ]
  },
  {
   "cell_type": "code",
   "execution_count": 279,
   "metadata": {},
   "outputs": [
    {
     "name": "stdout",
     "output_type": "stream",
     "text": [
      "966\r\n"
     ]
    }
   ],
   "source": [
    "!cat date__product_id_introduced.csv \\\n",
    "| awk -F, '{if($3<0){print $1}}' \\\n",
    "| wc -l"
   ]
  },
  {
   "cell_type": "markdown",
   "metadata": {},
   "source": [
    "## First Sale Date"
   ]
  },
  {
   "cell_type": "code",
   "execution_count": 269,
   "metadata": {
    "scrolled": true
   },
   "outputs": [
    {
     "name": "stdout",
     "output_type": "stream",
     "text": [
      "     1\tstore_id\r\n",
      "     2\tproduct_id\r\n",
      "     3\tqty\r\n",
      "     4\tamt\r\n",
      "     5\tpd_date\r\n",
      "     6\tpd_yr_mon_date\r\n"
     ]
    }
   ],
   "source": [
    "!head -n 1 Sales.csv | tr \",\" \"\\n\" | nl"
   ]
  },
  {
   "cell_type": "code",
   "execution_count": 270,
   "metadata": {
    "collapsed": true
   },
   "outputs": [],
   "source": [
    "!cat Sales.csv \\\n",
    "| csvtk sort -k 2,5 \\\n",
    "| datamash -H -t, --group 2 first 5 sum 3 \\\n",
    "| csvtk rename -f1-3 -n product_id,date__first_sold,sum__qtySold \\\n",
    "> date__productid_first_sold.csv"
   ]
  },
  {
   "cell_type": "code",
   "execution_count": 271,
   "metadata": {
    "scrolled": true
   },
   "outputs": [
    {
     "name": "stdout",
     "output_type": "stream",
     "text": [
      "|-------------+------------------+---------------|\r\n",
      "|  product_id | date__first_sold | sum__qtySold  |\r\n",
      "|-------------+------------------+---------------|\r\n",
      "|  000387     | 2015-11-03       | 36            |\r\n",
      "|  000435     | 2015-11-19       | 10            |\r\n",
      "|  002622     | 2014-02-15       | 2             |\r\n",
      "|  003564     | 2014-08-21       | 38            |\r\n",
      "|  005666     | 2014-02-26       | 158           |\r\n",
      "|  005705     | 2014-01-18       | 150           |\r\n",
      "|  005793     | 2014-10-23       | 11            |\r\n",
      "|  005829     | 2014-03-01       | 116           |\r\n",
      "|  005836     | 2014-04-06       | 2             |\r\n",
      "|-------------+------------------+---------------|\r\n"
     ]
    }
   ],
   "source": [
    "!head date__productid_first_sold.csv | csvlook"
   ]
  },
  {
   "cell_type": "markdown",
   "metadata": {},
   "source": [
    "## Aggregate Data"
   ]
  },
  {
   "cell_type": "markdown",
   "metadata": {},
   "source": [
    "## Daily sales in WIDE format\n",
    "\n",
    "- Each product is a row\n",
    "- Each column is a date"
   ]
  },
  {
   "cell_type": "code",
   "execution_count": 310,
   "metadata": {
    "collapsed": true,
    "scrolled": true
   },
   "outputs": [],
   "source": [
    "!cat Sales.csv \\\n",
    "| csvgrep -c store_id -m \"S092\" \\\n",
    "| datamash -sH -t, crosstab 2, 5 sum 3 \\\n",
    "| sed 1d \\\n",
    "> Sales__daily_S092.csv"
   ]
  },
  {
   "cell_type": "code",
   "execution_count": 311,
   "metadata": {
    "collapsed": true,
    "scrolled": true
   },
   "outputs": [],
   "source": [
    "!cat Sales.csv \\\n",
    "| csvgrep -c store_id -m \"S031\" \\\n",
    "| datamash -sH -t, crosstab 2, 5 sum 3 \\\n",
    "| sed 1d \\\n",
    "> Sales__daily_S031.csv"
   ]
  },
  {
   "cell_type": "code",
   "execution_count": 450,
   "metadata": {},
   "outputs": [
    {
     "name": "stdout",
     "output_type": "stream",
     "text": [
      "(53203, 1055)\n"
     ]
    },
    {
     "data": {
      "image/png": "[encoded data removed]",
      "text/plain": [
       "<matplotlib.figure.Figure at 0x7f8172e86990>"
      ]
     },
     "metadata": {},
     "output_type": "display_data"
    }
   ],
   "source": [
    "df31 = pd.read_csv('Sales__daily_S031.csv', index_col=[0])\n",
    "print df31.shape\n",
    "\n",
    "df31.count(axis=1).value_counts()[:50].plot.bar(figsize=(15, 4));"
   ]
  },
  {
   "cell_type": "code",
   "execution_count": 454,
   "metadata": {},
   "outputs": [
    {
     "data": {
      "text/plain": [
       "count    53203.000000\n",
       "mean        16.028983\n",
       "std         31.376372\n",
       "min          1.000000\n",
       "25%          2.000000\n",
       "50%          6.000000\n",
       "75%         17.000000\n",
       "max       1053.000000\n",
       "dtype: float64"
      ]
     },
     "execution_count": 454,
     "metadata": {},
     "output_type": "execute_result"
    }
   ],
   "source": [
    "df31.count(axis=1).describe()"
   ]
  },
  {
   "cell_type": "code",
   "execution_count": 456,
   "metadata": {},
   "outputs": [
    {
     "data": {
      "text/plain": [
       "0.90     40.00\n",
       "0.95     64.00\n",
       "0.97     84.00\n",
       "0.99    133.98\n",
       "dtype: float64"
      ]
     },
     "execution_count": 456,
     "metadata": {},
     "output_type": "execute_result"
    }
   ],
   "source": [
    "df31.count(axis=1).quantile([0.9, 0.95, 0.97, 0.99])"
   ]
  },
  {
   "cell_type": "code",
   "execution_count": 460,
   "metadata": {
    "collapsed": true
   },
   "outputs": [],
   "source": [
    "everyday_items = df31.count(axis=1).sort_values(ascending=False).head().index"
   ]
  },
  {
   "cell_type": "code",
   "execution_count": 465,
   "metadata": {},
   "outputs": [
    {
     "data": {
      "text/plain": [
       "<matplotlib.axes._subplots.AxesSubplot at 0x7f81584c9690>"
      ]
     },
     "execution_count": 465,
     "metadata": {},
     "output_type": "execute_result"
    },
    {
     "data": {
      "image/png": "[encoded data removed]",
      "text/plain": [
       "<matplotlib.figure.Figure at 0x7f8157d89550>"
      ]
     },
     "metadata": {},
     "output_type": "display_data"
    }
   ],
   "source": [
    "df31.loc[everyday_items].T.plot(figsize=(15, 5))"
   ]
  },
  {
   "cell_type": "code",
   "execution_count": 468,
   "metadata": {},
   "outputs": [
    {
     "data": {
      "text/plain": [
       "Int64Index([103048, 70800100, 70800300, 20160300, 20316875], dtype='int64')"
      ]
     },
     "execution_count": 468,
     "metadata": {},
     "output_type": "execute_result"
    }
   ],
   "source": [
    "everyday_items"
   ]
  },
  {
   "cell_type": "code",
   "execution_count": 474,
   "metadata": {},
   "outputs": [
    {
     "name": "stdout",
     "output_type": "stream",
     "text": [
      "20316875,BEKER SNOEP 300 GR,L30026,SWEET PARADISE NV,,1.86,4.99,2,0,32,SN,00,KA,,,1.00,1.00\r\n"
     ]
    }
   ],
   "source": [
    "!awk -F, '{if($1==\"20316875\"){print $0}}' Item.csv"
   ]
  },
  {
   "cell_type": "code",
   "execution_count": null,
   "metadata": {
    "collapsed": true
   },
   "outputs": [],
   "source": []
  },
  {
   "cell_type": "code",
   "execution_count": null,
   "metadata": {
    "collapsed": true
   },
   "outputs": [],
   "source": []
  },
  {
   "cell_type": "markdown",
   "metadata": {},
   "source": [
    "## MONTHLY sales in WIDE format\n",
    "\n",
    "- Each product is a row\n",
    "- Each column is a date"
   ]
  },
  {
   "cell_type": "code",
   "execution_count": 340,
   "metadata": {},
   "outputs": [
    {
     "name": "stdout",
     "output_type": "stream",
     "text": [
      "  1: store_id\r\n",
      "  2: product_id\r\n",
      "  3: qty\r\n",
      "  4: amt\r\n",
      "  5: pd_date\r\n",
      "  6: pd_yr_mon_date\r\n"
     ]
    }
   ],
   "source": [
    "!csvcut -n Sales.csv"
   ]
  },
  {
   "cell_type": "code",
   "execution_count": 341,
   "metadata": {
    "collapsed": true,
    "scrolled": true
   },
   "outputs": [],
   "source": [
    "!cat Sales.csv \\\n",
    "| csvgrep -c store_id -m \"S092\" \\\n",
    "| datamash -sH -t, crosstab 2, 6 sum 3 \\\n",
    "| sed 1d \\\n",
    "> Sales__monthly_S092.csv"
   ]
  },
  {
   "cell_type": "code",
   "execution_count": 342,
   "metadata": {
    "collapsed": true,
    "scrolled": true
   },
   "outputs": [],
   "source": [
    "!cat Sales.csv \\\n",
    "| csvgrep -c store_id -m \"S031\" \\\n",
    "| datamash -sH -t, crosstab 2, 6 sum 3 \\\n",
    "| sed 1d \\\n",
    "> Sales__monthly_S031.csv"
   ]
  },
  {
   "cell_type": "code",
   "execution_count": 436,
   "metadata": {
    "collapsed": true
   },
   "outputs": [],
   "source": [
    "df31 = pd.read_csv('Sales__monthly_S031.csv', index_col=[0])"
   ]
  },
  {
   "cell_type": "code",
   "execution_count": 437,
   "metadata": {},
   "outputs": [
    {
     "data": {
      "text/plain": [
       "(53203, 36)"
      ]
     },
     "execution_count": 437,
     "metadata": {},
     "output_type": "execute_result"
    }
   ],
   "source": [
    "df31.shape"
   ]
  },
  {
   "cell_type": "code",
   "execution_count": 438,
   "metadata": {},
   "outputs": [
    {
     "data": {
      "image/png": "[encoded data removed]",
      "text/plain": [
       "<matplotlib.figure.Figure at 0x7f8157c62810>"
      ]
     },
     "metadata": {},
     "output_type": "display_data"
    }
   ],
   "source": [
    "df31.count(axis=1).value_counts()[:50].plot.bar(figsize=(15, 4));"
   ]
  },
  {
   "cell_type": "code",
   "execution_count": 447,
   "metadata": {},
   "outputs": [
    {
     "data": {
      "text/plain": [
       "36       6200\n",
       "34       6500\n",
       "35       7000\n",
       "33       9400\n",
       "32      10400\n",
       "31      10600\n",
       "30      13200\n",
       "28      15400\n",
       "29      17300\n",
       "27      17400\n",
       "26      19500\n",
       "24      22900\n",
       "25      24900\n",
       "23      27600\n",
       "22      32200\n",
       "21      32300\n",
       "20      37300\n",
       "19      39600\n",
       "18      43700\n",
       "17      51300\n",
       "16      58500\n",
       "15      68100\n",
       "14      82400\n",
       "13      90900\n",
       "12     104500\n",
       "11     125800\n",
       "10     138600\n",
       "9      149600\n",
       "8      178700\n",
       "7      208700\n",
       "6      247700\n",
       "5      294100\n",
       "4      389700\n",
       "3      551800\n",
       "2      866000\n",
       "1     1320500\n",
       "dtype: int64"
      ]
     },
     "execution_count": 447,
     "metadata": {},
     "output_type": "execute_result"
    }
   ],
   "source": []
  },
  {
   "cell_type": "code",
   "execution_count": null,
   "metadata": {
    "collapsed": true
   },
   "outputs": [],
   "source": []
  },
  {
   "cell_type": "code",
   "execution_count": null,
   "metadata": {
    "collapsed": true
   },
   "outputs": [],
   "source": []
  },
  {
   "cell_type": "code",
   "execution_count": null,
   "metadata": {
    "collapsed": true
   },
   "outputs": [],
   "source": []
  },
  {
   "cell_type": "code",
   "execution_count": null,
   "metadata": {
    "collapsed": true
   },
   "outputs": [],
   "source": []
  },
  {
   "cell_type": "code",
   "execution_count": null,
   "metadata": {
    "collapsed": true
   },
   "outputs": [],
   "source": []
  },
  {
   "cell_type": "code",
   "execution_count": null,
   "metadata": {
    "collapsed": true
   },
   "outputs": [],
   "source": []
  },
  {
   "cell_type": "code",
   "execution_count": null,
   "metadata": {
    "collapsed": true
   },
   "outputs": [],
   "source": []
  },
  {
   "cell_type": "code",
   "execution_count": null,
   "metadata": {
    "collapsed": true
   },
   "outputs": [],
   "source": []
  },
  {
   "cell_type": "code",
   "execution_count": null,
   "metadata": {
    "collapsed": true
   },
   "outputs": [],
   "source": []
  },
  {
   "cell_type": "code",
   "execution_count": null,
   "metadata": {
    "collapsed": true
   },
   "outputs": [],
   "source": []
  },
  {
   "cell_type": "code",
   "execution_count": null,
   "metadata": {
    "collapsed": true
   },
   "outputs": [],
   "source": []
  },
  {
   "cell_type": "code",
   "execution_count": null,
   "metadata": {
    "collapsed": true
   },
   "outputs": [],
   "source": []
  },
  {
   "cell_type": "code",
   "execution_count": null,
   "metadata": {
    "collapsed": true
   },
   "outputs": [],
   "source": []
  },
  {
   "cell_type": "code",
   "execution_count": null,
   "metadata": {
    "collapsed": true
   },
   "outputs": [],
   "source": []
  },
  {
   "cell_type": "code",
   "execution_count": null,
   "metadata": {
    "collapsed": true
   },
   "outputs": [],
   "source": []
  },
  {
   "cell_type": "code",
   "execution_count": null,
   "metadata": {
    "collapsed": true
   },
   "outputs": [],
   "source": []
  },
  {
   "cell_type": "code",
   "execution_count": null,
   "metadata": {
    "collapsed": true
   },
   "outputs": [],
   "source": []
  },
  {
   "cell_type": "code",
   "execution_count": null,
   "metadata": {
    "collapsed": true
   },
   "outputs": [],
   "source": []
  },
  {
   "cell_type": "code",
   "execution_count": null,
   "metadata": {
    "collapsed": true
   },
   "outputs": [],
   "source": []
  },
  {
   "cell_type": "code",
   "execution_count": null,
   "metadata": {
    "collapsed": true
   },
   "outputs": [],
   "source": []
  },
  {
   "cell_type": "code",
   "execution_count": null,
   "metadata": {
    "collapsed": true
   },
   "outputs": [],
   "source": []
  },
  {
   "cell_type": "code",
   "execution_count": null,
   "metadata": {
    "collapsed": true
   },
   "outputs": [],
   "source": []
  },
  {
   "cell_type": "code",
   "execution_count": null,
   "metadata": {
    "collapsed": true
   },
   "outputs": [],
   "source": []
  },
  {
   "cell_type": "code",
   "execution_count": null,
   "metadata": {
    "collapsed": true
   },
   "outputs": [],
   "source": []
  },
  {
   "cell_type": "code",
   "execution_count": null,
   "metadata": {
    "collapsed": true
   },
   "outputs": [],
   "source": []
  },
  {
   "cell_type": "code",
   "execution_count": null,
   "metadata": {
    "collapsed": true
   },
   "outputs": [],
   "source": []
  },
  {
   "cell_type": "code",
   "execution_count": null,
   "metadata": {
    "collapsed": true
   },
   "outputs": [],
   "source": []
  },
  {
   "cell_type": "code",
   "execution_count": null,
   "metadata": {
    "collapsed": true
   },
   "outputs": [],
   "source": []
  },
  {
   "cell_type": "code",
   "execution_count": null,
   "metadata": {
    "collapsed": true
   },
   "outputs": [],
   "source": []
  }
 ],
 "metadata": {
  "kernelspec": {
   "display_name": "Python 2",
   "language": "python",
   "name": "python2"
  },
  "language_info": {
   "codemirror_mode": {
    "name": "ipython",
    "version": 2
   },
   "file_extension": ".py",
   "mimetype": "text/x-python",
   "name": "python",
   "nbconvert_exporter": "python",
   "pygments_lexer": "ipython2",
   "version": "2.7.13"
  }
 },
 "nbformat": 4,
 "nbformat_minor": 2
}
